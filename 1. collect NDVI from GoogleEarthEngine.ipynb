{
 "cells": [
  {
   "cell_type": "markdown",
   "id": "fa8e7b8c-aad4-4685-9025-ce9c756a6513",
   "metadata": {},
   "source": [
    "# Step 1. Collect NDVI data from GoogleEarthEngine"
   ]
  },
  {
   "cell_type": "code",
   "execution_count": null,
   "id": "7b6d15d6-1aac-4c24-85a2-45be08eca406",
   "metadata": {},
   "outputs": [],
   "source": [
    "import folium\n",
    "import pandas as pd\n",
    "import geopandas as gpd\n",
    "import osmnx as ox\n",
    "import time "
   ]
  },
  {
   "cell_type": "code",
   "execution_count": null,
   "id": "ec0531d1-cb8b-4f68-b63e-c913fb27e387",
   "metadata": {},
   "outputs": [],
   "source": [
    "import ee\n",
    "\n",
    "# Trigger the authentication flow.\n",
    "ee.Authenticate()\n",
    "\n",
    "# Initialize the Earth Engine module.\n",
    "ee.Initialize()"
   ]
  },
  {
   "cell_type": "markdown",
   "id": "145286fe-2bd9-4edb-81f6-55b4f6b93930",
   "metadata": {},
   "source": [
    "## Define city and other settings"
   ]
  },
  {
   "cell_type": "markdown",
   "id": "406d3a10-1f4d-4b46-876c-f4dc7b5cb7de",
   "metadata": {},
   "source": [
    "#### Place |Country    |CRS\n",
    "Rotterdam (The Netherlands) EPSG:28992\n",
    "\n",
    "Barcelona (Spain) EPSG:25830\n",
    "\n",
    "Gothenburg (Sweden) EPSG:3006"
   ]
  },
  {
   "cell_type": "code",
   "execution_count": null,
   "id": "9d22b4a8-f36f-4de9-b1f4-5f9d39d33954",
   "metadata": {},
   "outputs": [],
   "source": [
    "place_name = 'Barcelona'\n",
    "local_crs = '25830'"
   ]
  },
  {
   "cell_type": "code",
   "execution_count": null,
   "id": "391da753-e62f-449f-a46f-b291dad6bd18",
   "metadata": {},
   "outputs": [],
   "source": [
    "osm_crs = 'EPSG:3857'"
   ]
  },
  {
   "cell_type": "code",
   "execution_count": null,
   "id": "e9a71873-8255-403d-9789-829d9ac4c2cb",
   "metadata": {},
   "outputs": [],
   "source": [
    "place = ox.geocode_to_gdf(place_name)"
   ]
  },
  {
   "cell_type": "code",
   "execution_count": null,
   "id": "b5ac55e3-7772-4d6b-99a7-9b9db4a9054d",
   "metadata": {},
   "outputs": [],
   "source": [
    "buffer = 500"
   ]
  },
  {
   "cell_type": "code",
   "execution_count": null,
   "id": "db20e803-9a03-43a2-b83f-4a96f4eb4f92",
   "metadata": {},
   "outputs": [],
   "source": [
    "extent = place.copy()\n",
    "extent = extent.to_crs(local_crs)\n",
    "extent = extent.set_geometry(extent.geometry.buffer(buffer, join_style=2))\n",
    "extent = extent.to_crs(place.crs)"
   ]
  },
  {
   "cell_type": "code",
   "execution_count": null,
   "id": "c70383bb-dbc5-4e68-afaa-02ee2e3af4ba",
   "metadata": {},
   "outputs": [],
   "source": [
    "AOI = ee.Geometry.Rectangle([extent.total_bounds[0], extent.total_bounds[1], extent.total_bounds[2], extent.total_bounds[3]])"
   ]
  },
  {
   "cell_type": "code",
   "execution_count": null,
   "id": "ab4c5036-b881-42e3-be33-114df6ce6adc",
   "metadata": {},
   "outputs": [],
   "source": [
    "# as of January 2023, the data from 2022 doesn't seem complete yet\n",
    "# i.e. values are only ~ one third of the values or 2021, while 2020 and 2019 do align with 2021\n",
    "START_DATE = '2021-05-01'   # from May\n",
    "END_DATE = '2021-09-30'     # to September"
   ]
  },
  {
   "cell_type": "code",
   "execution_count": null,
   "id": "ac14ec25-7eca-47e1-a525-c67a278b2391",
   "metadata": {},
   "outputs": [],
   "source": [
    "export = True\n",
    "export_scale = 10           # one pixel per x meters"
   ]
  },
  {
   "cell_type": "markdown",
   "id": "0c130b7c-79fa-49c0-a882-f55b6c33f86e",
   "metadata": {},
   "source": [
    "## Get cloudless imagery"
   ]
  },
  {
   "cell_type": "code",
   "execution_count": null,
   "id": "44eb7bcd-d999-4712-b0b6-afab18b32561",
   "metadata": {},
   "outputs": [],
   "source": [
    "CLOUD_FILTER = 60\n",
    "CLD_PRB_THRESH = 50\n",
    "NIR_DRK_THRESH = 0.15\n",
    "CLD_PRJ_DIST = 1\n",
    "BUFFER = 50"
   ]
  },
  {
   "cell_type": "markdown",
   "id": "f6f916b1-af94-45ac-a71e-2586f7198fc2",
   "metadata": {},
   "source": [
    "### Get image collection for given area and time frame - for prior evaluation"
   ]
  },
  {
   "cell_type": "code",
   "execution_count": null,
   "id": "f5f9becc-aac3-45e0-815f-4dfc6c011b89",
   "metadata": {},
   "outputs": [],
   "source": [
    "def get_s2_sr_cld_col(aoi, start_date, end_date):\n",
    "    # Import and filter S2 SR.\n",
    "    s2_sr_col = (ee.ImageCollection('COPERNICUS/S2_SR')\n",
    "        .filterBounds(aoi)\n",
    "        .filterDate(start_date, end_date)\n",
    "        .filter(ee.Filter.lte('CLOUDY_PIXEL_PERCENTAGE', CLOUD_FILTER)))\n",
    "\n",
    "    # Import and filter s2cloudless.\n",
    "    s2_cloudless_col = (ee.ImageCollection('COPERNICUS/S2_CLOUD_PROBABILITY')\n",
    "        .filterBounds(aoi)\n",
    "        .filterDate(start_date, end_date))\n",
    "\n",
    "    # Join the filtered s2cloudless collection to the SR collection by the 'system:index' property.\n",
    "    return ee.ImageCollection(ee.Join.saveFirst('s2cloudless').apply(**{\n",
    "        'primary': s2_sr_col,\n",
    "        'secondary': s2_cloudless_col,\n",
    "        'condition': ee.Filter.equals(**{\n",
    "            'leftField': 'system:index',\n",
    "            'rightField': 'system:index'\n",
    "        })\n",
    "    }))"
   ]
  },
  {
   "cell_type": "code",
   "execution_count": null,
   "id": "892a8451-d87f-4b77-80db-9434345fef1f",
   "metadata": {},
   "outputs": [],
   "source": [
    "s2_sr_cld_col_eval = get_s2_sr_cld_col(AOI, START_DATE, END_DATE)"
   ]
  },
  {
   "cell_type": "markdown",
   "id": "4d87f4cf-1192-4f13-99e9-25c41648a55f",
   "metadata": {},
   "source": [
    "### Functions to identify clouds, shadows, etc. in imagery"
   ]
  },
  {
   "cell_type": "code",
   "execution_count": null,
   "id": "d5616382-22a3-42e0-9d26-6007982c752b",
   "metadata": {},
   "outputs": [],
   "source": [
    "def add_cloud_bands(img):\n",
    "    # Get s2cloudless image, subset the probability band.\n",
    "    cld_prb = ee.Image(img.get('s2cloudless')).select('probability')\n",
    "\n",
    "    # Condition s2cloudless by the probability threshold value.\n",
    "    is_cloud = cld_prb.gt(CLD_PRB_THRESH).rename('clouds')\n",
    "\n",
    "    # Add the cloud probability layer and cloud mask as image bands.\n",
    "    return img.addBands(ee.Image([cld_prb, is_cloud]))"
   ]
  },
  {
   "cell_type": "code",
   "execution_count": null,
   "id": "975fbefa-91c9-4f79-b894-271c1c324550",
   "metadata": {},
   "outputs": [],
   "source": [
    "def add_shadow_bands(img):\n",
    "    # Identify water pixels from the SCL band.\n",
    "    not_water = img.select('SCL').neq(6)\n",
    "\n",
    "    # Identify dark NIR pixels that are not water (potential cloud shadow pixels).\n",
    "    SR_BAND_SCALE = 1e4\n",
    "    dark_pixels = img.select('B8').lt(NIR_DRK_THRESH*SR_BAND_SCALE).multiply(not_water).rename('dark_pixels')\n",
    "\n",
    "    # Determine the direction to project cloud shadow from clouds (assumes UTM projection).\n",
    "    shadow_azimuth = ee.Number(90).subtract(ee.Number(img.get('MEAN_SOLAR_AZIMUTH_ANGLE')));\n",
    "\n",
    "    # Project shadows from clouds for the distance specified by the CLD_PRJ_DIST input.\n",
    "    cld_proj = (img.select('clouds').directionalDistanceTransform(shadow_azimuth, CLD_PRJ_DIST*10)\n",
    "        .reproject(**{'crs': img.select(0).projection(), 'scale': 100})\n",
    "        .select('distance')\n",
    "        .mask()\n",
    "        .rename('cloud_transform'))\n",
    "\n",
    "    # Identify the intersection of dark pixels with cloud shadow projection.\n",
    "    shadows = cld_proj.multiply(dark_pixels).rename('shadows')\n",
    "\n",
    "    # Add dark pixels, cloud projection, and identified shadows as image bands.\n",
    "    return img.addBands(ee.Image([dark_pixels, cld_proj, shadows]))"
   ]
  },
  {
   "cell_type": "code",
   "execution_count": null,
   "id": "040043ec-8888-47c3-9f4c-ecd1ce667ddc",
   "metadata": {},
   "outputs": [],
   "source": [
    "def add_cld_shdw_mask(img):\n",
    "    # Add cloud component bands.\n",
    "    img_cloud = add_cloud_bands(img)\n",
    "\n",
    "    # Add cloud shadow component bands.\n",
    "    img_cloud_shadow = add_shadow_bands(img_cloud)\n",
    "\n",
    "    # Combine cloud and shadow mask, set cloud and shadow as value 1, else 0.\n",
    "    is_cld_shdw = img_cloud_shadow.select('clouds').add(img_cloud_shadow.select('shadows')).gt(0)\n",
    "\n",
    "    # Remove small cloud-shadow patches and dilate remaining pixels by BUFFER input.\n",
    "    # 20 m scale is for speed, and assumes clouds don't require 10 m precision.\n",
    "    is_cld_shdw = (is_cld_shdw.focalMin(2).focalMax(BUFFER*2/20)\n",
    "        .reproject(**{'crs': img.select([0]).projection(), 'scale': 20})\n",
    "        .rename('cloudmask'))\n",
    "\n",
    "    # Add the final cloud-shadow mask to the image.\n",
    "    return img_cloud_shadow.addBands(is_cld_shdw)\n",
    "    # alternative: return img.addBands(is_cld_shdw)"
   ]
  },
  {
   "cell_type": "markdown",
   "id": "30ae4c9c-a802-41c9-82ff-5311a6d6dcd6",
   "metadata": {},
   "source": [
    "### Functions to display cloudless imagery"
   ]
  },
  {
   "cell_type": "code",
   "execution_count": null,
   "id": "9e56536e-12fe-4134-8ae0-5164ed3e4cd1",
   "metadata": {},
   "outputs": [],
   "source": [
    "# Define a method for displaying Earth Engine image tiles to a folium map.\n",
    "def add_ee_layer(self, ee_image_object, vis_params, name, show=True, opacity=1, min_zoom=0):\n",
    "    map_id_dict = ee.Image(ee_image_object).getMapId(vis_params)\n",
    "    folium.raster_layers.TileLayer(\n",
    "        tiles=map_id_dict['tile_fetcher'].url_format,\n",
    "        attr='Map Data &copy; <a href=\"https://earthengine.google.com/\">Google Earth Engine</a>',\n",
    "        name=name,\n",
    "        show=show,\n",
    "        opacity=opacity,\n",
    "        min_zoom=min_zoom,\n",
    "        overlay=True,\n",
    "        control=True\n",
    "        ).add_to(self)\n",
    "\n",
    "# Add the Earth Engine layer method to folium.\n",
    "folium.Map.add_ee_layer = add_ee_layer"
   ]
  },
  {
   "cell_type": "code",
   "execution_count": null,
   "id": "28e7369d-e2c4-426d-a982-b95864f8e74f",
   "metadata": {},
   "outputs": [],
   "source": [
    "def display_cloud_layers(col):\n",
    "    # Mosaic the image collection.\n",
    "    img = col.mosaic()\n",
    "\n",
    "    # Subset layers and prepare them for display.\n",
    "    clouds = img.select('clouds').selfMask()\n",
    "    shadows = img.select('shadows').selfMask()\n",
    "    dark_pixels = img.select('dark_pixels').selfMask()\n",
    "    probability = img.select('probability')\n",
    "    cloudmask = img.select('cloudmask').selfMask()\n",
    "    cloud_transform = img.select('cloud_transform')\n",
    "\n",
    "    # Create a folium map object.\n",
    "    center = AOI.centroid(10).coordinates().reverse().getInfo()\n",
    "    m = folium.Map(location=center, zoom_start=12)\n",
    "\n",
    "    # Add layers to the folium map.\n",
    "    m.add_ee_layer(img,\n",
    "                   {'bands': ['B4', 'B3', 'B2'], 'min': 0, 'max': 2500, 'gamma': 1.1},\n",
    "                   'S2 image', True, 1, 9)\n",
    "    m.add_ee_layer(probability,\n",
    "                   {'min': 0, 'max': 100},\n",
    "                   'probability (cloud)', False, 1, 9)\n",
    "    m.add_ee_layer(clouds,\n",
    "                   {'palette': 'e056fd'},\n",
    "                   'clouds', False, 1, 9)\n",
    "    m.add_ee_layer(cloud_transform,\n",
    "                   {'min': 0, 'max': 1, 'palette': ['white', 'black']},\n",
    "                   'cloud_transform', False, 1, 9)\n",
    "    m.add_ee_layer(dark_pixels,\n",
    "                   {'palette': 'orange'},\n",
    "                   'dark_pixels', False, 1, 9)\n",
    "    m.add_ee_layer(shadows, {'palette': 'yellow'},\n",
    "                   'shadows', False, 1, 9)\n",
    "    m.add_ee_layer(cloudmask, {'palette': 'orange'},\n",
    "                   'cloudmask', True, 0.5, 9)\n",
    "\n",
    "    # Add a layer control panel to the map.\n",
    "    m.add_child(folium.LayerControl())\n",
    "\n",
    "    # Display the map.\n",
    "    display(m)"
   ]
  },
  {
   "cell_type": "markdown",
   "id": "c932657f-efee-4b73-9897-58e0bfd01fa5",
   "metadata": {},
   "source": [
    "### Identify clouds, shadows, etc. and and display imagery"
   ]
  },
  {
   "cell_type": "markdown",
   "id": "5e220d98-af22-4b54-9fe7-8778302e4a25",
   "metadata": {},
   "source": [
    "To evaluate performance of functions"
   ]
  },
  {
   "cell_type": "code",
   "execution_count": null,
   "id": "acbf5504-3701-48ff-a84d-2e00f9661f4a",
   "metadata": {
    "tags": []
   },
   "outputs": [],
   "source": [
    "# display image with cloud mask\n",
    "s2_sr_cld_col_eval_disp = s2_sr_cld_col_eval.map(add_cld_shdw_mask)\n",
    "\n",
    "display_cloud_layers(s2_sr_cld_col_eval_disp)"
   ]
  },
  {
   "cell_type": "markdown",
   "id": "9d16bb77-2bfd-4933-8e02-32078b01df9a",
   "metadata": {},
   "source": [
    "### Get image collection again"
   ]
  },
  {
   "cell_type": "markdown",
   "id": "8c9dca02-ae8e-43a3-8972-a7fabf11a4a0",
   "metadata": {},
   "source": [
    "with adapted cloud settings"
   ]
  },
  {
   "cell_type": "code",
   "execution_count": null,
   "id": "c07daafd-05f7-42c3-9214-47249c9f5d38",
   "metadata": {},
   "outputs": [],
   "source": [
    "# adapt settings\n",
    "CLOUD_FILTER = 60\n",
    "CLD_PRB_THRESH = 40\n",
    "NIR_DRK_THRESH = 0.15\n",
    "CLD_PRJ_DIST = 2\n",
    "BUFFER = 100"
   ]
  },
  {
   "cell_type": "code",
   "execution_count": null,
   "id": "b29cf866-c60f-48dd-a0f1-4a61936369f2",
   "metadata": {},
   "outputs": [],
   "source": [
    "s2_sr_cld_col = get_s2_sr_cld_col(AOI, START_DATE, END_DATE)"
   ]
  },
  {
   "cell_type": "markdown",
   "id": "6ee7d09d-d7e5-4411-84b4-ae7728f78d87",
   "metadata": {},
   "source": [
    "### Get cloudless image collection, get its median values, and display it"
   ]
  },
  {
   "cell_type": "code",
   "execution_count": null,
   "id": "f89c98b1-13c3-46da-a87d-81e5342db854",
   "metadata": {},
   "outputs": [],
   "source": [
    "def apply_cld_shdw_mask(img):\n",
    "    # Subset the cloudmask band and invert it so clouds/shadow are 0, else 1.\n",
    "    not_cld_shdw = img.select('cloudmask').Not()\n",
    "\n",
    "    # Subset reflectance bands and update their masks, return the result.\n",
    "    return img.select('B.*').updateMask(not_cld_shdw)"
   ]
  },
  {
   "cell_type": "code",
   "execution_count": null,
   "id": "c5044f64-0595-475a-9298-68a8cfa6bdc0",
   "metadata": {},
   "outputs": [],
   "source": [
    "s2_sr_median = (s2_sr_cld_col.map(add_cld_shdw_mask)\n",
    "                             .map(apply_cld_shdw_mask)\n",
    "                             .median())"
   ]
  },
  {
   "cell_type": "code",
   "execution_count": null,
   "id": "89efc07d-f7cd-409b-95de-130aebead721",
   "metadata": {},
   "outputs": [],
   "source": [
    "# Create a folium map object.\n",
    "center = AOI.centroid(10).coordinates().reverse().getInfo()\n",
    "m = folium.Map(location=center, zoom_start=12)\n",
    "\n",
    "# Add layers to the folium map.\n",
    "m.add_ee_layer(s2_sr_median,\n",
    "                {'bands': ['B4', 'B3', 'B2'], 'min': 0, 'max': 2500, 'gamma': 1.1},\n",
    "                'S2 cloud-free mosaic', True, 1, 9)\n",
    "\n",
    "# Add a layer control panel to the map.\n",
    "m.add_child(folium.LayerControl())\n",
    "\n",
    "# Display the map.\n",
    "display(m)"
   ]
  },
  {
   "cell_type": "markdown",
   "id": "56229d50-e1b4-4018-98e6-a487ff9be34d",
   "metadata": {},
   "source": [
    "## Get cloudless image NDVI values and visualize them"
   ]
  },
  {
   "cell_type": "code",
   "execution_count": null,
   "id": "646f109b-2f13-497c-bb83-7760a3f67d9d",
   "metadata": {},
   "outputs": [],
   "source": [
    "def get_ndvi(image):\n",
    "    return image.normalizedDifference(['B5', 'B4'])"
   ]
  },
  {
   "cell_type": "code",
   "execution_count": null,
   "id": "9c1e67a2-30cc-40ca-b7c4-f49d76d64870",
   "metadata": {},
   "outputs": [],
   "source": [
    "ndvi = get_ndvi(s2_sr_median)"
   ]
  },
  {
   "cell_type": "code",
   "execution_count": null,
   "id": "70485929-623a-47e9-ba8e-602a618bd346",
   "metadata": {},
   "outputs": [],
   "source": [
    "ndvi_parameters = {'palette': ['red', 'white', 'green']}"
   ]
  },
  {
   "cell_type": "code",
   "execution_count": null,
   "id": "a9649e23-3adf-4d21-ba24-e89dac634635",
   "metadata": {},
   "outputs": [],
   "source": [
    "# Create a folium map object.\n",
    "center = AOI.centroid(10).coordinates().reverse().getInfo()\n",
    "m = folium.Map(location=center, zoom_start=12)\n",
    "\n",
    "# Add layers to the folium map.\n",
    "m.add_ee_layer(s2_sr_median,\n",
    "                {'bands': ['B4', 'B3', 'B2'], 'min': 0, 'max': 2500, 'gamma': 1.1},\n",
    "                'S2 cloud-free mosaic', True, 1, 9)\n",
    "\n",
    "m.add_ee_layer(ndvi, ndvi_parameters, 'NDVI')\n",
    "\n",
    "# Add a layer control panel to the map.\n",
    "m.add_child(folium.LayerControl())\n",
    "\n",
    "# Display the map.\n",
    "display(m)"
   ]
  },
  {
   "cell_type": "markdown",
   "id": "36449c6d-415b-462a-9573-231f26879062",
   "metadata": {},
   "source": [
    "## Export cloudless NDVI map to Drive"
   ]
  },
  {
   "cell_type": "markdown",
   "id": "879a76f3-13fe-45f1-883f-e3fcefe62cd1",
   "metadata": {},
   "source": [
    "Then store locally manually"
   ]
  },
  {
   "cell_type": "code",
   "execution_count": null,
   "id": "b41c58c3-f456-4197-9d40-2e461102d76d",
   "metadata": {},
   "outputs": [],
   "source": [
    "if export:\n",
    "    task = ee.batch.Export.image.toDrive(**{\n",
    "        'image': ndvi,\n",
    "        'description': 'NDVI cloudless {} {}mres'.format(place_name, export_scale),\n",
    "        'folder':'S2_SR_NDVI',\n",
    "        'scale': export_scale,   # meters per pixel\n",
    "        'region': AOI.getInfo()['coordinates']\n",
    "    })\n",
    "    task.start()"
   ]
  },
  {
   "cell_type": "code",
   "execution_count": null,
   "id": "dc8836e0-968d-4d0e-a78b-d63292195413",
   "metadata": {},
   "outputs": [],
   "source": [
    "if export:\n",
    "    while task.active():\n",
    "      print('Polling for task (id: {}).'.format(task.id))\n",
    "      time.sleep(5)"
   ]
  }
 ],
 "metadata": {
  "kernelspec": {
   "display_name": "Python 3 (ipykernel)",
   "language": "python",
   "name": "python3"
  },
  "language_info": {
   "codemirror_mode": {
    "name": "ipython",
    "version": 3
   },
   "file_extension": ".py",
   "mimetype": "text/x-python",
   "name": "python",
   "nbconvert_exporter": "python",
   "pygments_lexer": "ipython3",
   "version": "3.9.12"
  }
 },
 "nbformat": 4,
 "nbformat_minor": 5
}

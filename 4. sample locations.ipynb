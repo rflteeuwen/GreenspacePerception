{
 "cells": [
  {
   "cell_type": "markdown",
   "id": "9c52be09-4c50-4fc6-b6f0-2ef2e28def8f",
   "metadata": {},
   "source": [
    "# Step 4. Sample locations for analysis"
   ]
  },
  {
   "cell_type": "code",
   "execution_count": null,
   "id": "52510ab7-3020-4ac5-a896-691f31dc4091",
   "metadata": {},
   "outputs": [],
   "source": [
    "import os\n",
    "import datetime\n",
    "\n",
    "import numpy as np\n",
    "import scipy\n",
    "import fiona\n",
    "import statistics\n",
    "import math\n",
    "\n",
    "import pandas as pd\n",
    "import geopandas as gpd\n",
    "from shapely.geometry import LineString, shape, mapping, Point, Polygon, MultiPolygon\n",
    "from shapely.ops import cascaded_union, transform\n",
    "import pyproj\n",
    "\n",
    "import matplotlib.pyplot as plt\n",
    "from matplotlib import colors, cm, style\n",
    "import matplotlib.patches as mpatches\n",
    "# from descartes import PolygonPatch\n",
    "\n",
    "import osmnx as ox\n",
    "import networkx as nx\n",
    "\n",
    "import rasterio\n",
    "from rasterio import MemoryFile\n",
    "from rasterio.plot import show\n",
    "from rasterio.mask import mask\n",
    "import json\n",
    "\n",
    "import contextily as cx\n",
    "import folium\n",
    "from folium.features import DivIcon\n",
    "\n",
    "import random"
   ]
  },
  {
   "cell_type": "code",
   "execution_count": null,
   "id": "25dffd0f-b2aa-466e-82b3-c6887fd3acb8",
   "metadata": {},
   "outputs": [],
   "source": [
    "from getpass import getpass\n",
    "\n",
    "import requests\n",
    "from requests import Request, Session\n",
    "\n",
    "import hashlib\n",
    "import hmac\n",
    "import base64\n",
    "import urllib.parse as urlparse\n",
    "\n",
    "from datetime import date\n",
    "import matplotlib.pyplot as plt\n",
    "import matplotlib.image as mpimg"
   ]
  },
  {
   "cell_type": "markdown",
   "id": "80d2ebf4-d5f3-45db-b9c2-776d71060324",
   "metadata": {},
   "source": [
    "## Define city and other settings"
   ]
  },
  {
   "cell_type": "markdown",
   "id": "1449086c-9a11-41a6-b274-d0860b2e9a25",
   "metadata": {},
   "source": [
    "#### Place |Country    |CRS\n",
    "Amsterdam  | Rotterdam | The Hague    (The Netherlands)    EPSG:28992\n",
    "\n",
    "Madrid     | Barcelona | Valencia     (Spain)              EPSG:25830\n",
    "\n",
    "Stockholm  | Goteborg  | Malmo        (Sweden)             EPSG:3006"
   ]
  },
  {
   "cell_type": "code",
   "execution_count": null,
   "id": "282794c5-8ba6-4475-b181-17a79c5676a3",
   "metadata": {},
   "outputs": [],
   "source": [
    "place_name = 'Barcelona'\n",
    "local_crs = 'EPSG:25830'"
   ]
  },
  {
   "cell_type": "code",
   "execution_count": null,
   "id": "e53a0ba7-f950-47a6-bd0e-27d9cd2f8878",
   "metadata": {},
   "outputs": [],
   "source": [
    "export_folder = 'data'\n",
    "export_osm_sub_folder = os.path.join('OSM', '{}_15Mar2023'.format(place_name.split(',')[0].replace(' ', '')), 'enriched')\n",
    "export_sampled_sub_folder = os.path.join('OSM', '{}_15Mar2023'.format(place_name.split(',')[0].replace(' ', '')), 'sampled')"
   ]
  },
  {
   "cell_type": "code",
   "execution_count": null,
   "id": "9a56965c-16ac-464a-8ead-83c3181a248a",
   "metadata": {},
   "outputs": [],
   "source": [
    "place = ox.geocode_to_gdf(place_name).to_crs(local_crs)"
   ]
  },
  {
   "cell_type": "code",
   "execution_count": null,
   "id": "9f3c3e07-29cb-4816-b583-8d341b3100aa",
   "metadata": {},
   "outputs": [],
   "source": [
    "random_state = 42\n",
    "random.seed(random_state)"
   ]
  },
  {
   "cell_type": "code",
   "execution_count": null,
   "id": "445cbc18-caa0-49bf-820a-23417cef4382",
   "metadata": {},
   "outputs": [],
   "source": [
    "if place_name == 'Barcelona':\n",
    "    gsv_crs = 'EPSG:4326'\n",
    "    \n",
    "    obtain_imagery = False\n",
    "    \n",
    "    api_key = getpass(\"API key: \")\n",
    "    if obtain_imagery:\n",
    "        secret = getpass(\"URL signing secret: \")\n",
    "        \n",
    "    meta_base = 'https://maps.googleapis.com/maps/api/streetview/metadata?'\n",
    "    pic_base = 'https://maps.googleapis.com/maps/api/streetview?'"
   ]
  },
  {
   "cell_type": "markdown",
   "id": "7e0e1418-9117-4599-b097-576303bfbede",
   "metadata": {},
   "source": [
    "## Read data"
   ]
  },
  {
   "cell_type": "markdown",
   "id": "66a951e9-78e6-47ff-b1d0-035ffffbeb80",
   "metadata": {},
   "source": [
    "### Read OSM data enriched with NDVI and GSV columns: these are candidate locations"
   ]
  },
  {
   "cell_type": "code",
   "execution_count": null,
   "id": "54ab59e6-037f-4030-9816-c890c0e745ba",
   "metadata": {},
   "outputs": [],
   "source": [
    "pocket_greenspaces = gpd.read_file(os.path.join(export_folder, export_osm_sub_folder, 'pocket_greenspaces_enriched.geojson'), driver='GeoJSON')\n",
    "regular_greenspaces = gpd.read_file(os.path.join(export_folder, export_osm_sub_folder, 'regular_greenspaces_enriched.geojson'))\n",
    "squares = gpd.read_file(os.path.join(export_folder, export_osm_sub_folder, 'squares_enriched.geojson'))\n",
    "playspaces = gpd.read_file(os.path.join(export_folder, export_osm_sub_folder, 'playspaces_enriched.geojson'))\n",
    "streets = gpd.read_file(os.path.join(export_folder, export_osm_sub_folder, 'streets_enriched.geojson'))\n",
    "parkings = gpd.read_file(os.path.join(export_folder, export_osm_sub_folder, 'parkings_enriched.geojson'))"
   ]
  },
  {
   "cell_type": "code",
   "execution_count": null,
   "id": "a7d65d2e-bd7d-48b1-a069-cd1517e7f490",
   "metadata": {},
   "outputs": [],
   "source": [
    "def ensure_unique_panoramas(gdf):\n",
    "    # randomize order\n",
    "    gdf = gdf.sample(frac=1, random_state=random_state)\n",
    "    # drop duplicate panorama id's and keep only the first\n",
    "    gdf = gdf.drop_duplicates(subset=['gsv_pano_id'], keep='first')\n",
    "\n",
    "    return gdf"
   ]
  },
  {
   "cell_type": "code",
   "execution_count": null,
   "id": "ee0b4048-af9a-44cb-80b2-3b096fe4d853",
   "metadata": {},
   "outputs": [],
   "source": [
    "def check_data(gdf):\n",
    "    # candidates only when: NDVI data present, GSV available\n",
    "    gdf = gdf[gdf.ndvi_mean.notna()]\n",
    "    gdf = gdf[gdf.ndvi_median.notna()]\n",
    "    gdf = gdf[gdf.ndvi_min.notna()]\n",
    "    gdf = gdf[gdf.ndvi_max.notna()]\n",
    "    gdf = gdf[gdf.ndvi_stdev.notna()]\n",
    "    gdf = gdf[gdf.ndvi_var.notna()]\n",
    "\n",
    "    gdf = gdf[gdf.gsv_suitability=='True']\n",
    "    gdf = gdf[gdf.gsv_pano_id.notna()]\n",
    "    gdf = gdf[gdf.gsv_pano_id!='False']\n",
    "    gdf = gdf[gdf.gsv_pano_id!=False]\n",
    "    gdf = gdf[gdf.gsv_lat.notna()]\n",
    "    gdf = gdf[gdf.gsv_lat!='False']\n",
    "    gdf = gdf[gdf.gsv_lat!='False']\n",
    "    gdf = gdf[gdf.gsv_lng.notna()]\n",
    "    gdf = gdf[gdf.gsv_lng!='False']\n",
    "    gdf = gdf[gdf.gsv_lng!=False]\n",
    "    \n",
    "    gdf['area'] = gdf.geometry.area\n",
    "    gdf['ndvi_mean'] = gdf['ndvi_mean'].astype(float)\n",
    "    \n",
    "    # verify again also type and area known\n",
    "    gdf = gdf[gdf.category.notna()]\n",
    "    gdf = gdf[gdf.area.notna()]\n",
    "    \n",
    "    gdf = ensure_unique_panoramas(gdf)\n",
    "    \n",
    "    return gdf"
   ]
  },
  {
   "cell_type": "code",
   "execution_count": null,
   "id": "535ecf26-6c4d-4924-8320-7797412f0e50",
   "metadata": {},
   "outputs": [],
   "source": [
    "# alternative candidate playspaces for Barcelona manual sampling\n",
    "if place_name == 'Barcelona':\n",
    "    alternative_playspaces = playspaces.copy()"
   ]
  },
  {
   "cell_type": "code",
   "execution_count": null,
   "id": "c1db243e-66c7-4aa8-a27f-efe757515f56",
   "metadata": {},
   "outputs": [],
   "source": [
    "pocket_greenspaces = check_data(pocket_greenspaces)\n",
    "regular_greenspaces = check_data(regular_greenspaces)\n",
    "squares = check_data(squares)\n",
    "playspaces = check_data(playspaces)\n",
    "streets = check_data(streets)\n",
    "parkings = check_data(parkings)"
   ]
  },
  {
   "cell_type": "markdown",
   "id": "27671318-4c0b-4999-9934-b3219435340b",
   "metadata": {},
   "source": [
    "## Sample from candidates and generate iframes"
   ]
  },
  {
   "cell_type": "code",
   "execution_count": null,
   "id": "981bb56d-6b02-4a46-98ba-71289b6dfc35",
   "metadata": {},
   "outputs": [],
   "source": [
    "# sample per category: up to 8\n",
    "n_sample = 8"
   ]
  },
  {
   "cell_type": "code",
   "execution_count": null,
   "id": "cc8a4ba3-f281-468d-8218-f3964c8676ca",
   "metadata": {},
   "outputs": [],
   "source": [
    "candidate_pocket_greenspaces = pocket_greenspaces.copy()\n",
    "candidate_regular_greenspaces = regular_greenspaces.copy()\n",
    "candidate_squares = squares.copy()\n",
    "candidate_playspaces = playspaces.copy()\n",
    "candidate_streets = streets.copy()\n",
    "candidate_parkings = parkings.copy()\n",
    "\n",
    "candidate_all = pd.concat([\n",
    "    candidate_pocket_greenspaces, \n",
    "    candidate_regular_greenspaces, \n",
    "    candidate_squares,\n",
    "    candidate_playspaces,\n",
    "    candidate_streets,\n",
    "    candidate_parkings])"
   ]
  },
  {
   "cell_type": "code",
   "execution_count": null,
   "id": "07c1376f-4cf3-4479-9b7c-55bfc61299df",
   "metadata": {},
   "outputs": [],
   "source": [
    "def compose_iframe_string(row):\n",
    "    \n",
    "    src = 'https://www.google.com/maps/embed?pb=!4v1663685727477!6m8!1m7!{}!2m2!1d{}!2d{}!3f234.88633007037052!4f0.4221917676174485!5f0.7820865974627469'.format(\n",
    "        row.gsv_pano_id, row.gsv_lat, row.gsv_lng)\n",
    "    iframe = '<iframe height=\"450\" loading=\"lazy\" src=\"{}\" style=\"border:0;\"width=\"800\"></iframe>'.format(src)\n",
    "    iframe_html = '<div style=\"text-align: center;\">{}<br /></div>,\\n'.format(iframe)\n",
    "    \n",
    "    return iframe_html"
   ]
  },
  {
   "cell_type": "code",
   "execution_count": null,
   "id": "445fa56a-c75d-44f8-b2ea-8a0a44d3e1ce",
   "metadata": {},
   "outputs": [],
   "source": [
    "def take_sample(gdf, quantile, n, print_iframes=True):\n",
    "\n",
    "    if len(gdf[gdf.ndvi_quantile==quantile]) > n:\n",
    "        gdf = gdf[gdf.ndvi_quantile==quantile].sample(n=n, random_state=random_state)\n",
    "    else:\n",
    "        gdf = gdf[gdf.ndvi_quantile==quantile]\n",
    "    \n",
    "    # compose and print iframes\n",
    "    if len(gdf):\n",
    "        gdf['gsv_iframe_html'] = gdf.apply(lambda row: compose_iframe_string(row), axis=1, result_type=\"expand\")\n",
    "        if print_iframes:\n",
    "            for i in gdf.index:\n",
    "                print(gdf.category[i], gdf.ndvi_quantile[i], i, gdf.gsv_pano_id[i])\n",
    "                print(gdf.gsv_iframe_html[i])\n",
    "    else:\n",
    "        print('no more places could be sampled')\n",
    "        \n",
    "    return gdf"
   ]
  },
  {
   "cell_type": "code",
   "execution_count": null,
   "id": "58b40b68-4e3f-419a-bf15-5355a907116f",
   "metadata": {},
   "outputs": [],
   "source": [
    "def exclude_and_replace(sampled, pano_ids_to_exclude, candidates, print_iframes=True):\n",
    "    # maintain ndvi quantiles list of excluded places\n",
    "    ndvi_quantiles_excluded = sampled[sampled.gsv_pano_id.isin(pano_ids_to_exclude)].ndvi_quantile.values.tolist()\n",
    "    \n",
    "    # exclude these panoramas from gdf and candidates\n",
    "    remaining_sampled = sampled[~sampled.gsv_pano_id.isin(pano_ids_to_exclude)]\n",
    "    remaining_candidates = candidates[~candidates.gsv_pano_id.isin(pano_ids_to_exclude)]\n",
    "    \n",
    "    # replacements per ndvi quantile\n",
    "    replacements = gpd.GeoDataFrame()\n",
    "    for quantile in set(ndvi_quantiles_excluded):\n",
    "        n_replacement = ndvi_quantiles_excluded.count(quantile)\n",
    "        replacements = pd.concat([replacements, take_sample(remaining_candidates, quantile, n_replacement, print_iframes=print_iframes)])\n",
    "        \n",
    "    # omit also replacements from remaining candidates\n",
    "    remaining_candidates = pd.concat([remaining_candidates, replacements]).drop_duplicates(subset=['gsv_pano_id'], keep=False)\n",
    "    \n",
    "    sampled = pd.concat([remaining_sampled, replacements])\n",
    "    \n",
    "    return sampled, remaining_candidates"
   ]
  },
  {
   "cell_type": "markdown",
   "id": "b531e111-d190-4f4f-9fdf-150db18d8062",
   "metadata": {
    "tags": []
   },
   "source": [
    "#### Pocket greenspaces"
   ]
  },
  {
   "cell_type": "code",
   "execution_count": null,
   "id": "78bd7700-4421-4f94-b754-8cc4c1751af7",
   "metadata": {},
   "outputs": [],
   "source": [
    "candidates = candidate_pocket_greenspaces.copy()"
   ]
  },
  {
   "cell_type": "code",
   "execution_count": null,
   "id": "53cdf342-6d08-43f0-889d-8fdcab10538e",
   "metadata": {},
   "outputs": [],
   "source": [
    "# set ndvi quantiles\n",
    "ndvi_quantiles = candidates['ndvi_mean'].quantile([0, 0.25, 0.50, 0.75, 1])\n",
    "\n",
    "candidates.loc[candidates.ndvi_mean<ndvi_quantiles[0.25], 'ndvi_quantile'] = 'lower'\n",
    "candidates.loc[\n",
    "    (candidates.ndvi_mean>=ndvi_quantiles[0.25]) &\n",
    "    (candidates.ndvi_mean<ndvi_quantiles[0.5]), 'ndvi_quantile'] = 'second'\n",
    "candidates.loc[\n",
    "    (candidates.ndvi_mean>=ndvi_quantiles[0.5]) &\n",
    "    (candidates.ndvi_mean<ndvi_quantiles[0.75]), 'ndvi_quantile'] = 'third'\n",
    "candidates.loc[candidates.ndvi_mean>=ndvi_quantiles[0.75], 'ndvi_quantile'] = 'upper'"
   ]
  },
  {
   "cell_type": "code",
   "execution_count": null,
   "id": "3becd23e-2c5d-40e4-b2d3-52f17585c1cb",
   "metadata": {
    "tags": []
   },
   "outputs": [],
   "source": [
    "# sample places\n",
    "print_iframes = False\n",
    "sampled = pd.concat([\n",
    "    take_sample(candidates, 'lower', n_sample, print_iframes), \n",
    "    take_sample(candidates, 'second', n_sample, print_iframes), \n",
    "    take_sample(candidates, 'third', n_sample, print_iframes), \n",
    "    take_sample(candidates, 'upper', n_sample, print_iframes)])\n",
    "\n",
    "# omit sampled places from remaining candidates\n",
    "candidates = pd.concat([candidates, sampled]).drop_duplicates(subset=['gsv_pano_id'], keep=False)"
   ]
  },
  {
   "cell_type": "code",
   "execution_count": null,
   "id": "28599baf-79bd-4cdb-b688-abb47eabd639",
   "metadata": {
    "tags": []
   },
   "outputs": [],
   "source": [
    "# after manual check, we exclude the following panoramas\n",
    "if place_name == 'Barcelona':\n",
    "    pano_ids_to_exclude = [\n",
    "        'CAoSLEFGMVFpcE1NdEctMFRKUGtGcVhxZkxjUUpQMjJ4cEZVYU9xejlSQ01YR1Bv',\n",
    "        'CAoSLEFGMVFpcE9oS2o1Qm5TS2ZaRUlQbkJUd0FQWjJLTlRxWnRXYVVMN3R0bmxF',\n",
    "        'IBQwXcItjXij5rm3lrSkwQ',  # no longer?\n",
    "        'CAoSLEFGMVFpcE9na0hvSE9jVTNTM1AxTWxTMmJlUFhIV0gzNU5OZjB3dmlwZnVw',\n",
    "        'CAoSLEFGMVFpcE5OZXVHM2V2TlZyM1BVYzFCRDdaVlBFUG9lT1pWVVh6OEViWmN3',\n",
    "        'H4-QZDuDYPN8iKFWBB1DCA',  # no longer?\n",
    "        'wnOF19Np_h34c70HVwzjUA',\n",
    "        'uZfTJELGuwVqa5Mf0Q04Sg',\n",
    "        'zfpLLVyA7NUmTKohfokDyA']\n",
    "    \n",
    "elif place_name == 'Goteborg':\n",
    "    pano_ids_to_exclude = [\n",
    "        'oU6BbhSf9b6d6dLZ3-VquA',\n",
    "        '0IG0xXCMxrbLBowtrq7bPg']\n",
    "\n",
    "elif place_name == 'Rotterdam':\n",
    "    pano_ids_to_exclude = [\n",
    "        'NTQHbTFYmZU1B-cUmgkM6Q',\n",
    "        '4HS6qgS6VFl-oheGUAXRUg',\n",
    "        'CAoSLEFGMVFpcE0wNlYyQUxfZ1FrT2pETjAyYWlzX01wREtsSHAtRV96ZXgwUWxF',\n",
    "        'CAoSLEFGMVFpcFBJZFZMOXRMUE5NaVJsX2U1c2otMU5sbG91dTM0LWh5c2Z2Unda']\n",
    "    \n",
    "print_iframes = False\n",
    "sampled, candidates = exclude_and_replace(sampled, pano_ids_to_exclude, candidates, print_iframes)"
   ]
  },
  {
   "cell_type": "code",
   "execution_count": null,
   "id": "866ab8b7-91c5-4ad1-9cec-86091f831fda",
   "metadata": {},
   "outputs": [],
   "source": [
    "# after the final co-author check, we exclude the following panoramas\n",
    "# after manual check, we exclude the following panoramas\n",
    "if place_name == 'Barcelona':\n",
    "    pano_ids_to_exclude = []\n",
    "    \n",
    "elif place_name == 'Goteborg':\n",
    "    pano_ids_to_exclude = []\n",
    "\n",
    "elif place_name == 'Rotterdam':\n",
    "    pano_ids_to_exclude = ['Ty732DL2KBUaxIT4lkTx4g']\n",
    "    \n",
    "print_iframes = True\n",
    "sampled, candidates = exclude_and_replace(sampled, pano_ids_to_exclude, candidates, print_iframes)"
   ]
  },
  {
   "cell_type": "code",
   "execution_count": null,
   "id": "9928a130-d560-4d2a-b6fb-e5a27a0b0c80",
   "metadata": {
    "tags": []
   },
   "outputs": [],
   "source": [
    "print_iframes = False\n",
    "if print_iframes:\n",
    "    for i in sampled.index:\n",
    "        print(sampled.category[i], sampled.ndvi_quantile[i], i, sampled.gsv_pano_id[i])\n",
    "        print(sampled.gsv_iframe_html[i])"
   ]
  },
  {
   "cell_type": "code",
   "execution_count": null,
   "id": "0dc43e80-b08f-4231-864d-0d892a384d6a",
   "metadata": {},
   "outputs": [],
   "source": [
    "sampled_pocket_greenspaces = sampled.copy()"
   ]
  },
  {
   "cell_type": "code",
   "execution_count": null,
   "id": "6746e7f2-351e-456f-bf04-2da10374542d",
   "metadata": {},
   "outputs": [],
   "source": [
    "candidate_pocket_greenspaces = candidates.copy()"
   ]
  },
  {
   "cell_type": "markdown",
   "id": "9b4000a8-7097-48f1-b38a-a498d9e3efe0",
   "metadata": {
    "tags": []
   },
   "source": [
    "#### Regular greenspace - low, medium, high NDVI"
   ]
  },
  {
   "cell_type": "code",
   "execution_count": null,
   "id": "34ca8c5f-8cf2-494a-82f9-db7b49db0a4d",
   "metadata": {},
   "outputs": [],
   "source": [
    "candidates = candidate_regular_greenspaces.copy()"
   ]
  },
  {
   "cell_type": "code",
   "execution_count": null,
   "id": "ced47514-26c8-4b62-90fe-51e703626ab3",
   "metadata": {},
   "outputs": [],
   "source": [
    "# set ndvi quantiles\n",
    "ndvi_quantiles = candidates['ndvi_mean'].quantile([0, 0.25, 0.50, 0.75, 1])\n",
    "\n",
    "candidates.loc[candidates.ndvi_mean<ndvi_quantiles[0.25], 'ndvi_quantile'] = 'lower'\n",
    "candidates.loc[\n",
    "    (candidates.ndvi_mean>=ndvi_quantiles[0.25]) &\n",
    "    (candidates.ndvi_mean<ndvi_quantiles[0.5]), 'ndvi_quantile'] = 'second'\n",
    "candidates.loc[\n",
    "    (candidates.ndvi_mean>=ndvi_quantiles[0.5]) &\n",
    "    (candidates.ndvi_mean<ndvi_quantiles[0.75]), 'ndvi_quantile'] = 'third'\n",
    "candidates.loc[candidates.ndvi_mean>=ndvi_quantiles[0.75], 'ndvi_quantile'] = 'upper'"
   ]
  },
  {
   "cell_type": "code",
   "execution_count": null,
   "id": "2e9cbd7c-8695-4137-bbef-df732061c1f0",
   "metadata": {
    "tags": []
   },
   "outputs": [],
   "source": [
    "# sample places\n",
    "print_iframes = False\n",
    "sampled = pd.concat([\n",
    "    take_sample(candidates, 'lower', n_sample, print_iframes), \n",
    "    take_sample(candidates, 'second', n_sample, print_iframes), \n",
    "    take_sample(candidates, 'third', n_sample, print_iframes), \n",
    "    take_sample(candidates, 'upper', n_sample, print_iframes)])\n",
    "\n",
    "# omit sampled places from remaining candidates\n",
    "candidates = pd.concat([candidates, sampled]).drop_duplicates(subset=['gsv_pano_id'], keep=False)"
   ]
  },
  {
   "cell_type": "code",
   "execution_count": null,
   "id": "2bc6fde4-c0ee-433e-b8d2-3b45d8cf07c3",
   "metadata": {
    "tags": []
   },
   "outputs": [],
   "source": [
    "# after manual check, we exclude the following panoramas\n",
    "if place_name == 'Barcelona':\n",
    "    pano_ids_to_exclude = [\n",
    "        'nRtowiOk5nmdTyZZM9sXAA',\n",
    "        'CAoSLEFGMVFpcE42aXRfTUc2TkVxbXc1NGZUVW8xeTFIcW9VOWRJR0hMVkxIM2dH',\n",
    "        'CAoSLEFGMVFpcE9ISk56WnJqT3AzOFR3UVdNZ19PVEdtdXppb0NtelVxbGdBczRy',\n",
    "        'CAoSLEFGMVFpcE56TTF4cjFCajUyVmFfaUtNRzRBeHBxbXVYWWlLcjljTm16a3JX',\n",
    "        'zaSHT5HIsoMQRDdvStLe_w',\n",
    "        'R3faCfC4a71sXJytEUrPpg',\n",
    "        'clVKp2ERAnMN228vvLkn-w',\n",
    "        'P2A2sJiTIMN6lgXjZFR3VA',\n",
    "        'Up2fJQJP2aAxdLf6tBEV2Q']\n",
    "    \n",
    "elif place_name == 'Goteborg':\n",
    "    pano_ids_to_exclude = [\n",
    "        'FOOr0tex4yNTP8_NYI6n5A',\n",
    "        'LOOjfkCZgR3rfLe435549Q',\n",
    "        'UbIr3kBjK7hFy8K8rtdfaA',\n",
    "        'gzoPujPqZ7EgrOfd5o6Yjw']\n",
    "\n",
    "elif place_name == 'Rotterdam':\n",
    "    pano_ids_to_exclude = [\n",
    "        'gxZgkOvUxkYCPxHDXVK9Eg',\n",
    "        'lQ4vNiyAUaBECFKuOO57WA',\n",
    "        'hXo4MOvJlMATviBfYkBNUg',\n",
    "        'CAoSLEFGMVFpcE1yR2F4M1VKazdWcW5NM0ZHWk5OS3FXMlA0b0tFbFRHSEEyQjRV']\n",
    "    \n",
    "print_iframes = False\n",
    "sampled, candidates = exclude_and_replace(sampled, pano_ids_to_exclude, candidates, print_iframes)"
   ]
  },
  {
   "cell_type": "code",
   "execution_count": null,
   "id": "7fe22292-cbb3-451b-82ae-90543513150c",
   "metadata": {
    "tags": []
   },
   "outputs": [],
   "source": [
    "# after a second manual check, we exclude the following panoramas\n",
    "if place_name == 'Barcelona':\n",
    "    pano_ids_to_exclude = [\n",
    "        'DXyo_eZVigP8Nps-i6XQfw',\n",
    "        'CAoSLEFGMVFpcE5nanl5X1c4YVNLZm5UVkxmMjFFamMwaWFLZndtalJvWEZIRGxs',\n",
    "        'CAoSLEFGMVFpcE01U3lub3NLQkY0QjlSR3pvb3l3NU1SMTVsaFlZVTl1cGlpRnE2',\n",
    "        'CJQNapyo1vm0VU3kp89iHA']\n",
    "    \n",
    "elif place_name == 'Goteborg':\n",
    "    pano_ids_to_exclude = [\n",
    "        'lZBiPLwkuubBQLhA1zNuYQ',\n",
    "        '7SWCdDNsYyVS2KWdE_SIqA',\n",
    "        'njROp2rHEgA3PjM1U9MiIg']\n",
    "\n",
    "elif place_name == 'Rotterdam':\n",
    "    pano_ids_to_exclude = []\n",
    "    \n",
    "print_iframes = False\n",
    "sampled, candidates = exclude_and_replace(sampled, pano_ids_to_exclude, candidates, print_iframes)"
   ]
  },
  {
   "cell_type": "code",
   "execution_count": null,
   "id": "525b4899-63b6-4aa5-9239-59b879de93f6",
   "metadata": {
    "tags": []
   },
   "outputs": [],
   "source": [
    "# after a third manual check, we exclude the following panoramas\n",
    "if place_name == 'Barcelona':\n",
    "    pano_ids_to_exclude = [\n",
    "        'zQBItDE4VMWujacbOcNYCA']\n",
    "    \n",
    "elif place_name == 'Goteborg':\n",
    "    pano_ids_to_exclude = []\n",
    "\n",
    "elif place_name == 'Rotterdam':\n",
    "    pano_ids_to_exclude = []\n",
    "    \n",
    "print_iframes = False\n",
    "sampled, candidates = exclude_and_replace(sampled, pano_ids_to_exclude, candidates, print_iframes)"
   ]
  },
  {
   "cell_type": "code",
   "execution_count": null,
   "id": "b49e0843-b9e1-4240-bf3c-e444eed4df35",
   "metadata": {},
   "outputs": [],
   "source": [
    "# after the final co-author check, we exclude the following panoramas\n",
    "# after manual check, we exclude the following panoramas\n",
    "if place_name == 'Barcelona':\n",
    "    pano_ids_to_exclude = [\n",
    "        'b39Rbx7G9B9kTQA2Tesf_w',\n",
    "        'CAoSLEFGMVFpcE5qZnlIamwwM2h2X3dvVE1nbEJiZndlY05MblJSdGxpWHBEX1Br',\n",
    "        'CAoSLEFGMVFpcE43TjRRam9FcXFLOTJlb3daLUhjVmxER1dJcjgtcXAtbWdwUTRf']\n",
    "    \n",
    "elif place_name == 'Goteborg':\n",
    "    pano_ids_to_exclude = ['GcoIP9IxWhPFmREztodjxg']\n",
    "\n",
    "elif place_name == 'Rotterdam':\n",
    "    pano_ids_to_exclude = []\n",
    "    \n",
    "print_iframes = False\n",
    "sampled, candidates = exclude_and_replace(sampled, pano_ids_to_exclude, candidates, print_iframes)"
   ]
  },
  {
   "cell_type": "code",
   "execution_count": null,
   "id": "c45f075a-fc87-43f6-a269-b9dbc0c37176",
   "metadata": {},
   "outputs": [],
   "source": [
    "# after the second final co-author check, we exclude the following panoramas\n",
    "# after manual check, we exclude the following panoramas\n",
    "if place_name == 'Barcelona':\n",
    "    pano_ids_to_exclude = ['CAoSLEFGMVFpcE1IR2dYRWQ3RkRST1pfcE5fODB1aU9xNkVHZHlHcVd5aWMxZ1RY']\n",
    "    \n",
    "elif place_name == 'Goteborg':\n",
    "    pano_ids_to_exclude = []\n",
    "\n",
    "elif place_name == 'Rotterdam':\n",
    "    pano_ids_to_exclude = []\n",
    "    \n",
    "print_iframes = False\n",
    "sampled, candidates = exclude_and_replace(sampled, pano_ids_to_exclude, candidates, print_iframes)"
   ]
  },
  {
   "cell_type": "code",
   "execution_count": null,
   "id": "2304bb6d-758d-419f-9b72-2968392b9c93",
   "metadata": {
    "tags": []
   },
   "outputs": [],
   "source": [
    "print_iframes = False\n",
    "if print_iframes:\n",
    "    for i in sampled.index:\n",
    "        print(sampled.category[i], sampled.ndvi_quantile[i], i, sampled.gsv_pano_id[i])\n",
    "        print(sampled.gsv_iframe_html[i])"
   ]
  },
  {
   "cell_type": "code",
   "execution_count": null,
   "id": "7084120f-e2d1-48e4-93d5-24342cabca52",
   "metadata": {},
   "outputs": [],
   "source": [
    "sampled_regular_greenspaces = sampled.copy()"
   ]
  },
  {
   "cell_type": "code",
   "execution_count": null,
   "id": "98a40369-df19-43fa-8256-e81d00e4a871",
   "metadata": {},
   "outputs": [],
   "source": [
    "candidate_regular_greenspaces = candidates.copy()"
   ]
  },
  {
   "cell_type": "markdown",
   "id": "dcea11bf-8935-452a-a199-ffd114fc8d3f",
   "metadata": {
    "tags": []
   },
   "source": [
    "#### Square - low, medium, high NDVI"
   ]
  },
  {
   "cell_type": "code",
   "execution_count": null,
   "id": "6dc6674f-d2a8-4678-90e9-cefd8441d9ce",
   "metadata": {},
   "outputs": [],
   "source": [
    "candidates = candidate_squares.copy()"
   ]
  },
  {
   "cell_type": "code",
   "execution_count": null,
   "id": "9dd86ea4-ab42-4291-a09d-b9557b71aedd",
   "metadata": {},
   "outputs": [],
   "source": [
    "# set ndvi quantiles\n",
    "ndvi_quantiles = candidates['ndvi_mean'].quantile([0, 0.25, 0.50, 0.75, 1])\n",
    "\n",
    "candidates.loc[candidates.ndvi_mean<ndvi_quantiles[0.25], 'ndvi_quantile'] = 'lower'\n",
    "candidates.loc[\n",
    "    (candidates.ndvi_mean>=ndvi_quantiles[0.25]) &\n",
    "    (candidates.ndvi_mean<ndvi_quantiles[0.5]), 'ndvi_quantile'] = 'second'\n",
    "candidates.loc[\n",
    "    (candidates.ndvi_mean>=ndvi_quantiles[0.5]) &\n",
    "    (candidates.ndvi_mean<ndvi_quantiles[0.75]), 'ndvi_quantile'] = 'third'\n",
    "candidates.loc[candidates.ndvi_mean>=ndvi_quantiles[0.75], 'ndvi_quantile'] = 'upper'"
   ]
  },
  {
   "cell_type": "code",
   "execution_count": null,
   "id": "5e60a713-5e32-437a-8a9e-e6599cd09860",
   "metadata": {
    "tags": []
   },
   "outputs": [],
   "source": [
    "# sample places\n",
    "print_iframes = False\n",
    "sampled = pd.concat([\n",
    "    take_sample(candidates, 'lower', n_sample, print_iframes), \n",
    "    take_sample(candidates, 'second', n_sample, print_iframes), \n",
    "    take_sample(candidates, 'third', n_sample, print_iframes), \n",
    "    take_sample(candidates, 'upper', n_sample, print_iframes)])\n",
    "\n",
    "# omit sampled places from remaining candidates\n",
    "candidates = pd.concat([candidates, sampled]).drop_duplicates(subset=['gsv_pano_id'], keep=False)"
   ]
  },
  {
   "cell_type": "code",
   "execution_count": null,
   "id": "0af66791-4714-492e-8d75-fdc50bda6b55",
   "metadata": {
    "tags": []
   },
   "outputs": [],
   "source": [
    "# after manual check, we exclude the following panoramas\n",
    "if place_name == 'Barcelona':\n",
    "    pano_ids_to_exclude = [\n",
    "        'CAoSLEFGMVFpcE4yUjhST2xhQ3RUNVU3ci1Ea05XeTFLdnpMWFM5YWFCM2wyZHMy',\n",
    "        'CAoSLEFGMVFpcE0wdU9ZRXBVZFhzSnAybWZpOHM4a2pKMmliZmdJVUdUT21hdzhv',\n",
    "        'CAoSLEFGMVFpcE5ZYW83bXNmQ1hyem5aLWozdjJKVlR1dmVzWDcxUlNFWjN0TjBG',\n",
    "        'CAoSLEFGMVFpcFB3WE1IdzYtekpRMkF5UUdNMVFrNEhON3paTDkxdXgtTWt3allr',\n",
    "        'CAoSLEFGMVFpcFBWbkFnTXhjY1JtOUI5X09pNHhSbktsU0VCQkZiQnE2bnZfVUJW',\n",
    "        'tAhWS_V4o4BqZB_N6s3bJg',\n",
    "        'ghkll_liR1S2eh5rBhhPXg',\n",
    "        'CAoSLEFGMVFpcE9CWExaQlp1b1F5ZnBUd0xRRkhZSVhFdl9sSnlTdndMaGRQZVI1']\n",
    "    \n",
    "elif place_name == 'Goteborg':\n",
    "    pano_ids_to_exclude = [\n",
    "        'CAoSLEFGMVFpcE9yTVZFdDhiNjRPZi1pYXVIVUxBcXpqeW8ycVRYd2VsSk5TTkp1',\n",
    "        'CAoSLEFGMVFpcE5ZcGtGNnJ5NEFXMnpXOFg2dDhSSmUyWVd6Q3FXUXV2ZlkxRFB5',\n",
    "        'CAoSLEFGMVFpcFBSem5zTDRwVkY2ZDd3NEFfQjhSZVhtdF9ZSnZQSEt5eC1XeHN5',\n",
    "        'QiWXjBR7HE4vK6-lt5dlMw',\n",
    "        'WyxryYTz8hSOkq0sp-UqZQ']\n",
    "\n",
    "elif place_name == 'Rotterdam':\n",
    "    pano_ids_to_exclude = [\n",
    "        '29edRoSEI7Yd7Zepsw6WNg',\n",
    "        'yKmkmDdvzAgYpzot-7qKKg',\n",
    "        'CAoSLEFGMVFpcFBmSmFJTG5tc01UNDFqczBjRGlIZEkxdVk0eXNCcHB5MW9ldmFu',\n",
    "        '4JsrjAWYZ9h1osgZWRaF5A',\n",
    "        'CAoSLEFGMVFpcE16UlNHeU1jcENycVdXRUFkUko2NEVWVmo4dEw0aERzYUFTbFRz']\n",
    "    \n",
    "print_iframes = False\n",
    "sampled, candidates = exclude_and_replace(sampled, pano_ids_to_exclude, candidates, print_iframes)"
   ]
  },
  {
   "cell_type": "code",
   "execution_count": null,
   "id": "ce713bec-de22-4ded-8a5f-f93e5f48b686",
   "metadata": {
    "tags": []
   },
   "outputs": [],
   "source": [
    "# after a second manual check, we exclude the following panoramas\n",
    "if place_name == 'Barcelona':\n",
    "    pano_ids_to_exclude = []\n",
    "    \n",
    "elif place_name == 'Goteborg':\n",
    "    pano_ids_to_exclude = [\n",
    "        'CAoSLEFGMVFpcE4ySHFkaDF2YXJWdUF1UHhXNGJsbjA2NUNLTWJUbmZibndPTEFq']\n",
    "\n",
    "elif place_name == 'Rotterdam':\n",
    "    pano_ids_to_exclude = [\n",
    "        'CAoSLEFGMVFpcE1oT1Z4c0xtekpxbDdmRjNINmZVSjNEZmhtR0tqODJHQTJWeDY1',\n",
    "        'CAoSLEFGMVFpcE9yX1Jvb2lHV3Z6ZHRPdVBBVzhyb0o2STYzSll3QWpjSUNidkVN']\n",
    "    \n",
    "print_iframes = False\n",
    "sampled, candidates = exclude_and_replace(sampled, pano_ids_to_exclude, candidates, print_iframes)"
   ]
  },
  {
   "cell_type": "code",
   "execution_count": null,
   "id": "f1ad9dfe-7ad1-4d93-ab41-fde98c59b07e",
   "metadata": {},
   "outputs": [],
   "source": [
    "# after the final co-author check, we exclude the following panoramas\n",
    "# after manual check, we exclude the following panoramas\n",
    "if place_name == 'Barcelona':\n",
    "    pano_ids_to_exclude = [\n",
    "        'CAoSLEFGMVFpcE44XzQtVEhNZXotQ1RTT1lwWXBnNGhQam14Z1lsbm1FbHZsUzhr',\n",
    "        'RX-Be6Eq1Uey5-kQ3MyiXw',\n",
    "        'fl4WqvAjRgOXUHJg-_PXCA',\n",
    "        'CAoSLEFGMVFpcE1Wa0d2Q1Q3N3RGaXctM3BYams2WGstNHZyUFZRQkRmTlZzYTBX']\n",
    "    \n",
    "elif place_name == 'Goteborg':\n",
    "    pano_ids_to_exclude = [\n",
    "        '5tZZ3XtmGcbK9gQQ3dxUTg',\n",
    "        'veiSAJpwAW_IeOI3bzkEdQ',\n",
    "        '6KGst5UHyYhIJiCKSPqedg']\n",
    "\n",
    "elif place_name == 'Rotterdam':\n",
    "    pano_ids_to_exclude = []\n",
    "    \n",
    "print_iframes = False\n",
    "sampled, candidates = exclude_and_replace(sampled, pano_ids_to_exclude, candidates, print_iframes)"
   ]
  },
  {
   "cell_type": "code",
   "execution_count": null,
   "id": "7f78bef2-4738-40a5-8211-16e0ffd128d1",
   "metadata": {},
   "outputs": [],
   "source": [
    "# after the second final co-author check, we exclude the following panoramas\n",
    "# after manual check, we exclude the following panoramas\n",
    "if place_name == 'Barcelona':\n",
    "    pano_ids_to_exclude = [\n",
    "        'M7GXUvAVpKJt4V7KsEqZwg',\n",
    "        'CgHLA8y-pzPVgeguraGX4g']\n",
    "    \n",
    "elif place_name == 'Goteborg':\n",
    "    pano_ids_to_exclude = ['Xuo-8CxiNo8mhcD6dZk-oA']\n",
    "\n",
    "elif place_name == 'Rotterdam':\n",
    "    pano_ids_to_exclude = []\n",
    "    \n",
    "print_iframes = False\n",
    "sampled, candidates = exclude_and_replace(sampled, pano_ids_to_exclude, candidates, print_iframes)"
   ]
  },
  {
   "cell_type": "code",
   "execution_count": null,
   "id": "2be5665c-976c-4959-ab87-84d8e8d1618e",
   "metadata": {
    "tags": []
   },
   "outputs": [],
   "source": [
    "print_iframes = False\n",
    "if print_iframes:\n",
    "    for i in sampled.index:\n",
    "        print(sampled.category[i], sampled.ndvi_quantile[i], i, sampled.gsv_pano_id[i])\n",
    "        print(sampled.gsv_iframe_html[i])"
   ]
  },
  {
   "cell_type": "code",
   "execution_count": null,
   "id": "27463635-a107-4039-8f3f-37eeb16099e3",
   "metadata": {},
   "outputs": [],
   "source": [
    "sampled_squares = sampled.copy()"
   ]
  },
  {
   "cell_type": "code",
   "execution_count": null,
   "id": "72d3ac0b-561d-4b73-ad8b-1b50a0ae715a",
   "metadata": {},
   "outputs": [],
   "source": [
    "candidate_squares = candidates.copy()"
   ]
  },
  {
   "cell_type": "markdown",
   "id": "b72baddc-92a6-4329-976d-72f42a44c2a4",
   "metadata": {
    "tags": []
   },
   "source": [
    "#### Play & recreation - low, medium, high NDVI"
   ]
  },
  {
   "cell_type": "code",
   "execution_count": null,
   "id": "005f1f8e-d61b-49b9-a241-d175c8a96b2a",
   "metadata": {},
   "outputs": [],
   "source": [
    "candidates = candidate_playspaces.copy()"
   ]
  },
  {
   "cell_type": "code",
   "execution_count": null,
   "id": "1dcf6514-43bb-4a08-b8df-aef184b86c86",
   "metadata": {},
   "outputs": [],
   "source": [
    "# set ndvi quantiles\n",
    "ndvi_quantiles = candidates['ndvi_mean'].quantile([0, 0.25, 0.50, 0.75, 1])\n",
    "\n",
    "candidates.loc[candidates.ndvi_mean<ndvi_quantiles[0.25], 'ndvi_quantile'] = 'lower'\n",
    "candidates.loc[\n",
    "    (candidates.ndvi_mean>=ndvi_quantiles[0.25]) &\n",
    "    (candidates.ndvi_mean<ndvi_quantiles[0.5]), 'ndvi_quantile'] = 'second'\n",
    "candidates.loc[\n",
    "    (candidates.ndvi_mean>=ndvi_quantiles[0.5]) &\n",
    "    (candidates.ndvi_mean<ndvi_quantiles[0.75]), 'ndvi_quantile'] = 'third'\n",
    "candidates.loc[candidates.ndvi_mean>=ndvi_quantiles[0.75], 'ndvi_quantile'] = 'upper'"
   ]
  },
  {
   "cell_type": "code",
   "execution_count": null,
   "id": "fe9db4fc-5b0f-46be-8443-1726583c6aa0",
   "metadata": {
    "tags": []
   },
   "outputs": [],
   "source": [
    "# sample places\n",
    "print_iframes = False\n",
    "sampled = pd.concat([\n",
    "    take_sample(candidates, 'lower', n_sample, print_iframes), \n",
    "    take_sample(candidates, 'second', n_sample, print_iframes), \n",
    "    take_sample(candidates, 'third', n_sample, print_iframes), \n",
    "    take_sample(candidates, 'upper', n_sample, print_iframes)])\n",
    "\n",
    "# omit sampled places from remaining candidates\n",
    "candidates = pd.concat([candidates, sampled]).drop_duplicates(subset=['gsv_pano_id'], keep=False)"
   ]
  },
  {
   "cell_type": "code",
   "execution_count": null,
   "id": "2aaa32b2-dd35-4f6f-95ce-8c0d6f493ce0",
   "metadata": {
    "tags": []
   },
   "outputs": [],
   "source": [
    "# after manual check, we exclude the following panoramas\n",
    "if place_name == 'Barcelona':\n",
    "    pano_ids_to_exclude = [\n",
    "        'Z7YDsTPJJzQzTPb1nnzcmg',\n",
    "        'CAoSLEFGMVFpcE9oS2o1Qm5TS2ZaRUlQbkJUd0FQWjJLTlRxWnRXYVVMN3R0bmxF',\n",
    "        'sEc6G6maK-0eG4FVP4-lIA',\n",
    "        'GrGx_fucjKKakpRDHI2Zhg',\n",
    "        '3bmGneH2JRUNtk2LquCXkg',\n",
    "        'CAoSLEFGMVFpcE5nS25fRWIxaEg0YmtrLWFOZEFHMzJTT1NKbFRXZnBFMkw1Sncy',\n",
    "        'CAoSLEFGMVFpcE5maEVnYUZ0NFpJUl9FWFFYcFE0Rk5qMnBnRUNrMnctdTB4dkFn',\n",
    "        'CAoSLEFGMVFpcE5wdW00WENBc2UtVDI3WmhUbDBtdTBJb0lDeGI1ZUptQXh6T212',\n",
    "        'cZPvG2pvDiLJTPgvIqTBUw',\n",
    "        'CAoSLEFGMVFpcE8yQWg2MzRBaWhjdk1OWnd1Wmc4ajZMN0thWUJNenpjd2ZrMDZm']\n",
    "    \n",
    "elif place_name == 'Goteborg':\n",
    "    pano_ids_to_exclude = [\n",
    "        'V2Mb2WDWl2x6rHHbokBJcQ',\n",
    "        'bsaw5di6TZ-snYPBmAyoJg',\n",
    "        'NVcBa4xkt7coQCKkvrYYLQ',\n",
    "        'k-g-d7zif_p4mVo0Ur4FRA',\n",
    "        '1chx4hDNz51MCbB5f57Yvg',\n",
    "        'Lm88EYF11DuXTS-Yk0hwfg',\n",
    "        'zTvjltgIl3jWJ6Shbf3j-Q']\n",
    "\n",
    "elif place_name == 'Rotterdam':\n",
    "    pano_ids_to_exclude = [\n",
    "        'hyNh2B3bzI2IrcxWSBKnyQ',\n",
    "        'BOAbdVrixcaNKp9BE2dXEQ',\n",
    "        '2KSxuNpbbbiLL_J6xTBn9A',\n",
    "        's5xFkvsTle5O1fN7_8S5vA']\n",
    "    \n",
    "print_iframes = False\n",
    "sampled, candidates = exclude_and_replace(sampled, pano_ids_to_exclude, candidates, print_iframes)"
   ]
  },
  {
   "cell_type": "code",
   "execution_count": null,
   "id": "e72e440b-92aa-45d3-85de-19d04850a8b7",
   "metadata": {
    "tags": []
   },
   "outputs": [],
   "source": [
    "# after a second manual check, we exclude the following panoramas\n",
    "if place_name == 'Barcelona':\n",
    "    pano_ids_to_exclude = []\n",
    "    \n",
    "elif place_name == 'Goteborg':\n",
    "    pano_ids_to_exclude = [\n",
    "        'CBXlXxsNmGz_cKhcIdQ9YA']\n",
    "\n",
    "elif place_name == 'Rotterdam':\n",
    "    pano_ids_to_exclude = []\n",
    "    \n",
    "print_iframes = False\n",
    "sampled, candidates = exclude_and_replace(sampled, pano_ids_to_exclude, candidates, print_iframes)"
   ]
  },
  {
   "cell_type": "code",
   "execution_count": null,
   "id": "5a80c2d7-a383-44fd-80f3-e4f1b8b44c2d",
   "metadata": {},
   "outputs": [],
   "source": [
    "# after a third manual check, we exclude the following panoramas\n",
    "if place_name == 'Barcelona':\n",
    "    pano_ids_to_exclude = []\n",
    "    \n",
    "elif place_name == 'Goteborg':\n",
    "    pano_ids_to_exclude = [\n",
    "        'aJhOYNJg85uiVcNQR8_R6g']\n",
    "\n",
    "elif place_name == 'Rotterdam':\n",
    "    pano_ids_to_exclude = []\n",
    "    \n",
    "print_iframes = False\n",
    "sampled, candidates = exclude_and_replace(sampled, pano_ids_to_exclude, candidates, print_iframes)"
   ]
  },
  {
   "cell_type": "code",
   "execution_count": null,
   "id": "e38bccb4-61e6-4802-8216-68c22f6b91b5",
   "metadata": {},
   "outputs": [],
   "source": [
    "# after the final co-author check, we exclude the following panoramas\n",
    "# after manual check, we exclude the following panoramas\n",
    "if place_name == 'Barcelona':\n",
    "    pano_ids_to_exclude = []\n",
    "    \n",
    "elif place_name == 'Goteborg':\n",
    "    pano_ids_to_exclude = [\n",
    "        '1M7w2rf6ZPRU8tkVy8rALQ',\n",
    "        'nAzwYb-UmjKyXGSdJMAsdA',\n",
    "        'LKhdmX5efGehsNCoye6wYA']\n",
    "\n",
    "elif place_name == 'Rotterdam':\n",
    "    pano_ids_to_exclude = [\n",
    "        'gMfk5ce6uVjwBzT_EVvklQ',\n",
    "        'sySrWw5ZLESc6U1lE6GvVw']\n",
    "    \n",
    "print_iframes = False\n",
    "sampled, candidates = exclude_and_replace(sampled, pano_ids_to_exclude, candidates, print_iframes)"
   ]
  },
  {
   "cell_type": "code",
   "execution_count": null,
   "id": "a98f2031-d590-4b7e-885c-b753b90bca74",
   "metadata": {},
   "outputs": [],
   "source": [
    "# after the second final co-author check, we exclude the following panoramas\n",
    "# after manual check, we exclude the following panoramas\n",
    "if place_name == 'Barcelona':\n",
    "    pano_ids_to_exclude = []\n",
    "    \n",
    "elif place_name == 'Goteborg':\n",
    "    pano_ids_to_exclude = ['tJlTnZ0mTLfOAUvX9SFWEg']\n",
    "\n",
    "elif place_name == 'Rotterdam':\n",
    "    pano_ids_to_exclude = ['Ci6Igygu5a-k9cqU5NbS8g']\n",
    "    \n",
    "print_iframes = False\n",
    "sampled, candidates = exclude_and_replace(sampled, pano_ids_to_exclude, candidates, print_iframes)"
   ]
  },
  {
   "cell_type": "markdown",
   "id": "947da8c3-8424-4fc9-98a2-4357746e5724",
   "metadata": {},
   "source": [
    "#### manually add alternatives for excluded images"
   ]
  },
  {
   "cell_type": "code",
   "execution_count": null,
   "id": "b0831059-659e-45cb-8261-e25ebc7f331d",
   "metadata": {},
   "outputs": [],
   "source": [
    "if place_name == 'Barcelona':\n",
    "    \n",
    "    alternative_candidates = alternative_playspaces[alternative_playspaces.ndvi_mean!='nan'].copy()\n",
    "    alternative_candidates['ndvi_mean'] = alternative_candidates['ndvi_mean'].astype(float)"
   ]
  },
  {
   "cell_type": "code",
   "execution_count": null,
   "id": "0948d404-ed68-4684-8796-263a4db6c01f",
   "metadata": {},
   "outputs": [],
   "source": [
    "if place_name == 'Barcelona':\n",
    "    \n",
    "    # assign ndvi quantile group based on the original candidates\n",
    "    alternative_candidates.loc[alternative_candidates.ndvi_mean<ndvi_quantiles[0.25], 'ndvi_quantile'] = 'lower'\n",
    "    alternative_candidates.loc[\n",
    "        (alternative_candidates.ndvi_mean>=ndvi_quantiles[0.25]) &\n",
    "        (alternative_candidates.ndvi_mean<ndvi_quantiles[0.5]), 'ndvi_quantile'] = 'second'\n",
    "    alternative_candidates.loc[\n",
    "        (alternative_candidates.ndvi_mean>=ndvi_quantiles[0.5]) &\n",
    "        (alternative_candidates.ndvi_mean<ndvi_quantiles[0.75]), 'ndvi_quantile'] = 'third'\n",
    "    alternative_candidates.loc[alternative_candidates.ndvi_mean>=ndvi_quantiles[0.75], 'ndvi_quantile'] = 'upper'"
   ]
  },
  {
   "cell_type": "code",
   "execution_count": null,
   "id": "4b7eee80-0652-49b6-958a-226e44cc0c1b",
   "metadata": {},
   "outputs": [],
   "source": [
    "# For Barcelona, our sample does not include enough spaces. \n",
    "# we manually add alternative for excluded playspace panoramas\n",
    "# for two places that didn't pass our manual check, alternative GSV is available\n",
    "\n",
    "if place_name == 'Barcelona':\n",
    "    \n",
    "    manual_1 = alternative_candidates[alternative_candidates.gsv_pano_id=='Z7YDsTPJJzQzTPb1nnzcmg'].copy()\n",
    "    manual_1['gsv_year'], manual_1['gsv_month'], manual_1['gsv_pano_id'], manual_1['gsv_lat'], manual_1['gsv_lng'] = [\n",
    "        '2020', '06', '1sCAoSLEFGMVFpcE4tUUNOZUtJTzJRSWllMDJJdi1Nakt5TFBjdWN5czZYREZVbW9i', '41.4122036', '2.1950182']\n",
    "    \n",
    "    manual_2 = alternative_candidates[alternative_candidates.gsv_pano_id=='CAoSLEFGMVFpcE5nS25fRWIxaEg0YmtrLWFOZEFHMzJTT1NKbFRXZnBFMkw1Sncy'].copy()\n",
    "    manual_2['gsv_year'], manual_2['gsv_month'], manual_2['gsv_pano_id'], manual_2['gsv_lat'], manual_2['gsv_lng'] = [\n",
    "        '2019', '06', '1suaabd4ZDju63-8QPbRiFTg', '41.37932026998091', '2.191328257807365']\n",
    "    \n",
    "    manual_1to2 = pd.concat([manual_1, manual_2])\n",
    "    manual_1to2['gsv_iframe_html'] = manual_1to2.apply(lambda row: compose_iframe_string(row), axis=1, result_type=\"expand\")\n",
    "    \n",
    "    sampled = pd.concat([sampled, manual_1to2])"
   ]
  },
  {
   "cell_type": "code",
   "execution_count": null,
   "id": "595555a8-134c-488b-9356-516646b22ced",
   "metadata": {},
   "outputs": [],
   "source": [
    "if place_name == 'Barcelona':\n",
    "    \n",
    "    print('play/recreation grounds, sampled places:\\n{} low + {} second + {} third + {} upper quantile ndvi\\nTOTAL:{}'.format(\n",
    "        len(sampled[(sampled.category=='playspace') & (sampled.ndvi_quantile=='lower')]),\n",
    "        len(sampled[(sampled.category=='playspace') & (sampled.ndvi_quantile=='second')]),\n",
    "        len(sampled[(sampled.category=='playspace') & (sampled.ndvi_quantile=='third')]),\n",
    "        len(sampled[(sampled.category=='playspace') & (sampled.ndvi_quantile=='upper')]),\n",
    "        len(sampled)))"
   ]
  },
  {
   "cell_type": "markdown",
   "id": "834ce9ec-a52e-49ed-8f62-cfd13e874eee",
   "metadata": {},
   "source": [
    "#### manually add other alternatives for excluded images"
   ]
  },
  {
   "cell_type": "code",
   "execution_count": null,
   "id": "4ce97f96-6601-4c6c-a766-c77041532eaa",
   "metadata": {},
   "outputs": [],
   "source": [
    "def points_in_polygon(polygon, n):\n",
    "    # generate n random points withn the polygon\n",
    "    points = []\n",
    "    min_x, min_y, max_x, max_y = polygon.bounds\n",
    "    i = 0\n",
    "    while i < n:\n",
    "        point = Point(random.uniform(min_x, max_x), random.uniform(min_y, max_y))\n",
    "        if polygon.contains(point):\n",
    "            points.append(point)\n",
    "            i += 1\n",
    "    return points"
   ]
  },
  {
   "cell_type": "code",
   "execution_count": null,
   "id": "a1593f38-efe0-413d-a084-985dc9a32803",
   "metadata": {},
   "outputs": [],
   "source": [
    "def obtain_metadata(location, radius):    \n",
    "    meta_params = {\n",
    "        'key': api_key,\n",
    "        'location': location,\n",
    "        'radius': radius}\n",
    "    \n",
    "    # obtain the metadata of the request (this is free)\n",
    "    meta_response = requests.get(meta_base, params=meta_params)\n",
    "    return meta_response.json()"
   ]
  },
  {
   "cell_type": "code",
   "execution_count": null,
   "id": "94417019-571f-45e0-b452-4ff2335e595b",
   "metadata": {},
   "outputs": [],
   "source": [
    "def get_gsv_availability(row, radius, n):\n",
    "    \n",
    "    status = False\n",
    "    year = None\n",
    "    month = None\n",
    "    suitability = False\n",
    "    pano_id = False\n",
    "    lat = False\n",
    "    lng = False\n",
    "    \n",
    "    points = points_in_polygon(row.geometry, n)\n",
    "    \n",
    "    for point in points:\n",
    "        location = '{},{}'.format(point.y, point.x)\n",
    "    \n",
    "        meta = obtain_metadata(location, radius)\n",
    "\n",
    "        # check status\n",
    "        if meta['status'] == 'OK':\n",
    "            status = True\n",
    "\n",
    "            # find date and year\n",
    "            if 'date' in meta:\n",
    "                date = meta['date'].split('-')\n",
    "                year = date[0]\n",
    "                if len(date) > 1:\n",
    "                    month = date[1]\n",
    "\n",
    "                    # just store all this time    \n",
    "                    pano_id = meta['pano_id']\n",
    "                    lat = meta['location']['lat']\n",
    "                    lng = meta['location']['lng']\n",
    "                        \n",
    "        if suitability:\n",
    "            break\n",
    "    \n",
    "    return suitability, status, year, month, pano_id, lat, lng"
   ]
  },
  {
   "cell_type": "code",
   "execution_count": null,
   "id": "99ff188a-4b7f-475b-b863-ce8d2dae376c",
   "metadata": {},
   "outputs": [],
   "source": [
    "if place_name == 'Barcelona':\n",
    "    gsv_cols = ['gsv_suitability', 'gsv_status', 'gsv_year', 'gsv_month', 'gsv_pano_id', 'gsv_lat', 'gsv_lng']\n",
    "    \n",
    "    # GSV radius 50m default, we go with less, e.g., 15, 29 or 43\n",
    "    gsv_radius = 15\n",
    "    # look for GSV imagery around n sample points within each place\n",
    "    n = 10"
   ]
  },
  {
   "cell_type": "code",
   "execution_count": null,
   "id": "564f7ddb-a3c2-4599-a97c-d3ce48529d47",
   "metadata": {},
   "outputs": [],
   "source": [
    "if place_name == 'Barcelona':\n",
    "        \n",
    "    print('play/recreation grounds, sampled places:\\n{} low + {} second + {} third + {} upper quantile ndvi\\nTOTAL:{}'.format(\n",
    "        len(sampled[(sampled.category=='playspace') & (sampled.ndvi_quantile=='lower')]),\n",
    "        len(sampled[(sampled.category=='playspace') & (sampled.ndvi_quantile=='second')]),\n",
    "        len(sampled[(sampled.category=='playspace') & (sampled.ndvi_quantile=='third')]),\n",
    "        len(sampled[(sampled.category=='playspace') & (sampled.ndvi_quantile=='upper')]),\n",
    "        len(sampled)))"
   ]
  },
  {
   "cell_type": "code",
   "execution_count": null,
   "id": "64cefe61-4f88-44e8-9da6-cee9f18ff369",
   "metadata": {},
   "outputs": [],
   "source": [
    "# For Barcelona, our sample does not include enough spaces. \n",
    "# we manually add alternative for excluded playspace panoramas\n",
    "# we need to find GSV panoramas for 14 more playspaces\n",
    "# we go through the list of playspaces with imagery from winter season 2022\n",
    "\n",
    "if place_name == 'Barcelona':\n",
    "    \n",
    "    alternative_candidates = alternative_candidates[alternative_candidates.gsv_suitability=='False']\n",
    "    alternative_candidates = alternative_candidates[(alternative_candidates.gsv_year=='2021') | (alternative_candidates.gsv_year=='2022')]\n",
    "\n",
    "    # randomize order\n",
    "    alternative_candidates = alternative_candidates.sample(frac=1, random_state=random_state)\n",
    "    \n",
    "    # add their gsv metadata and iframes\n",
    "    alternative_candidates[gsv_cols] = alternative_candidates.to_crs(gsv_crs).apply(lambda row: get_gsv_availability(row, gsv_radius, n), axis=1, result_type=\"expand\")\n",
    "    alternative_candidates['gsv_iframe_html'] = alternative_candidates.apply(lambda row: compose_iframe_string(row), axis=1, result_type=\"expand\")"
   ]
  },
  {
   "cell_type": "code",
   "execution_count": null,
   "id": "9089beef-2414-4b67-80af-6d59e02c23aa",
   "metadata": {},
   "outputs": [],
   "source": [
    "# and check one by one if alternative GSV from earlier year summer season is available\n",
    "\n",
    "if place_name == 'Barcelona':\n",
    "    \n",
    "    # we need THREE more for the LOWER ndvi quantile\n",
    "    alternative_candidates_lower = alternative_candidates[alternative_candidates.ndvi_quantile=='lower']\n",
    "    print(alternative_candidates_lower.index)\n",
    "    \n",
    "    # index 40 -> success\n",
    "    lower_1 = alternative_candidates_lower[alternative_candidates_lower.index==40].copy()\n",
    "    lower_1['gsv_year'], lower_1['gsv_month'], lower_1['gsv_pano_id'], lower_1['gsv_lat'], lower_1['gsv_lng'] = [\n",
    "        '2021', '07', '1sEoaS1PBxkSQWW-jF9Noyug', '41.40317637487394', '2.170437365902761']\n",
    "    # index 33 -> success\n",
    "    lower_2 = alternative_candidates_lower[alternative_candidates_lower.index==33].copy()\n",
    "    lower_2['gsv_year'], lower_2['gsv_month'], lower_2['gsv_pano_id'], lower_2['gsv_lat'], lower_2['gsv_lng'] = [\n",
    "        '2019', '05', '1squYpZ01-dcATT5xKJ6EO6g', '41.4142310498055', '2.105479602696434']\n",
    "    # index 53 -> no GSV found\n",
    "    # index 75 -> success\n",
    "    lower_3 = alternative_candidates_lower[alternative_candidates_lower.index==75].copy()\n",
    "    lower_3['gsv_year'], lower_3['gsv_month'], lower_3['gsv_pano_id'], lower_3['gsv_lat'], lower_3['gsv_lng'] = [\n",
    "        '2019', '06', '1s083YDKSCgNbG_WG8pwFZ5w', '41.41853160256081', '2.174154451476914']\n",
    "    # THREE ALTERNATIVE FOUND\n",
    "    \n",
    "    # generate new iframes correspondingly\n",
    "    manual_lower = pd.concat([lower_1, lower_2, lower_3])\n",
    "    manual_lower['gsv_iframe_html'] = manual_lower.apply(lambda row: compose_iframe_string(row), axis=1, result_type=\"expand\")\n",
    "    \n",
    "    sampled = pd.concat([sampled, manual_lower])"
   ]
  },
  {
   "cell_type": "code",
   "execution_count": null,
   "id": "19590dd1-224e-4bd9-bdbb-064c466d1c96",
   "metadata": {},
   "outputs": [],
   "source": [
    "# and check one by one if alternative GSV from earlier year summer season is available\n",
    "\n",
    "if place_name == 'Barcelona':\n",
    "    \n",
    "    # we need TWO more for the SECOND ndvi quantile\n",
    "    alternative_candidates_second = alternative_candidates[alternative_candidates.ndvi_quantile=='second']\n",
    "    print(alternative_candidates_second.index)\n",
    "    # index 62 -> major construction work\n",
    "    # index 65 -> obstructed, wall\n",
    "    # index 87 -> success\n",
    "    second_1 = alternative_candidates_second[alternative_candidates_second.index==87].copy()\n",
    "    second_1['gsv_year'], second_1['gsv_month'], second_1['gsv_pano_id'], second_1['gsv_lat'], second_1['gsv_lng'] = [\n",
    "        '2018', '05', '1sw6yCwvSJLbaXMeoquzdbPg', '41.36145686202342', '2.134887110925353']\n",
    "    # index 70 -> no GSV found\n",
    "    # index 29 -> success\n",
    "    second_2 = alternative_candidates_second[alternative_candidates_second.index==29].copy()\n",
    "    second_2['gsv_year'], second_2['gsv_month'], second_2['gsv_pano_id'], second_2['gsv_lat'], second_2['gsv_lng'] = [\n",
    "        '2019', '08', '1sjscrWNNaZKnZ0p6E4wxyrQ', '41.41549059579653', '2.135170371713212']\n",
    "    # TWO ALTERNATIVE FOUND\n",
    "\n",
    "    # generate new iframes correspondingly\n",
    "    manual_second = pd.concat([second_1, second_2])\n",
    "    manual_second['gsv_iframe_html'] = manual_second.apply(lambda row: compose_iframe_string(row), axis=1, result_type=\"expand\")\n",
    "    \n",
    "    sampled = pd.concat([sampled, manual_second])"
   ]
  },
  {
   "cell_type": "code",
   "execution_count": null,
   "id": "78febb95-ce88-4b82-bd29-6b425e274ae7",
   "metadata": {
    "tags": []
   },
   "outputs": [],
   "source": [
    "# and check one by one if alternative GSV from earlier year summer season is available\n",
    "\n",
    "if place_name == 'Barcelona':\n",
    "    \n",
    "    # we need TWO more for the THIRD ndvi quantile\n",
    "    alternative_candidates_third = alternative_candidates[alternative_candidates.ndvi_quantile=='third']\n",
    "    print(alternative_candidates_third.index)\n",
    "    # index 82 -> success\n",
    "    third_1 = alternative_candidates_third[alternative_candidates_third.index==82].copy()\n",
    "    third_1['gsv_year'], third_1['gsv_month'], third_1['gsv_pano_id'], third_1['gsv_lat'], third_1['gsv_lng'] = [\n",
    "        '2019', '05', '1sqcYSoxGnrlGxjCHPCCqY_g', '41.44482927642666', '2.178932791211979']\n",
    "    # index 34 -> obstructed, wall\n",
    "    # index 93 -> success\n",
    "    third_2 = alternative_candidates_third[alternative_candidates_third.index==93].copy()\n",
    "    third_2['gsv_year'], third_2['gsv_month'], third_2['gsv_pano_id'], third_2['gsv_lat'], third_2['gsv_lng'] = [\n",
    "        '2019', '06', '1sZXmDjFlE2OEY5mAbxXijyA', '41.41490898416049', '2.202985605009758']    \n",
    "    # TWO ALTERNATIVE FOUND\n",
    "\n",
    "    # generate new iframes correspondingly\n",
    "    manual_third = pd.concat([third_1, third_2])\n",
    "    manual_third['gsv_iframe_html'] = manual_third.apply(lambda row: compose_iframe_string(row), axis=1, result_type=\"expand\")\n",
    "    \n",
    "    sampled = pd.concat([sampled, manual_third])"
   ]
  },
  {
   "cell_type": "code",
   "execution_count": null,
   "id": "0a0c8d64-742d-4f49-8b72-0301783fac49",
   "metadata": {},
   "outputs": [],
   "source": [
    "# and check one by one if alternative GSV from earlier year summer season is available\n",
    "\n",
    "if place_name == 'Barcelona':\n",
    "    \n",
    "    # we need THREE more for the UPPER ndvi quantile\n",
    "    alternative_candidates_upper = alternative_candidates[alternative_candidates.ndvi_quantile=='upper']\n",
    "    print(alternative_candidates_upper.index)\n",
    "    # index 74 -> success\n",
    "    upper_1 = alternative_candidates_upper[alternative_candidates_upper.index==74].copy()\n",
    "    upper_1['gsv_year'], upper_1['gsv_month'], upper_1['gsv_pano_id'], upper_1['gsv_lat'], upper_1['gsv_lng'] = [\n",
    "        '2019', '05', '1sGwIFhZIEfrZEUGxMcU95rA', '41.4304813430121', '2.164266744491995'] \n",
    "    # index 48 -> obstructed, wall\n",
    "    # index 69 -> success\n",
    "    upper_2 = alternative_candidates_upper[alternative_candidates_upper.index==69].copy()\n",
    "    upper_2['gsv_year'], upper_2['gsv_month'], upper_2['gsv_pano_id'], upper_2['gsv_lat'], upper_2['gsv_lng'] = [\n",
    "        '2019', '05', '1s_ip2cXRhCjK8V_gSqh9ATg', '41.41488422719582', '2.21378095264952']\n",
    "    # index 51 -> success\n",
    "    upper_3 = alternative_candidates_upper[alternative_candidates_upper.index==51].copy()\n",
    "    upper_3['gsv_year'], upper_3['gsv_month'], upper_3['gsv_pano_id'], upper_3['gsv_lat'], upper_3['gsv_lng'] = [\n",
    "        '2019', '05', '1srNQe8lkn3Y3Kg1xeL7EVxw', '41.38495650485547', '2.102653666794794']\n",
    "    # THREE ALTERNATIVE FOUND\n",
    "\n",
    "    # generate new iframes correspondingly\n",
    "    manual_upper = pd.concat([upper_1, upper_2, upper_3])\n",
    "    manual_upper['gsv_iframe_html'] = manual_upper.apply(lambda row: compose_iframe_string(row), axis=1, result_type=\"expand\")\n",
    "    \n",
    "    sampled = pd.concat([sampled, manual_upper])"
   ]
  },
  {
   "cell_type": "code",
   "execution_count": null,
   "id": "ca7d56f4-4855-449d-9857-99aae478cbca",
   "metadata": {},
   "outputs": [],
   "source": [
    "if place_name == 'Barcelona':\n",
    "    \n",
    "    print('play/recreation grounds, sampled places:\\n{} low + {} second + {} third + {} upper quantile ndvi\\n'.format(\n",
    "        len(sampled[(sampled.category=='playspace') & (sampled.ndvi_quantile=='lower')]),\n",
    "        len(sampled[(sampled.category=='playspace') & (sampled.ndvi_quantile=='second')]),\n",
    "        len(sampled[(sampled.category=='playspace') & (sampled.ndvi_quantile=='third')]),\n",
    "        len(sampled[(sampled.category=='playspace') & (sampled.ndvi_quantile=='upper')])))"
   ]
  },
  {
   "cell_type": "code",
   "execution_count": null,
   "id": "f980963a-9c47-4ddb-b178-aa2d7483c165",
   "metadata": {
    "tags": []
   },
   "outputs": [],
   "source": [
    "print_iframes = False\n",
    "if print_iframes:\n",
    "    for i in sampled.index:\n",
    "        print(sampled.category[i], sampled.ndvi_quantile[i], i, sampled.gsv_pano_id[i])\n",
    "        print(sampled.gsv_iframe_html[i])"
   ]
  },
  {
   "cell_type": "code",
   "execution_count": null,
   "id": "5aa44be6-8bf3-4ceb-a4df-cb43d1fced0f",
   "metadata": {},
   "outputs": [],
   "source": [
    "sampled_playspaces = sampled.copy()"
   ]
  },
  {
   "cell_type": "markdown",
   "id": "b6aecd7a-5064-4df0-837c-04df1d6e544b",
   "metadata": {
    "tags": []
   },
   "source": [
    "#### Street - low, medium, high NDVI"
   ]
  },
  {
   "cell_type": "code",
   "execution_count": null,
   "id": "b23e0aa1-8efb-4f21-a0e5-4f0bbc9f954b",
   "metadata": {},
   "outputs": [],
   "source": [
    "candidates = candidate_streets.copy()"
   ]
  },
  {
   "cell_type": "code",
   "execution_count": null,
   "id": "cd30ee0e-d5c6-4245-81c0-b9643ca162a5",
   "metadata": {},
   "outputs": [],
   "source": [
    "# set ndvi quantiles\n",
    "ndvi_quantiles = candidates['ndvi_mean'].quantile([0, 0.25, 0.50, 0.75, 1])\n",
    "\n",
    "candidates.loc[candidates.ndvi_mean<ndvi_quantiles[0.25], 'ndvi_quantile'] = 'lower'\n",
    "candidates.loc[\n",
    "    (candidates.ndvi_mean>=ndvi_quantiles[0.25]) &\n",
    "    (candidates.ndvi_mean<ndvi_quantiles[0.5]), 'ndvi_quantile'] = 'second'\n",
    "candidates.loc[\n",
    "    (candidates.ndvi_mean>=ndvi_quantiles[0.5]) &\n",
    "    (candidates.ndvi_mean<ndvi_quantiles[0.75]), 'ndvi_quantile'] = 'third'\n",
    "candidates.loc[candidates.ndvi_mean>=ndvi_quantiles[0.75], 'ndvi_quantile'] = 'upper'"
   ]
  },
  {
   "cell_type": "code",
   "execution_count": null,
   "id": "0508abfb-e896-43b5-a0f9-702e3fbbe1f5",
   "metadata": {
    "tags": []
   },
   "outputs": [],
   "source": [
    "# sample places\n",
    "print_iframes = False\n",
    "sampled = pd.concat([\n",
    "    take_sample(candidates, 'lower', n_sample, print_iframes), \n",
    "    take_sample(candidates, 'second', n_sample, print_iframes), \n",
    "    take_sample(candidates, 'third', n_sample, print_iframes), \n",
    "    take_sample(candidates, 'upper', n_sample, print_iframes)])\n",
    "\n",
    "# omit sampled places from remaining candidates\n",
    "candidates = pd.concat([candidates, sampled]).drop_duplicates(subset=['gsv_pano_id'], keep=False)"
   ]
  },
  {
   "cell_type": "code",
   "execution_count": null,
   "id": "0146aa49-688d-4ff5-90ca-7c7efcd57ab0",
   "metadata": {
    "tags": []
   },
   "outputs": [],
   "source": [
    "# after manual check, we exclude the following panoramas\n",
    "if place_name == 'Barcelona':\n",
    "    pano_ids_to_exclude = [\n",
    "        'r5CU6FVQCAk7MWsoCxR79w',\n",
    "        'PlTz3UlqD2yjaFcxg4pn_w',\n",
    "        'pt2JtNOqNWcGPqt6-Zq9fQ',\n",
    "        'xIoUdbVCSwtHh0ilG5ZOkQ',\n",
    "        'CAoSLEFGMVFpcE84eENGWDZBWXhud0pyUHloZlBPUXAyTkdUcF9RcUt4T1QybWhH',\n",
    "        'hJqCu6adnCt48V8Ug7ueZw',\n",
    "        'CAoSLEFGMVFpcE5QSEZXYnFBSDZYRWJXRlZodklxelQ2UVRpUTlGcXg2cTJxdFRr']\n",
    "    \n",
    "elif place_name == 'Goteborg':\n",
    "    pano_ids_to_exclude = [\n",
    "        '5PCDWBtaiQorATgouKTUsg',\n",
    "        'H6ZlRfQFuSZ1DOzxlcglrQ',\n",
    "        '8iqwXyFukYwATzdqem0H8A',\n",
    "        'L-hsoR0HlMBiEuji3lWsqg',\n",
    "        'CAoSLEFGMVFpcE1KS3pmeHpMQmJtWGpKa2ZORkZjcG4ybUtLaHFfMzQtdXY1c2xH',\n",
    "        'pTsRsnXv4GD9z7oS1aO8yQ',\n",
    "        'CAoSLEFGMVFpcFBXRExqeDBCUlFlaEUwUmJIRUVxb3c0Mm9GVjdwa2RiZmZGME9W']\n",
    "\n",
    "elif place_name == 'Rotterdam':\n",
    "    pano_ids_to_exclude = [\n",
    "        'lIdRsIpDNnMOnEllA2Vaag']\n",
    "    \n",
    "print_iframes = False\n",
    "sampled, candidates = exclude_and_replace(sampled, pano_ids_to_exclude, candidates, print_iframes)"
   ]
  },
  {
   "cell_type": "code",
   "execution_count": null,
   "id": "2240f5e4-c871-4691-a2aa-3e1b67369342",
   "metadata": {
    "tags": []
   },
   "outputs": [],
   "source": [
    "# after a second manual check, we exclude the following panoramas\n",
    "if place_name == 'Barcelona':\n",
    "    pano_ids_to_exclude = [\n",
    "        'zYkvFyKoEVy2YXx0mDfbnA']\n",
    "    \n",
    "elif place_name == 'Goteborg':\n",
    "    pano_ids_to_exclude = [\n",
    "        'U6Ko9BSaPeTFtQimtX3SPA']\n",
    "\n",
    "elif place_name == 'Rotterdam':\n",
    "    pano_ids_to_exclude = []\n",
    "    \n",
    "print_iframes = False\n",
    "sampled, candidates = exclude_and_replace(sampled, pano_ids_to_exclude, candidates, print_iframes)"
   ]
  },
  {
   "cell_type": "code",
   "execution_count": null,
   "id": "4004090e-82b9-4432-9f63-603dce8e3761",
   "metadata": {},
   "outputs": [],
   "source": [
    "# after a third manual check, we exclude the following panoramas\n",
    "if place_name == 'Barcelona':\n",
    "    pano_ids_to_exclude = [\n",
    "        'YungAd1uF7VznCVySuU-lw']\n",
    "    \n",
    "elif place_name == 'Goteborg':\n",
    "    pano_ids_to_exclude = [\n",
    "        ]\n",
    "\n",
    "elif place_name == 'Rotterdam':\n",
    "    pano_ids_to_exclude = []\n",
    "    \n",
    "print_iframes = False\n",
    "sampled, candidates = exclude_and_replace(sampled, pano_ids_to_exclude, candidates, print_iframes)"
   ]
  },
  {
   "cell_type": "code",
   "execution_count": null,
   "id": "da5f57f0-fdff-4072-a554-111d53e9babd",
   "metadata": {
    "tags": []
   },
   "outputs": [],
   "source": [
    "print_iframes = False\n",
    "if print_iframes:\n",
    "    for i in sampled.index:\n",
    "        print(sampled.category[i], sampled.ndvi_quantile[i], i, sampled.gsv_pano_id[i])\n",
    "        print(sampled.gsv_iframe_html[i])"
   ]
  },
  {
   "cell_type": "code",
   "execution_count": null,
   "id": "9c2ba7f3-4734-4fe4-a78e-4d2aa7e4585b",
   "metadata": {},
   "outputs": [],
   "source": [
    "sampled_streets = sampled.copy()"
   ]
  },
  {
   "cell_type": "code",
   "execution_count": null,
   "id": "b2429ccd-baf1-4bd8-bb49-a0d125a52769",
   "metadata": {},
   "outputs": [],
   "source": [
    "candidate_streets = candidates.copy()"
   ]
  },
  {
   "cell_type": "markdown",
   "id": "6472dff3-05a3-4096-9afc-dff795f381ba",
   "metadata": {
    "tags": []
   },
   "source": [
    "#### Tunnels and highways, for reference"
   ]
  },
  {
   "cell_type": "code",
   "execution_count": null,
   "id": "4ee139da-803a-4183-bee6-a41dfda6c056",
   "metadata": {},
   "outputs": [],
   "source": [
    "if place_name == 'Rotterdam':\n",
    "    pano_ids_for_reference = [\n",
    "        '29edRoSEI7Yd7Zepsw6WNg',\n",
    "        'lQ4vNiyAUaBECFKuOO57WA',\n",
    "        'lIdRsIpDNnMOnEllA2Vaag']\n",
    "elif place_name == 'Goteborg':\n",
    "    pano_ids_for_reference = [\n",
    "        'oU6BbhSf9b6d6dLZ3-VquA',\n",
    "        'WyxryYTz8hSOkq0sp-UqZQ',\n",
    "        'Xuo-8CxiNo8mhcD6dZk-oA']\n",
    "\n",
    "elif place_name == 'Barcelona':\n",
    "    pano_ids_for_reference = [\n",
    "        'IBQwXcItjXij5rm3lrSkwQ',\n",
    "        'H4-QZDuDYPN8iKFWBB1DCA',\n",
    "        'tAhWS_V4o4BqZB_N6s3bJg']"
   ]
  },
  {
   "cell_type": "code",
   "execution_count": null,
   "id": "20da498f-f1df-4996-8a53-dbf196f1e1bb",
   "metadata": {},
   "outputs": [],
   "source": [
    "for_reference = candidate_all[candidate_all.gsv_pano_id.isin(pano_ids_for_reference)].copy()"
   ]
  },
  {
   "cell_type": "code",
   "execution_count": null,
   "id": "a572ed4b-fdce-4392-8fa8-88e95603da87",
   "metadata": {},
   "outputs": [],
   "source": [
    "for_reference['gsv_iframe_html'] = for_reference.apply(lambda row: compose_iframe_string(row), axis=1, result_type=\"expand\")"
   ]
  },
  {
   "cell_type": "code",
   "execution_count": null,
   "id": "8beae8ee-c60e-458d-aa04-7fe8c9d02074",
   "metadata": {},
   "outputs": [],
   "source": [
    "for_reference['category'] = 'for_reference'\n",
    "for_reference['ndvi_quantile'] = None"
   ]
  },
  {
   "cell_type": "code",
   "execution_count": null,
   "id": "b233d2c7-99d8-4eca-90b2-514cd0163e82",
   "metadata": {},
   "outputs": [],
   "source": [
    "print_iframes = False\n",
    "if print_iframes:\n",
    "    for i in for_reference.index:\n",
    "        print(for_reference.category[i], for_reference.ndvi_quantile[i], i, for_reference.gsv_pano_id[i])\n",
    "        print(for_reference.gsv_iframe_html[i])"
   ]
  },
  {
   "cell_type": "markdown",
   "id": "5aa392fd-b5c1-4a2d-a3b0-052cb2a17137",
   "metadata": {},
   "source": [
    "## Check for duplicates and overall count"
   ]
  },
  {
   "cell_type": "code",
   "execution_count": null,
   "id": "bea8726c-d2f3-4820-95bb-ff0857b99335",
   "metadata": {},
   "outputs": [],
   "source": [
    "sampled = pd.concat([\n",
    "    sampled_pocket_greenspaces,\n",
    "    sampled_regular_greenspaces,\n",
    "    sampled_squares,\n",
    "    sampled_playspaces,\n",
    "    sampled_streets,\n",
    "    for_reference\n",
    "])"
   ]
  },
  {
   "cell_type": "code",
   "execution_count": null,
   "id": "8c692df8-2b55-4248-b5a9-19c866a39067",
   "metadata": {},
   "outputs": [],
   "source": [
    "# print pano_ids that appear more than once\n",
    "appearing_once = []\n",
    "for pano_id in sampled.gsv_pano_id:\n",
    "    if pano_id not in appearing_once:\n",
    "        appearing_once.append(pano_id)\n",
    "    else:\n",
    "        print(pano_id)"
   ]
  },
  {
   "cell_type": "code",
   "execution_count": null,
   "id": "3f02334b-ebcf-422b-b479-78e4f189db19",
   "metadata": {
    "tags": []
   },
   "outputs": [],
   "source": [
    "if place_name == 'Barcelona':\n",
    "    # no duplicates in Rotterdam and Goteborg\n",
    "    \n",
    "    # for Barcelona pano_id CAoSLEFGMVFpcE0zQXNHZ3FDdy1DWnNXWi1LTFlWWlBvRnhPU3VwblJ4VkNQOW82 appears three times\n",
    "    # replace two and keep one\n",
    "    # see sampled[sampled.gsv_pano_id=='CAoSLEFGMVFpcE0zQXNHZ3FDdy1DWnNXWi1LTFlWWlBvRnhPU3VwblJ4VkNQOW82']\n",
    "    print_iframes = False\n",
    "    # 1: regular_greenspace\n",
    "    sampled_regular_greenspaces, candidates = exclude_and_replace(\n",
    "        sampled_regular_greenspaces, ['CAoSLEFGMVFpcE0zQXNHZ3FDdy1DWnNXWi1LTFlWWlBvRnhPU3VwblJ4VkNQOW82'], candidate_regular_greenspaces, print_iframes=print_iframes)\n",
    "    # 2: square\n",
    "    sampled_squares, candidate_squares = exclude_and_replace(\n",
    "        sampled_squares, ['CAoSLEFGMVFpcE0zQXNHZ3FDdy1DWnNXWi1LTFlWWlBvRnhPU3VwblJ4VkNQOW82'], candidate_squares, print_iframes=print_iframes)\n",
    "    \n",
    "    # for Barcelona, pano_id CAoSLEFGMVFpcE43UHRiQUExQXMzRzVoNG1XbzRueUdJVVprWmM0aGN0OTlXeU9q appears two times\n",
    "    # replace one and keep one\n",
    "    # see sampled[sampled.gsv_pano_id=='CAoSLEFGMVFpcE43UHRiQUExQXMzRzVoNG1XbzRueUdJVVprWmM0aGN0OTlXeU9q']\n",
    "    print_iframes = False\n",
    "    sampled_regular_greenspaces, candidates = exclude_and_replace(\n",
    "        sampled_regular_greenspaces, ['CAoSLEFGMVFpcE43UHRiQUExQXMzRzVoNG1XbzRueUdJVVprWmM0aGN0OTlXeU9q'], candidate_regular_greenspaces, print_iframes=print_iframes)\n",
    "    "
   ]
  },
  {
   "cell_type": "code",
   "execution_count": null,
   "id": "737bc06f-2168-4ce8-80c6-5e221fcdef7b",
   "metadata": {},
   "outputs": [],
   "source": [
    "if place_name == 'Barcelona':\n",
    "    # one of these does not pass our manual check, sample again\n",
    "    print_iframes = True\n",
    "    sampled_squares, candidate_squares = exclude_and_replace(\n",
    "        sampled_squares, ['M7GXUvAVpKJt4V7KsEqZwg'], candidate_squares, print_iframes=print_iframes)"
   ]
  },
  {
   "cell_type": "code",
   "execution_count": null,
   "id": "6aaadf92-1238-4d66-9879-d80fc8c985c4",
   "metadata": {},
   "outputs": [],
   "source": [
    "sampled = pd.concat([\n",
    "    sampled_pocket_greenspaces,\n",
    "    sampled_regular_greenspaces,\n",
    "    sampled_squares,\n",
    "    sampled_playspaces,\n",
    "    sampled_streets,\n",
    "    for_reference\n",
    "])"
   ]
  },
  {
   "cell_type": "code",
   "execution_count": null,
   "id": "a57e82e3-79de-4e0a-890f-18511a0c34d9",
   "metadata": {},
   "outputs": [],
   "source": [
    "# print pano_ids that appear more than once\n",
    "appearing_once = []\n",
    "for pano_id in sampled.gsv_pano_id:\n",
    "    if pano_id not in appearing_once:\n",
    "        appearing_once.append(pano_id)\n",
    "    else:\n",
    "        print(pano_id)"
   ]
  },
  {
   "cell_type": "markdown",
   "id": "be7e635d-843e-40b4-907b-1214aaf85add",
   "metadata": {},
   "source": [
    "## Eventually, we decided to go with 7 places each, not 8"
   ]
  },
  {
   "cell_type": "code",
   "execution_count": null,
   "id": "8baa470d-1c6e-4b50-9cb4-51529763fe19",
   "metadata": {},
   "outputs": [],
   "source": [
    "n_sample = 7"
   ]
  },
  {
   "cell_type": "code",
   "execution_count": null,
   "id": "21de32a4-dd7f-4695-968e-e940591ea645",
   "metadata": {
    "tags": []
   },
   "outputs": [],
   "source": [
    "sampled_pocket_greenspaces = pd.concat([\n",
    "    sampled_pocket_greenspaces[sampled_pocket_greenspaces.ndvi_quantile=='lower'].sample(n=n_sample, random_state=random_state),\n",
    "    sampled_pocket_greenspaces[sampled_pocket_greenspaces.ndvi_quantile=='second'].sample(n=n_sample, random_state=random_state),\n",
    "    sampled_pocket_greenspaces[sampled_pocket_greenspaces.ndvi_quantile=='third'].sample(n=n_sample, random_state=random_state),\n",
    "    sampled_pocket_greenspaces[sampled_pocket_greenspaces.ndvi_quantile=='upper'].sample(n=n_sample, random_state=random_state),\n",
    "])"
   ]
  },
  {
   "cell_type": "code",
   "execution_count": null,
   "id": "a01acf20-965b-4a2b-b046-8e06693cb161",
   "metadata": {},
   "outputs": [],
   "source": [
    "sampled_regular_greenspaces = pd.concat([\n",
    "    sampled_regular_greenspaces[sampled_regular_greenspaces.ndvi_quantile=='lower'].sample(n=n_sample, random_state=random_state),\n",
    "    sampled_regular_greenspaces[sampled_regular_greenspaces.ndvi_quantile=='second'].sample(n=n_sample, random_state=random_state),\n",
    "    sampled_regular_greenspaces[sampled_regular_greenspaces.ndvi_quantile=='third'].sample(n=n_sample, random_state=random_state),\n",
    "    sampled_regular_greenspaces[sampled_regular_greenspaces.ndvi_quantile=='upper'].sample(n=n_sample, random_state=random_state),\n",
    "])"
   ]
  },
  {
   "cell_type": "code",
   "execution_count": null,
   "id": "a7c654b3-1751-406c-92ef-548ddbee66a1",
   "metadata": {},
   "outputs": [],
   "source": [
    "sampled_squares = pd.concat([\n",
    "    sampled_squares[sampled_squares.ndvi_quantile=='lower'].sample(n=n_sample, random_state=random_state),\n",
    "    sampled_squares[sampled_squares.ndvi_quantile=='second'].sample(n=n_sample, random_state=random_state),\n",
    "    sampled_squares[sampled_squares.ndvi_quantile=='third'].sample(n=n_sample, random_state=random_state),\n",
    "    sampled_squares[sampled_squares.ndvi_quantile=='upper'].sample(n=n_sample, random_state=random_state),\n",
    "])"
   ]
  },
  {
   "cell_type": "code",
   "execution_count": null,
   "id": "371b1377-b03f-433b-a5e1-b64c230fd810",
   "metadata": {},
   "outputs": [],
   "source": [
    "sampled_playspaces = pd.concat([\n",
    "    sampled_playspaces[sampled_playspaces.ndvi_quantile=='lower'].sample(n=n_sample, random_state=random_state),\n",
    "    sampled_playspaces[sampled_playspaces.ndvi_quantile=='second'].sample(n=n_sample, random_state=random_state),\n",
    "    sampled_playspaces[sampled_playspaces.ndvi_quantile=='third'].sample(n=n_sample, random_state=random_state),\n",
    "    sampled_playspaces[sampled_playspaces.ndvi_quantile=='upper'].sample(n=n_sample, random_state=random_state),\n",
    "])"
   ]
  },
  {
   "cell_type": "code",
   "execution_count": null,
   "id": "1ae29a8c-d344-4520-aef6-37d4288d920a",
   "metadata": {},
   "outputs": [],
   "source": [
    "sampled_streets = pd.concat([\n",
    "    sampled_streets[sampled_streets.ndvi_quantile=='lower'].sample(n=n_sample, random_state=random_state),\n",
    "    sampled_streets[sampled_streets.ndvi_quantile=='second'].sample(n=n_sample, random_state=random_state),\n",
    "    sampled_streets[sampled_streets.ndvi_quantile=='third'].sample(n=n_sample, random_state=random_state),\n",
    "    sampled_streets[sampled_streets.ndvi_quantile=='upper'].sample(n=n_sample, random_state=random_state),\n",
    "])"
   ]
  },
  {
   "cell_type": "code",
   "execution_count": null,
   "id": "7069e018-b880-43fa-ba0a-8b6ca802da47",
   "metadata": {},
   "outputs": [],
   "source": [
    "sampled = pd.concat([\n",
    "    sampled_pocket_greenspaces,\n",
    "    sampled_regular_greenspaces,\n",
    "    sampled_squares,\n",
    "    sampled_playspaces,\n",
    "    sampled_streets,\n",
    "    for_reference\n",
    "])\n",
    "\n",
    "sampled.reset_index(inplace=True)"
   ]
  },
  {
   "cell_type": "code",
   "execution_count": null,
   "id": "25b10428-f118-4c55-86c5-19e382b9d884",
   "metadata": {},
   "outputs": [],
   "source": [
    "print('pocket greenspaces, sampled places:\\n{} low + {} second + {} third + {} upper quantile ndvi\\n'.format(\n",
    "    len(sampled[(sampled.category=='pocket_greenspace') & (sampled.ndvi_quantile=='lower')]),\n",
    "    len(sampled[(sampled.category=='pocket_greenspace') & (sampled.ndvi_quantile=='second')]),\n",
    "    len(sampled[(sampled.category=='pocket_greenspace') & (sampled.ndvi_quantile=='third')]),\n",
    "    len(sampled[(sampled.category=='pocket_greenspace') & (sampled.ndvi_quantile=='upper')])))\n",
    "print('regular greenspaces, sampled places:\\n{} low + {} second + {} third + {} upper quantile ndvi\\n'.format(\n",
    "    len(sampled[(sampled.category=='regular_greenspace') & (sampled.ndvi_quantile=='lower')]),\n",
    "    len(sampled[(sampled.category=='regular_greenspace') & (sampled.ndvi_quantile=='second')]),\n",
    "    len(sampled[(sampled.category=='regular_greenspace') & (sampled.ndvi_quantile=='third')]),\n",
    "    len(sampled[(sampled.category=='regular_greenspace') & (sampled.ndvi_quantile=='upper')])))\n",
    "print('squares, sampled places:\\n{} low + {} second + {} third + {} upper quantile ndvi\\n'.format(\n",
    "    len(sampled[(sampled.category=='square') & (sampled.ndvi_quantile=='lower')]),\n",
    "    len(sampled[(sampled.category=='square') & (sampled.ndvi_quantile=='second')]),\n",
    "    len(sampled[(sampled.category=='square') & (sampled.ndvi_quantile=='third')]),\n",
    "    len(sampled[(sampled.category=='square') & (sampled.ndvi_quantile=='upper')])))\n",
    "print('play/recreation grounds, sampled places:\\n{} low + {} second + {} third + {} upper quantile ndvi\\n'.format(\n",
    "    len(sampled[(sampled.category=='playspace') & (sampled.ndvi_quantile=='lower')]),\n",
    "    len(sampled[(sampled.category=='playspace') & (sampled.ndvi_quantile=='second')]),\n",
    "    len(sampled[(sampled.category=='playspace') & (sampled.ndvi_quantile=='third')]),\n",
    "    len(sampled[(sampled.category=='playspace') & (sampled.ndvi_quantile=='upper')])))\n",
    "print('streets, sampled places:\\n{} low + {} second + {} third + {} upper quantile ndvi\\n'.format(\n",
    "    len(sampled[(sampled.category=='street') & (sampled.ndvi_quantile=='lower')]),\n",
    "    len(sampled[(sampled.category=='street') & (sampled.ndvi_quantile=='second')]),\n",
    "    len(sampled[(sampled.category=='street') & (sampled.ndvi_quantile=='third')]),\n",
    "    len(sampled[(sampled.category=='street') & (sampled.ndvi_quantile=='upper')])))\n",
    "print('parkings, sampled places:\\n{}\\n'.format(\n",
    "    len(sampled[sampled.category=='for_reference'])))\n",
    "print('TOTAL SAMPLED: {}'.format(len(sampled)))"
   ]
  },
  {
   "cell_type": "code",
   "execution_count": null,
   "id": "402ad630-730c-485d-bd35-10b19148e1e2",
   "metadata": {
    "tags": []
   },
   "outputs": [],
   "source": [
    "print_iframes = False\n",
    "if print_iframes:\n",
    "    for i in sampled.index:\n",
    "        print(sampled.category[i], sampled.ndvi_quantile[i], i, sampled.gsv_pano_id[i])\n",
    "        print(sampled.gsv_iframe_html[i])"
   ]
  },
  {
   "cell_type": "markdown",
   "id": "e64d6061-3943-4111-ab3a-3c69f333df17",
   "metadata": {},
   "source": [
    "## Plot"
   ]
  },
  {
   "cell_type": "code",
   "execution_count": null,
   "id": "90fabea5-0c58-43fc-af53-2546a60f3af0",
   "metadata": {
    "tags": []
   },
   "outputs": [],
   "source": [
    "fig, axs = plt.subplots(nrows=1, ncols=1, figsize=(12,12))\n",
    "\n",
    "sampled[(sampled.category=='pocket_greenspace') & (sampled.ndvi_quantile=='lower')].centroid.plot(ax=axs, color='#b2e2e2', marker='s', markersize=20)\n",
    "sampled[(sampled.category=='pocket_greenspace') & (sampled.ndvi_quantile=='second')].centroid.plot(ax=axs, color='#66c2a4', marker='s', markersize=20)\n",
    "sampled[(sampled.category=='pocket_greenspace') & (sampled.ndvi_quantile=='third')].centroid.plot(ax=axs, color='#66c2a4', marker='s', markersize=20)\n",
    "sampled[(sampled.category=='pocket_greenspace') & (sampled.ndvi_quantile=='upper')].centroid.plot(ax=axs, color='#2ca25f', marker='s', markersize=20)\n",
    "\n",
    "sampled[(sampled.category=='regular_greenspace') & (sampled.ndvi_quantile=='lower')].centroid.plot(ax=axs, color='#b2e2e2', marker='s', markersize=40)\n",
    "sampled[(sampled.category=='regular_greenspace') & (sampled.ndvi_quantile=='second')].centroid.plot(ax=axs, color='#66c2a4', marker='s', markersize=40)\n",
    "sampled[(sampled.category=='regular_greenspace') & (sampled.ndvi_quantile=='third')].centroid.plot(ax=axs, color='#66c2a4', marker='s', markersize=40)\n",
    "sampled[(sampled.category=='regular_greenspace') & (sampled.ndvi_quantile=='upper')].centroid.plot(ax=axs, color='#2ca25f', marker='s', markersize=40)\n",
    "\n",
    "sampled[(sampled.category=='square') & (sampled.ndvi_quantile=='lower')].centroid.plot(ax=axs, color='#b2e2e2', marker='o', markersize=40)\n",
    "sampled[(sampled.category=='square') & (sampled.ndvi_quantile=='second')].centroid.plot(ax=axs, color='#66c2a4', marker='o', markersize=40)\n",
    "sampled[(sampled.category=='square') & (sampled.ndvi_quantile=='third')].centroid.plot(ax=axs, color='#66c2a4', marker='o', markersize=40)\n",
    "sampled[(sampled.category=='square') & (sampled.ndvi_quantile=='upper')].centroid.plot(ax=axs, color='#2ca25f', marker='o', markersize=40)\n",
    "\n",
    "sampled[(sampled.category=='playspace') & (sampled.ndvi_quantile=='lower')].centroid.plot(ax=axs, color='#b2e2e2', marker='*', markersize=40)\n",
    "sampled[(sampled.category=='playspace') & (sampled.ndvi_quantile=='second')].centroid.plot(ax=axs, color='#66c2a4', marker='*', markersize=40)\n",
    "sampled[(sampled.category=='playspace') & (sampled.ndvi_quantile=='third')].centroid.plot(ax=axs, color='#66c2a4', marker='*', markersize=40)\n",
    "sampled[(sampled.category=='playspace') & (sampled.ndvi_quantile=='upper')].centroid.plot(ax=axs, color='#2ca25f', marker='*', markersize=40)\n",
    "\n",
    "sampled[(sampled.category=='street') & (sampled.ndvi_quantile=='lower')].plot(ax=axs, color='#b2e2e2', linewidth=3)\n",
    "sampled[(sampled.category=='street') & (sampled.ndvi_quantile=='second')].plot(ax=axs, color='#66c2a4', linewidth=3)\n",
    "sampled[(sampled.category=='street') & (sampled.ndvi_quantile=='third')].plot(ax=axs, color='#66c2a4', linewidth=3)\n",
    "sampled[(sampled.category=='street') & (sampled.ndvi_quantile=='upper')].plot(ax=axs, color='#2ca25f', linewidth=3)\n",
    "\n",
    "sampled[sampled.category=='for_reference'].centroid.plot(ax=axs, color='#2ca25f', marker='$P$', markersize=40)\n",
    "\n",
    "place.plot(ax=axs, facecolor='none', edgecolor='#dd1c77', linestyle='-', linewidth=5)\n",
    "cx.add_basemap(ax=axs, crs=place.crs, source=cx.providers.OpenStreetMap.Mapnik, alpha=0.2, zorder=0)\n",
    "\n",
    "bbox = sampled.total_bounds\n",
    "margin = 500\n",
    "xlim = ([bbox[0]-margin, bbox[2]+margin])\n",
    "ylim = ([bbox[1]-margin, bbox[3]+margin])\n",
    "axs.set_xlim(xlim)\n",
    "axs.set_ylim(ylim)\n",
    "plt.axis('off')\n",
    "\n",
    "plt.show()"
   ]
  },
  {
   "cell_type": "markdown",
   "id": "d15f84a5-90a9-432e-b5c6-184daf8dda84",
   "metadata": {},
   "source": [
    "## Randomize order of sampled places"
   ]
  },
  {
   "cell_type": "code",
   "execution_count": null,
   "id": "0969e805-a030-4902-944d-cf53bc604789",
   "metadata": {},
   "outputs": [],
   "source": [
    "# randomize order\n",
    "sampled_randomorder = sampled.sample(frac=1, random_state=random_state)"
   ]
  },
  {
   "cell_type": "markdown",
   "id": "843bc48b-8580-497f-a3e6-857747738ae2",
   "metadata": {},
   "source": [
    "## Export output of sampled locations with iframes"
   ]
  },
  {
   "cell_type": "code",
   "execution_count": null,
   "id": "46f8c745-67b1-411c-8ef2-259dc12a36bd",
   "metadata": {},
   "outputs": [],
   "source": [
    "export_sub_folder = os.path.join(export_folder, export_sampled_sub_folder)"
   ]
  },
  {
   "cell_type": "code",
   "execution_count": null,
   "id": "9e564b8a",
   "metadata": {},
   "outputs": [],
   "source": [
    "if not os.path.exists(export_sub_folder):\n",
    "    os.mkdir(export_sub_folder)"
   ]
  },
  {
   "cell_type": "code",
   "execution_count": null,
   "id": "082b1516-1f38-4a4a-80cc-46320a9ed9bb",
   "metadata": {},
   "outputs": [],
   "source": [
    "output_file = os.path.join(export_sub_folder, 'city_perc_locations_{}.txt'.format(place_name))\n",
    "with open(output_file, \"w\") as f:\n",
    "    for loc in sampled_randomorder['gsv_iframe_html']:\n",
    "        f.write(loc)"
   ]
  },
  {
   "cell_type": "code",
   "execution_count": null,
   "id": "97e119d4-cac6-4de5-83dc-e10027b1e70c",
   "metadata": {},
   "outputs": [],
   "source": [
    "output_file = os.path.join(export_sub_folder, 'sampled.geojson')\n",
    "sampled_export = sampled_randomorder.apply(lambda c: c.astype(str) if c.name != \"geometry\" else c, axis=0)\n",
    "sampled_export.to_file(output_file, driver='GeoJSON')"
   ]
  }
 ],
 "metadata": {
  "kernelspec": {
   "display_name": "Python 3 (ipykernel)",
   "language": "python",
   "name": "python3"
  },
  "language_info": {
   "codemirror_mode": {
    "name": "ipython",
    "version": 3
   },
   "file_extension": ".py",
   "mimetype": "text/x-python",
   "name": "python",
   "nbconvert_exporter": "python",
   "pygments_lexer": "ipython3",
   "version": "3.9.12"
  }
 },
 "nbformat": 4,
 "nbformat_minor": 5
}

{
 "cells": [
  {
   "cell_type": "markdown",
   "id": "13fda557-c2b0-4cc8-9764-44a8a61aced2",
   "metadata": {},
   "source": [
    "# Step 2. Collect OSM data via Overpass"
   ]
  },
  {
   "cell_type": "code",
   "execution_count": null,
   "id": "a41aa15f-7e0d-488f-bb41-046225a0df96",
   "metadata": {},
   "outputs": [],
   "source": [
    "import os\n",
    "import datetime\n",
    "\n",
    "import numpy as np\n",
    "import scipy\n",
    "import fiona\n",
    "import statistics\n",
    "import math\n",
    "\n",
    "import pandas as pd\n",
    "import geopandas as gpd\n",
    "from shapely.geometry import LineString, shape, mapping, Point, Polygon, MultiPolygon\n",
    "from shapely.ops import cascaded_union\n",
    "\n",
    "import matplotlib.pyplot as plt\n",
    "from matplotlib import colors, cm, style\n",
    "import matplotlib.patches as mpatches\n",
    "# from descartes import PolygonPatch\n",
    "\n",
    "import osmnx as ox\n",
    "import networkx as nx\n",
    "\n",
    "import rasterio\n",
    "from rasterio import MemoryFile\n",
    "from rasterio.plot import show\n",
    "from rasterio.mask import mask\n",
    "import json\n",
    "\n",
    "import contextily as cx\n",
    "import folium\n",
    "from folium.features import DivIcon"
   ]
  },
  {
   "cell_type": "code",
   "execution_count": null,
   "id": "d84920b8-f868-4c0d-84a3-8058f0e50dd1",
   "metadata": {},
   "outputs": [],
   "source": [
    "from my_osm import get_osm_data"
   ]
  },
  {
   "cell_type": "markdown",
   "id": "4ac46198-6afb-42c7-9ecb-f7808b5ad642",
   "metadata": {},
   "source": [
    "## Define city and other settings"
   ]
  },
  {
   "cell_type": "markdown",
   "id": "d91a5bf9-6a5b-49f8-9bcc-0a6b8defbdc5",
   "metadata": {},
   "source": [
    "#### Place |Country    |CRS\n",
    "Rotterdam    (The Netherlands)    EPSG:28992\n",
    "\n",
    "Barcelona     (Spain)              EPSG:25830\n",
    "\n",
    "Goteborg        (Sweden)             EPSG:3006"
   ]
  },
  {
   "cell_type": "code",
   "execution_count": null,
   "id": "8b0bdeaf-633d-4977-b05f-6ecdb8d12c20",
   "metadata": {},
   "outputs": [],
   "source": [
    "place_name = 'Rotterdam'\n",
    "local_crs = 'EPSG:28992'"
   ]
  },
  {
   "cell_type": "code",
   "execution_count": null,
   "id": "e38ac1d1-1f18-4cb1-8165-d7de316d4fb5",
   "metadata": {},
   "outputs": [],
   "source": [
    "osm_crs = 'EPSG:3857'"
   ]
  },
  {
   "cell_type": "code",
   "execution_count": null,
   "id": "12c09f18-da93-47e3-811c-df9e0b338103",
   "metadata": {},
   "outputs": [],
   "source": [
    "min_area = 200"
   ]
  },
  {
   "cell_type": "code",
   "execution_count": null,
   "id": "5d25fe28-fa13-4bfb-985c-33cae170b9c9",
   "metadata": {},
   "outputs": [],
   "source": [
    "export_folder = 'data'"
   ]
  },
  {
   "cell_type": "code",
   "execution_count": null,
   "id": "f2e6f2c6-4b8a-47a1-bef8-029d185507e7",
   "metadata": {},
   "outputs": [],
   "source": [
    "buffer = 500"
   ]
  },
  {
   "cell_type": "markdown",
   "id": "52c8e0a2-080e-49f3-8604-15d4da2be4d8",
   "metadata": {},
   "source": [
    "## Load OSM data"
   ]
  },
  {
   "cell_type": "code",
   "execution_count": null,
   "id": "f7d0a910-b39e-48e7-821e-ff4d11a06b51",
   "metadata": {},
   "outputs": [],
   "source": [
    "place = ox.geocode_to_gdf(place_name).to_crs(local_crs)\n",
    "\n",
    "extent = place.buffer(buffer, join_style=2)\n",
    "if len(extent) > 1:\n",
    "    extent_shape = MultiPolygon([shape(part) for part in extent.to_crs('EPSG:4326')])     \n",
    "else:\n",
    "    extent_shape = extent.to_crs('EPSG:4326')[0]"
   ]
  },
  {
   "cell_type": "markdown",
   "id": "40cc1667-3d7b-4d73-9c63-ae214430229c",
   "metadata": {},
   "source": [
    "### Classified as greenspace"
   ]
  },
  {
   "cell_type": "code",
   "execution_count": null,
   "id": "48ed533f-f63f-4dba-8176-286fbcca8d57",
   "metadata": {},
   "outputs": [],
   "source": [
    "park_query = '[\"leisure\"~\"^(park)\"]'\n",
    "parks = get_osm_data(park_query, extent, 'convexhull')"
   ]
  },
  {
   "cell_type": "code",
   "execution_count": null,
   "id": "5304bc81-5776-4674-811e-d89ae23fe24e",
   "metadata": {},
   "outputs": [],
   "source": [
    "green_leisure_query = '[\"leisure\"~\"^(park|nature_reserve)\"]'\n",
    "greenspaces = get_osm_data(green_leisure_query, extent, 'convexhull')"
   ]
  },
  {
   "cell_type": "code",
   "execution_count": null,
   "id": "b02c63cf-9792-45d6-a6aa-fd0e65c02784",
   "metadata": {},
   "outputs": [],
   "source": [
    "# excluding: allotments, flowerbed, farmland, farmyard, orchards, vineyard, plant_nursary (i.e. crop production, not for entering)\n",
    "green_landuse_query = '[\"landuse\"~\"^(meadow|grass|village_green|forest)\"]'\n",
    "greenspaces = pd.concat([greenspaces, get_osm_data(green_landuse_query, extent, 'convexhull')])"
   ]
  },
  {
   "cell_type": "code",
   "execution_count": null,
   "id": "e42c120c-99ed-4941-b867-1bc277962412",
   "metadata": {},
   "outputs": [],
   "source": [
    "green_natural_query = '[\"natural\"~\"^(wood|scrub|heath|grassland|fell|shrubbery)\"]'\n",
    "greenspaces = pd.concat([greenspaces, get_osm_data(green_natural_query, extent, 'convexhull')])"
   ]
  },
  {
   "cell_type": "markdown",
   "id": "ffe48f3b-6d84-440c-aad6-fa09cee4a0ab",
   "metadata": {},
   "source": [
    "### Classified as open space"
   ]
  },
  {
   "cell_type": "markdown",
   "id": "c29ff06b-5ed5-4b5f-8e0d-ed0993ec05be",
   "metadata": {},
   "source": [
    "#### Squares, including pedestrian areas and marketplaces"
   ]
  },
  {
   "cell_type": "code",
   "execution_count": null,
   "id": "a2a9db45-7b74-44ae-8f34-3d8233e3d8fa",
   "metadata": {},
   "outputs": [],
   "source": [
    "# squares (square, marketplace, pedestrian way)\n",
    "square_place_query = '[\"place\"~\"^square\"]'\n",
    "squares = get_osm_data(square_place_query, extent, 'convexhull')"
   ]
  },
  {
   "cell_type": "code",
   "execution_count": null,
   "id": "3033d16c-e1d8-4caf-8ca8-d0d5e2da4b57",
   "metadata": {},
   "outputs": [],
   "source": [
    "square_highway_query = '[\"highway\"~\"^pedestrian\"][\"area\"~\"^yes\"]'\n",
    "squares = pd.concat([squares, get_osm_data(square_highway_query, extent, 'convexhull')])"
   ]
  },
  {
   "cell_type": "code",
   "execution_count": null,
   "id": "4bdb0aab-ac87-4d85-8818-49dd481b5249",
   "metadata": {},
   "outputs": [],
   "source": [
    "square_amenity_query = '[\"amenity\"~\"^(marketplace)\"]'\n",
    "squares = pd.concat([squares, get_osm_data(square_amenity_query, extent, 'convexhull')])"
   ]
  },
  {
   "cell_type": "code",
   "execution_count": null,
   "id": "ab12cc0c-f085-4007-914d-7f3f82a887d3",
   "metadata": {},
   "outputs": [],
   "source": [
    "square_leisure_query = '[\"leisure\"~\"^(common)\"]'\n",
    "squares = pd.concat([squares, get_osm_data(square_leisure_query, extent, 'convexhull')])"
   ]
  },
  {
   "cell_type": "markdown",
   "id": "c7deae5d-2230-4fab-9593-bf4c5a462fcc",
   "metadata": {},
   "source": [
    "#### Playgrounds, non-private schoolyards, recreation grounds"
   ]
  },
  {
   "cell_type": "code",
   "execution_count": null,
   "id": "2ab54cb0-16f7-4695-b8d9-7ebc6d862e5d",
   "metadata": {},
   "outputs": [],
   "source": [
    "# playgrounds/recreation grounds\n",
    "play_query = (f'[\"leisure\"~\"playground\"][\"access\"!=\"private\"]')\n",
    "playspaces = get_osm_data(play_query, extent, 'convexhull')"
   ]
  },
  {
   "cell_type": "code",
   "execution_count": null,
   "id": "2bf01455-b72b-47b7-82fe-cc5ea083bcd3",
   "metadata": {},
   "outputs": [],
   "source": [
    "schoolyards_filter = (f'[\"leisure\"~\"schoolyard\"][\"access\"!=\"private\"]')\n",
    "schoolyards = get_osm_data(schoolyards_filter, extent, 'convexhull')"
   ]
  },
  {
   "cell_type": "markdown",
   "id": "0e7b3256-db86-4f38-a7a7-0a5ba39455f7",
   "metadata": {},
   "source": [
    "#### Streets"
   ]
  },
  {
   "cell_type": "code",
   "execution_count": null,
   "id": "3cb62f20-ccf5-4de9-9b97-169a72686f40",
   "metadata": {},
   "outputs": [],
   "source": [
    "# custom filter: using the osmnx network_type 'walk' as a basis,\n",
    "# but NOT excluding 'cycleways'.\n",
    "# and excluding segments in tunnels\n",
    "# see https://github.com/gboeing/osmnx/blob/main/osmnx/downloader.py\n",
    "# and https://github.com/gboeing/osmnx/issues/169\n",
    "network_filter = (\n",
    "        f'[\"highway\"][\"area\"!~\"yes\"][\"access\"!~\"private\"]'\n",
    "        f'[\"highway\"!~\"abandoned|bus_guideway|construction|motor|planned|platform|proposed|raceway\"]'\n",
    "        f'[\"foot\"!~\"no\"][\"service\"!~\"private\"]'\n",
    "        f'[\"tunnel\"!=\"yes\"]'\n",
    "    )"
   ]
  },
  {
   "cell_type": "code",
   "execution_count": null,
   "id": "2d2e48e2-d69b-4412-80f9-ee726656b0ec",
   "metadata": {},
   "outputs": [],
   "source": [
    "G = ox.graph_from_polygon(extent_shape, network_type='walk', custom_filter=network_filter, retain_all=True)\n",
    "G = ox.project_graph(G, to_crs=local_crs)"
   ]
  },
  {
   "cell_type": "code",
   "execution_count": null,
   "id": "afe73abf-93cf-4ec4-8a8d-e1759eab6575",
   "metadata": {},
   "outputs": [],
   "source": [
    "streets = ox.utils_graph.graph_to_gdfs(ox.get_undirected(G), nodes=False, edges=True).to_crs(local_crs)"
   ]
  },
  {
   "cell_type": "markdown",
   "id": "8fbaa15c-c9bd-4ae2-8cbe-580c724bf297",
   "metadata": {},
   "source": [
    "### Classified as non-greenspace"
   ]
  },
  {
   "cell_type": "code",
   "execution_count": null,
   "id": "a30460a6-d78d-4347-a5ca-92ad4f451ca3",
   "metadata": {},
   "outputs": [],
   "source": [
    "# parkings\n",
    "parking_query = '[\"amenity\"~\"^(parking)\"][\"tunnel\"!=\"yes\"][\"parking\"!=\"underground\"]'\n",
    "parkings = get_osm_data(parking_query, extent, 'convexhull')"
   ]
  },
  {
   "cell_type": "markdown",
   "id": "becbeb94-3dc8-4355-b4d1-4ad085fba2f2",
   "metadata": {},
   "source": [
    "### Visualize all"
   ]
  },
  {
   "cell_type": "code",
   "execution_count": null,
   "id": "ab0767ae-b10a-4e2d-aa64-7b94c5b20ab3",
   "metadata": {},
   "outputs": [],
   "source": [
    "fig, axs = plt.subplots(nrows=1, ncols=1, figsize=(12,12))\n",
    "\n",
    "greenspaces.plot(ax=axs, color='green')\n",
    "\n",
    "squares.plot(ax=axs, color='pink')\n",
    "playspaces.plot(ax=axs, color='orange') \n",
    "streets.plot(ax=axs, color='purple', linewidth=0.2)\n",
    "\n",
    "parkings.plot(ax=axs, color='black')\n",
    "\n",
    "place.plot(ax=axs, facecolor='none', edgecolor='#dd1c77', linestyle='-', linewidth=5, zorder=4)\n",
    "cx.add_basemap(ax=axs, crs=local_crs, source=cx.providers.OpenStreetMap.Mapnik, alpha=0.5, zorder=0)\n",
    "\n",
    "bbox = place.total_bounds\n",
    "margin = 1000\n",
    "xlim = ([bbox[0]-margin, bbox[2]+margin])\n",
    "ylim = ([bbox[1]-margin, bbox[3]+margin])\n",
    "axs.set_xlim(xlim)\n",
    "axs.set_ylim(ylim)\n",
    "plt.axis('off')\n",
    "\n",
    "plt.show()"
   ]
  },
  {
   "cell_type": "markdown",
   "id": "848fda13-6f3a-4072-8c58-b0ba4153ab0f",
   "metadata": {
    "tags": []
   },
   "source": [
    "### Filter collected spaces on area and public access"
   ]
  },
  {
   "cell_type": "code",
   "execution_count": null,
   "id": "ca33eeff-8a41-446e-9e14-344e5c5593f8",
   "metadata": {
    "tags": []
   },
   "outputs": [],
   "source": [
    "def space_filter(gdf, local_crs, union=False, union_threshold=0, place=None, place_threshold=0, place_predicate='intersects', min_area=10000, G=None, G_threshold=0):\n",
    "    \"\"\"\n",
    "    gdf = geoseries of greenery polygons (e.g. greenery.geometry)\n",
    "    return = a union of filtered polygons\n",
    "    [optional] threshold to merge spaces in proximity (in meters)\n",
    "    [optional] place geoseries of total area geometries (e.g. place_gdf.geometry)\n",
    "    [optional] minimum area for greenspace filter, default value set\n",
    "    [optional] graph which greenspace should intersect nodes and edges of\n",
    "    \"\"\"\n",
    "    \n",
    "    filtered = gdf.copy()\n",
    "\n",
    "    if 'tags' in filtered.columns:\n",
    "        filtered['tags'] = filtered['tags'].astype(str)\n",
    "    \n",
    "    # only polygons, no points or lines\n",
    "    filtered = filtered[(filtered.geom_type == 'Polygon')|(filtered.geom_type == 'MultiPolygon')]\n",
    "    \n",
    "    #union of adjacent and overlapping polygons\n",
    "    if union:\n",
    "        filtered['geometry'] = filtered.buffer(union_threshold)\n",
    "        filtered = gpd.GeoDataFrame(filtered.unary_union).rename(columns={0:'geometry'}).set_geometry('geometry').set_crs(local_crs)\n",
    "        filtered['geometry'] = filtered.buffer(-union_threshold)\n",
    "\n",
    "    # filter on intersect with place\n",
    "    if place is not None:\n",
    "        place_temp = place.copy().set_geometry(place.geometry.buffer(place_threshold))\n",
    "        filtered = gpd.sjoin(filtered, place_temp, how=\"left\", predicate=place_predicate)\n",
    "        filtered = filtered[filtered.index_right.notnull()].drop(columns=['index_right'])\n",
    "        \n",
    "    # filter on minimum area\n",
    "    if min_area > 0:\n",
    "        filtered = filtered[filtered.geometry.area>=min_area]\n",
    "    \n",
    "    # filter on intersection with network\n",
    "    if G:\n",
    "        edges = ox.utils_graph.graph_to_gdfs(G, nodes=False, edges=True)\n",
    "        if G_threshold:\n",
    "            edges = edges.copy().set_geometry(edges.geometry.buffer(G_threshold))\n",
    "        filtered = gpd.sjoin(filtered, gpd.GeoDataFrame(edges.reset_index(drop=True).geometry), how=\"left\", predicate='intersects')\n",
    "        filtered = filtered[filtered.index_right.notnull()].drop(columns=['index_right'])\n",
    "        \n",
    "        filtered.drop_duplicates(inplace=True)\n",
    "        \n",
    "        nodes = ox.utils_graph.graph_to_gdfs(G, nodes=True, edges=False)\n",
    "        if G_threshold:\n",
    "            nodes = nodes.copy().set_geometry(nodes.geometry.buffer(G_threshold))\n",
    "        filtered = gpd.sjoin(filtered, gpd.GeoDataFrame(nodes.reset_index(drop=True).geometry), how=\"left\", predicate='intersects')\n",
    "        filtered = filtered[filtered.index_right.notnull()].drop(columns=['index_right'])\n",
    "\n",
    "    filtered.drop_duplicates(inplace=True)\n",
    "    return filtered"
   ]
  },
  {
   "cell_type": "code",
   "execution_count": null,
   "id": "6862a20d-3fce-4f12-8494-9f94504b3784",
   "metadata": {
    "tags": []
   },
   "outputs": [],
   "source": [
    "# all places larger than 0.02 sq.m. and intersecting with the pedestrian network\n",
    "parks_filtered = space_filter(parks, local_crs, place=place, place_threshold=buffer, min_area=min_area, G=G)\n",
    "greenspaces_filtered = space_filter(greenspaces, local_crs, place=place, place_threshold=buffer, min_area=min_area, G=G)\n",
    "\n",
    "# for squares and play spaces, allow intersection with 10m threshold, as often not crossed but just directly adjacent\n",
    "# but still meant for humans to access (contrary to some greenspaces, e.g., grass or bushes in between streets) \n",
    "squares_filtered = space_filter(squares, local_crs, place=place, place_threshold=buffer, min_area=min_area, G=G, G_threshold=10)\n",
    "playspaces_filtered = space_filter(playspaces, local_crs, place=place, place_threshold=buffer, min_area=min_area, G=G, G_threshold=10)\n",
    "# streets not filtered, as they are publicly accessible by definition and do not have an area\n",
    "\n",
    "parkings_filtered = space_filter(parkings, local_crs, place=place, place_threshold=buffer, min_area=min_area, G=G)"
   ]
  },
  {
   "cell_type": "code",
   "execution_count": null,
   "id": "de367bf8-0218-4490-ba24-449567938f79",
   "metadata": {
    "tags": []
   },
   "outputs": [],
   "source": [
    "fig, axs = plt.subplots(nrows=1, ncols=1, figsize=(12,12))\n",
    "\n",
    "greenspaces_filtered.plot(ax=axs, color='green')\n",
    "\n",
    "squares_filtered.plot(ax=axs, color='pink')\n",
    "playspaces_filtered.plot(ax=axs, color='orange') \n",
    "streets.plot(ax=axs, color='purple', linewidth=0.2)\n",
    "\n",
    "parkings_filtered.plot(ax=axs, color='black')\n",
    "\n",
    "place.plot(ax=axs, facecolor='none', edgecolor='#dd1c77', linestyle='-', linewidth=5, zorder=4)\n",
    "cx.add_basemap(ax=axs, crs=local_crs, source=cx.providers.OpenStreetMap.Mapnik, alpha=0.5, zorder=0)\n",
    "\n",
    "bbox = place.total_bounds\n",
    "margin = 500\n",
    "xlim = ([bbox[0]-margin, bbox[2]+margin])\n",
    "ylim = ([bbox[1]-margin, bbox[3]+margin])\n",
    "axs.set_xlim(xlim)\n",
    "axs.set_ylim(ylim)\n",
    "plt.axis('off')\n",
    "\n",
    "plt.show()"
   ]
  },
  {
   "cell_type": "code",
   "execution_count": null,
   "id": "157a6654-c03d-4157-b197-aab14dcf96fa",
   "metadata": {},
   "outputs": [],
   "source": [
    "print(\"\"\"\n",
    "In {}:\n",
    "\n",
    "- {} greenspaces ({} parks)\n",
    "\n",
    "- {} squares\n",
    "- {} play and recreation grounds\n",
    "- {} street segments\n",
    "\n",
    "- {} parkings\n",
    "\n",
    "That are larger than {} sq.m. and publicly accessible by foot.\n",
    "\"\"\".format(\n",
    "    place_name,\n",
    "    len(greenspaces_filtered),\n",
    "    len(parks_filtered),\n",
    "    len(squares_filtered),\n",
    "    len(playspaces_filtered),\n",
    "    len(streets),\n",
    "    len(parkings_filtered),\n",
    "    min_area\n",
    "))"
   ]
  },
  {
   "cell_type": "markdown",
   "id": "356ed4db-d4e9-4167-90e5-906777bd55a2",
   "metadata": {},
   "source": [
    "## Export OSM data"
   ]
  },
  {
   "cell_type": "code",
   "execution_count": null,
   "id": "c85959d0",
   "metadata": {},
   "outputs": [],
   "source": [
    "place_name_out = place_name.split(',')[0].replace(' ', '')\n",
    "today = datetime.date.today().strftime(\"%d%b%Y\")\n",
    "export_sub_folder = os.path.join(export_folder, 'OSM', '{}_{}'.format(place_name_out, today))"
   ]
  },
  {
   "cell_type": "code",
   "execution_count": null,
   "id": "9e564b8a",
   "metadata": {},
   "outputs": [],
   "source": [
    "if not os.path.exists(export_sub_folder):\n",
    "    os.mkdir(export_sub_folder)"
   ]
  },
  {
   "cell_type": "code",
   "execution_count": null,
   "id": "9b78c8c1-9485-4a8f-ad65-372627fd9083",
   "metadata": {},
   "outputs": [],
   "source": [
    "output_file = os.path.join(export_sub_folder, 'parks.geojson')\n",
    "parks_export = parks_filtered.apply(lambda c: c.astype(str) if c.name != \"geometry\" else c, axis=0)\n",
    "parks_export.to_file(output_file, driver='GeoJSON')"
   ]
  },
  {
   "cell_type": "code",
   "execution_count": null,
   "id": "97e119d4-cac6-4de5-83dc-e10027b1e70c",
   "metadata": {},
   "outputs": [],
   "source": [
    "output_file = os.path.join(export_sub_folder, 'greenspaces.geojson')\n",
    "greenspaces_export = greenspaces_filtered.apply(lambda c: c.astype(str) if c.name != \"geometry\" else c, axis=0)\n",
    "greenspaces_export.to_file(output_file, driver='GeoJSON')"
   ]
  },
  {
   "cell_type": "code",
   "execution_count": null,
   "id": "8a51b8c1-0832-4a7c-a5a6-9917b3d70695",
   "metadata": {},
   "outputs": [],
   "source": [
    "output_file = os.path.join(export_sub_folder, 'squares.geojson')\n",
    "squares_export = squares_filtered.apply(lambda c: c.astype(str) if c.name != \"geometry\" else c, axis=0)\n",
    "squares_export.to_file(output_file, driver='GeoJSON')"
   ]
  },
  {
   "cell_type": "code",
   "execution_count": null,
   "id": "9465a0d5-b24b-45cd-aa82-4c3d97f56128",
   "metadata": {},
   "outputs": [],
   "source": [
    "output_file = os.path.join(export_sub_folder, 'playspaces.geojson')\n",
    "playspaces_export = playspaces_filtered.apply(lambda c: c.astype(str) if c.name != \"geometry\" else c, axis=0)\n",
    "playspaces_export.to_file(output_file, driver='GeoJSON')"
   ]
  },
  {
   "cell_type": "code",
   "execution_count": null,
   "id": "2260010a-c90f-4e1f-9ca2-5ada073f61d8",
   "metadata": {},
   "outputs": [],
   "source": [
    "output_file = os.path.join(export_sub_folder, 'streets.geojson')\n",
    "streets_export = streets.apply(lambda c: c.astype(str) if c.name != \"geometry\" else c, axis=0)\n",
    "streets_export.to_file(output_file, driver='GeoJSON')"
   ]
  },
  {
   "cell_type": "code",
   "execution_count": null,
   "id": "75e0fdda-1ff1-44c0-88f5-375782bade40",
   "metadata": {},
   "outputs": [],
   "source": [
    "output_file = os.path.join(export_sub_folder, 'parkings.geojson')\n",
    "parkings_export = parkings_filtered.apply(lambda c: c.astype(str) if c.name != \"geometry\" else c, axis=0)\n",
    "parkings_export.to_file(output_file, driver='GeoJSON')"
   ]
  },
  {
   "cell_type": "code",
   "execution_count": null,
   "id": "2967a367",
   "metadata": {},
   "outputs": [],
   "source": [
    "output_file = os.path.join(export_sub_folder, 'place.geojson')\n",
    "place_export = place.apply(lambda c: c.astype(str) if c.name != \"geometry\" else c, axis=0)\n",
    "place_export.to_file(output_file, driver='GeoJSON')"
   ]
  },
  {
   "cell_type": "code",
   "execution_count": null,
   "id": "a16a5d2a",
   "metadata": {},
   "outputs": [],
   "source": [
    "output_file = os.path.join(export_sub_folder, 'G.graphml')\n",
    "ox.save_graphml(G, output_file)"
   ]
  }
 ],
 "metadata": {
  "kernelspec": {
   "display_name": "Python 3 (ipykernel)",
   "language": "python",
   "name": "python3"
  },
  "language_info": {
   "codemirror_mode": {
    "name": "ipython",
    "version": 3
   },
   "file_extension": ".py",
   "mimetype": "text/x-python",
   "name": "python",
   "nbconvert_exporter": "python",
   "pygments_lexer": "ipython3",
   "version": "3.9.12"
  }
 },
 "nbformat": 4,
 "nbformat_minor": 5
}

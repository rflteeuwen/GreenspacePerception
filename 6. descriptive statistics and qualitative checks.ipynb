{
 "cells": [
  {
   "cell_type": "markdown",
   "id": "3643974a-1b1d-418f-a684-8c88caf2123e",
   "metadata": {},
   "source": [
    "# Step 6. Descriptive statistics and quality checks"
   ]
  },
  {
   "cell_type": "code",
   "execution_count": null,
   "id": "d819e598-ba07-48ca-8dae-707b4cb6bf62",
   "metadata": {},
   "outputs": [],
   "source": [
    "import os\n",
    "import datetime\n",
    "\n",
    "import numpy as np\n",
    "import scipy\n",
    "import fiona\n",
    "import statistics\n",
    "import math\n",
    "\n",
    "import pandas as pd\n",
    "import geopandas as gpd\n",
    "from shapely.geometry import LineString, shape, mapping, Point, Polygon, MultiPolygon\n",
    "from shapely.ops import cascaded_union, transform\n",
    "import pyproj\n",
    "\n",
    "import matplotlib.pyplot as plt\n",
    "from matplotlib import colors, cm, style\n",
    "import matplotlib.patches as mpatches\n",
    "# from descartes import PolygonPatch\n",
    "\n",
    "import osmnx as ox\n",
    "import networkx as nx\n",
    "\n",
    "import rasterio\n",
    "from rasterio import MemoryFile\n",
    "from rasterio.plot import show\n",
    "from rasterio.mask import mask\n",
    "import json\n",
    "\n",
    "import contextily as cx\n",
    "import folium\n",
    "from folium.features import DivIcon\n",
    "\n",
    "import random"
   ]
  },
  {
   "cell_type": "code",
   "execution_count": null,
   "id": "65253541-81d7-4d54-8a32-9ce595896649",
   "metadata": {},
   "outputs": [],
   "source": [
    "from getpass import getpass\n",
    "\n",
    "import requests\n",
    "from requests import Request, Session\n",
    "\n",
    "import hashlib\n",
    "import hmac\n",
    "import base64\n",
    "import urllib.parse as urlparse\n",
    "\n",
    "from datetime import date\n",
    "import matplotlib.pyplot as plt\n",
    "import matplotlib.image as mpimg"
   ]
  },
  {
   "cell_type": "code",
   "execution_count": null,
   "id": "76665687-4bf8-4251-82c0-b22b6dee62f4",
   "metadata": {},
   "outputs": [],
   "source": [
    "from scipy import stats\n",
    "import seaborn as sns\n",
    "from tabulate import tabulate"
   ]
  },
  {
   "cell_type": "markdown",
   "id": "8660d35c-0262-40bb-b290-9d94940e9528",
   "metadata": {},
   "source": [
    "## Define city and other settings"
   ]
  },
  {
   "cell_type": "code",
   "execution_count": null,
   "id": "6d96a110-30b4-47b6-a91d-8fa6237d6842",
   "metadata": {},
   "outputs": [],
   "source": [
    "print_and_plot = False"
   ]
  },
  {
   "cell_type": "code",
   "execution_count": null,
   "id": "351fb43f-4252-42eb-9193-5795afeb53a0",
   "metadata": {},
   "outputs": [],
   "source": [
    "place_names = ['Rotterdam', 'Barcelona', 'Goteborg']"
   ]
  },
  {
   "cell_type": "code",
   "execution_count": null,
   "id": "1e7db1e7-fba6-4df1-b0b8-ec8ef577c87f",
   "metadata": {},
   "outputs": [],
   "source": [
    "confidential_folder = os.path.expanduser('~/confidential_folder')"
   ]
  },
  {
   "cell_type": "code",
   "execution_count": null,
   "id": "47eacb89-88b5-4bda-9a29-b586b36f4189",
   "metadata": {},
   "outputs": [],
   "source": [
    "# set random seed for generating random numbers\n",
    "# and for sampling rows from geodataframes\n",
    "random_state = 42\n",
    "random.seed(random_state)"
   ]
  },
  {
   "cell_type": "code",
   "execution_count": null,
   "id": "3c57d319-b74e-4b57-91c2-c10e10cff175",
   "metadata": {},
   "outputs": [],
   "source": [
    "radius = 15"
   ]
  },
  {
   "cell_type": "markdown",
   "id": "2c206a0a-220e-4dfd-9d67-a2d4072dce85",
   "metadata": {},
   "source": [
    "## Read and preprocess data"
   ]
  },
  {
   "cell_type": "code",
   "execution_count": null,
   "id": "4b0f8486-09bd-4bfa-8fb5-fe2fe8116821",
   "metadata": {},
   "outputs": [],
   "source": [
    "perceptions = gpd.GeoDataFrame()\n",
    "activity_perceptions = gpd.GeoDataFrame()\n",
    "greenness_perceptions = gpd.GeoDataFrame()\n",
    "activity_perception_points = gpd.GeoDataFrame()\n",
    "greenness_perception_points = gpd.GeoDataFrame()"
   ]
  },
  {
   "cell_type": "code",
   "execution_count": null,
   "id": "fa1e6004-8f15-42bd-8503-115919ae5ee5",
   "metadata": {},
   "outputs": [],
   "source": [
    "for place_name in place_names:\n",
    "\n",
    "    perceptions_place = gpd.read_file(os.path.join(confidential_folder, 'preprocessed', 'radius_{}'.format(radius), 'perceptions_{}.csv'.format(place_name)))\n",
    "    activity_perceptions_place = gpd.read_file(os.path.join(confidential_folder, 'preprocessed', 'radius_{}'.format(radius), 'activity_perceptions_{}.geojson'.format(place_name)))\n",
    "    greenness_perceptions_place = gpd.read_file(os.path.join(confidential_folder, 'preprocessed', 'radius_{}'.format(radius), 'greenness_perceptions_{}.geojson'.format(place_name)))\n",
    "    activity_perception_points_place = gpd.read_file(os.path.join(confidential_folder, 'preprocessed', 'radius_{}'.format(radius), 'activity_perception_points_{}.geojson'.format(place_name)))\n",
    "    greenness_perception_points_place = gpd.read_file(os.path.join(confidential_folder, 'preprocessed', 'radius_{}'.format(radius), 'greenness_perception_points_{}.geojson'.format(place_name)))\n",
    "\n",
    "    perceptions_place['place_name'] = place_name\n",
    "    activity_perceptions_place['place_name'] = place_name\n",
    "    greenness_perceptions_place['place_name'] = place_name\n",
    "    activity_perception_points_place['place_name'] = place_name\n",
    "    greenness_perception_points_place['place_name'] = place_name\n",
    "\n",
    "    perceptions = pd.concat([perceptions, perceptions_place]).reset_index(drop=True)\n",
    "    activity_perceptions = pd.concat([activity_perceptions, activity_perceptions_place]).reset_index(drop=True)\n",
    "    greenness_perceptions = pd.concat([greenness_perceptions, greenness_perceptions_place]).reset_index(drop=True)\n",
    "    activity_perception_points = pd.concat([activity_perception_points, activity_perception_points_place]).reset_index(drop=True)\n",
    "    greenness_perception_points = pd.concat([greenness_perception_points, greenness_perception_points_place]).reset_index(drop=True)"
   ]
  },
  {
   "cell_type": "code",
   "execution_count": null,
   "id": "5782a59c-329b-404a-afef-c450f7b322d9",
   "metadata": {},
   "outputs": [],
   "source": [
    "if print_and_plot:\n",
    "    print(len(activity_perception_points))\n",
    "    print(len(greenness_perception_points))"
   ]
  },
  {
   "cell_type": "code",
   "execution_count": null,
   "id": "d8c2036d-38b5-4970-9fc3-7440a50f1622",
   "metadata": {},
   "outputs": [],
   "source": [
    "activity_perceptions_forreference = activity_perceptions[activity_perceptions.place_category=='for_reference']\n",
    "greenness_perceptions_forreference = greenness_perceptions[greenness_perceptions.place_category=='for_reference']\n",
    "activity_perception_points_forreference = activity_perception_points[activity_perception_points.place_category=='for_reference']\n",
    "greenness_perception_points_forreference = greenness_perception_points[greenness_perception_points.place_category=='for_reference']"
   ]
  },
  {
   "cell_type": "code",
   "execution_count": null,
   "id": "2e6b1708-a970-4a79-a448-623679dfc713",
   "metadata": {},
   "outputs": [],
   "source": [
    "activity_perceptions = activity_perceptions[activity_perceptions.place_category!='for_reference']\n",
    "greenness_perceptions = greenness_perceptions[greenness_perceptions.place_category!='for_reference']\n",
    "activity_perception_points = activity_perception_points[activity_perception_points.place_category!='for_reference']\n",
    "greenness_perception_points = greenness_perception_points[greenness_perception_points.place_category!='for_reference']"
   ]
  },
  {
   "cell_type": "code",
   "execution_count": null,
   "id": "697ef5b0-bcbc-4e92-bd80-0de8cdb7df2b",
   "metadata": {},
   "outputs": [],
   "source": [
    "if print_and_plot:\n",
    "    print(len(activity_perception_points))\n",
    "    print(len(greenness_perception_points))"
   ]
  },
  {
   "cell_type": "code",
   "execution_count": null,
   "id": "0cad2985-7ed1-44d8-8589-42c2c6272b75",
   "metadata": {},
   "outputs": [],
   "source": [
    "num_fields = ['clicks']\n",
    "for nf in num_fields:\n",
    "    perceptions[nf] = perceptions[nf].astype(float)\n",
    "    perceptions[nf] = perceptions[nf].astype(int)"
   ]
  },
  {
   "cell_type": "code",
   "execution_count": null,
   "id": "11c5bcae-a60d-47f6-806b-424a3e82e726",
   "metadata": {
    "tags": []
   },
   "outputs": [],
   "source": [
    "num_fields = ['clicks', 'physical_rating_num', 'social_rating_num', 'relax_rating_num', 'commute_rating_num', 'children_rating_num']\n",
    "for nf in num_fields:\n",
    "    activity_perceptions[nf] = activity_perceptions[nf].astype(float)\n",
    "    activity_perceptions[nf] = activity_perceptions[nf].astype(int)\n",
    "activity_perceptions['ndvi_median'] = activity_perceptions['ndvi_median'].astype(float)\n",
    "activity_perceptions.replace({\n",
    "    'near_regular_greenspace': {'True': True, 'False': False}, \n",
    "    'near_pocket_greenspace': {'True': True, 'False': False}, \n",
    "    'near_square': {'True': True, 'False': False}, \n",
    "    'near_playspace': {'True': True, 'False': False}, \n",
    "    'near_street': {'True': True, 'False': False}}, \n",
    "    inplace=True)"
   ]
  },
  {
   "cell_type": "code",
   "execution_count": null,
   "id": "bd6b9f5b-c134-4b99-b993-68aeb07fcf1f",
   "metadata": {},
   "outputs": [],
   "source": [
    "num_fields = ['clicks', 'greenness_rating_num']\n",
    "for nf in num_fields:\n",
    "    greenness_perceptions[nf] = greenness_perceptions[nf].astype(float)\n",
    "    greenness_perceptions[nf] = greenness_perceptions[nf].astype(int)\n",
    "greenness_perceptions['ndvi_median'] = greenness_perceptions['ndvi_median'].astype(float)\n",
    "greenness_perceptions.replace({\n",
    "    'near_regular_greenspace': {'True': True, 'False': False}, \n",
    "    'near_pocket_greenspace': {'True': True, 'False': False}, \n",
    "    'near_square': {'True': True, 'False': False}, \n",
    "    'near_playspace': {'True': True, 'False': False}, \n",
    "    'near_street': {'True': True, 'False': False}}, \n",
    "    inplace=True)"
   ]
  },
  {
   "cell_type": "code",
   "execution_count": null,
   "id": "5e4b71a5-703c-4950-b8ef-8ac7cd6029d3",
   "metadata": {
    "tags": []
   },
   "outputs": [],
   "source": [
    "num_fields = ['clicks', 'physical_rating_num', 'social_rating_num', 'relax_rating_num', 'commute_rating_num', 'children_rating_num']\n",
    "for nf in num_fields:\n",
    "    activity_perception_points[nf] = activity_perception_points[nf].astype(float)\n",
    "    activity_perception_points[nf] = activity_perception_points[nf].astype(int)\n",
    "activity_perception_points['ndvi_median'] = activity_perception_points['ndvi_median'].astype(float)\n",
    "activity_perception_points.replace({\n",
    "    'near_regular_greenspace': {'True': True, 'False': False}, \n",
    "    'near_pocket_greenspace': {'True': True, 'False': False}, \n",
    "    'near_square': {'True': True, 'False': False}, \n",
    "    'near_playspace': {'True': True, 'False': False}, \n",
    "    'near_street': {'True': True, 'False': False}}, \n",
    "    inplace=True)"
   ]
  },
  {
   "cell_type": "code",
   "execution_count": null,
   "id": "b2604be4-fbd6-44dd-8d66-b3360d1dc9c2",
   "metadata": {},
   "outputs": [],
   "source": [
    "num_fields = ['clicks', 'greenness_rating_num']\n",
    "for nf in num_fields:\n",
    "    greenness_perception_points[nf] = greenness_perception_points[nf].astype(float)\n",
    "    greenness_perception_points[nf] = greenness_perception_points[nf].astype(int)\n",
    "greenness_perception_points['ndvi_median'] = greenness_perception_points['ndvi_median'].astype(float)\n",
    "greenness_perception_points.replace({\n",
    "    'near_regular_greenspace': {'True': True, 'False': False}, \n",
    "    'near_pocket_greenspace': {'True': True, 'False': False}, \n",
    "    'near_square': {'True': True, 'False': False}, \n",
    "    'near_playspace': {'True': True, 'False': False}, \n",
    "    'near_street': {'True': True, 'False': False}}, \n",
    "    inplace=True)"
   ]
  },
  {
   "cell_type": "markdown",
   "id": "85e7233e-12c7-4dc6-b15b-7aac6d9402d0",
   "metadata": {},
   "source": [
    "## Agreement"
   ]
  },
  {
   "cell_type": "code",
   "execution_count": null,
   "id": "cd1ea6c5-e06c-4c7d-aff3-6221a796552e",
   "metadata": {},
   "outputs": [],
   "source": [
    "# median greenness per place\n",
    "greenness_perceptions_perplace = greenness_perceptions[['gsv_pano_id', 'greenness_rating_num']].groupby(['gsv_pano_id']).median()\n",
    "greenness_perceptions_perplace.rename(columns={'greenness_rating_num': 'greenness_rating_num_medianperplace'}, inplace=True)"
   ]
  },
  {
   "cell_type": "code",
   "execution_count": null,
   "id": "bd21bd2e-3905-4494-b61c-6fb83f3e2eba",
   "metadata": {},
   "outputs": [],
   "source": [
    "# calculate deviations of ratings from median per place\n",
    "greenness_perceptions_potentialoutliers = greenness_perceptions[['prolific_id', 'gsv_pano_id', 'greenness_rating_num']].merge(greenness_perceptions_perplace[['greenness_rating_num_medianperplace']], on='gsv_pano_id', how='left')\n",
    "greenness_perceptions_potentialoutliers['greenness_rating_num_difference'] = greenness_perceptions_potentialoutliers['greenness_rating_num']-greenness_perceptions_potentialoutliers['greenness_rating_num_medianperplace']\n",
    "greenness_perceptions_potentialoutliers['greenness_rating_num_absdifference'] = abs(greenness_perceptions_potentialoutliers['greenness_rating_num']-greenness_perceptions_potentialoutliers['greenness_rating_num_medianperplace'])"
   ]
  },
  {
   "cell_type": "code",
   "execution_count": null,
   "id": "d27fa5cc-9db7-45b4-a54e-62a62e55611a",
   "metadata": {},
   "outputs": [],
   "source": [
    "if print_and_plot:\n",
    "    greenness_perceptions_potentialoutliers.greenness_rating_num_difference.hist()"
   ]
  },
  {
   "cell_type": "code",
   "execution_count": null,
   "id": "312154b4-207b-4bcb-8f6a-5e32271ac8d0",
   "metadata": {},
   "outputs": [],
   "source": [
    "n_total = len(greenness_perceptions_potentialoutliers)"
   ]
  },
  {
   "cell_type": "code",
   "execution_count": null,
   "id": "ef3ac652-c782-481e-8939-4aca3be4f91c",
   "metadata": {},
   "outputs": [],
   "source": [
    "n_diff_0 = len(greenness_perceptions_potentialoutliers[greenness_perceptions_potentialoutliers.greenness_rating_num_absdifference==0])\n",
    "n_diff_1 = len(greenness_perceptions_potentialoutliers[(greenness_perceptions_potentialoutliers.greenness_rating_num_absdifference>0) & (greenness_perceptions_potentialoutliers.greenness_rating_num_absdifference<=1)])\n",
    "n_diff_2 = len(greenness_perceptions_potentialoutliers[(greenness_perceptions_potentialoutliers.greenness_rating_num_absdifference>1) & (greenness_perceptions_potentialoutliers.greenness_rating_num_absdifference<=2)])\n",
    "n_diff_more = len(greenness_perceptions_potentialoutliers[greenness_perceptions_potentialoutliers.greenness_rating_num_absdifference>2])"
   ]
  },
  {
   "cell_type": "code",
   "execution_count": null,
   "id": "9bc09323-b6ce-452f-bf72-aa7536a68527",
   "metadata": {},
   "outputs": [],
   "source": [
    "print('{}% of perceptions equal to place-median'.format(round(100*n_diff_0/n_total, 3)))\n",
    "print('{}% of perceptions not equal, but up to 1. from place-median'.format(round(100*n_diff_1/n_total, 3)))\n",
    "print('{}% of perceptions up to 2. (excluding 1.) from place-median'.format(round(100*n_diff_2/n_total, 3)))\n",
    "print('{}% of perceptions more than 2. from place-median'.format(round(100*n_diff_more/n_total, 3)))"
   ]
  },
  {
   "cell_type": "code",
   "execution_count": null,
   "id": "c3d8f6d2-c609-4f81-8a68-8621fb396226",
   "metadata": {},
   "outputs": [],
   "source": [
    "agreement_table_greenness = pd.DataFrame(columns=['0', '1', '2', '3', '4'])\n",
    "col = 'greenness_rating_num'\n",
    "\n",
    "for gsv_pano_id in greenness_perceptions.gsv_pano_id:\n",
    "    # get all ratings for this gsv_pano_id, and count occurrences per value\n",
    "    ratings = greenness_perceptions[greenness_perceptions.gsv_pano_id==gsv_pano_id][col].values.tolist()\n",
    "    # ignore gsv_pano_ids with less than 2 ratings\n",
    "    if len(ratings)>=2:\n",
    "        agreement_table_greenness.loc[gsv_pano_id] = [ratings.count(0), ratings.count(1), ratings.count(2), ratings.count(3), ratings.count(4)]"
   ]
  },
  {
   "cell_type": "code",
   "execution_count": null,
   "id": "4a5defaa-68e5-4f96-91e0-35d56c0531db",
   "metadata": {},
   "outputs": [],
   "source": [
    "agreement_table_physical = pd.DataFrame(columns=['0', '1', '2', '3', '4'])\n",
    "col = 'physical_rating_num'\n",
    "\n",
    "for gsv_pano_id in activity_perceptions.gsv_pano_id:\n",
    "    # get all ratings for this gsv_pano_id, and count occurrences per value\n",
    "    ratings = activity_perceptions[activity_perceptions.gsv_pano_id==gsv_pano_id][col].values.tolist()\n",
    "    # ignore gsv_pano_ids with less than 2 ratings\n",
    "    if len(ratings)>=2:\n",
    "        agreement_table_physical.loc[gsv_pano_id] = [ratings.count(0), ratings.count(1), ratings.count(2), ratings.count(3), ratings.count(4)]"
   ]
  },
  {
   "cell_type": "code",
   "execution_count": null,
   "id": "defbf15d-32d2-4cd1-900c-76b671149951",
   "metadata": {},
   "outputs": [],
   "source": [
    "agreement_table_social = pd.DataFrame(columns=['0', '1', '2', '3', '4'])\n",
    "col = 'social_rating_num'\n",
    "\n",
    "for gsv_pano_id in activity_perceptions.gsv_pano_id:\n",
    "    # get all ratings for this gsv_pano_id, and count occurrences per value\n",
    "    ratings = activity_perceptions[activity_perceptions.gsv_pano_id==gsv_pano_id][col].values.tolist()\n",
    "    # ignore gsv_pano_ids with less than 2 ratings\n",
    "    if len(ratings)>=2:\n",
    "        agreement_table_social.loc[gsv_pano_id] = [ratings.count(0), ratings.count(1), ratings.count(2), ratings.count(3), ratings.count(4)]"
   ]
  },
  {
   "cell_type": "code",
   "execution_count": null,
   "id": "84320397-ee42-44c9-8621-3b5db7f8dabd",
   "metadata": {},
   "outputs": [],
   "source": [
    "agreement_table_relax = pd.DataFrame(columns=['0', '1', '2', '3', '4'])\n",
    "col = 'relax_rating_num'\n",
    "\n",
    "for gsv_pano_id in activity_perceptions.gsv_pano_id:\n",
    "    # get all ratings for this gsv_pano_id, and count occurrences per value\n",
    "    ratings = activity_perceptions[activity_perceptions.gsv_pano_id==gsv_pano_id][col].values.tolist()\n",
    "    # ignore gsv_pano_ids with less than 2 ratings\n",
    "    if len(ratings)>=2:\n",
    "        agreement_table_relax.loc[gsv_pano_id] = [ratings.count(0), ratings.count(1), ratings.count(2), ratings.count(3), ratings.count(4)]"
   ]
  },
  {
   "cell_type": "code",
   "execution_count": null,
   "id": "b1a50060-8b10-46c3-94db-c6f3d7d05f76",
   "metadata": {},
   "outputs": [],
   "source": [
    "agreement_table_commute = pd.DataFrame(columns=['0', '1', '2', '3', '4'])\n",
    "col = 'commute_rating_num'\n",
    "\n",
    "for gsv_pano_id in activity_perceptions.gsv_pano_id:\n",
    "    # get all ratings for this gsv_pano_id, and count occurrences per value\n",
    "    ratings = activity_perceptions[activity_perceptions.gsv_pano_id==gsv_pano_id][col].values.tolist()\n",
    "    # ignore gsv_pano_ids with less than 2 ratings\n",
    "    if len(ratings)>=2:\n",
    "        agreement_table_commute.loc[gsv_pano_id] = [ratings.count(0), ratings.count(1), ratings.count(2), ratings.count(3), ratings.count(4)]"
   ]
  },
  {
   "cell_type": "code",
   "execution_count": null,
   "id": "61849703-3eb7-4c96-81f9-f5422da18f99",
   "metadata": {},
   "outputs": [],
   "source": [
    "agreement_table_children = pd.DataFrame(columns=['0', '1', '2', '3', '4'])\n",
    "col = 'children_rating_num'\n",
    "\n",
    "for gsv_pano_id in activity_perceptions.gsv_pano_id:\n",
    "    # get all ratings for this gsv_pano_id, and count occurrences per value\n",
    "    ratings = activity_perceptions[activity_perceptions.gsv_pano_id==gsv_pano_id][col].values.tolist()\n",
    "    # ignore gsv_pano_ids with less than 2 ratings\n",
    "    if len(ratings)>=2:\n",
    "        agreement_table_children.loc[gsv_pano_id] = [ratings.count(0), ratings.count(1), ratings.count(2), ratings.count(3), ratings.count(4)]"
   ]
  },
  {
   "cell_type": "code",
   "execution_count": null,
   "id": "46f8c745-67b1-411c-8ef2-259dc12a36bd",
   "metadata": {},
   "outputs": [],
   "source": [
    "export_sub_folder = os.path.join(confidential_folder, 'preprocessed', 'agreement')"
   ]
  },
  {
   "cell_type": "code",
   "execution_count": null,
   "id": "9e564b8a",
   "metadata": {},
   "outputs": [],
   "source": [
    "if not os.path.exists(export_sub_folder):\n",
    "    os.mkdir(export_sub_folder)"
   ]
  },
  {
   "cell_type": "code",
   "execution_count": null,
   "id": "dff3f4d1-277e-4a35-aaa9-828ca26d5764",
   "metadata": {},
   "outputs": [],
   "source": [
    "output_file = os.path.join(export_sub_folder, 'greenness_ratings_agreement_table.xlsx')\n",
    "agreement_table_greenness.to_excel(output_file)"
   ]
  },
  {
   "cell_type": "code",
   "execution_count": null,
   "id": "7a03b6d1-4e0f-46f0-9f84-9311a2a3281f",
   "metadata": {},
   "outputs": [],
   "source": [
    "output_file = os.path.join(export_sub_folder, 'physical_ratings_agreement_table.xlsx')\n",
    "agreement_table_physical.to_excel(output_file)"
   ]
  },
  {
   "cell_type": "code",
   "execution_count": null,
   "id": "f4ab9975-d2ea-4669-902b-6b80a60da04f",
   "metadata": {},
   "outputs": [],
   "source": [
    "output_file = os.path.join(export_sub_folder, 'social_ratings_agreement_table.xlsx')\n",
    "agreement_table_social.to_excel(output_file)"
   ]
  },
  {
   "cell_type": "code",
   "execution_count": null,
   "id": "61f68402-7687-4b5e-aab6-63f5d2578293",
   "metadata": {},
   "outputs": [],
   "source": [
    "output_file = os.path.join(export_sub_folder, 'relax_ratings_agreement_table.xlsx')\n",
    "agreement_table_relax.to_excel(output_file)"
   ]
  },
  {
   "cell_type": "code",
   "execution_count": null,
   "id": "ff091621-f12b-4cf2-b998-85f707eab983",
   "metadata": {},
   "outputs": [],
   "source": [
    "output_file = os.path.join(export_sub_folder, 'commute_ratings_agreement_table.xlsx')\n",
    "agreement_table_commute.to_excel(output_file)"
   ]
  },
  {
   "cell_type": "code",
   "execution_count": null,
   "id": "0cb556af-115f-482c-8df0-ffc0a5d32cb4",
   "metadata": {},
   "outputs": [],
   "source": [
    "output_file = os.path.join(export_sub_folder, 'children_ratings_agreement_table.xlsx')\n",
    "agreement_table_children.to_excel(output_file)"
   ]
  },
  {
   "cell_type": "markdown",
   "id": "b704d973-4597-4734-97d2-57730b57ab7b",
   "metadata": {},
   "source": [
    "## Demographics"
   ]
  },
  {
   "cell_type": "code",
   "execution_count": null,
   "id": "de7efba8-e4d7-45ad-bcc7-73eafc79f4b5",
   "metadata": {},
   "outputs": [],
   "source": [
    "perceptions.Age_Prolific = perceptions.Age_Prolific.replace({'': np.nan})\n",
    "perceptions.Age_Prolific = perceptions.Age_Prolific.astype(float)\n",
    "perceptions.Age_Prolific = perceptions.Age_Prolific.astype('Int64')"
   ]
  },
  {
   "cell_type": "code",
   "execution_count": null,
   "id": "9bb814a8-6062-4b39-a13b-1944eaa0d30d",
   "metadata": {},
   "outputs": [],
   "source": [
    "if print_and_plot:\n",
    "    print(perceptions[perceptions.Age_Prolific.isna()]['prolific_id'])"
   ]
  },
  {
   "cell_type": "code",
   "execution_count": null,
   "id": "302f389f-67e7-4302-83e5-f01f807d141e",
   "metadata": {},
   "outputs": [],
   "source": [
    "if print_and_plot:\n",
    "    fig, axs = plt.subplots(nrows=1, ncols=3, figsize=(20,4))\n",
    "\n",
    "    b = len(perceptions.pre_gender.unique())\n",
    "    perceptions.pre_gender.hist(ax=axs[0], color='#beaed4', bins=b, xrot=90)\n",
    "    axs[0].set_title('Participant genders')\n",
    "\n",
    "    b = len(perceptions.Age_Prolific.unique())\n",
    "    perceptions.Age_Prolific.hist(ax=axs[1], color='#fdc086', bins=b)\n",
    "    axs[1].set_title('Participant ages')\n",
    "\n",
    "    b = len(perceptions.pre_country.unique())\n",
    "    perceptions.pre_country.hist(ax=axs[2], color='#7fc97f', bins=b, xrot=90)\n",
    "    axs[2].set_title('Participant countries of residence')\n",
    "\n",
    "    plt.show()"
   ]
  },
  {
   "cell_type": "code",
   "execution_count": null,
   "id": "3d82bb4d-1111-4dd4-be62-b4846fe6de8b",
   "metadata": {},
   "outputs": [],
   "source": [
    "if print_and_plot:\n",
    "    for gender in perceptions.pre_gender.unique():\n",
    "        print('{}, n={}, {}%'.format(\n",
    "            gender, \n",
    "            len(perceptions[perceptions.pre_gender==gender]), \n",
    "            round(100*len(perceptions[perceptions.pre_gender==gender])/len(perceptions), 2)))"
   ]
  },
  {
   "cell_type": "code",
   "execution_count": null,
   "id": "c334bc74-4f9c-4ca1-b07f-c0ff6872d7e1",
   "metadata": {},
   "outputs": [],
   "source": [
    "if print_and_plot:\n",
    "    for age in perceptions.pre_age.unique():\n",
    "        print('{}, n={}, {}%'.format(\n",
    "            age, \n",
    "            len(perceptions[perceptions.pre_age==age]), \n",
    "            round(100*len(perceptions[perceptions.pre_age==age])/len(perceptions), 2)))"
   ]
  },
  {
   "cell_type": "code",
   "execution_count": null,
   "id": "06acca89-3e85-4eac-8989-250e6ce0e232",
   "metadata": {},
   "outputs": [],
   "source": [
    "if print_and_plot:\n",
    "    len(perceptions.pre_country.unique())"
   ]
  },
  {
   "cell_type": "code",
   "execution_count": null,
   "id": "9bbfda48-aedf-401f-a2b3-8bb65f5b8c8f",
   "metadata": {},
   "outputs": [],
   "source": [
    "# check demographics\n",
    "if print_and_plot:\n",
    "    n = len(perceptions)\n",
    "    print('{}% of participants live in a city'.format(round(100*len(perceptions[perceptions.post_city=='Yes'])/n, 2)))\n",
    "    print('{}% of participants have children'.format(round(100*len(perceptions[perceptions.post_children=='Yes'])/n, 2)))\n",
    "    print('{}% of participants are built environment professional'.format(round(100*len(perceptions[perceptions.post_profession_built=='Yes'])/n, 2)))\n",
    "    print('{}% of participants are health professional'.format(round(100*len(perceptions[perceptions.post_profession_health=='Yes'])/n, 2)))"
   ]
  },
  {
   "cell_type": "code",
   "execution_count": null,
   "id": "84a39e99-89a0-4929-9a5d-0affd456d498",
   "metadata": {},
   "outputs": [],
   "source": [
    "if print_and_plot:\n",
    "    n = len(perceptions)\n",
    "    print('{}% of participants found questions clear'.format(round(100*len(perceptions[perceptions.survey_questions_clear=='Yes'])/n, 2)))\n",
    "    print('{}% of participants panned panoramas around'.format(round(100*len(perceptions[perceptions.survey_questions_panned=='Yes'])/n, 2)))\n",
    "    print('{}% of participants did not walk in the panoramas'.format(round(100*len(perceptions[perceptions.survey_questions_walked=='No'])/n, 2)))\n",
    "    print('{}% of participants did not know places from personal experience'.format(round(100*len(perceptions[perceptions.survey_questions_knewplaces=='No'])/n, 2)))"
   ]
  },
  {
   "cell_type": "markdown",
   "id": "aabd962c-20e6-4b23-8363-150a7b7a3af0",
   "metadata": {},
   "source": [
    "## Ratings"
   ]
  },
  {
   "cell_type": "code",
   "execution_count": null,
   "id": "8172edd9-92d4-4f5f-87bf-48687e43b5d1",
   "metadata": {},
   "outputs": [],
   "source": [
    "if print_and_plot:\n",
    "    # 140 places per city (excluding the 3 reference-locations per city)\n",
    "    n_total = 140 * len(place_names)\n",
    "    print('{}/{} panoramas were not rated on activity by anyone'.format(n_total-len(activity_perceptions.groupby('gsv_pano_id')), n_total))"
   ]
  },
  {
   "cell_type": "code",
   "execution_count": null,
   "id": "d5fcb51f-122c-4f54-831c-488eca181212",
   "metadata": {},
   "outputs": [],
   "source": [
    "if print_and_plot:\n",
    "    print('Activity-ratings per location:\\nMean: {}\\nMedian: {}\\nMin: {}\\nMax: {}'.format(\n",
    "        round(activity_perceptions.groupby('gsv_pano_id')['prolific_id'].count().mean(), 2),\n",
    "        round(activity_perceptions.groupby('gsv_pano_id')['prolific_id'].count().median(), 2),\n",
    "        round(activity_perceptions.groupby('gsv_pano_id')['prolific_id'].count().min(), 2),\n",
    "        round(activity_perceptions.groupby('gsv_pano_id')['prolific_id'].count().max(), 2)))"
   ]
  },
  {
   "cell_type": "code",
   "execution_count": null,
   "id": "c4f4898a-5373-4fef-8b81-8daf2653f583",
   "metadata": {},
   "outputs": [],
   "source": [
    "if print_and_plot:\n",
    "    n_total = 140 * len(place_names)\n",
    "    print('{}/{} panoramas were not rated on greenness by anyone'.format(n_total-len(greenness_perceptions.groupby('gsv_pano_id')), n_total))"
   ]
  },
  {
   "cell_type": "code",
   "execution_count": null,
   "id": "e50b01e6-16b0-4f35-9597-778df577dba7",
   "metadata": {},
   "outputs": [],
   "source": [
    "if print_and_plot:\n",
    "    print('Greenness-ratings per location:\\nMean: {}\\nMedian: {}\\nMin: {}\\nMax: {}'.format(\n",
    "        round(greenness_perceptions.groupby('gsv_pano_id')['prolific_id'].count().mean(), 2),\n",
    "        round(greenness_perceptions.groupby('gsv_pano_id')['prolific_id'].count().median(), 2),\n",
    "        round(greenness_perceptions.groupby('gsv_pano_id')['prolific_id'].count().min(), 2),\n",
    "        round(greenness_perceptions.groupby('gsv_pano_id')['prolific_id'].count().max(), 2)))"
   ]
  },
  {
   "cell_type": "code",
   "execution_count": null,
   "id": "11ed7e4f-5219-4c67-aa8e-c764b510031e",
   "metadata": {},
   "outputs": [],
   "source": [
    "if print_and_plot:\n",
    "    fig, axs = plt.subplots(nrows=1, ncols=2, figsize=(20,5), sharey=True)\n",
    "\n",
    "    greenness_perceptions.iframe.hist(ax=axs[0], bins=len(greenness_perceptions.iframe.unique()))\n",
    "    axs[0].set_title('Greenness rating')\n",
    "\n",
    "    activity_perceptions.iframe.hist(ax=axs[1], bins=len(activity_perceptions.iframe.unique()))\n",
    "    axs[1].set_title('Physical activity rating')\n",
    "    \n",
    "    axs[0].get_xaxis().set_visible(False)\n",
    "    axs[1].get_xaxis().set_visible(False)\n",
    "\n",
    "    plt.show()"
   ]
  },
  {
   "cell_type": "code",
   "execution_count": null,
   "id": "71305af0-6ea0-4713-9ed7-30d464f621dd",
   "metadata": {},
   "outputs": [],
   "source": [
    "if print_and_plot:\n",
    "    fig, axs = plt.subplots(nrows=1, ncols=6, figsize=(20,5), sharey=True)\n",
    "\n",
    "    bins = [-0.5, 0.5, 1.5, 2.5, 3.5, 4.5]\n",
    "    \n",
    "    for ax in axs:\n",
    "        ax.xaxis.set_ticks([0, 1, 2, 3, 4])\n",
    "    \n",
    "    greenness_perceptions.greenness_rating_num.hist(ax=axs[0], bins=bins, rwidth=0.9, xrot=90)\n",
    "    axs[0].set_title('Greenness rating\\nMedian: {}'.format(round(greenness_perceptions.greenness_rating_num.median(), 1)))\n",
    "\n",
    "    activity_perceptions.physical_rating_num.hist(ax=axs[1], bins=bins, rwidth=0.9, xrot=90)\n",
    "    axs[1].set_title('Physical activity rating\\nMedian: {}'.format(round(activity_perceptions.physical_rating_num.median(), 1)))\n",
    "\n",
    "    activity_perceptions.social_rating_num.hist(ax=axs[2], bins=bins, rwidth=0.9, xrot=90)\n",
    "    axs[2].set_title('Social activity rating\\nMedian: {}'.format(round(activity_perceptions.social_rating_num.median(), 1)))\n",
    "\n",
    "    activity_perceptions.relax_rating_num.hist(ax=axs[3], bins=bins, rwidth=0.9, xrot=90)\n",
    "    axs[3].set_title('Relaxation activity rating\\nMedian: {}'.format(round(activity_perceptions.relax_rating_num.median(), 1)))\n",
    "\n",
    "    activity_perceptions.commute_rating_num.hist(ax=axs[4], bins=bins, rwidth=0.9, xrot=90)\n",
    "    axs[4].set_title('Commuting activity rating\\nMedian: {}'.format(round(activity_perceptions.commute_rating_num.median(), 3)))\n",
    "\n",
    "    activity_perceptions.children_rating_num.hist(ax=axs[5], bins=bins, rwidth=0.9, xrot=90)\n",
    "    axs[5].set_title('Children\\'s activity rating\\nMedian: {}'.format(round(activity_perceptions.children_rating_num.median(), 1)))\n",
    "    \n",
    "    for ax in axs:\n",
    "        labels = [item.get_text() for item in axs[0].get_xticklabels()]\n",
    "        if ax==axs[0]:\n",
    "            labels = ['not at all (0)', 'a little (1)', 'neutral (2)', 'fairly (3)', 'very (4)']\n",
    "        else:\n",
    "            labels = ['never (0)', 'rarely (1)', 'sometimes (2)', 'often (3)', 'always (4)']\n",
    "        ax.set_xticklabels(labels)\n",
    "\n",
    "    plt.show()"
   ]
  },
  {
   "cell_type": "code",
   "execution_count": null,
   "id": "144330e3-f2eb-4ee1-90cd-da668bdba0e6",
   "metadata": {},
   "outputs": [],
   "source": [
    "# are the ratings normally distributed?\n",
    "if print_and_plot:\n",
    "    print('Kolmogorov-Smirnov test, greenness: ', stats.kstest(greenness_perceptions.greenness_rating_num, 'norm'))\n",
    "    print('Kolmogorov-Smirnov test, physical: ', stats.kstest(activity_perceptions.physical_rating_num, 'norm'))\n",
    "    print('Kolmogorov-Smirnov test, social: ', stats.kstest(activity_perceptions.social_rating_num, 'norm'))\n",
    "    print('Kolmogorov-Smirnov test, relax: ', stats.kstest(activity_perceptions.relax_rating_num, 'norm'))\n",
    "    print('Kolmogorov-Smirnov test, commute: ', stats.kstest(activity_perceptions.commute_rating_num, 'norm'))\n",
    "    print('Kolmogorov-Smirnov test, children: ', stats.kstest(activity_perceptions.children_rating_num, 'norm'))\n",
    "    # -> none normally distributed"
   ]
  },
  {
   "cell_type": "markdown",
   "id": "2f7f48e6-cb6c-4748-92d5-5fe13aafc43d",
   "metadata": {},
   "source": [
    "#### Check ratings of reference-locations"
   ]
  },
  {
   "cell_type": "code",
   "execution_count": null,
   "id": "b8cde2d9-fcf5-44d9-9914-c5ad4f9947ce",
   "metadata": {},
   "outputs": [],
   "source": [
    "if print_and_plot:\n",
    "    \n",
    "    fig, axs = plt.subplots(nrows=1, ncols=6, figsize=(20,5), sharey=True)\n",
    "\n",
    "    bins=[-0.5, 0.5, 1.5, 2.5, 3.5, 4.5]\n",
    "    \n",
    "    greenness_perceptions_forreference.greenness_rating_num.hist(ax=axs[0], bins=bins, rwidth=0.9)\n",
    "    axs[0].set_title('Greenness rating')\n",
    "\n",
    "    activity_perceptions_forreference.physical_rating_num.hist(ax=axs[1], bins=bins, rwidth=0.9)\n",
    "    axs[1].set_title('Physical activity rating')\n",
    "\n",
    "    activity_perceptions_forreference.social_rating_num.hist(ax=axs[2], bins=bins, rwidth=0.9)\n",
    "    axs[2].set_title('Social activity rating')\n",
    "\n",
    "    activity_perceptions_forreference.relax_rating_num.hist(ax=axs[3], bins=bins, rwidth=0.9)\n",
    "    axs[3].set_title('Relaxation activity rating')\n",
    "\n",
    "    activity_perceptions_forreference.commute_rating_num.hist(ax=axs[4], bins=bins, rwidth=0.9)\n",
    "    axs[4].set_title('Commuting activity rating')\n",
    "\n",
    "    activity_perceptions_forreference.children_rating_num.hist(ax=axs[5], bins=bins, rwidth=0.9)\n",
    "    axs[5].set_title('Children\\'s activity rating')\n",
    "\n",
    "    plt.show()"
   ]
  },
  {
   "cell_type": "markdown",
   "id": "3ab23f3a-29c1-432b-bdcc-eb0bb136b184",
   "metadata": {},
   "source": [
    "#### Ratings in relation to demographics"
   ]
  },
  {
   "cell_type": "code",
   "execution_count": null,
   "id": "fc1332f9-394a-4659-aaf3-a7b359f86265",
   "metadata": {},
   "outputs": [],
   "source": [
    "if print_and_plot:\n",
    "    # difference in ratings between male and female?\n",
    "    women = perceptions[perceptions.pre_gender=='Female'].prolific_id.unique()\n",
    "    men = perceptions[perceptions.pre_gender=='Male'].prolific_id.unique()\n",
    "\n",
    "    x = greenness_perceptions[greenness_perceptions.prolific_id.isin(women)]\n",
    "    y = greenness_perceptions[greenness_perceptions.prolific_id.isin(men)]\n",
    "\n",
    "    col = 'greenness_rating_num'\n",
    "    print('Female vs. male, {} - {}'.format(col, stats.mannwhitneyu(x[col], y[col])))\n",
    "\n",
    "    x = activity_perceptions[activity_perceptions.prolific_id.isin(women)]\n",
    "    y = activity_perceptions[activity_perceptions.prolific_id.isin(men)]\n",
    "\n",
    "    col = 'physical_rating_num'\n",
    "    print('Female vs. male, {} - {}'.format(col, stats.mannwhitneyu(x[col], y[col])))\n",
    "\n",
    "    col = 'social_rating_num'\n",
    "    print('Female vs. male, {} - {}'.format(col, stats.mannwhitneyu(x[col], y[col])))\n",
    "\n",
    "    col = 'relax_rating_num'\n",
    "    print('Female vs. male, {} - {}'.format(col, stats.mannwhitneyu(x[col], y[col])))\n",
    "\n",
    "    col = 'commute_rating_num'\n",
    "    print('Female vs. male, {} - {}'.format(col, stats.mannwhitneyu(x[col], y[col])))\n",
    "\n",
    "    col = 'children_rating_num'\n",
    "    print('Female vs. male, {} - {}'.format(col, stats.mannwhitneyu(x[col], y[col])))"
   ]
  },
  {
   "cell_type": "code",
   "execution_count": null,
   "id": "0eda32e2-0c2f-4962-9cbc-39e537611aa8",
   "metadata": {},
   "outputs": [],
   "source": [
    "# explore in further detail: how do male vs. female participants perceive...\n",
    "if print_and_plot:\n",
    "    col = 'relax_rating_num'\n",
    "    statistic, pvalue = stats.mannwhitneyu(x[col], y[col])\n",
    "    if pvalue <= 0.01:\n",
    "        print('Significant difference {} between male and female participants'.format(col))\n",
    "        print('female {}: median {}; mean {}'.format(col, x[col].median(), x[col].mean()))\n",
    "        print('male {}: median {}, mean {}\\n'.format(col, y[col].median(), y[col].mean()))\n",
    "        \n",
    "    col = 'commute_rating_num'\n",
    "    statistic, pvalue = stats.mannwhitneyu(x[col], y[col])\n",
    "    if pvalue <= 0.01:\n",
    "        print('Significant difference {} between male and female participants'.format(col))\n",
    "        print('female {}: median {}; mean {}'.format(col, x[col].median(), x[col].mean()))\n",
    "        print('male {}: median {}, mean {}'.format(col, y[col].median(), y[col].mean()))"
   ]
  },
  {
   "cell_type": "code",
   "execution_count": null,
   "id": "067f5de9-7dd9-4301-9907-3a05eeb81908",
   "metadata": {
    "tags": []
   },
   "outputs": [],
   "source": [
    "if print_and_plot:\n",
    "    # difference in ratings between parents and non-parents?\n",
    "    parents = perceptions[perceptions.post_children=='Yes'].prolific_id.unique()\n",
    "    nonparents = perceptions[perceptions.post_children=='No'].prolific_id.unique()\n",
    "\n",
    "    x = greenness_perceptions[greenness_perceptions.prolific_id.isin(parents)]\n",
    "    y = greenness_perceptions[greenness_perceptions.prolific_id.isin(nonparents)]\n",
    "\n",
    "    col = 'greenness_rating_num'\n",
    "    print('Parent vs. non-parent, {} - {}'.format(col, stats.mannwhitneyu(x[col], y[col])))\n",
    "\n",
    "    x = activity_perceptions[activity_perceptions.prolific_id.isin(parents)]\n",
    "    y = activity_perceptions[activity_perceptions.prolific_id.isin(nonparents)]\n",
    "\n",
    "    col = 'children_rating_num'\n",
    "    print('Parent vs. non-parent, {} - {}'.format(col, stats.mannwhitneyu(x[col], y[col])))"
   ]
  },
  {
   "cell_type": "code",
   "execution_count": null,
   "id": "ceccd4ba-4c1f-4b92-8dce-4d9d8db824d2",
   "metadata": {},
   "outputs": [],
   "source": [
    "if print_and_plot:\n",
    "    # difference in ratings between city dwellers and non-city dwellers?\n",
    "    citydweller = perceptions[perceptions.post_city=='Yes'].prolific_id.unique()\n",
    "    noncitydweller = perceptions[perceptions.post_city=='No'].prolific_id.unique()\n",
    "\n",
    "    x = greenness_perceptions[greenness_perceptions.prolific_id.isin(citydweller)]\n",
    "    y = greenness_perceptions[greenness_perceptions.prolific_id.isin(noncitydweller)]\n",
    "\n",
    "    col = 'greenness_rating_num'\n",
    "    print('City dweller vs. non-city dweller, {} - {}'.format(col, stats.mannwhitneyu(x[col], y[col])))\n",
    "\n",
    "    x = activity_perceptions[activity_perceptions.prolific_id.isin(citydweller)]\n",
    "    y = activity_perceptions[activity_perceptions.prolific_id.isin(noncitydweller)]\n",
    "\n",
    "    col = 'physical_rating_num'\n",
    "    print('City dweller vs. non-city dweller, {} - {}'.format(col, stats.mannwhitneyu(x[col], y[col])))\n",
    "\n",
    "    col = 'social_rating_num'\n",
    "    print('City dweller vs. non-city dweller, {} - {}'.format(col, stats.mannwhitneyu(x[col], y[col])))\n",
    "\n",
    "    col = 'relax_rating_num'\n",
    "    print('City dweller vs. non-city dweller, {} - {}'.format(col, stats.mannwhitneyu(x[col], y[col])))\n",
    "\n",
    "    col = 'commute_rating_num'\n",
    "    print('City dweller vs. non-city dweller, {} - {}'.format(col, stats.mannwhitneyu(x[col], y[col])))\n",
    "\n",
    "    col = 'children_rating_num'\n",
    "    print('City dweller vs. non-city dweller, {} - {}'.format(col, stats.mannwhitneyu(x[col], y[col])))"
   ]
  },
  {
   "cell_type": "code",
   "execution_count": null,
   "id": "8bbd5a4e-bc51-4660-98ad-9d892225da9d",
   "metadata": {},
   "outputs": [],
   "source": [
    "# explore in further detail: how do city vs. non-city dwelling participants perceive suitability for commuting?\n",
    "if print_and_plot:\n",
    "    \n",
    "    col = 'physical_rating_num'\n",
    "    statistic, pvalue = stats.mannwhitneyu(x[col], y[col])\n",
    "    if pvalue <= 0.01:\n",
    "        print('Significant difference {} between city and non-city dwelling participants'.format(col))\n",
    "        print('city dweller {}: median {}; mean {}'.format(col, x[col].median(), x[col].mean()))\n",
    "        print('non-city dweller {}: median {}, mean {}\\n'.format(col, y[col].median(), y[col].mean()))\n",
    "    \n",
    "    col = 'commute_rating_num'\n",
    "    statistic, pvalue = stats.mannwhitneyu(x[col], y[col])\n",
    "    if pvalue <= 0.01:\n",
    "        print('Significant difference {} between city and non-city dwelling participants'.format(col))\n",
    "        print('city dweller {}: median {}; mean {}'.format(col, x[col].median(), x[col].mean()))\n",
    "        print('non-city dweller {}: median {}, mean {}'.format(col, y[col].median(), y[col].mean()))"
   ]
  },
  {
   "cell_type": "code",
   "execution_count": null,
   "id": "1817c2ba-8255-4854-b8e3-4395434a099f",
   "metadata": {
    "tags": []
   },
   "outputs": [],
   "source": [
    "if print_and_plot:\n",
    "    # difference in ratings between age groups\n",
    "    age_a = perceptions[perceptions.Age_Prolific<30].prolific_id.unique()\n",
    "    age_b = perceptions[(perceptions.Age_Prolific<40) & (perceptions.Age_Prolific>=30)].prolific_id.unique()\n",
    "    age_c = perceptions[(perceptions.Age_Prolific<50) & (perceptions.Age_Prolific>=40)].prolific_id.unique()\n",
    "    age_d = perceptions[(perceptions.Age_Prolific<60) & (perceptions.Age_Prolific>=50)].prolific_id.unique()\n",
    "    age_e = perceptions[perceptions.Age_Prolific>=60].prolific_id.unique()\n",
    "\n",
    "    a = greenness_perceptions[greenness_perceptions.prolific_id.isin(age_a)]\n",
    "    b = greenness_perceptions[greenness_perceptions.prolific_id.isin(age_b)]\n",
    "    c = greenness_perceptions[greenness_perceptions.prolific_id.isin(age_c)]\n",
    "    d = greenness_perceptions[greenness_perceptions.prolific_id.isin(age_d)]\n",
    "    e = greenness_perceptions[greenness_perceptions.prolific_id.isin(age_e)]\n",
    "\n",
    "    col = 'greenness_rating_num'\n",
    "    print('Various age groups, {} - {}'.format(col, stats.kruskal(a[col], b[col], c[col], d[col], e[col])))\n",
    "\n",
    "    headers = ['']\n",
    "    rows = []\n",
    "    name_cols = ['18-29', '30-39', '40-49', '50-59', '60+']\n",
    "    data_cols = [a[col], b[col], c[col], d[col], e[col]]\n",
    "    for i in range(len(data_cols)):\n",
    "        name_a = name_cols[i]\n",
    "        data_a = data_cols[i]\n",
    "        row = [name_a]\n",
    "        # print(type(name_a))\n",
    "        for j in range(len(data_cols)):\n",
    "            name_b = name_cols[j]\n",
    "            # print(type(name_b))\n",
    "            data_b = data_cols[j]\n",
    "            if name_a == name_b:\n",
    "                row.append('X')\n",
    "                break\n",
    "            else:\n",
    "                statistic, pvalue = stats.mannwhitneyu(data_a, data_b)\n",
    "                statistic = round(statistic, 3)\n",
    "                if pvalue <= 0.05:\n",
    "                    statistic = str(statistic)+'*'\n",
    "                    if pvalue <= 0.01:\n",
    "                        statistic = statistic+'*'\n",
    "                row.append(statistic)\n",
    "        headers.append(name_a)\n",
    "        rows.append(row)\n",
    "    print(tabulate(rows, headers=headers))"
   ]
  },
  {
   "cell_type": "markdown",
   "id": "6a0909be-4800-4175-9930-b17e6cd3a5b7",
   "metadata": {},
   "source": [
    "## Open answers"
   ]
  },
  {
   "cell_type": "markdown",
   "id": "323c401f-285a-4e01-89fb-1febaa8cb2ad",
   "metadata": {},
   "source": [
    "#### Random sample check of some open answers: quality and sensibility in relation to iframe"
   ]
  },
  {
   "cell_type": "code",
   "execution_count": null,
   "id": "5f66e45e-af40-418c-a8f0-2ee2e7c8ff17",
   "metadata": {},
   "outputs": [],
   "source": [
    "# for Pilot, GPT zero checks of 10 randomly selected answers resulted in\n",
    "# 'your text is likely to be written entirely by a human'"
   ]
  },
  {
   "cell_type": "code",
   "execution_count": null,
   "id": "dad851c0-a029-4a73-b444-df736694c615",
   "metadata": {},
   "outputs": [],
   "source": [
    "cols = ['physical_reason', 'social_reason', 'relax_reason', 'commute_reason', 'children_reason']"
   ]
  },
  {
   "cell_type": "code",
   "execution_count": null,
   "id": "f89301a5-da39-4fb3-bad9-1ea1bebd0150",
   "metadata": {},
   "outputs": [],
   "source": [
    "def print_random_reason_iframe():\n",
    "    col = random.choice(cols)\n",
    "    one_entry = activity_perceptions[activity_perceptions[col].notna()].sample(1)\n",
    "    i = one_entry.index[0]\n",
    "    reason = one_entry[col][i]\n",
    "    iframe = one_entry.iframe[i]\n",
    "    \n",
    "    print(col)\n",
    "    print(reason)\n",
    "    print(iframe)"
   ]
  },
  {
   "cell_type": "code",
   "execution_count": null,
   "id": "79aff39f-475b-4a32-8574-aa3ceaa50caf",
   "metadata": {
    "tags": []
   },
   "outputs": [],
   "source": [
    "if print_and_plot:\n",
    "    print_random_reason_iframe()"
   ]
  },
  {
   "cell_type": "code",
   "execution_count": null,
   "id": "e7f0c3fa-4f21-4bc0-aa6c-4a86be76a702",
   "metadata": {
    "tags": []
   },
   "outputs": [],
   "source": [
    "if print_and_plot:\n",
    "    print_random_reason_iframe()"
   ]
  },
  {
   "cell_type": "code",
   "execution_count": null,
   "id": "f33e36da-07ff-43ad-b4f7-c521038f663a",
   "metadata": {
    "tags": []
   },
   "outputs": [],
   "source": [
    "if print_and_plot:\n",
    "    print_random_reason_iframe()"
   ]
  },
  {
   "cell_type": "code",
   "execution_count": null,
   "id": "365ed450-a692-459e-93a4-76ee4784aca1",
   "metadata": {
    "tags": []
   },
   "outputs": [],
   "source": [
    "if print_and_plot:\n",
    "    print_random_reason_iframe()"
   ]
  },
  {
   "cell_type": "code",
   "execution_count": null,
   "id": "9564b908-ce61-4c1a-b9ed-99adaad3fadf",
   "metadata": {
    "tags": []
   },
   "outputs": [],
   "source": [
    "if print_and_plot:\n",
    "    print_random_reason_iframe()"
   ]
  },
  {
   "cell_type": "code",
   "execution_count": null,
   "id": "5df68a5c-544e-4311-8780-c4514f8a96dd",
   "metadata": {},
   "outputs": [],
   "source": [
    "cols = ['greenness_reason']"
   ]
  },
  {
   "cell_type": "code",
   "execution_count": null,
   "id": "8e0066f6-1612-417e-8ce6-e4558d145b18",
   "metadata": {},
   "outputs": [],
   "source": [
    "def print_random_reason_iframe():\n",
    "    col = random.choice(cols)\n",
    "    one_entry = greenness_perceptions[greenness_perceptions[col].notna()].sample(1)\n",
    "    i = one_entry.index[0]\n",
    "    reason = one_entry[col][i]\n",
    "    iframe = one_entry.iframe[i]\n",
    "    \n",
    "    print(col)\n",
    "    print(reason)\n",
    "    print(iframe)"
   ]
  },
  {
   "cell_type": "code",
   "execution_count": null,
   "id": "9135d542-c408-4b8c-bdbc-5c835d74ac9c",
   "metadata": {
    "tags": []
   },
   "outputs": [],
   "source": [
    "if print_and_plot:\n",
    "    print_random_reason_iframe()"
   ]
  },
  {
   "cell_type": "code",
   "execution_count": null,
   "id": "ae9b5378-2e21-48ff-8d09-ac720fbcf54e",
   "metadata": {
    "tags": []
   },
   "outputs": [],
   "source": [
    "if print_and_plot:\n",
    "    print_random_reason_iframe()"
   ]
  },
  {
   "cell_type": "code",
   "execution_count": null,
   "id": "ada33b6a-dae0-4617-8d22-c26ae10b47b6",
   "metadata": {
    "tags": []
   },
   "outputs": [],
   "source": [
    "if print_and_plot:\n",
    "    print_random_reason_iframe()"
   ]
  },
  {
   "cell_type": "code",
   "execution_count": null,
   "id": "1255ee85-b349-4c9e-81de-ea135d4f311a",
   "metadata": {
    "tags": []
   },
   "outputs": [],
   "source": [
    "if print_and_plot:\n",
    "    print_random_reason_iframe()"
   ]
  },
  {
   "cell_type": "code",
   "execution_count": null,
   "id": "3ef8bd1f-11d8-45d5-aff3-635fef9f709f",
   "metadata": {
    "tags": []
   },
   "outputs": [],
   "source": [
    "if print_and_plot:\n",
    "    print_random_reason_iframe()"
   ]
  },
  {
   "cell_type": "markdown",
   "id": "b27cc175-3f41-46a9-9d71-8c5ffa00de3e",
   "metadata": {},
   "source": [
    "#### All open answers sensibility check"
   ]
  },
  {
   "cell_type": "code",
   "execution_count": null,
   "id": "3b71e6d5-5a7a-4335-903a-71bae405dd71",
   "metadata": {},
   "outputs": [],
   "source": [
    "n_max = 20"
   ]
  },
  {
   "cell_type": "code",
   "execution_count": null,
   "id": "3e291c36-dccd-4fca-8784-11a03ede3b6c",
   "metadata": {
    "tags": []
   },
   "outputs": [],
   "source": [
    "col = 'physical_reason'\n",
    "if print_and_plot:\n",
    "    n = 0\n",
    "    for answer in activity_perceptions[col]:\n",
    "        if n >= n_max:\n",
    "            break\n",
    "        if not answer == 'nan':\n",
    "            print(answer.replace('\\n', ''))\n",
    "            n += 1"
   ]
  },
  {
   "cell_type": "code",
   "execution_count": null,
   "id": "71c121cb-96ad-4631-a8c2-0a531dd414cd",
   "metadata": {
    "tags": []
   },
   "outputs": [],
   "source": [
    "col = 'social_reason'\n",
    "if print_and_plot:\n",
    "    n = 0\n",
    "    for answer in activity_perceptions[col]:\n",
    "        if n >= n_max:\n",
    "            break\n",
    "        if not answer == 'nan':\n",
    "            print(answer.replace('\\n', ''))\n",
    "            n += 1"
   ]
  },
  {
   "cell_type": "code",
   "execution_count": null,
   "id": "adce5b3f-ac8f-4ab9-bbc1-5f932015b7a1",
   "metadata": {
    "tags": []
   },
   "outputs": [],
   "source": [
    "col = 'relax_reason'\n",
    "if print_and_plot:\n",
    "    n = 0\n",
    "    for answer in activity_perceptions[col]:\n",
    "        if n >= n_max:\n",
    "            break\n",
    "        if not answer == 'nan':\n",
    "            print(answer.replace('\\n', ''))\n",
    "            n += 1"
   ]
  },
  {
   "cell_type": "code",
   "execution_count": null,
   "id": "05c3d1f4-2ff2-49ca-be10-f982337a63bb",
   "metadata": {
    "tags": []
   },
   "outputs": [],
   "source": [
    "col = 'commute_reason'\n",
    "if print_and_plot:\n",
    "    n = 0\n",
    "    for answer in activity_perceptions[col]:\n",
    "        if n >= n_max:\n",
    "            break\n",
    "        if not answer == 'nan':\n",
    "            print(answer.replace('\\n', ''))\n",
    "            n += 1"
   ]
  },
  {
   "cell_type": "code",
   "execution_count": null,
   "id": "6d2f3562-183d-4db8-b4c8-0e8da739a60b",
   "metadata": {
    "tags": []
   },
   "outputs": [],
   "source": [
    "col = 'children_reason'\n",
    "if print_and_plot:\n",
    "    n = 0\n",
    "    for answer in activity_perceptions[col]:\n",
    "        if n >= n_max:\n",
    "            break\n",
    "        if not answer == 'nan':\n",
    "            print(answer.replace('\\n', ''))\n",
    "            n += 1"
   ]
  },
  {
   "cell_type": "code",
   "execution_count": null,
   "id": "9970c8fe-13d6-4d85-a9f2-3f91d9185d28",
   "metadata": {
    "tags": []
   },
   "outputs": [],
   "source": [
    "col = 'greenness_reason'\n",
    "if print_and_plot:\n",
    "    n = 0\n",
    "    for answer in greenness_perceptions[col]:\n",
    "        if n >= n_max:\n",
    "            break\n",
    "        if not answer == 'nan':\n",
    "            print(answer.replace('\\n', ''))\n",
    "            n += 1"
   ]
  }
 ],
 "metadata": {
  "kernelspec": {
   "display_name": "Python 3 (ipykernel)",
   "language": "python",
   "name": "python3"
  },
  "language_info": {
   "codemirror_mode": {
    "name": "ipython",
    "version": 3
   },
   "file_extension": ".py",
   "mimetype": "text/x-python",
   "name": "python",
   "nbconvert_exporter": "python",
   "pygments_lexer": "ipython3",
   "version": "3.9.12"
  }
 },
 "nbformat": 4,
 "nbformat_minor": 5
}

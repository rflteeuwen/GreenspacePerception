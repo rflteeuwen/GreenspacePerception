{
 "cells": [
  {
   "cell_type": "markdown",
   "id": "448511d1-47b5-42bc-9e40-c58bfb30835c",
   "metadata": {},
   "source": [
    "# Step 7. Quantitative analysis of results"
   ]
  },
  {
   "cell_type": "code",
   "execution_count": 1,
   "id": "d843fc1a-57e4-4b14-a549-0f63cfb7f2ab",
   "metadata": {},
   "outputs": [],
   "source": [
    "import os\n",
    "import datetime\n",
    "\n",
    "import numpy as np\n",
    "import scipy\n",
    "import fiona\n",
    "import statistics\n",
    "import math\n",
    "import itertools\n",
    "\n",
    "import pandas as pd\n",
    "import geopandas as gpd\n",
    "from shapely.geometry import LineString, shape, mapping, Point, Polygon, MultiPolygon\n",
    "from shapely.ops import cascaded_union, transform\n",
    "import pyproj\n",
    "\n",
    "import matplotlib.pyplot as plt\n",
    "from matplotlib import colors, cm, style\n",
    "import matplotlib.patches as mpatches\n",
    "# from descartes import PolygonPatch\n",
    "from matplotlib.colors import LinearSegmentedColormap\n",
    "from matplotlib_venn import venn2, venn3, venn2_circles, venn2_unweighted\n",
    "\n",
    "import osmnx as ox\n",
    "import networkx as nx\n",
    "\n",
    "import rasterio\n",
    "from rasterio import MemoryFile\n",
    "from rasterio.plot import show\n",
    "from rasterio.mask import mask\n",
    "import json\n",
    "\n",
    "import contextily as cx\n",
    "import folium\n",
    "from folium.features import DivIcon\n",
    "\n",
    "import random"
   ]
  },
  {
   "cell_type": "code",
   "execution_count": 2,
   "id": "5dcfa919-12f6-4d34-a8d6-c99b0975c212",
   "metadata": {},
   "outputs": [],
   "source": [
    "from getpass import getpass\n",
    "\n",
    "import requests\n",
    "from requests import Request, Session\n",
    "\n",
    "import hashlib\n",
    "import hmac\n",
    "import base64\n",
    "import urllib.parse as urlparse\n",
    "\n",
    "from datetime import date\n",
    "import matplotlib.pyplot as plt\n",
    "import matplotlib.image as mpimg"
   ]
  },
  {
   "cell_type": "code",
   "execution_count": 3,
   "id": "1d59717b-7ac9-4ba2-9d36-f02b93fa90b7",
   "metadata": {},
   "outputs": [],
   "source": [
    "from scipy import stats\n",
    "import seaborn as sns\n",
    "from tabulate import tabulate"
   ]
  },
  {
   "cell_type": "markdown",
   "id": "683e3533-dee6-43b7-9ad1-1c8b790e9a6b",
   "metadata": {},
   "source": [
    "## Define city and other settings"
   ]
  },
  {
   "cell_type": "code",
   "execution_count": 4,
   "id": "7005e8cf-46d6-4c72-a8de-9d49f7951211",
   "metadata": {},
   "outputs": [],
   "source": [
    "place_names = ['Barcelona', 'Rotterdam', 'Goteborg']"
   ]
  },
  {
   "cell_type": "code",
   "execution_count": 5,
   "id": "ba0b7e8e-98e9-4747-b0c5-b1bc71117a14",
   "metadata": {},
   "outputs": [],
   "source": [
    "radius = 300"
   ]
  },
  {
   "cell_type": "code",
   "execution_count": 6,
   "id": "f1b087df-cce2-4736-b4dc-c6ec49d1442a",
   "metadata": {},
   "outputs": [],
   "source": [
    "print_and_plot = False"
   ]
  },
  {
   "cell_type": "code",
   "execution_count": 7,
   "id": "7086bd9d-abfe-4224-b829-2fadb9382a3b",
   "metadata": {},
   "outputs": [],
   "source": [
    "print_qualitative_locations = False"
   ]
  },
  {
   "cell_type": "code",
   "execution_count": 8,
   "id": "d2b662ae-6297-4ed7-bf1f-7a5a11fba05b",
   "metadata": {},
   "outputs": [],
   "source": [
    "print_qualitative_perceptions = False"
   ]
  },
  {
   "cell_type": "code",
   "execution_count": 9,
   "id": "75b73cda-46ac-4b5f-bbf1-3abe733bff06",
   "metadata": {},
   "outputs": [],
   "source": [
    "print_qualitative_html = False"
   ]
  },
  {
   "cell_type": "code",
   "execution_count": 10,
   "id": "87bb96f2-4c05-4578-93bf-52ddf84964dd",
   "metadata": {},
   "outputs": [],
   "source": [
    "confidential_folder = os.path.expanduser('~/confidential_folder')\n",
    "confidential_folder = os.path.expanduser('/Users/roosteeuwen/surfdrive/User studies/Crowd-sourcing/City perception')"
   ]
  },
  {
   "cell_type": "code",
   "execution_count": 11,
   "id": "942c1a16-db40-48e5-b867-4618bda1000d",
   "metadata": {},
   "outputs": [],
   "source": [
    "# set random seed for generating random numbers\n",
    "# and for sampling rows from geodataframes\n",
    "random_state = 42\n",
    "random.seed(random_state)"
   ]
  },
  {
   "cell_type": "markdown",
   "id": "114cf7e5-f010-4d1d-a84e-a08f1cb4870c",
   "metadata": {},
   "source": [
    "## Read and preprocess data"
   ]
  },
  {
   "cell_type": "code",
   "execution_count": 12,
   "id": "91821b65-a8d1-42f6-a563-8df2028507ea",
   "metadata": {},
   "outputs": [],
   "source": [
    "activity_perceptions = gpd.GeoDataFrame()\n",
    "greenness_perceptions = gpd.GeoDataFrame()\n",
    "activity_perception_points = gpd.GeoDataFrame()\n",
    "greenness_perception_points = gpd.GeoDataFrame()"
   ]
  },
  {
   "cell_type": "code",
   "execution_count": 13,
   "id": "39be84a8-ca77-4687-921f-8fcd9d029022",
   "metadata": {},
   "outputs": [],
   "source": [
    "for place_name in place_names:\n",
    "\n",
    "    activity_perceptions_place = gpd.read_file(os.path.join(confidential_folder, 'preprocessed', 'radius_{}'.format(radius), 'activity_perceptions_{}.geojson'.format(place_name)))\n",
    "    greenness_perceptions_place = gpd.read_file(os.path.join(confidential_folder, 'preprocessed', 'radius_{}'.format(radius), 'greenness_perceptions_{}.geojson'.format(place_name)))\n",
    "    activity_perception_points_place = gpd.read_file(os.path.join(confidential_folder, 'preprocessed', 'radius_{}'.format(radius), 'activity_perception_points_{}.geojson'.format(place_name)))\n",
    "    greenness_perception_points_place = gpd.read_file(os.path.join(confidential_folder, 'preprocessed', 'radius_{}'.format(radius), 'greenness_perception_points_{}.geojson'.format(place_name)))\n",
    "\n",
    "    activity_perceptions_place['place_name'] = place_name\n",
    "    greenness_perceptions_place['place_name'] = place_name\n",
    "    activity_perception_points_place['place_name'] = place_name\n",
    "    greenness_perception_points_place['place_name'] = place_name\n",
    "\n",
    "    activity_perceptions = pd.concat([activity_perceptions, activity_perceptions_place])#.reset_index(drop=True)\n",
    "    greenness_perceptions = pd.concat([greenness_perceptions, greenness_perceptions_place])#.reset_index(drop=True)\n",
    "    activity_perception_points = pd.concat([activity_perception_points, activity_perception_points_place])#.reset_index(drop=True)\n",
    "    greenness_perception_points = pd.concat([greenness_perception_points, greenness_perception_points_place])#.reset_index(drop=True)"
   ]
  },
  {
   "cell_type": "code",
   "execution_count": 14,
   "id": "04992242-c7fd-4034-8fe7-a1dd524a5f86",
   "metadata": {},
   "outputs": [],
   "source": [
    "activity_perceptions = activity_perceptions[activity_perceptions.place_category!='for_reference']\n",
    "greenness_perceptions = greenness_perceptions[greenness_perceptions.place_category!='for_reference']\n",
    "activity_perception_points = activity_perception_points[activity_perception_points.place_category!='for_reference']\n",
    "greenness_perception_points = greenness_perception_points[greenness_perception_points.place_category!='for_reference']"
   ]
  },
  {
   "cell_type": "code",
   "execution_count": 15,
   "id": "827074e6-7899-4151-a206-f35d46170f1a",
   "metadata": {
    "tags": []
   },
   "outputs": [],
   "source": [
    "num_fields = ['clicks', 'physical_rating_num', 'social_rating_num', 'relax_rating_num', 'commute_rating_num', 'children_rating_num']\n",
    "for nf in num_fields:\n",
    "    activity_perceptions[nf] = activity_perceptions[nf].astype(float)\n",
    "    activity_perceptions[nf] = activity_perceptions[nf].astype(int)\n",
    "# activity_perceptions['ndvi_median'] = activity_perceptions['ndvi_median'].astype(float)\n",
    "# activity_perceptions['ndvi_max'] = activity_perceptions['ndvi_max'].astype(float)\n",
    "activity_perceptions.replace({\n",
    "    'near_regular_greenspace': {'True': True, 'False': False}, \n",
    "    'near_pocket_greenspace': {'True': True, 'False': False}, \n",
    "    'near_square': {'True': True, 'False': False}, \n",
    "    'near_playspace': {'True': True, 'False': False}, \n",
    "    'near_street': {'True': True, 'False': False}}, \n",
    "    inplace=True)"
   ]
  },
  {
   "cell_type": "code",
   "execution_count": 16,
   "id": "e17028de-1455-4b0e-b3a1-0beff88b7f79",
   "metadata": {},
   "outputs": [],
   "source": [
    "num_fields = ['clicks', 'greenness_rating_num']\n",
    "for nf in num_fields:\n",
    "    greenness_perceptions[nf] = greenness_perceptions[nf].astype(float)\n",
    "    greenness_perceptions[nf] = greenness_perceptions[nf].astype(int)\n",
    "# greenness_perceptions['ndvi_median'] = greenness_perceptions['ndvi_median'].astype(float)\n",
    "# greenness_perceptions['ndvi_max'] = greenness_perceptions['ndvi_max'].astype(float)\n",
    "greenness_perceptions.replace({\n",
    "    'near_regular_greenspace': {'True': True, 'False': False}, \n",
    "    'near_pocket_greenspace': {'True': True, 'False': False}, \n",
    "    'near_square': {'True': True, 'False': False}, \n",
    "    'near_playspace': {'True': True, 'False': False}, \n",
    "    'near_street': {'True': True, 'False': False}}, \n",
    "    inplace=True)"
   ]
  },
  {
   "cell_type": "code",
   "execution_count": 17,
   "id": "93370221-b8ca-44c4-bde7-7942c280979d",
   "metadata": {
    "tags": []
   },
   "outputs": [],
   "source": [
    "num_fields = ['clicks', 'physical_rating_num', 'social_rating_num', 'relax_rating_num', 'commute_rating_num', 'children_rating_num']\n",
    "for nf in num_fields:\n",
    "    activity_perception_points[nf] = activity_perception_points[nf].astype(float)\n",
    "    activity_perception_points[nf] = activity_perception_points[nf].astype(int)\n",
    "activity_perception_points['ndvi_median'] = activity_perception_points['ndvi_median'].astype(float)\n",
    "activity_perception_points['ndvi_max'] = activity_perception_points['ndvi_max'].astype(float)\n",
    "activity_perception_points.replace({\n",
    "    'near_regular_greenspace': {'True': True, 'False': False}, \n",
    "    'near_pocket_greenspace': {'True': True, 'False': False}, \n",
    "    'near_square': {'True': True, 'False': False}, \n",
    "    'near_playspace': {'True': True, 'False': False}, \n",
    "    'near_street': {'True': True, 'False': False}}, \n",
    "    inplace=True)"
   ]
  },
  {
   "cell_type": "code",
   "execution_count": 18,
   "id": "dd85f5b2-c60b-4845-9dd1-18b2121ee488",
   "metadata": {},
   "outputs": [],
   "source": [
    "num_fields = ['clicks', 'greenness_rating_num']\n",
    "for nf in num_fields:\n",
    "    greenness_perception_points[nf] = greenness_perception_points[nf].astype(float)\n",
    "    greenness_perception_points[nf] = greenness_perception_points[nf].astype(int)\n",
    "greenness_perception_points['ndvi_median'] = greenness_perception_points['ndvi_median'].astype(float)\n",
    "greenness_perception_points['ndvi_max'] = greenness_perception_points['ndvi_max'].astype(float)\n",
    "greenness_perception_points.replace({\n",
    "    'near_regular_greenspace': {'True': True, 'False': False}, \n",
    "    'near_pocket_greenspace': {'True': True, 'False': False}, \n",
    "    'near_square': {'True': True, 'False': False}, \n",
    "    'near_playspace': {'True': True, 'False': False}, \n",
    "    'near_street': {'True': True, 'False': False}}, \n",
    "    inplace=True)"
   ]
  },
  {
   "cell_type": "markdown",
   "id": "e3a7f926-2b2d-484b-b116-b76552f6be86",
   "metadata": {},
   "source": [
    "## Aggregate per place"
   ]
  },
  {
   "cell_type": "code",
   "execution_count": 19,
   "id": "9da05510-8fc0-43d5-9cd9-bf78d66fdf5f",
   "metadata": {},
   "outputs": [],
   "source": [
    "def perceptions_per_place(gdf, rating_cols):\n",
    "    \n",
    "    gdf = gdf.copy()\n",
    "    \n",
    "    cols = [\n",
    "        'gsv_pano_id', 'iframe', 'ndvi_median', 'place_name',\n",
    "        'near_regular_greenspace', 'near_pocket_greenspace', 'near_square', 'near_playspace', 'near_street', \n",
    "        'geometry']\n",
    "    cols = cols + rating_cols\n",
    "    if 'ndvi_max' in gdf.columns.to_list():\n",
    "        cols = cols + ['ndvi_max']\n",
    "    \n",
    "    for rating_col in rating_cols:\n",
    "        gdf[rating_col] = gdf[rating_col].astype(float)\n",
    "        \n",
    "    gdf['near_regular_greenspace'] = gdf['near_regular_greenspace'].astype(float)\n",
    "    gdf['near_pocket_greenspace'] = gdf['near_pocket_greenspace'].astype(bool)\n",
    "    gdf['near_square'] = gdf['near_square'].astype(bool)\n",
    "    gdf['near_playspace'] = gdf['near_playspace'].astype(bool)\n",
    "    gdf['near_street'] = gdf['near_street'].astype(bool)\n",
    "            \n",
    "    gdf_perplace = gdf[cols].groupby(['gsv_pano_id']).median()\n",
    "        \n",
    "    gdf_perplace['near_regular_greenspace'] = gdf_perplace['near_regular_greenspace'].astype(bool)\n",
    "    gdf_perplace['near_pocket_greenspace'] = gdf_perplace['near_pocket_greenspace'].astype(bool)\n",
    "    gdf_perplace['near_square'] = gdf_perplace['near_square'].astype(bool)\n",
    "    gdf_perplace['near_playspace'] = gdf_perplace['near_playspace'].astype(bool)\n",
    "    gdf_perplace['near_street'] = gdf_perplace['near_street'].astype(bool)\n",
    "        \n",
    "    gdf_perplace = gdf_perplace.merge(gdf[['gsv_pano_id', 'place_name', 'geometry']], how='left', left_on='gsv_pano_id', right_on='gsv_pano_id')\n",
    "    gdf_perplace.drop_duplicates(subset=['gsv_pano_id'], keep='first', inplace=True)\n",
    "        \n",
    "    return gdf_perplace"
   ]
  },
  {
   "cell_type": "code",
   "execution_count": 20,
   "id": "41b4a401-611f-4e0b-bdaf-d5484d133928",
   "metadata": {},
   "outputs": [],
   "source": [
    "activity_perceptions_perplace = perceptions_per_place(activity_perceptions, ['physical_rating_num', 'social_rating_num', 'relax_rating_num', 'commute_rating_num', 'children_rating_num'])"
   ]
  },
  {
   "cell_type": "code",
   "execution_count": 21,
   "id": "5474eb73-6301-4ea6-ab2c-a075c725f9cf",
   "metadata": {},
   "outputs": [],
   "source": [
    "greenness_perceptions_perplace = perceptions_per_place(greenness_perceptions, ['greenness_rating_num'])"
   ]
  },
  {
   "cell_type": "code",
   "execution_count": 22,
   "id": "7187e65f-4e49-467d-96fc-1724d70aca59",
   "metadata": {},
   "outputs": [],
   "source": [
    "activity_perception_points_perplace = perceptions_per_place(activity_perception_points, ['physical_rating_num', 'social_rating_num', 'relax_rating_num', 'commute_rating_num', 'children_rating_num'])"
   ]
  },
  {
   "cell_type": "code",
   "execution_count": 23,
   "id": "738dcb18-5251-4bdd-b2da-0d56628c206a",
   "metadata": {},
   "outputs": [],
   "source": [
    "greenness_perception_points_perplace = perceptions_per_place(greenness_perception_points, ['greenness_rating_num'])"
   ]
  },
  {
   "cell_type": "code",
   "execution_count": 24,
   "id": "d51b31db-0307-4ef2-871e-37a6172855ba",
   "metadata": {},
   "outputs": [],
   "source": [
    "# places with 5 or more ratings\n",
    "gsv_pano_ids_5plusratings = pd.Series(greenness_perceptions.gsv_pano_id.value_counts()>=5)\n",
    "greenness_perception_points_perplace_5plusratings = greenness_perception_points_perplace[greenness_perception_points_perplace.gsv_pano_id.isin(gsv_pano_ids_5plusratings[gsv_pano_ids_5plusratings].index)]"
   ]
  },
  {
   "cell_type": "code",
   "execution_count": 25,
   "id": "2d5dff87-26c0-474f-9383-ab6e83503af5",
   "metadata": {},
   "outputs": [],
   "source": [
    "if print_and_plot:\n",
    "    gdf = greenness_perception_points_perplace\n",
    "    print('n={}'.format(len(gdf)))\n",
    "    print('n greenness perceptions={}'.format(len(greenness_perception_points)))\n",
    "    print('n activity perceptions={}'.format(len(activity_perception_points)))\n",
    "    print('ndvi median {}; min {}; max {}'.format(round(gdf.ndvi_median.median(), 3), round(gdf.ndvi_median.min(), 3), round(gdf.ndvi_median.max(), 3)))\n",
    "    print('ndvi max {}; min {}; max {}'.format(round(gdf.ndvi_max.median(), 3), round(gdf.ndvi_max.min(), 3), round(gdf.ndvi_max.max(), 3)))\n",
    "    print('regular gs, n={}'.format(len(gdf[gdf.near_regular_greenspace])))\n",
    "    print('pocket gs, n={}'.format(len(gdf[gdf.near_pocket_greenspace])))\n",
    "    print('square, n={}'.format(len(gdf[gdf.near_square])))\n",
    "    print('playspace, n={}'.format(len(gdf[gdf.near_playspace])))\n",
    "    print('street, n={}'.format(len(gdf[gdf.near_street])))"
   ]
  },
  {
   "cell_type": "code",
   "execution_count": 26,
   "id": "f0259c1d-520e-43c1-a8c9-7d184e715a29",
   "metadata": {},
   "outputs": [],
   "source": [
    "if print_and_plot:\n",
    "    for place_name in place_names:\n",
    "        gdf = greenness_perception_points_perplace[greenness_perception_points_perplace.place_name==place_name]\n",
    "        gdf_green_perc = greenness_perception_points[greenness_perception_points.place_name==place_name]\n",
    "        gdf_act_perc = activity_perception_points[activity_perception_points.place_name==place_name]\n",
    "        print(place_name)\n",
    "        print('n={}'.format(len(gdf)))\n",
    "        print('n greenness perceptions={}'.format(len(gdf_green_perc)))\n",
    "        print('n activity perceptions={}'.format(len(gdf_act_perc)))\n",
    "        print('ndvi median {}; min {}; max {}'.format(round(gdf.ndvi_median.median(), 3), round(gdf.ndvi_median.min(), 3), round(gdf.ndvi_median.max(), 3)))\n",
    "        print('ndvi max {}; min {}; max {}'.format(round(gdf.ndvi_max.median(), 3), round(gdf.ndvi_max.min(), 3), round(gdf.ndvi_max.max(), 3)))\n",
    "        print('regular gs, n={}'.format(len(gdf[gdf.near_regular_greenspace])))\n",
    "        print('pocket gs, n={}'.format(len(gdf[gdf.near_pocket_greenspace])))\n",
    "        print('square, n={}'.format(len(gdf[gdf.near_square])))\n",
    "        print('playspace, n={}'.format(len(gdf[gdf.near_playspace])))\n",
    "        print('street, n={}'.format(len(gdf[gdf.near_street])))\n",
    "        print('')"
   ]
  },
  {
   "cell_type": "markdown",
   "id": "ea3c2a25-4205-4f55-b373-223c08d48fb3",
   "metadata": {},
   "source": [
    "# Plot"
   ]
  },
  {
   "cell_type": "code",
   "execution_count": 27,
   "id": "2860e950-b629-4211-b00c-492addf51ee2",
   "metadata": {},
   "outputs": [],
   "source": [
    "mycmap = LinearSegmentedColormap.from_list('mycmap', [(0, '#d01c8b'), (0.5, '#fdb863'), (1, '#4dac26')])"
   ]
  },
  {
   "cell_type": "code",
   "execution_count": 28,
   "id": "4f3f9431-0a3c-4714-aa19-3f751c2c7ad0",
   "metadata": {},
   "outputs": [],
   "source": [
    "if print_and_plot:\n",
    "    fig, axs = plt.subplots(nrows=1, ncols=3, figsize=(30,13))\n",
    "    fig.suptitle('Sampled locations and their median greenness rating', fontsize=40, y=1)\n",
    "\n",
    "    greenness_perception_points_perplace[greenness_perception_points_perplace.place_name=='Barcelona'].set_geometry(greenness_perception_points_perplace.geometry.centroid).plot(\n",
    "        ax=axs[0], column='greenness_rating_num', cmap=mycmap, categorical=True, markersize=100)\n",
    "    cx.add_basemap(ax=axs[0], crs='epsg:25830', source=cx.providers.OpenStreetMap.Mapnik, alpha=0.5, zorder=0)\n",
    "    axs[0].set_title('Barcelona', fontsize=25)\n",
    "\n",
    "    greenness_perception_points_perplace[greenness_perception_points_perplace.place_name=='Rotterdam'].set_geometry(greenness_perception_points_perplace.geometry.centroid).plot(\n",
    "        ax=axs[1], column='greenness_rating_num', cmap=mycmap, categorical=True, markersize=100)\n",
    "    cx.add_basemap(ax=axs[1], crs='epsg:28992', source=cx.providers.OpenStreetMap.Mapnik, alpha=0.5, zorder=0)\n",
    "    axs[1].set_title('Rotterdam', fontsize=25)\n",
    "\n",
    "    greenness_perception_points_perplace[greenness_perception_points_perplace.place_name=='Goteborg'].set_geometry(greenness_perception_points_perplace.geometry.centroid).plot(\n",
    "        ax=axs[2], column='greenness_rating_num', cmap=mycmap, categorical=True, markersize=100)\n",
    "    cx.add_basemap(ax=axs[2], crs='epsg:3006', source=cx.providers.OpenStreetMap.Mapnik, alpha=0.5, zorder=0)\n",
    "    axs[2].set_title('Gothenburg', fontsize=25)\n",
    "\n",
    "    # bbox = place.total_bounds\n",
    "    # margin = 1000\n",
    "    # xlim = ([bbox[0]-margin, bbox[2]+margin])\n",
    "    # ylim = ([bbox[1]-margin, bbox[3]+margin])\n",
    "    # axs.set_xlim(xlim)\n",
    "    # axs.set_ylim(ylim)\n",
    "\n",
    "    notatall = mpatches.Patch(color=mycmap(0.0), label='Not at all (0)')\n",
    "    alittle = mpatches.Patch(color=mycmap(0.25), label='A little (1)')\n",
    "    neutral = mpatches.Patch(color=mycmap(0.5), label='Neutral (2)')\n",
    "    fairly = mpatches.Patch(color=mycmap(0.75), label='Fairly (3)')\n",
    "    very = mpatches.Patch(color=mycmap(1.0), label='Very (4)')\n",
    "\n",
    "    for ax in axs:\n",
    "        ax.axis('off')\n",
    "        ax.legend(handles=[very, fairly, neutral, alittle, notatall], fontsize=15)\n",
    "        ax.set_anchor('N')\n",
    "\n",
    "    plt.show()"
   ]
  },
  {
   "cell_type": "markdown",
   "id": "82106ced-1693-4645-b37e-dc093708d64e",
   "metadata": {},
   "source": [
    "## H1: Correlation NDVI and perceived greenness"
   ]
  },
  {
   "cell_type": "code",
   "execution_count": 29,
   "id": "d6409f84-9407-4b76-9bc0-df7577b4b0a4",
   "metadata": {},
   "outputs": [],
   "source": [
    "if print_and_plot:  \n",
    "    \n",
    "    fig, axs = plt.subplots(nrows=1, ncols=3, figsize=(12,4), sharex=True, sharey=True)\n",
    "    \n",
    "    \n",
    "    x = greenness_perception_points.greenness_rating_num\n",
    "    y = greenness_perception_points.ndvi_median\n",
    "    sns.regplot(ax=axs[0], x=x, y=y, scatter_kws={'alpha':0.02})\n",
    "    correlation, pvalue = stats.spearmanr(x, y, nan_policy='omit')\n",
    "    if pvalue <= 0.05:\n",
    "        axs[0].set_title('All perceptions\\nGreenness rating & median NDVI at point\\nN: {}; Corr: {}; p-value: {}'.format(int(len(greenness_perception_points)), round(correlation, 3), round(pvalue, 3)))\n",
    "    else:\n",
    "        axs[0].set_title('All perceptions\\nGreenness rating & median NDVI at point\\nInsignificant')\n",
    "        \n",
    "        \n",
    "    x = greenness_perception_points_perplace.greenness_rating_num\n",
    "    y = greenness_perception_points_perplace.ndvi_median\n",
    "    sns.regplot(ax=axs[1], x=x, y=y, scatter_kws={'alpha':0.1})\n",
    "    correlation, pvalue = stats.spearmanr(x, y, nan_policy='omit')\n",
    "    if pvalue <= 0.05:\n",
    "        axs[1].set_title('Median perception per place\\nGreenness rating & median NDVI at point\\nN: {}; Corr: {}; p-value: {}'.format(int(len(greenness_perception_points_perplace)), round(correlation, 3), round(pvalue, 3)))\n",
    "    else:\n",
    "        axs[1].set_title('Median perception per place\\nGreenness rating & median NDVI at point\\nInsignificant')\n",
    "        \n",
    "    \n",
    "    x = greenness_perception_points_perplace_5plusratings.greenness_rating_num\n",
    "    y = greenness_perception_points_perplace_5plusratings.ndvi_median\n",
    "    sns.regplot(ax=axs[2], x=x, y=y, scatter_kws={'alpha':0.1})\n",
    "    correlation, pvalue = stats.spearmanr(x, y, nan_policy='omit')\n",
    "    if pvalue <= 0.05:\n",
    "        axs[2].set_title('Median perception per place (rated >4x)\\nGreenness rating & median NDVI at point\\nN: {}; Corr: {}; p-value: {}'.format(int(len(greenness_perception_points_perplace_5plusratings)), round(correlation, 3), round(pvalue, 3)))\n",
    "    else:\n",
    "        axs[2].set_title('Median perception per place (rated >4x)\\nGreenness rating & median NDVI at point\\nInsignificant')    \n",
    "        \n",
    "    plt.show()"
   ]
  },
  {
   "cell_type": "code",
   "execution_count": 30,
   "id": "887ca917-d981-4f39-a302-71680337a24d",
   "metadata": {},
   "outputs": [],
   "source": [
    "# per city\n",
    "if print_and_plot:\n",
    "    for place_name in place_names:\n",
    "        x = greenness_perception_points_perplace[greenness_perception_points_perplace.place_name==place_name].greenness_rating_num\n",
    "        y = greenness_perception_points_perplace[greenness_perception_points_perplace.place_name==place_name].ndvi_median\n",
    "        correlation, pvalue = stats.spearmanr(x, y, nan_policy='omit')\n",
    "        print('{} - correlation greenness and NDVI (median per place): {} (pvalue: {})'.format(place_name, round(correlation, 3), round(pvalue, 3)))"
   ]
  },
  {
   "cell_type": "code",
   "execution_count": 31,
   "id": "d1b88c06-2550-4092-8d87-82701839ab90",
   "metadata": {},
   "outputs": [],
   "source": [
    "if print_and_plot:  \n",
    "    \n",
    "    fig, axs = plt.subplots(nrows=1, ncols=3, figsize=(12,4), sharex=True, sharey=True)\n",
    "    \n",
    "    \n",
    "    x = greenness_perception_points.greenness_rating_num\n",
    "    y = greenness_perception_points.ndvi_max\n",
    "    sns.regplot(ax=axs[0], x=x, y=y, scatter_kws={'alpha':0.02})\n",
    "    correlation, pvalue = stats.spearmanr(x, y, nan_policy='omit')\n",
    "    if pvalue <= 0.05:\n",
    "        axs[0].set_title('All perceptions\\nGreenness rating & max NDVI at point\\nN: {}; Corr: {}; p-value: {}'.format(int(len(greenness_perception_points)), round(correlation, 3), round(pvalue, 3)))\n",
    "    else:\n",
    "        axs[0].set_title('All perceptions\\nGreenness rating & max NDVI at point\\nInsignificant')\n",
    "        \n",
    "        \n",
    "    x = greenness_perception_points_perplace.greenness_rating_num\n",
    "    y = greenness_perception_points_perplace.ndvi_max\n",
    "    sns.regplot(ax=axs[1], x=x, y=y, scatter_kws={'alpha':0.1})\n",
    "    correlation, pvalue = stats.spearmanr(x, y, nan_policy='omit')\n",
    "    if pvalue <= 0.05:\n",
    "        axs[1].set_title('Median perception per place\\nGreenness rating & max NDVI at point\\nN: {}; Corr: {}; p-value: {}'.format(int(len(greenness_perception_points_perplace)), round(correlation, 3), round(pvalue, 3)))\n",
    "    else:\n",
    "        axs[1].set_title('Median perception per place\\nGreenness rating & max NDVI at point\\nInsignificant')\n",
    "        \n",
    "    \n",
    "    x = greenness_perception_points_perplace_5plusratings.greenness_rating_num\n",
    "    y = greenness_perception_points_perplace_5plusratings.ndvi_max\n",
    "    sns.regplot(ax=axs[2], x=x, y=y, scatter_kws={'alpha':0.1})\n",
    "    correlation, pvalue = stats.spearmanr(x, y, nan_policy='omit')\n",
    "    if pvalue <= 0.05:\n",
    "        axs[2].set_title('Median perception per place (rated >4x)\\nGreenness rating & max NDVI at point\\nN: {}; Corr: {}; p-value: {}'.format(int(len(greenness_perception_points_perplace_5plusratings)), round(correlation, 3), round(pvalue, 3)))\n",
    "    else:\n",
    "        axs[2].set_title('Median perception per place (rated >4x)\\nGreenness rating & max NDVI at point\\nInsignificant')    \n",
    "        \n",
    "    plt.show()"
   ]
  },
  {
   "cell_type": "code",
   "execution_count": 32,
   "id": "e05f2312-b56e-46d5-9825-9e6788887033",
   "metadata": {},
   "outputs": [],
   "source": [
    "# per city\n",
    "if print_and_plot:\n",
    "    for place_name in place_names:\n",
    "        x = greenness_perception_points_perplace[greenness_perception_points_perplace.place_name==place_name].greenness_rating_num\n",
    "        y = greenness_perception_points_perplace[greenness_perception_points_perplace.place_name==place_name].ndvi_max\n",
    "        correlation, pvalue = stats.spearmanr(x, y, nan_policy='omit')\n",
    "        print('{} - correlation greenness and NDVI (max per place): {} (pvalue: {})'.format(place_name, round(correlation, 3), round(pvalue, 3)))"
   ]
  },
  {
   "cell_type": "markdown",
   "id": "12287fdd-93cd-4a7c-ad4e-51c1d5dae39f",
   "metadata": {},
   "source": [
    "### Cases for further qualitative analysis"
   ]
  },
  {
   "cell_type": "code",
   "execution_count": 33,
   "id": "2b56e944-530b-4e69-a025-32c52fd52f3a",
   "metadata": {},
   "outputs": [],
   "source": [
    "ndvi_quantiles = greenness_perception_points_perplace.ndvi_median.quantile([0.0, 0.25, 0.5, 0.75, 1.0])\n",
    "if print_and_plot:\n",
    "    print('Overall NDVI quantiles')\n",
    "    print(ndvi_quantiles)"
   ]
  },
  {
   "cell_type": "code",
   "execution_count": 34,
   "id": "457d2a4c-b436-4aea-bcb3-c308c075d354",
   "metadata": {},
   "outputs": [],
   "source": [
    "# NDVI values normally distributed?\n",
    "if print_and_plot:\n",
    "    for place_name in place_names:\n",
    "        print('Kolmogorov-Smirnov test, NDVI, all data: ', stats.kstest(greenness_perception_points_perplace.ndvi_median, 'norm'))\n",
    "        print('Kolmogorov-Smirnov test, NDVI, {}: '.format(place_name), stats.kstest(greenness_perception_points_perplace[greenness_perception_points_perplace.place_name==place_name].ndvi_median, 'norm'))\n",
    "    # -> no, differing from normal distribution"
   ]
  },
  {
   "cell_type": "code",
   "execution_count": 35,
   "id": "77f89648-1846-467d-843f-9f33e6e194e3",
   "metadata": {},
   "outputs": [],
   "source": [
    "# Are NDVI distributions comparable for Rotterdam and Barcelona?\n",
    "if print_and_plot:\n",
    "    if 'Barcelona' in place_names and 'Rotterdam' in place_names:\n",
    "        statistic, pvalue = stats.mannwhitneyu(\n",
    "            greenness_perception_points_perplace[greenness_perception_points_perplace.place_name=='Barcelona'].ndvi_median,\n",
    "            greenness_perception_points_perplace[greenness_perception_points_perplace.place_name=='Rotterdam'].ndvi_median)\n",
    "        print('Barcelona vs. Rotterdam: {} (pvalue {})'.format(round(statistic, 3), round(pvalue, 3)))\n",
    "        # -> no, they differ from each other\n",
    "    if 'Barcelona' in place_names and 'Goteborg' in place_names:\n",
    "        statistic, pvalue = stats.mannwhitneyu(\n",
    "            greenness_perception_points_perplace[greenness_perception_points_perplace.place_name=='Barcelona'].ndvi_median,\n",
    "            greenness_perception_points_perplace[greenness_perception_points_perplace.place_name=='Goteborg'].ndvi_median)\n",
    "        print('Barcelona vs. Goteborg: {} (pvalue {})'.format(round(statistic, 3), round(pvalue, 3)))\n",
    "        # -> yes, they are comparable\n",
    "    if 'Goteborg' in place_names and 'Rotterdam' in place_names:\n",
    "        statistic, pvalue = stats.mannwhitneyu(\n",
    "            greenness_perception_points_perplace[greenness_perception_points_perplace.place_name=='Goteborg'].ndvi_median,\n",
    "            greenness_perception_points_perplace[greenness_perception_points_perplace.place_name=='Rotterdam'].ndvi_median)\n",
    "        print('Goteborg vs. Rotterdam: {} (pvalue {})'.format(round(statistic, 3), round(pvalue, 3)))\n",
    "        # -> no, they differ from each other"
   ]
  },
  {
   "cell_type": "code",
   "execution_count": 36,
   "id": "7ac30ba4-d4e7-4639-92a6-a4b34de7d2e6",
   "metadata": {},
   "outputs": [],
   "source": [
    "# identify interesting cases per city separately, as NDVI quantiles differ"
   ]
  },
  {
   "cell_type": "markdown",
   "id": "c6e614dc-f3d9-4f4f-8e8d-5a23a95bf663",
   "metadata": {},
   "source": [
    "#### Barcelona"
   ]
  },
  {
   "cell_type": "code",
   "execution_count": 37,
   "id": "e7099b58-2a69-433a-8a28-cd5f6ae2eb68",
   "metadata": {},
   "outputs": [],
   "source": [
    "place_name = 'Barcelona'\n",
    "ndvi_quantiles_bcn = greenness_perception_points_perplace[greenness_perception_points_perplace.place_name==place_name].ndvi_median.quantile([0.0, 0.25, 0.5, 0.75, 1.0])"
   ]
  },
  {
   "cell_type": "code",
   "execution_count": 38,
   "id": "0729adcb-4fe0-48d4-93be-670f5692f8e0",
   "metadata": {},
   "outputs": [],
   "source": [
    "if print_and_plot:\n",
    "    print('{} NDVI quantiles'.format(place_name))\n",
    "    print(ndvi_quantiles_bcn)"
   ]
  },
  {
   "cell_type": "code",
   "execution_count": 39,
   "id": "14ec044f-7836-4b08-922d-5f990b025be2",
   "metadata": {
    "tags": []
   },
   "outputs": [],
   "source": [
    "# perceived as green (3-4), but lower quartile NDVI\n",
    "h1_perceived_greener_than_ndvi_ids_bcn = greenness_perception_points_perplace[\n",
    "    (greenness_perception_points_perplace.place_name==place_name) &\n",
    "    (greenness_perception_points_perplace.greenness_rating_num>=3.0) & \n",
    "    (greenness_perception_points_perplace.ndvi_median<ndvi_quantiles_bcn[0.25])].gsv_pano_id\n",
    "\n",
    "if print_and_plot:\n",
    "    if print_qualitative_locations:\n",
    "    \n",
    "        cases = h1_perceived_greener_than_ndvi_ids_bcn\n",
    "        print('{} places in {} perceived as green, while lower NDVI quartile:\\n'.format(len(cases), place_name))\n",
    "\n",
    "        for gsv_pano_id in cases:\n",
    "            # print the pano id, iframe, and ratings and reasons people gave\n",
    "            data = greenness_perception_points[greenness_perception_points.gsv_pano_id==gsv_pano_id].reset_index(drop=True)\n",
    "            if print_qualitative_html:\n",
    "                print(data.iframe.iloc[0])\n",
    "            print(gsv_pano_id)\n",
    "            if print_qualitative_html:\n",
    "                    print('<br />')\n",
    "            if print_qualitative_perceptions:\n",
    "                for i in data.index:\n",
    "                    print('{} ({}) = {}'.format(\n",
    "                        data.greenness_rating[i],\n",
    "                        data.greenness_rating_num[i],\n",
    "                        data.greenness_reason[i].replace('\\n', '')))\n",
    "                    if print_qualitative_html:\n",
    "                        print('<br />')\n",
    "            if print_qualitative_html:\n",
    "                print('<br />-----<br />')\n",
    "            else:\n",
    "                print('')"
   ]
  },
  {
   "cell_type": "code",
   "execution_count": 40,
   "id": "666efdad-ea72-40c0-b60c-3d4781e57ccd",
   "metadata": {
    "tags": []
   },
   "outputs": [],
   "source": [
    "# perceived as not-green (0-1), but upper quartile NDVI\n",
    "h1_perceived_lessgreen_than_ndvi_ids_bcn = greenness_perception_points_perplace[\n",
    "    (greenness_perception_points_perplace.place_name==place_name) &\n",
    "    (greenness_perception_points_perplace.greenness_rating_num<=1.0) & \n",
    "    (greenness_perception_points_perplace.ndvi_median>ndvi_quantiles_bcn[0.75])].gsv_pano_id\n",
    "\n",
    "if print_and_plot:\n",
    "    if print_qualitative_locations:\n",
    "        cases = h1_perceived_lessgreen_than_ndvi_ids_bcn\n",
    "        print('{} places in {} perceived as not-green, while upper NDVI quartile:\\n'.format(len(cases), place_name))\n",
    "\n",
    "        for gsv_pano_id in cases:\n",
    "            # print the pano id, iframe, and ratings and reasons people gave\n",
    "            data = greenness_perception_points[greenness_perception_points.gsv_pano_id==gsv_pano_id].reset_index(drop=True)\n",
    "            if print_qualitative_html:\n",
    "                print(data.iframe.iloc[0])\n",
    "            print(gsv_pano_id)\n",
    "            if print_qualitative_html:\n",
    "                    print('<br />')\n",
    "            if print_qualitative_perceptions:\n",
    "                for i in data.index:\n",
    "                    print('{} ({}) = {}'.format(\n",
    "                        data.greenness_rating[i],\n",
    "                        data.greenness_rating_num[i],\n",
    "                        data.greenness_reason[i].replace('\\n', '')))\n",
    "                    if print_qualitative_html:\n",
    "                        print('<br />')\n",
    "            if print_qualitative_html:\n",
    "                print('<br />-----<br />')\n",
    "            else:\n",
    "                print('')"
   ]
  },
  {
   "cell_type": "markdown",
   "id": "ab4ffddb-1da0-41ff-853e-9ead0befa048",
   "metadata": {},
   "source": [
    "#### Rotterdam"
   ]
  },
  {
   "cell_type": "code",
   "execution_count": 41,
   "id": "cdffacda-c134-488e-92b9-aeebb86508dc",
   "metadata": {},
   "outputs": [],
   "source": [
    "place_name = 'Rotterdam'\n",
    "ndvi_quantiles_rtd = greenness_perception_points_perplace[greenness_perception_points_perplace.place_name==place_name].ndvi_median.quantile([0.0, 0.25, 0.5, 0.75, 1.0])"
   ]
  },
  {
   "cell_type": "code",
   "execution_count": 42,
   "id": "6dea7efa-ff03-46b0-89b7-5837f3c09122",
   "metadata": {},
   "outputs": [],
   "source": [
    "if print_and_plot:\n",
    "    print('{} NDVI quantiles'.format(place_name))\n",
    "    print(ndvi_quantiles_rtd)"
   ]
  },
  {
   "cell_type": "code",
   "execution_count": 43,
   "id": "15d74c19-9d6e-4696-8ba7-cbe6de91b936",
   "metadata": {
    "tags": []
   },
   "outputs": [],
   "source": [
    "# perceived as green (3-4), but lower quartile NDVI\n",
    "h1_perceived_greener_than_ndvi_ids_rtd = greenness_perception_points_perplace[\n",
    "    (greenness_perception_points_perplace.place_name==place_name) &\n",
    "    (greenness_perception_points_perplace.greenness_rating_num>=3.0) & \n",
    "    (greenness_perception_points_perplace.ndvi_median<ndvi_quantiles_rtd[0.25])].gsv_pano_id\n",
    "\n",
    "if print_and_plot:\n",
    "    if print_qualitative_locations:\n",
    "        \n",
    "        cases = h1_perceived_greener_than_ndvi_ids_rtd\n",
    "        print('{} places in {} perceived as green, while lower NDVI quartile:\\n'.format(len(cases), place_name))\n",
    "\n",
    "        for gsv_pano_id in cases:\n",
    "            # print the pano id, iframe, and ratings and reasons people gave\n",
    "            data = greenness_perception_points[greenness_perception_points.gsv_pano_id==gsv_pano_id].reset_index(drop=True)\n",
    "            if print_qualitative_html:\n",
    "                print(data.iframe.iloc[0])\n",
    "            print(gsv_pano_id)\n",
    "            if print_qualitative_html:\n",
    "                print('<br />')\n",
    "            if print_qualitative_perceptions:\n",
    "                for i in data.index:\n",
    "                    print('{} ({}) = {}'.format(\n",
    "                        data.greenness_rating[i],\n",
    "                        data.greenness_rating_num[i],\n",
    "                        data.greenness_reason[i].replace('\\n', '')))\n",
    "                    if print_qualitative_html:\n",
    "                        print('<br />')\n",
    "            if print_qualitative_html:\n",
    "                print('<br />-----<br />')\n",
    "            else:\n",
    "                print('')"
   ]
  },
  {
   "cell_type": "code",
   "execution_count": 44,
   "id": "8304daee-6cbc-4a26-9dc7-55de5b51e220",
   "metadata": {
    "tags": []
   },
   "outputs": [],
   "source": [
    "# perceived as not-green (0-1), but upper quartile NDVI\n",
    "h1_perceived_lessgreen_than_ndvi_ids_rtd = greenness_perception_points_perplace[\n",
    "    (greenness_perception_points_perplace.place_name==place_name) &\n",
    "    (greenness_perception_points_perplace.greenness_rating_num<=1.0) & \n",
    "    (greenness_perception_points_perplace.ndvi_median>ndvi_quantiles_rtd[0.75])].gsv_pano_id\n",
    "\n",
    "if print_and_plot:\n",
    "    if print_qualitative_locations:\n",
    "        \n",
    "        cases = h1_perceived_lessgreen_than_ndvi_ids_rtd\n",
    "        print('{} places in {} perceived as not-green, while upper NDVI quartile:\\n'.format(len(cases), place_name))\n",
    "\n",
    "        for gsv_pano_id in cases:\n",
    "            # print the pano id, iframe, and ratings and reasons people gave\n",
    "            data = greenness_perception_points[greenness_perception_points.gsv_pano_id==gsv_pano_id].reset_index(drop=True)\n",
    "            if print_qualitative_html:\n",
    "                print(data.iframe.iloc[0])\n",
    "            print(gsv_pano_id)\n",
    "            if print_qualitative_html:\n",
    "                print('<br />')\n",
    "            if print_qualitative_perceptions:    \n",
    "                for i in data.index:\n",
    "                    print('{} ({}) = {}'.format(\n",
    "                        data.greenness_rating[i],\n",
    "                        data.greenness_rating_num[i],\n",
    "                        data.greenness_reason[i].replace('\\n', '')))\n",
    "                    if print_qualitative_html:\n",
    "                        print('<br />')\n",
    "            if print_qualitative_html:\n",
    "                print('<br />-----<br />')\n",
    "            else:\n",
    "                print('')"
   ]
  },
  {
   "cell_type": "markdown",
   "id": "22a7ae28-c7c0-45fc-9548-da838c44c846",
   "metadata": {},
   "source": [
    "#### Goteborg"
   ]
  },
  {
   "cell_type": "code",
   "execution_count": 45,
   "id": "2c30dc53-dd4a-4dcf-99f7-bf7fd5575bbd",
   "metadata": {},
   "outputs": [],
   "source": [
    "place_name = 'Goteborg'\n",
    "ndvi_quantiles_got = greenness_perception_points_perplace[greenness_perception_points_perplace.place_name==place_name].ndvi_median.quantile([0.0, 0.25, 0.5, 0.75, 1.0])"
   ]
  },
  {
   "cell_type": "code",
   "execution_count": 46,
   "id": "5361351f-a1e4-4165-8961-0b1ed07c3f74",
   "metadata": {},
   "outputs": [],
   "source": [
    "if print_and_plot:\n",
    "    print('{} NDVI quantiles'.format(place_name))\n",
    "    print(ndvi_quantiles_got)"
   ]
  },
  {
   "cell_type": "code",
   "execution_count": 47,
   "id": "c9a8763b-4926-4b93-840e-b3b6b3f8b501",
   "metadata": {},
   "outputs": [],
   "source": [
    "# perceived as green (3-4), but lower quartile NDVI\n",
    "h1_perceived_greener_than_ndvi_ids_got = greenness_perception_points_perplace[\n",
    "    (greenness_perception_points_perplace.place_name==place_name) &\n",
    "    (greenness_perception_points_perplace.greenness_rating_num>=3.0) & \n",
    "    (greenness_perception_points_perplace.ndvi_median<ndvi_quantiles_got[0.25])].gsv_pano_id\n",
    "\n",
    "if print_and_plot:\n",
    "    if print_qualitative_locations:\n",
    "        \n",
    "        cases = h1_perceived_greener_than_ndvi_ids_got\n",
    "        print('{} places in {} perceived as green, while lower NDVI quartile:\\n'.format(len(cases), place_name))\n",
    "\n",
    "        for gsv_pano_id in cases:\n",
    "            # print the pano id, iframe, and ratings and reasons people gave\n",
    "            data = greenness_perception_points[greenness_perception_points.gsv_pano_id==gsv_pano_id].reset_index(drop=True)\n",
    "            if print_qualitative_html:\n",
    "                print(data.iframe.iloc[0])\n",
    "            print(gsv_pano_id)\n",
    "            if print_qualitative_html:\n",
    "                print('<br />')\n",
    "            if print_qualitative_perceptions:    \n",
    "                for i in data.index:\n",
    "                    print('{} ({}) = {}'.format(\n",
    "                        data.greenness_rating[i],\n",
    "                        data.greenness_rating_num[i],\n",
    "                        data.greenness_reason[i].replace('\\n', '')))\n",
    "                    if print_qualitative_html:\n",
    "                        print('<br />')\n",
    "            if print_qualitative_html:\n",
    "                print('<br />-----<br />')\n",
    "            else:\n",
    "                print('')"
   ]
  },
  {
   "cell_type": "code",
   "execution_count": 48,
   "id": "9204081b-e161-46f7-a52e-ae5943022e37",
   "metadata": {},
   "outputs": [],
   "source": [
    "# perceived as not-green (0-1), but upper quartile NDVI\n",
    "h1_perceived_lessgreen_than_ndvi_ids_got = greenness_perception_points_perplace[\n",
    "    (greenness_perception_points_perplace.place_name==place_name) &\n",
    "    (greenness_perception_points_perplace.greenness_rating_num<=1.0) & \n",
    "    (greenness_perception_points_perplace.ndvi_median>ndvi_quantiles_got[0.75])].gsv_pano_id\n",
    "\n",
    "if print_and_plot:\n",
    "    if print_qualitative_locations:\n",
    "        \n",
    "        cases = h1_perceived_lessgreen_than_ndvi_ids_got\n",
    "        print('{} places in {} perceived as not-green, while upper NDVI quartile:\\n'.format(len(cases), place_name))\n",
    "\n",
    "        for gsv_pano_id in cases:\n",
    "            # print the pano id, iframe, and ratings and reasons people gave\n",
    "            data = greenness_perception_points[greenness_perception_points.gsv_pano_id==gsv_pano_id].reset_index(drop=True)\n",
    "            if print_qualitative_html:\n",
    "                print(data.iframe.iloc[0])\n",
    "            print(gsv_pano_id)\n",
    "            if print_qualitative_html:\n",
    "                print('<br />')\n",
    "            if print_qualitative_perceptions:\n",
    "                for i in data.index:\n",
    "                    print('{} ({}) = {}'.format(\n",
    "                        data.greenness_rating[i],\n",
    "                        data.greenness_rating_num[i],\n",
    "                        data.greenness_reason[i].replace('\\n', '')))\n",
    "                    if print_qualitative_html:\n",
    "                        print('<br />')\n",
    "            if print_qualitative_html:\n",
    "                print('<br />-----<br />')\n",
    "            else:\n",
    "                print('')"
   ]
  },
  {
   "cell_type": "markdown",
   "id": "d976a1fa-fe7c-4e92-b7f6-66b83105cba7",
   "metadata": {},
   "source": [
    "## H2: Perceived greenness per OSM category"
   ]
  },
  {
   "cell_type": "code",
   "execution_count": 49,
   "id": "f1391746-3e49-4b24-9f70-9cee609c2e74",
   "metadata": {},
   "outputs": [],
   "source": [
    "# Are there significant differences in greenspace perceptions between Regular Greenspaces and other place-categories? For which pairs?"
   ]
  },
  {
   "cell_type": "code",
   "execution_count": 50,
   "id": "dcf4e469-578d-44e5-b0c9-6da2ab2e7b26",
   "metadata": {},
   "outputs": [],
   "source": [
    "if print_and_plot:\n",
    "    gdf = greenness_perception_points_perplace\n",
    "    col = 'greenness_rating_num'\n",
    "\n",
    "    reg_gs = gdf[gdf.near_regular_greenspace][col]\n",
    "    poc_gs = gdf[gdf.near_pocket_greenspace][col]\n",
    "    square = gdf[gdf.near_square][col]\n",
    "    playsp = gdf[gdf.near_playspace][col]\n",
    "    street = gdf[gdf.near_street][col]\n",
    "    print(stats.kruskal(reg_gs, poc_gs, square, playsp, street, nan_policy='omit'))\n",
    "\n",
    "    headers = ['', 'near_regular_greenspace']\n",
    "    rows = []\n",
    "    cat_cols = ['near_pocket_greenspace', 'near_square', 'near_playspace', 'near_street']\n",
    "    col_a = 'near_regular_greenspace'\n",
    "    for col_b in cat_cols:\n",
    "        x = gdf[gdf[col_a]][col]\n",
    "        y = gdf[gdf[col_b]][col]\n",
    "        statistic, pvalue = stats.mannwhitneyu(x, y)\n",
    "        statistic = str(round(statistic, 3))\n",
    "        if pvalue <= 0.05:\n",
    "            statistic = str(statistic)+'*'\n",
    "            if pvalue <= 0.01:\n",
    "                statistic = statistic+'*'\n",
    "        print(statistic, pvalue)\n",
    "        row = [col_b, statistic + ' (p: {})'.format(pvalue)]\n",
    "        rows.append(row)\n",
    "    print(tabulate(rows, headers=headers))"
   ]
  },
  {
   "cell_type": "code",
   "execution_count": 51,
   "id": "3ddccf93-8c35-4786-9055-91d3e8c5df1e",
   "metadata": {},
   "outputs": [],
   "source": [
    "# How are these perceptions distributed per place-category, and what are the medians?"
   ]
  },
  {
   "cell_type": "code",
   "execution_count": 52,
   "id": "1d18fa9b-194d-4d43-8cac-aea8794f8b48",
   "metadata": {},
   "outputs": [],
   "source": [
    "if print_and_plot:\n",
    "    fig, axs = plt.subplots(nrows=1, ncols=5, figsize=(20,4))\n",
    "    \n",
    "    \n",
    "    # GROUPED BY PLACE\n",
    "    gdf = greenness_perception_points_perplace\n",
    "    bins = [-0.25, 0.25, 0.75, 1.25, 1.75, 2.25, 2.75, 3.25, 3.75, 4.25]\n",
    "    bins = [-0.5, 0.5, 1.5, 2.5, 3.5, 4.5]\n",
    "    \n",
    "    col = 'near_regular_greenspace'\n",
    "    data = gdf[gdf[col]]\n",
    "    sns.histplot(ax=axs[0], data=data, x='greenness_rating_num', bins=bins, element='step')\n",
    "    axs[0].set_title('Median perception per place\\nRegular greenspaces\\nN: {}; Median: {}'.format(len(data), str(data.greenness_rating_num.median())))\n",
    "    \n",
    "    col = 'near_pocket_greenspace'\n",
    "    data = gdf[gdf[col]]\n",
    "    sns.histplot(ax=axs[1], data=data, x='greenness_rating_num', bins=bins, element='step')\n",
    "    axs[1].set_title('Median perception per place\\nPocket greenspaces\\nN: {}; Median: {}'.format(len(data), str(data.greenness_rating_num.median())))\n",
    "\n",
    "    col = 'near_square'\n",
    "    data = gdf[gdf[col]]\n",
    "    sns.histplot(ax=axs[2], data=data, x='greenness_rating_num', bins=bins, element='step')\n",
    "    axs[2].set_title('Median perception per place\\nSquares\\nN: {}; Median: {}'.format(len(data), str(data.greenness_rating_num.median())))\n",
    "\n",
    "    col = 'near_playspace'\n",
    "    data = gdf[gdf[col]]\n",
    "    sns.histplot(ax=axs[3], data=data, x='greenness_rating_num', bins=bins, element='step')\n",
    "    axs[3].set_title('Median perception per place\\nPlayspaces\\nN: {}; Median: {}'.format(len(data), str(data.greenness_rating_num.median())))\n",
    "\n",
    "    col = 'near_street'\n",
    "    data = gdf[gdf[col]]\n",
    "    sns.histplot(ax=axs[4], data=data, x='greenness_rating_num', bins=bins, element='step')\n",
    "    axs[4].set_title('Median perception per place\\nStreets\\nN: {}; Median: {}'.format(len(data), str(data.greenness_rating_num.median())))\n",
    "    \n",
    "    \n",
    "    for ax in axs:\n",
    "        ax.set_xticks([0.0, 1.0, 2.0, 3.0, 4.0])\n",
    "        ax.tick_params(axis='x', rotation=90)\n",
    "    plt.subplots_adjust(wspace=0.4, hspace=0.4)\n",
    "\n",
    "    plt.show()"
   ]
  },
  {
   "cell_type": "code",
   "execution_count": 53,
   "id": "712d999e-c24c-469d-912b-171c845c121d",
   "metadata": {},
   "outputs": [],
   "source": [
    "# what percentage of places is perceived as greenspace, per place-type?"
   ]
  },
  {
   "cell_type": "code",
   "execution_count": 54,
   "id": "a2424746-4f41-4931-a5dc-277ef3564769",
   "metadata": {},
   "outputs": [],
   "source": [
    "def print_perc_greenspace(gdf, category, place_names=None, exclusive=False):\n",
    "    \n",
    "    if exclusive:\n",
    "        gdf_perceivedasgreen = gdf[(gdf[category]) & ~(gdf.near_regular_greenspace) & (gdf.greenness_rating_num>=3)]\n",
    "    else:\n",
    "        gdf_perceivedasgreen = gdf[(gdf[category]) & (gdf.greenness_rating_num>=3)]\n",
    "    \n",
    "    print('{}% of type {} perceived as greenspace'.format(round(100*len(gdf_perceivedasgreen)/len(gdf[gdf[category]]), 3), category))\n",
    "    \n",
    "    for place_name in place_names:\n",
    "        gdf_place = gdf[gdf.place_name==place_name]\n",
    "        gdf_place_perceivedasgreen = gdf_place[(gdf_place[category]) & (gdf_place.greenness_rating_num>=3)]\n",
    "        print('\\t(For {}: {}% of type {} perceived as greenspace)'.format(place_name, round(100*len(gdf_place_perceivedasgreen)/len(gdf_place[gdf_place[category]]), 2), category))"
   ]
  },
  {
   "cell_type": "code",
   "execution_count": 55,
   "id": "145bdac2-ae53-4537-9cd4-402375577a3d",
   "metadata": {},
   "outputs": [],
   "source": [
    "category = 'near_regular_greenspace'\n",
    "\n",
    "if print_and_plot:\n",
    "    print_perc_greenspace(greenness_perception_points_perplace, category, place_names=place_names)"
   ]
  },
  {
   "cell_type": "code",
   "execution_count": 56,
   "id": "c5a4e989-8e2e-4b40-95da-0db8d5c8512e",
   "metadata": {},
   "outputs": [],
   "source": [
    "category = 'near_pocket_greenspace'\n",
    "\n",
    "if print_and_plot:\n",
    "    print_perc_greenspace(greenness_perception_points_perplace, category, place_names=place_names)\n",
    "    \n",
    "    print('\\nWhen excluding overlap with OSM regular greenspaces:')\n",
    "    print_perc_greenspace(greenness_perception_points_perplace, category, place_names=place_names, exclusive=True)"
   ]
  },
  {
   "cell_type": "code",
   "execution_count": 57,
   "id": "83963bfa-406d-4561-8bd1-92e5d2136b5e",
   "metadata": {},
   "outputs": [],
   "source": [
    "category = 'near_square'\n",
    "\n",
    "if print_and_plot:\n",
    "    print_perc_greenspace(greenness_perception_points_perplace, category, place_names=place_names)\n",
    "    \n",
    "    print('\\nWhen excluding overlap with OSM regular greenspaces:')\n",
    "    print_perc_greenspace(greenness_perception_points_perplace, category, place_names=place_names, exclusive=True)"
   ]
  },
  {
   "cell_type": "code",
   "execution_count": 58,
   "id": "f74a57de-890b-4d1f-94b4-6682169c5317",
   "metadata": {},
   "outputs": [],
   "source": [
    "category = 'near_playspace'\n",
    "\n",
    "if print_and_plot:\n",
    "    print_perc_greenspace(greenness_perception_points_perplace, category, place_names=place_names)\n",
    "    \n",
    "    print('\\nWhen excluding overlap with OSM regular greenspaces:')\n",
    "    print_perc_greenspace(greenness_perception_points_perplace, category, place_names=place_names, exclusive=True)"
   ]
  },
  {
   "cell_type": "code",
   "execution_count": 59,
   "id": "59f7db47-9204-426f-8887-a23a4b734190",
   "metadata": {},
   "outputs": [],
   "source": [
    "category = 'near_street'\n",
    "\n",
    "if print_and_plot:\n",
    "    print_perc_greenspace(greenness_perception_points_perplace, category, place_names=place_names)\n",
    "    \n",
    "    print('\\nWhen excluding overlap with OSM regular greenspaces:')\n",
    "    print_perc_greenspace(greenness_perception_points_perplace, category, place_names=place_names, exclusive=True)"
   ]
  },
  {
   "cell_type": "code",
   "execution_count": 60,
   "id": "c663abf7-1acc-40d6-b834-66739d98d9b5",
   "metadata": {},
   "outputs": [],
   "source": [
    "# what percentage of places is regular-size greenspace?"
   ]
  },
  {
   "cell_type": "code",
   "execution_count": 61,
   "id": "d4fbcd9a-5b9e-4179-b9ae-9e7d78235b70",
   "metadata": {},
   "outputs": [
    {
     "name": "stdout",
     "output_type": "stream",
     "text": [
      "83.777% of spaces is regular-size greenspace\n"
     ]
    }
   ],
   "source": [
    "gdf_greenspace = greenness_perception_points_perplace[greenness_perception_points_perplace['near_regular_greenspace']]\n",
    "print('{}% of spaces is regular-size greenspace'.format(round(100*len(gdf_greenspace)/len(greenness_perception_points_perplace), 3)))"
   ]
  },
  {
   "cell_type": "code",
   "execution_count": 62,
   "id": "5336d480-a31f-422a-aa6f-6ea467370762",
   "metadata": {},
   "outputs": [
    {
     "name": "stdout",
     "output_type": "stream",
     "text": [
      "95.884% of spaces is any-size greenspace\n"
     ]
    }
   ],
   "source": [
    "gdf_greenspace = greenness_perception_points_perplace[(greenness_perception_points_perplace['near_regular_greenspace']) | (greenness_perception_points_perplace['near_pocket_greenspace'])]\n",
    "print('{}% of spaces is any-size greenspace'.format(round(100*len(gdf_greenspace)/len(greenness_perception_points_perplace), 3)))"
   ]
  },
  {
   "cell_type": "code",
   "execution_count": 63,
   "id": "4396d961-11b2-42de-97d2-dc49491825a5",
   "metadata": {},
   "outputs": [],
   "source": [
    "# what percentage of regular-size greenspaces is perceived as green by people?"
   ]
  },
  {
   "cell_type": "code",
   "execution_count": 64,
   "id": "cb3e804b-f1e7-4f7f-9b2f-3854fab3b1f7",
   "metadata": {},
   "outputs": [
    {
     "name": "stdout",
     "output_type": "stream",
     "text": [
      "47.11% of regular-size greenspaces perceived as green\n"
     ]
    }
   ],
   "source": [
    "gdf_greenspace = greenness_perception_points_perplace[greenness_perception_points_perplace['near_regular_greenspace']]\n",
    "gdf_greenspace_perceivedasgreen = gdf_greenspace[gdf_greenspace.greenness_rating_num>=3]\n",
    "\n",
    "print('{}% of regular-size greenspaces perceived as green'.format(round(100*len(gdf_greenspace_perceivedasgreen)/len(gdf_greenspace), 3)))"
   ]
  },
  {
   "cell_type": "code",
   "execution_count": 65,
   "id": "b0a056c2-2ae3-425a-bd7a-6b4dbd597667",
   "metadata": {},
   "outputs": [],
   "source": [
    "# what percentage of any-size greenspaces in OSM is perceived as green by people?"
   ]
  },
  {
   "cell_type": "code",
   "execution_count": 66,
   "id": "8ab4d3c5-7038-49e6-844d-5ad9dbf7a925",
   "metadata": {},
   "outputs": [
    {
     "name": "stdout",
     "output_type": "stream",
     "text": [
      "44.697% of any-size greenspaces perceived as green\n"
     ]
    }
   ],
   "source": [
    "gdf_greenspace = greenness_perception_points_perplace[(greenness_perception_points_perplace['near_regular_greenspace']) | (greenness_perception_points_perplace['near_pocket_greenspace'])]\n",
    "gdf_greenspace_perceivedasgreen = gdf_greenspace[gdf_greenspace.greenness_rating_num>=3]\n",
    "\n",
    "print('{}% of any-size greenspaces perceived as green'.format(round(100*len(gdf_greenspace_perceivedasgreen)/len(gdf_greenspace), 3)))"
   ]
  },
  {
   "cell_type": "code",
   "execution_count": 67,
   "id": "1d509b8a-4dc8-4080-9794-fc0dc0107571",
   "metadata": {},
   "outputs": [],
   "source": [
    "# what percentage of places not tagged regular-size greenspace in OSM is still perceived as green by people?"
   ]
  },
  {
   "cell_type": "code",
   "execution_count": 68,
   "id": "de912505-66e3-46d0-8f41-e282a51bc99f",
   "metadata": {},
   "outputs": [
    {
     "name": "stdout",
     "output_type": "stream",
     "text": [
      "25.373% of not-OSM-regular-size-greenspaces still perceived as green\n"
     ]
    }
   ],
   "source": [
    "gdf_notgreenspace = greenness_perception_points_perplace[~greenness_perception_points_perplace['near_regular_greenspace']]\n",
    "gdf_notgreenspace_perceivedasgreen = gdf_notgreenspace[gdf_notgreenspace.greenness_rating_num>=3]\n",
    "\n",
    "print('{}% of not-OSM-regular-size-greenspaces still perceived as green'.format(round(100*len(gdf_notgreenspace_perceivedasgreen)/len(gdf_notgreenspace), 3)))"
   ]
  },
  {
   "cell_type": "code",
   "execution_count": 69,
   "id": "51a98419-90f9-4e33-81b2-49e6d69f1764",
   "metadata": {},
   "outputs": [],
   "source": [
    "# what percentage of places not tagged any-size greenspace in OSM is still perceived as green by people?"
   ]
  },
  {
   "cell_type": "code",
   "execution_count": 70,
   "id": "ad86e8d2-cd1f-49c8-9dcc-258f8eafb78b",
   "metadata": {},
   "outputs": [
    {
     "name": "stdout",
     "output_type": "stream",
     "text": [
      "17.647% of not-OSM-any-size-greenspaces still perceived as green\n"
     ]
    }
   ],
   "source": [
    "gdf_notgreenspace = greenness_perception_points_perplace[~greenness_perception_points_perplace['near_regular_greenspace']]\n",
    "gdf_notgreenspace = gdf_notgreenspace[~gdf_notgreenspace['near_pocket_greenspace']]\n",
    "gdf_notgreenspace_perceivedasgreen = gdf_notgreenspace[gdf_notgreenspace.greenness_rating_num>=3]\n",
    "    \n",
    "print('{}% of not-OSM-any-size-greenspaces still perceived as green'.format(round(100*len(gdf_notgreenspace_perceivedasgreen)/len(gdf_notgreenspace), 3)))"
   ]
  },
  {
   "cell_type": "markdown",
   "id": "c5867c1d-ec68-47c5-ae17-f18f96dd9320",
   "metadata": {},
   "source": [
    "### Cases for further qualitative analysis"
   ]
  },
  {
   "cell_type": "markdown",
   "id": "73421c51-831b-43c3-b449-327094070a03",
   "metadata": {},
   "source": [
    "#### Barcelona"
   ]
  },
  {
   "cell_type": "code",
   "execution_count": 71,
   "id": "7003045e-6b1c-4e3a-8f96-09a0438e013e",
   "metadata": {},
   "outputs": [],
   "source": [
    "place_name = 'Barcelona'"
   ]
  },
  {
   "cell_type": "code",
   "execution_count": 72,
   "id": "7e21fd10-385f-4cf6-ad1d-bcc337c2213d",
   "metadata": {
    "tags": []
   },
   "outputs": [],
   "source": [
    "# perceived as green (3-4), but not tagged as regular greenspace in OSM\n",
    "h1_perceived_greener_than_osm_ids_bcn = greenness_perception_points_perplace[\n",
    "    (greenness_perception_points_perplace.place_name==place_name) &\n",
    "    (greenness_perception_points_perplace.greenness_rating_num>=3.0) & \n",
    "    (greenness_perception_points_perplace.near_regular_greenspace==False)].gsv_pano_id\n",
    "\n",
    "if print_and_plot:\n",
    "    if print_qualitative_locations:\n",
    "        \n",
    "        cases = h1_perceived_greener_than_osm_ids_bcn\n",
    "        print('{} places in {} perceived as green, while not tagged as regular greenspace:\\n'.format(len(cases), place_name))\n",
    "\n",
    "        for gsv_pano_id in cases:\n",
    "            # print the pano id, iframe, and ratings and reasons people gave\n",
    "            data = greenness_perception_points[greenness_perception_points.gsv_pano_id==gsv_pano_id].reset_index(drop=True)\n",
    "            if print_qualitative_html:\n",
    "                print(data.iframe.iloc[0])\n",
    "            print(gsv_pano_id)\n",
    "            if print_qualitative_html:\n",
    "                    print('<br />')\n",
    "            near_categories = []\n",
    "            if data.near_regular_greenspace.iloc[0]:\n",
    "                near_categories.append('regular greenspace')\n",
    "            if data.near_pocket_greenspace.iloc[0]:\n",
    "                near_categories.append('pocket greenspace')\n",
    "            if data.near_square.iloc[0]:\n",
    "                near_categories.append('square')\n",
    "            if data.near_playspace.iloc[0]:\n",
    "                near_categories.append('playspace')\n",
    "            if data.near_street.iloc[0]:\n",
    "                near_categories.append('street')\n",
    "            print('OSM categories:', ' & '.join(near_categories))\n",
    "            if print_qualitative_html:\n",
    "                print('<br />')\n",
    "            if print_qualitative_perceptions:\n",
    "                for i in data.index:\n",
    "                    print('{} ({}) = {}'.format(\n",
    "                        data.greenness_rating[i],\n",
    "                        data.greenness_rating_num[i],\n",
    "                        data.greenness_reason[i].replace('\\n', '')))\n",
    "                    if print_qualitative_html:\n",
    "                        print('<br />')\n",
    "            if print_qualitative_html:\n",
    "                print('<br />-----<br />')\n",
    "            else:\n",
    "                print('')"
   ]
  },
  {
   "cell_type": "code",
   "execution_count": 73,
   "id": "54741820-c507-46bb-bea1-779384eb1340",
   "metadata": {
    "tags": []
   },
   "outputs": [],
   "source": [
    "# perceived as not-green (0-1), but tagged as regular greenspace in OSM\n",
    "h1_perceived_lessgreen_than_osm_ids_bcn = greenness_perception_points_perplace[\n",
    "    (greenness_perception_points_perplace.place_name==place_name) &\n",
    "    (greenness_perception_points_perplace.greenness_rating_num<=1.0) & \n",
    "    (greenness_perception_points_perplace.near_regular_greenspace==True)].gsv_pano_id\n",
    "\n",
    "if print_and_plot:\n",
    "    if print_qualitative_locations:\n",
    "        \n",
    "        cases = h1_perceived_lessgreen_than_osm_ids_bcn\n",
    "        print('{} places in {} perceived as not-green, tagged as regular greenspace:\\n'.format(len(cases), place_name))\n",
    "\n",
    "        for gsv_pano_id in cases:\n",
    "            # print the pano id, iframe, and ratings and reasons people gave\n",
    "            data = greenness_perception_points[greenness_perception_points.gsv_pano_id==gsv_pano_id].reset_index(drop=True)\n",
    "            if print_qualitative_html:\n",
    "                print(data.iframe.iloc[0])\n",
    "            print(gsv_pano_id)\n",
    "            if print_qualitative_html:\n",
    "                    print('<br />')\n",
    "            near_categories = []\n",
    "            if data.near_regular_greenspace.iloc[0]:\n",
    "                near_categories.append('regular greenspace')\n",
    "            if data.near_pocket_greenspace.iloc[0]:\n",
    "                near_categories.append('pocket greenspace')\n",
    "            if data.near_square.iloc[0]:\n",
    "                near_categories.append('square')\n",
    "            if data.near_playspace.iloc[0]:\n",
    "                near_categories.append('playspace')\n",
    "            if data.near_street.iloc[0]:\n",
    "                near_categories.append('street')\n",
    "            print('OSM categories:', ' & '.join(near_categories))\n",
    "            if print_qualitative_html:\n",
    "                print('<br />')\n",
    "            if print_qualitative_perceptions:\n",
    "                for i in data.index:\n",
    "                    print('{} ({}) = {}'.format(\n",
    "                        data.greenness_rating[i],\n",
    "                        data.greenness_rating_num[i],\n",
    "                        data.greenness_reason[i].replace('\\n', '')))\n",
    "                    if print_qualitative_html:\n",
    "                        print('<br />')\n",
    "                if print_qualitative_html:\n",
    "                    print('<br />-----<br />')\n",
    "            else:\n",
    "                print('')"
   ]
  },
  {
   "cell_type": "markdown",
   "id": "04823d5e-9db9-4f37-9d06-287b1d24199d",
   "metadata": {},
   "source": [
    "#### Rotterdam"
   ]
  },
  {
   "cell_type": "code",
   "execution_count": 74,
   "id": "5fa1bf2e-7d0c-4e5c-9b0a-ecb0e83c5574",
   "metadata": {},
   "outputs": [],
   "source": [
    "place_name = 'Rotterdam'"
   ]
  },
  {
   "cell_type": "code",
   "execution_count": 75,
   "id": "350c13d5-954d-4005-846a-e0b2955870c3",
   "metadata": {
    "tags": []
   },
   "outputs": [],
   "source": [
    "# perceived as green (3-4), but not tagged as regular greenspace in OSM\n",
    "h1_perceived_greener_than_osm_ids_rtd = greenness_perception_points_perplace[\n",
    "    (greenness_perception_points_perplace.place_name==place_name) &\n",
    "    (greenness_perception_points_perplace.greenness_rating_num>=3.0) & \n",
    "    (greenness_perception_points_perplace.near_regular_greenspace==False)].gsv_pano_id\n",
    "\n",
    "if print_and_plot:\n",
    "    if print_qualitative_locations:\n",
    "        \n",
    "        cases = h1_perceived_greener_than_osm_ids_rtd\n",
    "        print('{} places in {} perceived as green, while not tagged as regular greenspace:\\n'.format(len(cases), place_name))\n",
    "\n",
    "        for gsv_pano_id in cases:\n",
    "            # print the pano id, iframe, and ratings and reasons people gave\n",
    "            data = greenness_perception_points[greenness_perception_points.gsv_pano_id==gsv_pano_id].reset_index(drop=True)\n",
    "            if print_qualitative_html:\n",
    "                print(data.iframe.iloc[0])\n",
    "            print(gsv_pano_id)\n",
    "            if print_qualitative_html:\n",
    "                    print('<br />')\n",
    "            near_categories = []\n",
    "            if data.near_regular_greenspace.iloc[0]:\n",
    "                near_categories.append('regular greenspace')\n",
    "            if data.near_pocket_greenspace.iloc[0]:\n",
    "                near_categories.append('pocket greenspace')\n",
    "            if data.near_square.iloc[0]:\n",
    "                near_categories.append('square')\n",
    "            if data.near_playspace.iloc[0]:\n",
    "                near_categories.append('playspace')\n",
    "            if data.near_street.iloc[0]:\n",
    "                near_categories.append('street')\n",
    "            print('OSM categories:', ' & '.join(near_categories))\n",
    "            if print_qualitative_html:\n",
    "                print('<br />')\n",
    "            if print_qualitative_perceptions:\n",
    "                for i in data.index:\n",
    "                    print('{} ({}) = {}'.format(\n",
    "                        data.greenness_rating[i],\n",
    "                        data.greenness_rating_num[i],\n",
    "                        data.greenness_reason[i].replace('\\n', '')))\n",
    "                    if print_qualitative_html:\n",
    "                        print('<br />')\n",
    "                if print_qualitative_html:\n",
    "                    print('<br />-----<br />')\n",
    "            else:\n",
    "                print('')"
   ]
  },
  {
   "cell_type": "code",
   "execution_count": 76,
   "id": "2772c33d-d413-464c-8f68-60155a612a71",
   "metadata": {
    "tags": []
   },
   "outputs": [],
   "source": [
    "# perceived as not-green (0-1), but tagged as regular greenspace in OSM\n",
    "h1_perceived_lessgreen_than_osm_ids_rtd = greenness_perception_points_perplace[\n",
    "    (greenness_perception_points_perplace.place_name==place_name) &\n",
    "    (greenness_perception_points_perplace.greenness_rating_num<=1.0) & \n",
    "    (greenness_perception_points_perplace.near_regular_greenspace==True)].gsv_pano_id\n",
    "\n",
    "if print_and_plot:\n",
    "    if print_qualitative_locations:\n",
    "        \n",
    "        cases = h1_perceived_lessgreen_than_osm_ids_rtd\n",
    "        print('{} places in {} perceived as not-green, tagged as regular greenspace:\\n'.format(len(cases), place_name))\n",
    "\n",
    "        for gsv_pano_id in cases:\n",
    "            # print the pano id, iframe, and ratings and reasons people gave\n",
    "            data = greenness_perception_points[greenness_perception_points.gsv_pano_id==gsv_pano_id].reset_index(drop=True)\n",
    "            if print_qualitative_html:\n",
    "                print(data.iframe.iloc[0])\n",
    "            print(gsv_pano_id)\n",
    "            if print_qualitative_html:\n",
    "                    print('<br />')\n",
    "            near_categories = []\n",
    "            if data.near_regular_greenspace.iloc[0]:\n",
    "                near_categories.append('regular greenspace')\n",
    "            if data.near_pocket_greenspace.iloc[0]:\n",
    "                near_categories.append('pocket greenspace')\n",
    "            if data.near_square.iloc[0]:\n",
    "                near_categories.append('square')\n",
    "            if data.near_playspace.iloc[0]:\n",
    "                near_categories.append('playspace')\n",
    "            if data.near_street.iloc[0]:\n",
    "                near_categories.append('street')\n",
    "            print('OSM categories:', ' & '.join(near_categories))\n",
    "            if print_qualitative_html:\n",
    "                print('<br />')\n",
    "            if print_qualitative_perceptions:\n",
    "                for i in data.index:\n",
    "                    print('{} ({}) = {}'.format(\n",
    "                        data.greenness_rating[i],\n",
    "                        data.greenness_rating_num[i],\n",
    "                        data.greenness_reason[i].replace('\\n', '')))\n",
    "                    if print_qualitative_html:\n",
    "                        print('<br />')\n",
    "                if print_qualitative_html:\n",
    "                    print('<br />-----<br />')\n",
    "            else:\n",
    "                print('')"
   ]
  },
  {
   "cell_type": "markdown",
   "id": "8a77b009-40d1-4bc9-8362-b79a1c213d37",
   "metadata": {},
   "source": [
    "#### Goteborg"
   ]
  },
  {
   "cell_type": "code",
   "execution_count": 77,
   "id": "5a1dd15a-2460-4b2d-874c-90e13858d19d",
   "metadata": {},
   "outputs": [],
   "source": [
    "place_name = 'Goteborg'"
   ]
  },
  {
   "cell_type": "code",
   "execution_count": 78,
   "id": "84a315df-7d99-443a-bf97-40e635cc17dc",
   "metadata": {
    "tags": []
   },
   "outputs": [],
   "source": [
    "# perceived as green (3-4), but not tagged as regular greenspace in OSM\n",
    "h1_perceived_greener_than_osm_ids_got = greenness_perception_points_perplace[\n",
    "    (greenness_perception_points_perplace.place_name==place_name) &\n",
    "    (greenness_perception_points_perplace.greenness_rating_num>=3.0) & \n",
    "    (greenness_perception_points_perplace.near_regular_greenspace==False)].gsv_pano_id\n",
    "\n",
    "if print_and_plot:\n",
    "    if print_qualitative_locations:\n",
    "        \n",
    "        cases = h1_perceived_greener_than_osm_ids_got\n",
    "        print('{} places in {} perceived as green, while not tagged as regular greenspace:\\n'.format(len(cases), place_name))\n",
    "\n",
    "        for gsv_pano_id in cases:\n",
    "            # print the pano id, iframe, and ratings and reasons people gave\n",
    "            data = greenness_perception_points[greenness_perception_points.gsv_pano_id==gsv_pano_id].reset_index(drop=True)\n",
    "            if print_qualitative_html:\n",
    "                print(data.iframe.iloc[0])\n",
    "            print(gsv_pano_id)\n",
    "            if print_qualitative_html:\n",
    "                    print('<br />')\n",
    "            near_categories = []\n",
    "            if data.near_regular_greenspace.iloc[0]:\n",
    "                near_categories.append('regular greenspace')\n",
    "            if data.near_pocket_greenspace.iloc[0]:\n",
    "                near_categories.append('pocket greenspace')\n",
    "            if data.near_square.iloc[0]:\n",
    "                near_categories.append('square')\n",
    "            if data.near_playspace.iloc[0]:\n",
    "                near_categories.append('playspace')\n",
    "            if data.near_street.iloc[0]:\n",
    "                near_categories.append('street')\n",
    "            print('OSM categories:', ' & '.join(near_categories))\n",
    "            if print_qualitative_html:\n",
    "                print('<br />')\n",
    "            if print_qualitative_perceptions:\n",
    "                for i in data.index:\n",
    "                    print('{} ({}) = {}'.format(\n",
    "                        data.greenness_rating[i],\n",
    "                        data.greenness_rating_num[i],\n",
    "                        data.greenness_reason[i].replace('\\n', '')))\n",
    "                    if print_qualitative_html:\n",
    "                        print('<br />')\n",
    "            if print_qualitative_html:\n",
    "                print('<br />-----<br />')\n",
    "            else:\n",
    "                print('')"
   ]
  },
  {
   "cell_type": "code",
   "execution_count": 79,
   "id": "21aa7b7b-1642-4380-a652-c8c439f24080",
   "metadata": {
    "tags": []
   },
   "outputs": [],
   "source": [
    "# perceived as not-green (0-1), but tagged as regular greenspace in OSM\n",
    "h1_perceived_lessgreen_than_osm_ids_bcn = greenness_perception_points_perplace[\n",
    "    (greenness_perception_points_perplace.place_name==place_name) &\n",
    "    (greenness_perception_points_perplace.greenness_rating_num<=1.0) & \n",
    "    (greenness_perception_points_perplace.near_regular_greenspace==True)].gsv_pano_id\n",
    "\n",
    "if print_and_plot:\n",
    "    if print_qualitative_locations:\n",
    "        \n",
    "        cases = h1_perceived_lessgreen_than_osm_ids_bcn\n",
    "        print('{} places in {} perceived as not-green, tagged as regular greenspace:\\n'.format(len(cases), place_name))\n",
    "\n",
    "        for gsv_pano_id in cases:\n",
    "            # print the pano id, iframe, and ratings and reasons people gave\n",
    "            data = greenness_perception_points[greenness_perception_points.gsv_pano_id==gsv_pano_id].reset_index(drop=True)\n",
    "            if print_qualitative_html:\n",
    "                print(data.iframe.iloc[0])\n",
    "            print(gsv_pano_id)\n",
    "            if print_qualitative_html:\n",
    "                    print('<br />')\n",
    "            near_categories = []\n",
    "            if data.near_regular_greenspace.iloc[0]:\n",
    "                near_categories.append('regular greenspace')\n",
    "            if data.near_pocket_greenspace.iloc[0]:\n",
    "                near_categories.append('pocket greenspace')\n",
    "            if data.near_square.iloc[0]:\n",
    "                near_categories.append('square')\n",
    "            if data.near_playspace.iloc[0]:\n",
    "                near_categories.append('playspace')\n",
    "            if data.near_street.iloc[0]:\n",
    "                near_categories.append('street')\n",
    "            print('OSM categories:', ' & '.join(near_categories))\n",
    "            if print_qualitative_html:\n",
    "                print('<br />')\n",
    "            if print_qualitative_perceptions:\n",
    "                for i in data.index:\n",
    "                    print('{} ({}) = {}'.format(\n",
    "                        data.greenness_rating[i],\n",
    "                        data.greenness_rating_num[i],\n",
    "                        data.greenness_reason[i].replace('\\n', '')))\n",
    "                    if print_qualitative_html:\n",
    "                        print('<br />')\n",
    "            if print_qualitative_html:\n",
    "                print('<br />-----<br />')\n",
    "            else:\n",
    "                print('')"
   ]
  },
  {
   "cell_type": "markdown",
   "id": "899ea604-d1d2-4dc2-a865-4630272fb401",
   "metadata": {},
   "source": [
    "## H4: Suitability for activities"
   ]
  },
  {
   "cell_type": "code",
   "execution_count": 80,
   "id": "61ba30a1-d213-422e-951d-4d401b4f1434",
   "metadata": {},
   "outputs": [],
   "source": [
    "activity_perception_points['merge_on'] = activity_perception_points['gsv_pano_id'] + '_' + activity_perception_points['prolific_id']\n",
    "greenness_perception_points['merge_on'] = greenness_perception_points['gsv_pano_id'] + '_' + greenness_perception_points['prolific_id']\n",
    "\n",
    "perception_points = activity_perception_points.merge(greenness_perception_points[['greenness_rating_num', 'merge_on']], on='merge_on', how='inner')\n",
    "\n",
    "activity_perception_points.drop(columns=['merge_on'], inplace=True)\n",
    "greenness_perception_points.drop(columns=['merge_on'], inplace=True)\n",
    "perception_points.drop(columns=['merge_on'], inplace=True)"
   ]
  },
  {
   "cell_type": "code",
   "execution_count": 81,
   "id": "8d756955-aa87-4c5a-a0a7-720b52d530a3",
   "metadata": {
    "tags": []
   },
   "outputs": [],
   "source": [
    "activity_perception_points_perplace['merge_on'] = activity_perception_points_perplace['gsv_pano_id']\n",
    "greenness_perception_points_perplace['merge_on'] = greenness_perception_points_perplace['gsv_pano_id']\n",
    "\n",
    "perception_points_perplace = activity_perception_points_perplace.merge(greenness_perception_points_perplace[['greenness_rating_num', 'merge_on']], on='merge_on', how='inner')\n",
    "\n",
    "activity_perception_points_perplace.drop(columns=['merge_on'], inplace=True)\n",
    "greenness_perception_points_perplace.drop(columns=['merge_on'], inplace=True)\n",
    "perception_points_perplace.drop(columns=['merge_on'], inplace=True)"
   ]
  },
  {
   "cell_type": "code",
   "execution_count": 82,
   "id": "79a0355d-3f48-4cf3-9e9f-ced813ea20a1",
   "metadata": {},
   "outputs": [],
   "source": [
    "# Are there significant differences in suitability OF PERCEIVED GREENSPACES for use between activity types? For which pairs?"
   ]
  },
  {
   "cell_type": "code",
   "execution_count": 83,
   "id": "0434971f-2312-400d-965f-699bb13a30de",
   "metadata": {},
   "outputs": [],
   "source": [
    "perception_points_perceivedasgreen = perception_points[perception_points.greenness_rating_num>=3.0]"
   ]
  },
  {
   "cell_type": "code",
   "execution_count": 84,
   "id": "3febaa87-d5b5-4621-9f51-c2be05a3ee2a",
   "metadata": {},
   "outputs": [],
   "source": [
    "perception_points_perplace_perceivedasgreen = perception_points_perplace[perception_points_perplace.greenness_rating_num>=3.0]"
   ]
  },
  {
   "cell_type": "code",
   "execution_count": 85,
   "id": "af053e77-8101-4b23-81fb-e507e136433a",
   "metadata": {
    "tags": []
   },
   "outputs": [],
   "source": [
    "if print_and_plot:\n",
    "    \n",
    "    gdf = perception_points_perplace_perceivedasgreen\n",
    "    print('N:', len(gdf))\n",
    "\n",
    "    phys = gdf.physical_rating_num\n",
    "    soc = gdf.social_rating_num\n",
    "    rel = gdf.relax_rating_num\n",
    "    comm = gdf.commute_rating_num\n",
    "    chil = gdf.children_rating_num\n",
    "\n",
    "    print(stats.kruskal(phys, soc, rel, comm, chil, nan_policy='omit'))\n",
    "\n",
    "    headers = ['']\n",
    "    rows = []\n",
    "    act_cols = ['physical_rating_num', 'social_rating_num', 'relax_rating_num', 'commute_rating_num', 'children_rating_num']\n",
    "\n",
    "    for col_a in act_cols:\n",
    "        row = [col_a]\n",
    "        for col_b in act_cols:\n",
    "            if col_a == col_b:\n",
    "                row.append('X')\n",
    "                break\n",
    "            else:\n",
    "                x = gdf[col_a]\n",
    "                y = gdf[col_b]\n",
    "                statistic, pvalue = stats.mannwhitneyu(x, y)\n",
    "                statistic = str(round(statistic, 3))\n",
    "\n",
    "                if pvalue <= 0.05:\n",
    "                    statistic = str(statistic)+'*'\n",
    "                    if pvalue <= 0.01:\n",
    "                        statistic = statistic+'*'\n",
    "                row.append(statistic + ' (p: {})'.format(str(round(pvalue, 3))))\n",
    "        headers.append(col_a)\n",
    "        rows.append(row)\n",
    "\n",
    "    print(tabulate(rows, headers=headers))"
   ]
  },
  {
   "cell_type": "code",
   "execution_count": 86,
   "id": "fa3f7ce6-ecc5-42ec-9134-54ffef681ab3",
   "metadata": {},
   "outputs": [],
   "source": [
    "if print_and_plot:\n",
    "    \n",
    "    for place_name in place_names:\n",
    "        print(place_name)\n",
    "    \n",
    "        gdf = perception_points_perplace_perceivedasgreen[perception_points_perplace_perceivedasgreen.place_name==place_name]\n",
    "        print('N:', len(gdf))\n",
    "\n",
    "        phys = gdf.physical_rating_num\n",
    "        soc = gdf.social_rating_num\n",
    "        rel = gdf.relax_rating_num\n",
    "        comm = gdf.commute_rating_num\n",
    "        chil = gdf.children_rating_num\n",
    "\n",
    "        print(stats.kruskal(phys, soc, rel, comm, chil, nan_policy='omit'))\n",
    "\n",
    "        headers = ['']\n",
    "        rows = []\n",
    "        act_cols = ['physical_rating_num', 'social_rating_num', 'relax_rating_num', 'commute_rating_num', 'children_rating_num']\n",
    "\n",
    "        for col_a in act_cols:\n",
    "            row = [col_a]\n",
    "            for col_b in act_cols:\n",
    "                if col_a == col_b:\n",
    "                    row.append('X')\n",
    "                    break\n",
    "                else:\n",
    "                    x = gdf[col_a]\n",
    "                    y = gdf[col_b]\n",
    "                    statistic, pvalue = stats.mannwhitneyu(x, y)\n",
    "                    statistic = str(round(statistic, 3))\n",
    "\n",
    "                    if pvalue <= 0.05:\n",
    "                        statistic = str(statistic)+'*'\n",
    "                        if pvalue <= 0.01:\n",
    "                            statistic = statistic+'*'\n",
    "                    row.append(statistic + ' (p: {})'.format(str(round(pvalue, 3))))\n",
    "            headers.append(col_a)\n",
    "            rows.append(row)\n",
    "\n",
    "        print(tabulate(rows, headers=headers), '\\n\\n')"
   ]
  },
  {
   "cell_type": "code",
   "execution_count": 87,
   "id": "aed05c8d-aa9b-42b8-9daa-764a1520f6ce",
   "metadata": {},
   "outputs": [],
   "source": [
    "# Does suitability for use per activity type correlate with perceived greenness? "
   ]
  },
  {
   "cell_type": "code",
   "execution_count": 88,
   "id": "7f289ab0-92e0-45c8-9052-95753d0656c3",
   "metadata": {},
   "outputs": [],
   "source": [
    "if print_and_plot:  \n",
    "    \n",
    "    fig, axs = plt.subplots(nrows=1, ncols=5, figsize=(20,3))\n",
    "    \n",
    "    \n",
    "    # MEDIAN PERCEPTION PER PLACE\n",
    "    gdf = perception_points_perplace\n",
    "    alpha = 0.1\n",
    "    \n",
    "    x = gdf.greenness_rating_num\n",
    "    y = gdf.physical_rating_num\n",
    "    sns.regplot(ax=axs[0], x=x, y=y, scatter_kws={'alpha':alpha})\n",
    "    correlation, pvalue = stats.spearmanr(x, y, nan_policy='omit')\n",
    "    if pvalue <= 0.05:\n",
    "        axs[0].set_title('Median perception per place\\nGreenness & physical activity rating\\nN: {}; Corr: {}; p-value: {}'.format(int(len(gdf)), round(correlation, 3), round(pvalue, 3)))\n",
    "    else:\n",
    "        axs[0].set_title('Median perception per place\\nGreenness & physical activity rating\\nInsignificant')\n",
    "        \n",
    "    x = gdf.greenness_rating_num\n",
    "    y = gdf.social_rating_num\n",
    "    sns.regplot(ax=axs[1], x=x, y=y, scatter_kws={'alpha':alpha})\n",
    "    correlation, pvalue = stats.spearmanr(x, y, nan_policy='omit')\n",
    "    if pvalue <= 0.05:\n",
    "        axs[1].set_title('Median perception per place\\nGreenness & social activity rating\\nN: {}; Corr: {}; p-value: {}'.format(int(len(gdf)), round(correlation, 3), round(pvalue, 3)))\n",
    "    else:\n",
    "        axs[1].set_title('Median perception per place\\nGreenness & social activity rating\\nInsignificant')\n",
    "        \n",
    "    x = gdf.greenness_rating_num\n",
    "    y = gdf.relax_rating_num\n",
    "    sns.regplot(ax=axs[2], x=x, y=y, scatter_kws={'alpha':alpha})\n",
    "    correlation, pvalue = stats.spearmanr(x, y, nan_policy='omit')\n",
    "    if pvalue <= 0.05:\n",
    "        axs[2].set_title('Median perception per place\\nGreenness & relaxation rating\\nN: {}; Corr: {}; p-value: {}'.format(int(len(gdf)), round(correlation, 3), round(pvalue, 3)))\n",
    "    else:\n",
    "        axs[2].set_title('Median perception per place\\nGreenness & relaxation rating\\nInsignificant')\n",
    "        \n",
    "    x = gdf.greenness_rating_num\n",
    "    y = gdf.commute_rating_num\n",
    "    sns.regplot(ax=axs[3], x=x, y=y, scatter_kws={'alpha':alpha})\n",
    "    correlation, pvalue = stats.spearmanr(x, y, nan_policy='omit')\n",
    "    if pvalue <= 0.05:\n",
    "        axs[3].set_title('Median perception per place\\nGreenness & commuting rating\\nN: {}; Corr: {}; p-value: {}'.format(int(len(gdf)), round(correlation, 3), round(pvalue, 3)))\n",
    "    else:\n",
    "        axs[3].set_title('Median perception per place\\nGreenness & commuting rating\\nInsignificant')\n",
    "        \n",
    "    x = gdf.greenness_rating_num\n",
    "    y = gdf.children_rating_num\n",
    "    sns.regplot(ax=axs[4], x=x, y=y, scatter_kws={'alpha':alpha})\n",
    "    correlation, pvalue = stats.spearmanr(x, y, nan_policy='omit')\n",
    "    if pvalue <= 0.05:\n",
    "        axs[4].set_title('Median perception per place\\nGreenness & children\\'s activity rating\\nN: {}; Corr: {}; p-value: {}'.format(int(len(gdf)), round(correlation, 3), round(pvalue, 3)))\n",
    "    else:\n",
    "        axs[4].set_title('Median perception per place\\nGreenness & children\\'s  activity rating\\nInsignificant')\n",
    "\n",
    "        \n",
    "    plt.subplots_adjust(wspace=0.4, hspace=0.8)\n",
    "    \n",
    "    plt.show()"
   ]
  },
  {
   "cell_type": "code",
   "execution_count": 89,
   "id": "2eb05e22-8355-47d3-8bba-12a97f3cff3b",
   "metadata": {},
   "outputs": [],
   "source": [
    "if print_and_plot:  \n",
    "    \n",
    "    for place_name in place_names:\n",
    "    \n",
    "        fig, axs = plt.subplots(nrows=1, ncols=5, figsize=(20,3))\n",
    "        fig.suptitle(place_name, fontsize=20, y=1.25)\n",
    "\n",
    "\n",
    "        # MEDIAN PERCEPTION PER PLACE\n",
    "        gdf = perception_points_perplace[perception_points_perplace.place_name==place_name]\n",
    "        alpha = 0.1\n",
    "\n",
    "        x = gdf.greenness_rating_num\n",
    "        y = gdf.physical_rating_num\n",
    "        sns.regplot(ax=axs[0], x=x, y=y, scatter_kws={'alpha':alpha})\n",
    "        correlation, pvalue = stats.spearmanr(x, y, nan_policy='omit')\n",
    "        if pvalue <= 0.05:\n",
    "            axs[0].set_title('Median perception per place\\nGreenness & physical activity rating\\nN: {}; Corr: {}; p-value: {}'.format(int(len(gdf)), round(correlation, 3), round(pvalue, 3)))\n",
    "        else:\n",
    "            axs[0].set_title('Median perception per place\\nGreenness & physical activity rating\\nInsignificant')\n",
    "\n",
    "        x = gdf.greenness_rating_num\n",
    "        y = gdf.social_rating_num\n",
    "        sns.regplot(ax=axs[1], x=x, y=y, scatter_kws={'alpha':alpha})\n",
    "        correlation, pvalue = stats.spearmanr(x, y, nan_policy='omit')\n",
    "        if pvalue <= 0.05:\n",
    "            axs[1].set_title('Median perception per place\\nGreenness & social activity rating\\nN: {}; Corr: {}; p-value: {}'.format(int(len(gdf)), round(correlation, 3), round(pvalue, 3)))\n",
    "        else:\n",
    "            axs[1].set_title('Median perception per place\\nGreenness & social activity rating\\nInsignificant')\n",
    "\n",
    "        x = gdf.greenness_rating_num\n",
    "        y = gdf.relax_rating_num\n",
    "        sns.regplot(ax=axs[2], x=x, y=y, scatter_kws={'alpha':alpha})\n",
    "        correlation, pvalue = stats.spearmanr(x, y, nan_policy='omit')\n",
    "        if pvalue <= 0.05:\n",
    "            axs[2].set_title('Median perception per place\\nGreenness & relaxation rating\\nN: {}; Corr: {}; p-value: {}'.format(int(len(gdf)), round(correlation, 3), round(pvalue, 3)))\n",
    "        else:\n",
    "            axs[2].set_title('Median perception per place\\nGreenness & relaxation rating\\nInsignificant')\n",
    "\n",
    "        x = gdf.greenness_rating_num\n",
    "        y = gdf.commute_rating_num\n",
    "        sns.regplot(ax=axs[3], x=x, y=y, scatter_kws={'alpha':alpha})\n",
    "        correlation, pvalue = stats.spearmanr(x, y, nan_policy='omit')\n",
    "        if pvalue <= 0.05:\n",
    "            axs[3].set_title('Median perception per place\\nGreenness & commuting rating\\nN: {}; Corr: {}; p-value: {}'.format(int(len(gdf)), round(correlation, 3), round(pvalue, 3)))\n",
    "        else:\n",
    "            axs[3].set_title('Median perception per place\\nGreenness & commuting rating\\nInsignificant')\n",
    "\n",
    "        x = gdf.greenness_rating_num\n",
    "        y = gdf.children_rating_num\n",
    "        sns.regplot(ax=axs[4], x=x, y=y, scatter_kws={'alpha':alpha})\n",
    "        correlation, pvalue = stats.spearmanr(x, y, nan_policy='omit')\n",
    "        if pvalue <= 0.05:\n",
    "            axs[4].set_title('Median perception per place\\nGreenness & children\\'s activity rating\\nN: {}; Corr: {}; p-value: {}'.format(int(len(gdf)), round(correlation, 3), round(pvalue, 3)))\n",
    "        else:\n",
    "            axs[4].set_title('Median perception per place\\nGreenness & children\\'s  activity rating\\nInsignificant')\n",
    "\n",
    "\n",
    "        plt.subplots_adjust(wspace=0.4, hspace=0.8)\n",
    "\n",
    "        plt.show()"
   ]
  },
  {
   "cell_type": "code",
   "execution_count": 90,
   "id": "17559e0e-73f0-403f-a4a2-02170c7156d2",
   "metadata": {},
   "outputs": [],
   "source": [
    "# how many playspaces are perceived suitable for children?\n",
    "if print_and_plot:\n",
    "    perception_points_perplace_playspaces = perception_points_perplace[perception_points_perplace['near_playspace']]\n",
    "    print('{}% of playspaces perceived suitable for children'.format(\n",
    "        round(100*len(perception_points_perplace_playspaces[perception_points_perplace_playspaces.children_rating_num>=3.0])/len(perception_points_perplace_playspaces), 3)))"
   ]
  },
  {
   "cell_type": "code",
   "execution_count": 91,
   "id": "b53b5ac3-bd22-40b3-9dd7-c2f084efb683",
   "metadata": {},
   "outputs": [],
   "source": [
    "# how many greenspaces are perceived suitable for activities, per activity-category?"
   ]
  },
  {
   "cell_type": "code",
   "execution_count": 92,
   "id": "10d40a9e-d9dc-4eeb-9f86-54f54039d758",
   "metadata": {},
   "outputs": [
    {
     "name": "stdout",
     "output_type": "stream",
     "text": [
      "138 greenspaces perceived suitable for at least one activity-type\n",
      "(opposed to 261 spaces in general)\n"
     ]
    }
   ],
   "source": [
    "suitable_greenspaces = len(perception_points_perplace_perceivedasgreen[\n",
    "    (perception_points_perplace_perceivedasgreen.physical_rating_num>=3.0) |\n",
    "    (perception_points_perplace_perceivedasgreen.social_rating_num>=3.0) |\n",
    "    (perception_points_perplace_perceivedasgreen.relax_rating_num>=3.0) |\n",
    "    (perception_points_perplace_perceivedasgreen.commute_rating_num>=3.0) |\n",
    "    (perception_points_perplace_perceivedasgreen.children_rating_num>=3.0)])\n",
    "suitable_general = len(perception_points_perplace[\n",
    "    (perception_points_perplace.physical_rating_num>=3.0) |\n",
    "    (perception_points_perplace.social_rating_num>=3.0) |\n",
    "    (perception_points_perplace.relax_rating_num>=3.0) |\n",
    "    (perception_points_perplace.commute_rating_num>=3.0) |\n",
    "    (perception_points_perplace.children_rating_num>=3.0)])\n",
    "print('{} greenspaces perceived suitable for at least one activity-type\\n(opposed to {} spaces in general)'.format(suitable_greenspaces, suitable_general))"
   ]
  },
  {
   "cell_type": "code",
   "execution_count": 93,
   "id": "307d7aed-1ac6-4cca-8fb1-7c58eb95b979",
   "metadata": {},
   "outputs": [],
   "source": [
    "cols = ['physical_rating_num', 'social_rating_num', 'relax_rating_num', 'commute_rating_num', 'children_rating_num']"
   ]
  },
  {
   "cell_type": "code",
   "execution_count": 94,
   "id": "7e8070de-b927-435b-8371-d7dba89741f7",
   "metadata": {},
   "outputs": [
    {
     "name": "stdout",
     "output_type": "stream",
     "text": [
      "66 greenspaces perceived suitable for physical_rating_num (opposed to 84 spaces in general)\n",
      "30 greenspaces perceived suitable for social_rating_num (opposed to 55 spaces in general)\n",
      "42 greenspaces perceived suitable for relax_rating_num (opposed to 50 spaces in general)\n",
      "86 greenspaces perceived suitable for commute_rating_num (opposed to 171 spaces in general)\n",
      "54 greenspaces perceived suitable for children_rating_num (opposed to 84 spaces in general)\n"
     ]
    }
   ],
   "source": [
    "for activity in cols:\n",
    "    suitable_greenspaces = len(perception_points_perplace_perceivedasgreen[(perception_points_perplace_perceivedasgreen[activity]>=3.0)])\n",
    "    suitable_general = len(perception_points_perplace[perception_points_perplace[activity]>=3.0])\n",
    "    print('{} greenspaces perceived suitable for {} (opposed to {} spaces in general)'.format(suitable_greenspaces, activity, suitable_general))\n"
   ]
  },
  {
   "cell_type": "code",
   "execution_count": 95,
   "id": "cc560d5f-7fd9-494b-83e2-5def5539e8c4",
   "metadata": {},
   "outputs": [
    {
     "name": "stdout",
     "output_type": "stream",
     "text": [
      "18 greenspaces perceived suitable for both physical_rating_num and social_rating_num\n",
      "24 greenspaces perceived suitable for both physical_rating_num and relax_rating_num\n",
      "44 greenspaces perceived suitable for both physical_rating_num and commute_rating_num\n",
      "24 greenspaces perceived suitable for both physical_rating_num and children_rating_num\n",
      "21 greenspaces perceived suitable for both social_rating_num and relax_rating_num\n",
      "18 greenspaces perceived suitable for both social_rating_num and commute_rating_num\n",
      "17 greenspaces perceived suitable for both social_rating_num and children_rating_num\n",
      "20 greenspaces perceived suitable for both relax_rating_num and commute_rating_num\n",
      "25 greenspaces perceived suitable for both relax_rating_num and children_rating_num\n",
      "21 greenspaces perceived suitable for both commute_rating_num and children_rating_num\n"
     ]
    }
   ],
   "source": [
    "for pair in list(itertools.combinations(cols, 2)):\n",
    "    overlap = len(perception_points_perplace_perceivedasgreen[\n",
    "        (perception_points_perplace_perceivedasgreen[pair[0]]>=3.0) & \n",
    "        (perception_points_perplace_perceivedasgreen[pair[1]]>=3.0)])\n",
    "    print('{} greenspaces perceived suitable for both {} and {}'.format(overlap, pair[0], pair[1]))"
   ]
  },
  {
   "cell_type": "code",
   "execution_count": 96,
   "id": "29d8659a-edba-4a31-9e8a-f2c1c83f1dd0",
   "metadata": {},
   "outputs": [
    {
     "name": "stdout",
     "output_type": "stream",
     "text": [
      "12 greenspaces perceived suitable for physical_rating_num, social_rating_num and relax_rating_num\n",
      "12 greenspaces perceived suitable for physical_rating_num, social_rating_num and commute_rating_num\n",
      "11 greenspaces perceived suitable for physical_rating_num, social_rating_num and children_rating_num\n",
      "14 greenspaces perceived suitable for physical_rating_num, relax_rating_num and commute_rating_num\n",
      "14 greenspaces perceived suitable for physical_rating_num, relax_rating_num and children_rating_num\n",
      "15 greenspaces perceived suitable for physical_rating_num, commute_rating_num and children_rating_num\n",
      "12 greenspaces perceived suitable for social_rating_num, relax_rating_num and commute_rating_num\n",
      "14 greenspaces perceived suitable for social_rating_num, relax_rating_num and children_rating_num\n",
      "11 greenspaces perceived suitable for social_rating_num, commute_rating_num and children_rating_num\n",
      "13 greenspaces perceived suitable for relax_rating_num, commute_rating_num and children_rating_num\n"
     ]
    }
   ],
   "source": [
    "for pair in list(itertools.combinations(cols, 3)):\n",
    "    overlap = len(perception_points_perplace_perceivedasgreen[\n",
    "        (perception_points_perplace_perceivedasgreen[pair[0]]>=3.0) & \n",
    "        (perception_points_perplace_perceivedasgreen[pair[1]]>=3.0) &\n",
    "        (perception_points_perplace_perceivedasgreen[pair[2]]>=3.0)])\n",
    "    print('{} greenspaces perceived suitable for {}, {} and {}'.format(overlap, pair[0], pair[1], pair[2]))"
   ]
  },
  {
   "cell_type": "code",
   "execution_count": 97,
   "id": "e9b53952-fb0b-47b8-8ae2-a2e6ee45f0c5",
   "metadata": {},
   "outputs": [
    {
     "name": "stdout",
     "output_type": "stream",
     "text": [
      "8 greenspaces perceived suitable for physical_rating_num, social_rating_num, relax_rating_num and commute_rating_num\n",
      "8 greenspaces perceived suitable for physical_rating_num, social_rating_num, relax_rating_num and children_rating_num\n",
      "8 greenspaces perceived suitable for physical_rating_num, social_rating_num, commute_rating_num and children_rating_num\n",
      "9 greenspaces perceived suitable for physical_rating_num, relax_rating_num, commute_rating_num and children_rating_num\n",
      "9 greenspaces perceived suitable for social_rating_num, relax_rating_num, commute_rating_num and children_rating_num\n"
     ]
    }
   ],
   "source": [
    "for pair in list(itertools.combinations(cols, 4)):\n",
    "    overlap = len(perception_points_perplace_perceivedasgreen[\n",
    "        (perception_points_perplace_perceivedasgreen[pair[0]]>=3.0) & \n",
    "        (perception_points_perplace_perceivedasgreen[pair[1]]>=3.0) &\n",
    "        (perception_points_perplace_perceivedasgreen[pair[2]]>=3.0) &\n",
    "        (perception_points_perplace_perceivedasgreen[pair[3]]>=3.0)])\n",
    "    print('{} greenspaces perceived suitable for {}, {}, {} and {}'.format(overlap, pair[0], pair[1], pair[2], pair[3]))"
   ]
  },
  {
   "cell_type": "code",
   "execution_count": 98,
   "id": "e4d27385-47ab-4f69-b4df-295ffcf9118b",
   "metadata": {},
   "outputs": [
    {
     "name": "stdout",
     "output_type": "stream",
     "text": [
      "6 greenspaces perceived suitable for all activity-types\n"
     ]
    }
   ],
   "source": [
    "for pair in list(itertools.combinations(cols, 5)):\n",
    "    overlap = len(perception_points_perplace_perceivedasgreen[\n",
    "        (perception_points_perplace_perceivedasgreen[pair[0]]>=3.0) & \n",
    "        (perception_points_perplace_perceivedasgreen[pair[1]]>=3.0) &\n",
    "        (perception_points_perplace_perceivedasgreen[pair[2]]>=3.0) &\n",
    "        (perception_points_perplace_perceivedasgreen[pair[3]]>=3.0) &\n",
    "        (perception_points_perplace_perceivedasgreen[pair[4]]>=3.0)\n",
    "    ])\n",
    "    print('{} greenspaces perceived suitable for all activity-types'.format(overlap))"
   ]
  },
  {
   "cell_type": "code",
   "execution_count": 99,
   "id": "b0ce69ee-fc5f-4c5b-9437-2d6e09e79883",
   "metadata": {},
   "outputs": [],
   "source": [
    "# if print_and_plot:  \n",
    "    \n",
    "#     act_color = 'purple'\n",
    "    \n",
    "#     fig, axs = plt.subplots(nrows=1, ncols=5, figsize=(20,3))\n",
    "#     fig.suptitle('Perceived usability of greenspaces', fontsize=20, y=1.25)\n",
    "\n",
    "#     venn2(subsets = (\n",
    "#         len(perception_points_perplace_perceivedasgreen),\n",
    "#         len(perception_points_perplace_perceivedasphysical),\n",
    "#         len(perception_points_perplace_perceivedasgreenandphysical)),\n",
    "#         ax=axs[0], set_labels = ('', 'for physical activity'), set_colors=('green', act_color), alpha = 0.5)\n",
    "#     # axs[0].set_title('')\n",
    "    \n",
    "#     venn2(subsets = (\n",
    "#         len(perception_points_perplace_perceivedasgreen),\n",
    "#         len(perception_points_perplace_perceivedassocial),\n",
    "#         len(perception_points_perplace_perceivedasgreenandsocial)),\n",
    "#         ax=axs[1], set_labels = ('', 'for social activity'), set_colors=('green', act_color), alpha = 0.5)\n",
    "    \n",
    "#     venn2(subsets = (\n",
    "#         len(perception_points_perplace_perceivedasgreen),\n",
    "#         len(perception_points_perplace_perceivedasrelax),\n",
    "#         len(perception_points_perplace_perceivedasgreenandrelax)),\n",
    "#         ax=axs[2], set_labels = ('', 'for relaxation'), set_colors=('green', act_color), alpha = 0.5)\n",
    "    \n",
    "#     venn2(subsets = (\n",
    "#         len(perception_points_perplace_perceivedasgreen),  \n",
    "#         len(perception_points_perplace_perceivedascommute),\n",
    "#         len(perception_points_perplace_perceivedasgreenandcommute)),\n",
    "#         ax=axs[3], set_labels = ('', 'for commuting'), set_colors=('green', act_color), alpha = 0.5)\n",
    "    \n",
    "#     venn2(subsets = (\n",
    "#         len(perception_points_perplace_perceivedasgreen),\n",
    "#         len(perception_points_perplace_perceivedaschildren),\n",
    "#         len(perception_points_perplace_perceivedasgreenandchildren)),\n",
    "#         ax=axs[4], set_labels = ('', 'for children\\'s activity'), set_colors=('green', act_color), alpha = 0.5)\n",
    "\n",
    "\n",
    "#     plt.show()"
   ]
  },
  {
   "cell_type": "markdown",
   "id": "c54b33a4-705f-44c4-8b24-19b5123baf08",
   "metadata": {},
   "source": [
    "## H3: Combining OSM and NDVI"
   ]
  },
  {
   "cell_type": "code",
   "execution_count": 100,
   "id": "0ceea12f-241b-40da-bfa0-44c9706284c8",
   "metadata": {},
   "outputs": [],
   "source": [
    "def get_osm_ndvi_subset(osm_category, ndvi_quantile, exclusive=False):\n",
    "    if osm_category != 'all':\n",
    "        if exclusive:\n",
    "            gdf = perception_points_perplace[(perception_points_perplace[osm_category]) & ~(perception_points_perplace['near_regular_greenspace'])]\n",
    "        else:\n",
    "            gdf = perception_points_perplace[perception_points_perplace[osm_category]]\n",
    "    elif osm_category == 'all':\n",
    "        if exclusive:\n",
    "            gdf = perception_points_perplace[~(perception_points_perplace['near_regular_greenspace'])]\n",
    "        else:\n",
    "            gdf = perception_points_perplace\n",
    "       \n",
    "    place_name = 'Barcelona'\n",
    "    ndvi_quantiles = ndvi_quantiles_bcn\n",
    "    if ndvi_quantile == 'lower':\n",
    "        gdf_bcn = gdf[(gdf.place_name==place_name) & (gdf.ndvi_median<ndvi_quantiles[0.25])].copy()\n",
    "    elif ndvi_quantile == 'second':\n",
    "        gdf_bcn = gdf[(gdf.place_name==place_name) & (gdf.ndvi_median>=ndvi_quantiles[0.25]) & (gdf.ndvi_median<ndvi_quantiles[0.5])].copy()\n",
    "    elif ndvi_quantile == 'third':\n",
    "        gdf_bcn = gdf[(gdf.place_name==place_name) & (gdf.ndvi_median>=ndvi_quantiles[0.5]) & (gdf.ndvi_median<ndvi_quantiles[0.75])].copy()\n",
    "    elif ndvi_quantile == 'upper':\n",
    "        gdf_bcn = gdf[(gdf.place_name==place_name) & (gdf.ndvi_median>=ndvi_quantiles[0.75])].copy()\n",
    "        \n",
    "    place_name = 'Rotterdam'\n",
    "    ndvi_quantiles = ndvi_quantiles_rtd\n",
    "    if ndvi_quantile == 'lower':\n",
    "        gdf_rtd = gdf[(gdf.place_name==place_name) & (gdf.ndvi_median<ndvi_quantiles[0.25])].copy()\n",
    "    elif ndvi_quantile == 'second':\n",
    "        gdf_rtd = gdf[(gdf.place_name==place_name) & (gdf.ndvi_median>=ndvi_quantiles[0.25]) & (gdf.ndvi_median<ndvi_quantiles[0.5])].copy()\n",
    "    elif ndvi_quantile == 'third':\n",
    "        gdf_rtd = gdf[(gdf.place_name==place_name) & (gdf.ndvi_median>=ndvi_quantiles[0.5]) & (gdf.ndvi_median<ndvi_quantiles[0.75])].copy()\n",
    "    elif ndvi_quantile == 'upper':\n",
    "        gdf_rtd = gdf[(gdf.place_name==place_name) & (gdf.ndvi_median>=ndvi_quantiles[0.75])].copy()\n",
    "        \n",
    "    place_name = 'Goteborg'\n",
    "    ndvi_quantiles = ndvi_quantiles_got\n",
    "    if ndvi_quantile == 'lower':\n",
    "        gdf_got = gdf[(gdf.place_name==place_name) & (gdf.ndvi_median<ndvi_quantiles[0.25])].copy()\n",
    "    elif ndvi_quantile == 'second':\n",
    "        gdf_got = gdf[(gdf.place_name==place_name) & (gdf.ndvi_median>=ndvi_quantiles[0.25]) & (gdf.ndvi_median<ndvi_quantiles[0.5])].copy()\n",
    "    elif ndvi_quantile == 'third':\n",
    "        gdf_got = gdf[(gdf.place_name==place_name) & (gdf.ndvi_median>=ndvi_quantiles[0.5]) & (gdf.ndvi_median<ndvi_quantiles[0.75])].copy()\n",
    "    elif ndvi_quantile == 'upper':\n",
    "        gdf_got = gdf[(gdf.place_name==place_name) & (gdf.ndvi_median>=ndvi_quantiles[0.75])].copy()\n",
    "        \n",
    "    return pd.concat([gdf_bcn, gdf_rtd, gdf_got])"
   ]
  },
  {
   "cell_type": "code",
   "execution_count": 101,
   "id": "6e353b0e-c654-40a0-a898-aa24236f471e",
   "metadata": {},
   "outputs": [],
   "source": [
    "def get_osm_ndvi_subset_stats(osm_category, ndvi_quantile, exclusive=False):\n",
    "    \n",
    "    subset = get_osm_ndvi_subset(osm_category, ndvi_quantile, exclusive=exclusive)\n",
    "    \n",
    "    return {\n",
    "        'median': subset.greenness_rating_num.median(),\n",
    "        'perc': round(100*len(subset[subset.greenness_rating_num>=3.0])/len(subset), 3),\n",
    "        'n_green': len(subset[subset.greenness_rating_num>=3.0]),\n",
    "        'n_total': len(subset),\n",
    "        'ndvi_min': round(subset.ndvi_median.min(), 3),\n",
    "        'ndvi_max': round(subset.ndvi_median.max(), 3)}"
   ]
  },
  {
   "cell_type": "code",
   "execution_count": 102,
   "id": "f71d8f1f-3cad-401e-8cbf-6bb80a7f9a40",
   "metadata": {},
   "outputs": [],
   "source": [
    "def print_osm_ndvi_stats(exclusive=False):\n",
    "    \n",
    "    headers = [\n",
    "        'osm_category', \n",
    "        'lower ndvi\\nBcn: {}-{}\\nRtd: {}-{}\\nGot: {}-{}'.format(round(ndvi_quantiles_bcn[0], 3), round(ndvi_quantiles_bcn[0.25], 3), round(ndvi_quantiles_rtd[0], 3), round(ndvi_quantiles_rtd[0.25], 3), round(ndvi_quantiles_got[0], 3), round(ndvi_quantiles_got[0.25], 3)), \n",
    "        'second ndvi\\nBcn: {}-{}\\nRtd: {}-{}\\nGot: {}-{}'.format(round(ndvi_quantiles_bcn[0.25], 3), round(ndvi_quantiles_bcn[0.5], 3), round(ndvi_quantiles_rtd[0.25], 3), round(ndvi_quantiles_rtd[0.5], 3), round(ndvi_quantiles_got[0.25], 3), round(ndvi_quantiles_got[0.5], 3)), \n",
    "        'third ndvi\\nBcn: {}-{}\\nRtd: {}-{}\\nGot: {}-{}'.format(round(ndvi_quantiles_bcn[0.5], 3), round(ndvi_quantiles_bcn[0.75], 3), round(ndvi_quantiles_rtd[0.5], 3), round(ndvi_quantiles_rtd[0.75], 3), round(ndvi_quantiles_got[0.5], 3), round(ndvi_quantiles_got[0.75], 3)), \n",
    "        'upper ndvi\\nBcn: {}-{}\\nRtd: {}-{}\\nGot: {}-{}'.format(round(ndvi_quantiles_bcn[0.75], 3), round(ndvi_quantiles_bcn[1], 3), round(ndvi_quantiles_rtd[0.75], 3), round(ndvi_quantiles_rtd[1], 3), round(ndvi_quantiles_got[0.75], 3), round(ndvi_quantiles_got[1], 3)), ]\n",
    "    rows = []\n",
    "    osm_categories = ['near_regular_greenspace', 'near_pocket_greenspace', 'near_square', 'near_playspace', 'near_street'] #, 'all']\n",
    "    for osm_category in osm_categories:\n",
    "        if exclusive and osm_category=='near_regular_greenspace':\n",
    "            stats_lower = get_osm_ndvi_subset_stats(osm_category, 'lower')\n",
    "            stats_second = get_osm_ndvi_subset_stats(osm_category, 'second')\n",
    "            stats_third = get_osm_ndvi_subset_stats(osm_category, 'third')\n",
    "            stats_upper = get_osm_ndvi_subset_stats(osm_category, 'upper')\n",
    "        else:\n",
    "            stats_lower = get_osm_ndvi_subset_stats(osm_category, 'lower', exclusive=exclusive)\n",
    "            stats_second = get_osm_ndvi_subset_stats(osm_category, 'second', exclusive=exclusive)\n",
    "            stats_third = get_osm_ndvi_subset_stats(osm_category, 'third', exclusive=exclusive)\n",
    "            stats_upper = get_osm_ndvi_subset_stats(osm_category, 'upper', exclusive=exclusive)\n",
    "        rows.append([osm_category, 'median: '+str(stats_lower['median']), 'median: '+str(stats_second['median']), 'median: '+str(stats_third['median']), 'median: '+str(stats_upper['median'])])\n",
    "        rows.append(['', str(stats_lower['perc'])+'% green', str(stats_second['perc'])+'% green', str(stats_third['perc'])+'% green', str(stats_upper['perc'])+'% green'])\n",
    "        rows.append(['', 'n_green='+str(stats_lower['n_green']), 'n_green='+str(stats_second['n_green']), 'n_green='+str(stats_third['n_green']), 'n_green='+str(stats_upper['n_green'])])\n",
    "        rows.append(['', 'n_total='+str(stats_lower['n_total']), 'n_total='+str(stats_second['n_total']), 'n_total='+str(stats_third['n_total']), 'n_total='+str(stats_upper['n_total'])])\n",
    "        # rows.append(['', 'ndvi {}-{}'.format(stats_lower['ndvi_min'], stats_lower['ndvi_max']), 'ndvi {}-{}'.format(stats_second['ndvi_min'], stats_second['ndvi_max']), 'ndvi {}-{}'.format(stats_third['ndvi_min'], stats_third['ndvi_max']), 'ndvi {}-{}'.format(stats_upper['ndvi_min'], stats_upper['ndvi_max'])])\n",
    "        rows.append([''])\n",
    "        \n",
    "    print(tabulate(rows, headers=headers))"
   ]
  },
  {
   "cell_type": "code",
   "execution_count": 103,
   "id": "253dffb9-b423-4dff-8da7-3cd785d60e78",
   "metadata": {},
   "outputs": [],
   "source": [
    "if print_and_plot:\n",
    "    print_osm_ndvi_stats(exclusive=True)"
   ]
  },
  {
   "cell_type": "code",
   "execution_count": 104,
   "id": "15ede76e-d41a-4f00-8807-9a1ba598fed9",
   "metadata": {},
   "outputs": [],
   "source": [
    "# what are percentages of true/false positives/negatives"
   ]
  },
  {
   "cell_type": "code",
   "execution_count": 105,
   "id": "42ab3204-1db8-4dd4-90e5-877dbd4a928a",
   "metadata": {},
   "outputs": [
    {
     "name": "stdout",
     "output_type": "stream",
     "text": [
      "413\n"
     ]
    }
   ],
   "source": [
    "print(len(perception_points_perplace[\n",
    "    (perception_points_perplace.near_regular_greenspace) |\n",
    "    (perception_points_perplace.near_pocket_greenspace) |\n",
    "    (perception_points_perplace.near_square) |\n",
    "    (perception_points_perplace.near_playspace) |\n",
    "    (perception_points_perplace.near_street)]))"
   ]
  },
  {
   "cell_type": "code",
   "execution_count": 106,
   "id": "036bae2d-12aa-4046-a71f-ccfed70f5b23",
   "metadata": {},
   "outputs": [],
   "source": [
    "# case OSM - when using only OSM regular-greenspaces to represent greenspaces"
   ]
  },
  {
   "cell_type": "code",
   "execution_count": 107,
   "id": "b4c98a92-263d-430a-b705-f5edbca00e62",
   "metadata": {},
   "outputs": [
    {
     "name": "stdout",
     "output_type": "stream",
     "text": [
      "OSM case:\n",
      "163 true positives\n",
      "(and 183 false positives)\n"
     ]
    }
   ],
   "source": [
    "OSM_truepos = 0\n",
    "OSM_totalpos = 0\n",
    "gdf = gpd.GeoDataFrame()\n",
    "\n",
    "gdf = pd.concat([gdf, get_osm_ndvi_subset('near_regular_greenspace', 'lower')])\n",
    "gdf = pd.concat([gdf, get_osm_ndvi_subset('near_regular_greenspace', 'second')])\n",
    "gdf = pd.concat([gdf, get_osm_ndvi_subset('near_regular_greenspace', 'third')])\n",
    "gdf = pd.concat([gdf, get_osm_ndvi_subset('near_regular_greenspace', 'upper')])\n",
    "\n",
    "gdf.drop_duplicates(inplace=True)\n",
    "OSM_totalpos = len(gdf)\n",
    "OSM_truepos = len(gdf[gdf.greenness_rating_num>=3.0])\n",
    "\n",
    "print('OSM case:\\n{} true positives\\n(and {} false positives)'.format(OSM_truepos, OSM_totalpos-OSM_truepos))"
   ]
  },
  {
   "cell_type": "code",
   "execution_count": 108,
   "id": "a013ff87-4b01-4834-a916-284ba817236a",
   "metadata": {
    "tags": []
   },
   "outputs": [
    {
     "name": "stdout",
     "output_type": "stream",
     "text": [
      "OSM case:\n",
      "50 true negatives\n",
      "(and 17 false negatives)\n"
     ]
    }
   ],
   "source": [
    "OSM_trueneg = 0\n",
    "OSM_totalneg = 0\n",
    "gdf = gpd.GeoDataFrame()\n",
    "\n",
    "gdf = pd.concat([gdf, get_osm_ndvi_subset('near_pocket_greenspace', 'lower', exclusive=True)])\n",
    "gdf = pd.concat([gdf, get_osm_ndvi_subset('near_pocket_greenspace', 'second', exclusive=True)])\n",
    "gdf = pd.concat([gdf, get_osm_ndvi_subset('near_pocket_greenspace', 'third', exclusive=True)])\n",
    "gdf = pd.concat([gdf, get_osm_ndvi_subset('near_pocket_greenspace', 'upper', exclusive=True)])\n",
    "\n",
    "gdf = pd.concat([gdf, get_osm_ndvi_subset('near_square', 'lower', exclusive=True)])\n",
    "gdf = pd.concat([gdf, get_osm_ndvi_subset('near_square', 'second', exclusive=True)])\n",
    "gdf = pd.concat([gdf, get_osm_ndvi_subset('near_square', 'third', exclusive=True)])\n",
    "gdf = pd.concat([gdf, get_osm_ndvi_subset('near_square', 'upper', exclusive=True)])\n",
    "\n",
    "gdf = pd.concat([gdf, get_osm_ndvi_subset('near_playspace', 'lower', exclusive=True)])\n",
    "gdf = pd.concat([gdf, get_osm_ndvi_subset('near_playspace', 'second', exclusive=True)])\n",
    "gdf = pd.concat([gdf, get_osm_ndvi_subset('near_playspace', 'third', exclusive=True)])\n",
    "gdf = pd.concat([gdf, get_osm_ndvi_subset('near_playspace', 'upper', exclusive=True)])\n",
    "\n",
    "gdf = pd.concat([gdf, get_osm_ndvi_subset('near_street', 'lower', exclusive=True)])\n",
    "gdf = pd.concat([gdf, get_osm_ndvi_subset('near_street', 'second', exclusive=True)])\n",
    "gdf = pd.concat([gdf, get_osm_ndvi_subset('near_street', 'third', exclusive=True)])\n",
    "gdf = pd.concat([gdf, get_osm_ndvi_subset('near_street', 'upper', exclusive=True)])\n",
    "\n",
    "gdf.drop_duplicates(inplace=True)\n",
    "OSM_totalneg = len(gdf)\n",
    "OSM_trueneg = len(gdf[gdf.greenness_rating_num<3.0])\n",
    "\n",
    "print('OSM case:\\n{} true negatives\\n(and {} false negatives)'.format(OSM_trueneg, OSM_totalneg-OSM_trueneg))"
   ]
  },
  {
   "cell_type": "code",
   "execution_count": 109,
   "id": "67e303a5-7106-4958-a2a9-2729552c0634",
   "metadata": {},
   "outputs": [],
   "source": [
    "# case NDVI - when using only NDVI upper half to represent greenspaces"
   ]
  },
  {
   "cell_type": "code",
   "execution_count": 110,
   "id": "8d81d594-4d6d-4188-b17d-6b0cfef192d3",
   "metadata": {},
   "outputs": [
    {
     "name": "stdout",
     "output_type": "stream",
     "text": [
      "NDVI case:\n",
      "132 true positives\n",
      "(and 78 false positives)\n"
     ]
    }
   ],
   "source": [
    "NDVI_truepos = 0\n",
    "NDVI_totalpos = 0\n",
    "gdf = gpd.GeoDataFrame()\n",
    "\n",
    "gdf = pd.concat([gdf, get_osm_ndvi_subset('near_regular_greenspace', 'third')])\n",
    "gdf = pd.concat([gdf, get_osm_ndvi_subset('near_pocket_greenspace', 'third')])\n",
    "gdf = pd.concat([gdf, get_osm_ndvi_subset('near_square', 'third')])\n",
    "gdf = pd.concat([gdf, get_osm_ndvi_subset('near_playspace', 'third')])\n",
    "gdf = pd.concat([gdf, get_osm_ndvi_subset('near_street', 'third')])\n",
    "\n",
    "gdf = pd.concat([gdf, get_osm_ndvi_subset('near_regular_greenspace', 'upper')])\n",
    "gdf = pd.concat([gdf, get_osm_ndvi_subset('near_pocket_greenspace', 'upper')])\n",
    "gdf = pd.concat([gdf, get_osm_ndvi_subset('near_square', 'upper')])\n",
    "gdf = pd.concat([gdf, get_osm_ndvi_subset('near_playspace', 'upper')])\n",
    "gdf = pd.concat([gdf, get_osm_ndvi_subset('near_street', 'upper')])\n",
    "\n",
    "gdf.drop_duplicates(inplace=True)\n",
    "NDVI_totalpos = len(gdf)\n",
    "NDVI_truepos = len(gdf[gdf.greenness_rating_num>=3.0])\n",
    "\n",
    "print('NDVI case:\\n{} true positives\\n(and {} false positives)'.format(NDVI_truepos, NDVI_totalpos-NDVI_truepos))"
   ]
  },
  {
   "cell_type": "code",
   "execution_count": 111,
   "id": "f1b3a4b5-7b40-4b4a-94a1-2b21aef96e62",
   "metadata": {},
   "outputs": [
    {
     "name": "stdout",
     "output_type": "stream",
     "text": [
      "NDVI case:\n",
      "155 true negatives\n",
      "(and 48 false negatives)\n"
     ]
    }
   ],
   "source": [
    "NDVI_trueneg = 0\n",
    "NDVI_totalneg = 0\n",
    "gdf = gpd.GeoDataFrame()\n",
    "\n",
    "gdf = pd.concat([gdf, get_osm_ndvi_subset('near_regular_greenspace', 'lower')])\n",
    "gdf = pd.concat([gdf, get_osm_ndvi_subset('near_pocket_greenspace', 'lower')])\n",
    "gdf = pd.concat([gdf, get_osm_ndvi_subset('near_square', 'lower')])\n",
    "gdf = pd.concat([gdf, get_osm_ndvi_subset('near_playspace', 'lower')])\n",
    "gdf = pd.concat([gdf, get_osm_ndvi_subset('near_street', 'lower')])\n",
    "\n",
    "gdf = pd.concat([gdf, get_osm_ndvi_subset('near_regular_greenspace', 'second')])\n",
    "gdf = pd.concat([gdf, get_osm_ndvi_subset('near_pocket_greenspace', 'second')])\n",
    "gdf = pd.concat([gdf, get_osm_ndvi_subset('near_square', 'second')])\n",
    "gdf = pd.concat([gdf, get_osm_ndvi_subset('near_playspace', 'second')])\n",
    "gdf = pd.concat([gdf, get_osm_ndvi_subset('near_street', 'second')])\n",
    "\n",
    "gdf.drop_duplicates(inplace=True)\n",
    "NDVI_totalneg = len(gdf)\n",
    "NDVI_trueneg = len(gdf[gdf.greenness_rating_num<3.0])\n",
    "\n",
    "print('NDVI case:\\n{} true negatives\\n(and {} false negatives)'.format(NDVI_trueneg, NDVI_totalneg-NDVI_trueneg))"
   ]
  },
  {
   "cell_type": "code",
   "execution_count": 112,
   "id": "8a17cac9-687a-4bee-ba4c-0ecfec28f693",
   "metadata": {},
   "outputs": [],
   "source": [
    "# case combo - when combining the two to represent greenspaces\n",
    "# reg-size greenspace exluding those in lower NDVI quantile\n",
    "# also other types of spaces in upper NDVI quantile"
   ]
  },
  {
   "cell_type": "code",
   "execution_count": 113,
   "id": "a7e3d1eb-c11d-4e3f-9c38-d32739e919df",
   "metadata": {},
   "outputs": [
    {
     "name": "stdout",
     "output_type": "stream",
     "text": [
      "COMBO case:\n",
      "154 true positives\n",
      "(and 129 false positives)\n"
     ]
    }
   ],
   "source": [
    "COMBO_truepos = 0\n",
    "COMBO_totalpos = 0\n",
    "gdf = gpd.GeoDataFrame()\n",
    "\n",
    "gdf = pd.concat([gdf, get_osm_ndvi_subset('near_regular_greenspace', 'second')])\n",
    "gdf = pd.concat([gdf, get_osm_ndvi_subset('near_regular_greenspace', 'third')])\n",
    "gdf = pd.concat([gdf, get_osm_ndvi_subset('near_regular_greenspace', 'upper')])\n",
    "\n",
    "gdf = pd.concat([gdf, get_osm_ndvi_subset('near_pocket_greenspace', 'upper')])\n",
    "gdf = pd.concat([gdf, get_osm_ndvi_subset('near_square', 'upper')])\n",
    "gdf = pd.concat([gdf, get_osm_ndvi_subset('near_playspace', 'upper')])\n",
    "gdf = pd.concat([gdf, get_osm_ndvi_subset('near_street', 'upper')])\n",
    "\n",
    "gdf.drop_duplicates(inplace=True)\n",
    "COMBO_totalpos = len(gdf)\n",
    "COMBO_truepos = len(gdf[gdf.greenness_rating_num>=3.0])\n",
    "\n",
    "print('COMBO case:\\n{} true positives\\n(and {} false positives)'.format(COMBO_truepos, COMBO_totalpos-COMBO_truepos))"
   ]
  },
  {
   "cell_type": "code",
   "execution_count": 114,
   "id": "82da72ba-8008-4169-a841-3d275f43c7aa",
   "metadata": {},
   "outputs": [
    {
     "name": "stdout",
     "output_type": "stream",
     "text": [
      "COMBO case:\n",
      "205 true negatives\n",
      "(and 103 false negatives)\n"
     ]
    }
   ],
   "source": [
    "COMBO_trueneg = 0\n",
    "COMBO_totalneg = 0\n",
    "gdf = gpd.GeoDataFrame()\n",
    "\n",
    "gdf = pd.concat([gdf, get_osm_ndvi_subset('near_regular_greenspace', 'lower')])\n",
    "\n",
    "gdf = pd.concat([gdf, get_osm_ndvi_subset('near_pocket_greenspace', 'lower')])\n",
    "gdf = pd.concat([gdf, get_osm_ndvi_subset('near_square', 'lower')])\n",
    "gdf = pd.concat([gdf, get_osm_ndvi_subset('near_playspace', 'lower')])\n",
    "gdf = pd.concat([gdf, get_osm_ndvi_subset('near_street', 'lower')])\n",
    "\n",
    "gdf = pd.concat([gdf, get_osm_ndvi_subset('near_pocket_greenspace', 'second')])\n",
    "gdf = pd.concat([gdf, get_osm_ndvi_subset('near_square', 'second')])\n",
    "gdf = pd.concat([gdf, get_osm_ndvi_subset('near_playspace', 'second')])\n",
    "gdf = pd.concat([gdf, get_osm_ndvi_subset('near_street', 'second')])\n",
    "\n",
    "gdf = pd.concat([gdf, get_osm_ndvi_subset('near_pocket_greenspace', 'third')])\n",
    "gdf = pd.concat([gdf, get_osm_ndvi_subset('near_square', 'third')])\n",
    "gdf = pd.concat([gdf, get_osm_ndvi_subset('near_playspace', 'third')])\n",
    "gdf = pd.concat([gdf, get_osm_ndvi_subset('near_street', 'third')])\n",
    "\n",
    "gdf.drop_duplicates(inplace=True)\n",
    "COMBO_totalneg = len(gdf)\n",
    "COMBO_trueneg = len(gdf[gdf.greenness_rating_num<3.0])\n",
    "\n",
    "print('COMBO case:\\n{} true negatives\\n(and {} false negatives)'.format(COMBO_trueneg, COMBO_totalneg-COMBO_trueneg))"
   ]
  },
  {
   "cell_type": "code",
   "execution_count": 115,
   "id": "e4727859-cde3-463f-8ce7-1b59ab428ad8",
   "metadata": {},
   "outputs": [
    {
     "name": "stdout",
     "output_type": "stream",
     "text": [
      "OSM case:\n",
      "163 true positives\n",
      "(and 183 false positives)\n",
      "50 true negatives\n",
      "(and 17 false negatives)\n"
     ]
    }
   ],
   "source": [
    "print('OSM case:\\n{} true positives\\n(and {} false positives)'.format(OSM_truepos, OSM_totalpos-OSM_truepos))\n",
    "print('{} true negatives\\n(and {} false negatives)'.format(OSM_trueneg, OSM_totalneg-OSM_trueneg))"
   ]
  },
  {
   "cell_type": "code",
   "execution_count": 116,
   "id": "b1bfebb6-9a05-4fdb-b5d9-5bd530158529",
   "metadata": {},
   "outputs": [
    {
     "name": "stdout",
     "output_type": "stream",
     "text": [
      "NDVI case:\n",
      "132 true positives\n",
      "(and 78 false positives)\n",
      "155 true negatives\n",
      "(and 48 false negatives)\n"
     ]
    }
   ],
   "source": [
    "print('NDVI case:\\n{} true positives\\n(and {} false positives)'.format(NDVI_truepos, NDVI_totalpos-NDVI_truepos))\n",
    "print('{} true negatives\\n(and {} false negatives)'.format(NDVI_trueneg, NDVI_totalneg-NDVI_trueneg))"
   ]
  },
  {
   "cell_type": "code",
   "execution_count": 117,
   "id": "40941772-549d-4685-94cc-5a5523b41a80",
   "metadata": {},
   "outputs": [
    {
     "name": "stdout",
     "output_type": "stream",
     "text": [
      "COMBO case:\n",
      "154 true positives\n",
      "(and 129 false positives)\n",
      "205 true negatives\n",
      "(and 103 false negatives)\n"
     ]
    }
   ],
   "source": [
    "print('COMBO case:\\n{} true positives\\n(and {} false positives)'.format(COMBO_truepos, COMBO_totalpos-COMBO_truepos))\n",
    "print('{} true negatives\\n(and {} false negatives)'.format(COMBO_trueneg, COMBO_totalneg-COMBO_trueneg))"
   ]
  },
  {
   "cell_type": "code",
   "execution_count": 118,
   "id": "1508ca80-52b0-43ff-b54e-e3481b7a15b6",
   "metadata": {},
   "outputs": [],
   "source": [
    "if print_and_plot:\n",
    "    \n",
    "    fig, axs = plt.subplots(nrows=1, ncols=5, figsize=(20,4))\n",
    "    fig.suptitle(place_name, y=1.2, fontsize=20)    \n",
    "    \n",
    "    gdf = perception_points_perplace[(perception_points_perplace['near_regular_greenspace'])]\n",
    "    x = gdf.greenness_rating_num\n",
    "    y = gdf.ndvi_median\n",
    "    sns.regplot(ax=axs[0], x=x, y=y, scatter_kws={'alpha':0.1})\n",
    "    correlation, pvalue = stats.spearmanr(x, y, nan_policy='omit')\n",
    "    if pvalue <= 0.05:\n",
    "        axs[0].set_title('Regular greenspace\\nGreenness rating & NDVI at point\\nN: {}; Corr: {}; p-value: {}'.format(int(len(gdf)), round(correlation, 3), round(pvalue, 3)))\n",
    "    else:\n",
    "        axs[0].set_title('Regular greenspace\\nGreenness rating & NDVI at point\\nInsignificant')\n",
    "        \n",
    "        \n",
    "    gdf = perception_points_perplace[(perception_points_perplace['near_pocket_greenspace']) & ~(perception_points_perplace['near_regular_greenspace'])]\n",
    "    x = gdf.greenness_rating_num\n",
    "    y = gdf.ndvi_median\n",
    "    sns.regplot(ax=axs[1], x=x, y=y, scatter_kws={'alpha':0.1})\n",
    "    correlation, pvalue = stats.spearmanr(x, y, nan_policy='omit')\n",
    "    if pvalue <= 0.05:\n",
    "        axs[1].set_title('Pocket greenspace\\nGreenness rating & NDVI at point\\nN: {}; Corr: {}; p-value: {}'.format(int(len(gdf)), round(correlation, 3), round(pvalue, 3)))\n",
    "    else:\n",
    "        axs[1].set_title('Pocket greenspace\\nGreenness rating & NDVI at point\\nInsignificant')\n",
    "        \n",
    "        \n",
    "    gdf = perception_points_perplace[(perception_points_perplace['near_square']) & ~(perception_points_perplace['near_regular_greenspace'])]\n",
    "    x = gdf.greenness_rating_num\n",
    "    y = gdf.ndvi_median\n",
    "    sns.regplot(ax=axs[2], x=x, y=y, scatter_kws={'alpha':0.1})\n",
    "    correlation, pvalue = stats.spearmanr(x, y, nan_policy='omit')\n",
    "    if pvalue <= 0.05:\n",
    "        axs[2].set_title('Square\\nGreenness rating & NDVI at point\\nN: {}; Corr: {}; p-value: {}'.format(int(len(gdf)), round(correlation, 3), round(pvalue, 3)))\n",
    "    else:\n",
    "        axs[2].set_title('Square\\nGreenness rating & NDVI at point\\nInsignificant')\n",
    "    \n",
    "    \n",
    "    gdf = perception_points_perplace[(perception_points_perplace['near_playspace']) & ~(perception_points_perplace['near_regular_greenspace'])]\n",
    "    x = gdf.greenness_rating_num\n",
    "    y = gdf.ndvi_median\n",
    "    sns.regplot(ax=axs[3], x=x, y=y, scatter_kws={'alpha':0.1})\n",
    "    correlation, pvalue = stats.spearmanr(x, y, nan_policy='omit')\n",
    "    if pvalue <= 0.05:\n",
    "        axs[3].set_title('Playspace\\nGreenness rating & NDVI at point\\nN: {}; Corr: {}; p-value: {}'.format(int(len(gdf)), round(correlation, 3), round(pvalue, 3)))\n",
    "    else:\n",
    "        axs[3].set_title('Playspace\\nGreenness rating & NDVI at point\\nInsignificant')\n",
    "        \n",
    "        \n",
    "    gdf = perception_points_perplace[(perception_points_perplace['near_street']) & ~(perception_points_perplace['near_regular_greenspace'])]\n",
    "    x = gdf.greenness_rating_num\n",
    "    y = gdf.ndvi_median\n",
    "    sns.regplot(ax=axs[4], x=x, y=y, scatter_kws={'alpha':0.1})\n",
    "    correlation, pvalue = stats.spearmanr(x, y, nan_policy='omit')\n",
    "    if pvalue <= 0.05:\n",
    "        axs[4].set_title('Street\\nGreenness rating & NDVI at point\\nN: {}; Corr: {}; p-value: {}'.format(int(len(gdf)), round(correlation, 3), round(pvalue, 3)))\n",
    "    else:\n",
    "        axs[4].set_title('Street\\nGreenness rating & NDVI at point\\nInsignificant')\n",
    "    \n",
    "    \n",
    "    plt.show()"
   ]
  },
  {
   "cell_type": "code",
   "execution_count": 119,
   "id": "fae313ea-aa10-48c9-905a-524d7ebbc745",
   "metadata": {
    "tags": []
   },
   "outputs": [],
   "source": [
    "if print_and_plot:\n",
    "    \n",
    "    place_name = 'Barcelona'\n",
    "    \n",
    "    fig, axs = plt.subplots(nrows=1, ncols=5, figsize=(20,4))\n",
    "    fig.suptitle(place_name, y=1.2, fontsize=20)    \n",
    "    \n",
    "    gdf = perception_points_perplace[(perception_points_perplace['near_regular_greenspace']) & (perception_points_perplace.place_name==place_name)]\n",
    "    x = gdf.greenness_rating_num\n",
    "    y = gdf.ndvi_median\n",
    "    sns.regplot(ax=axs[0], x=x, y=y, scatter_kws={'alpha':0.1})\n",
    "    correlation, pvalue = stats.spearmanr(x, y, nan_policy='omit')\n",
    "    if pvalue <= 0.05:\n",
    "        axs[0].set_title('Regular greenspace\\nGreenness rating & NDVI at point\\nN: {}; Corr: {}; p-value: {}'.format(int(len(gdf)), round(correlation, 3), round(pvalue, 3)))\n",
    "    else:\n",
    "        axs[0].set_title('Regular greenspace\\nGreenness rating & NDVI at point\\nInsignificant')\n",
    "        \n",
    "        \n",
    "    gdf = perception_points_perplace[(perception_points_perplace['near_pocket_greenspace']) & ~(perception_points_perplace['near_regular_greenspace']) & (perception_points_perplace.place_name==place_name)]\n",
    "    x = gdf.greenness_rating_num\n",
    "    y = gdf.ndvi_median\n",
    "    sns.regplot(ax=axs[1], x=x, y=y, scatter_kws={'alpha':0.1})\n",
    "    correlation, pvalue = stats.spearmanr(x, y, nan_policy='omit')\n",
    "    if pvalue <= 0.05:\n",
    "        axs[1].set_title('Pocket greenspace\\nGreenness rating & NDVI at point\\nN: {}; Corr: {}; p-value: {}'.format(int(len(gdf)), round(correlation, 3), round(pvalue, 3)))\n",
    "    else:\n",
    "        axs[1].set_title('Pocket greenspace\\nGreenness rating & NDVI at point\\nInsignificant')\n",
    "        \n",
    "        \n",
    "    gdf = perception_points_perplace[(perception_points_perplace['near_square']) & ~(perception_points_perplace['near_regular_greenspace']) & (perception_points_perplace.place_name==place_name)]\n",
    "    x = gdf.greenness_rating_num\n",
    "    y = gdf.ndvi_median\n",
    "    sns.regplot(ax=axs[2], x=x, y=y, scatter_kws={'alpha':0.1})\n",
    "    correlation, pvalue = stats.spearmanr(x, y, nan_policy='omit')\n",
    "    if pvalue <= 0.05:\n",
    "        axs[2].set_title('Square\\nGreenness rating & NDVI at point\\nN: {}; Corr: {}; p-value: {}'.format(int(len(gdf)), round(correlation, 3), round(pvalue, 3)))\n",
    "    else:\n",
    "        axs[2].set_title('Square\\nGreenness rating & NDVI at point\\nInsignificant')\n",
    "    \n",
    "    \n",
    "    gdf = perception_points_perplace[(perception_points_perplace['near_playspace']) & ~(perception_points_perplace['near_regular_greenspace']) & (perception_points_perplace.place_name==place_name)]\n",
    "    x = gdf.greenness_rating_num\n",
    "    y = gdf.ndvi_median\n",
    "    sns.regplot(ax=axs[3], x=x, y=y, scatter_kws={'alpha':0.1})\n",
    "    correlation, pvalue = stats.spearmanr(x, y, nan_policy='omit')\n",
    "    if pvalue <= 0.05:\n",
    "        axs[3].set_title('Playspace\\nGreenness rating & NDVI at point\\nN: {}; Corr: {}; p-value: {}'.format(int(len(gdf)), round(correlation, 3), round(pvalue, 3)))\n",
    "    else:\n",
    "        axs[3].set_title('Playspace\\nGreenness rating & NDVI at point\\nInsignificant')\n",
    "        \n",
    "        \n",
    "    gdf = perception_points_perplace[(perception_points_perplace['near_street']) & ~(perception_points_perplace['near_regular_greenspace']) & (perception_points_perplace.place_name==place_name)]\n",
    "    x = gdf.greenness_rating_num\n",
    "    y = gdf.ndvi_median\n",
    "    sns.regplot(ax=axs[4], x=x, y=y, scatter_kws={'alpha':0.1})\n",
    "    correlation, pvalue = stats.spearmanr(x, y, nan_policy='omit')\n",
    "    if pvalue <= 0.05:\n",
    "        axs[4].set_title('Street\\nGreenness rating & NDVI at point\\nN: {}; Corr: {}; p-value: {}'.format(int(len(gdf)), round(correlation, 3), round(pvalue, 3)))\n",
    "    else:\n",
    "        axs[4].set_title('Street\\nGreenness rating & NDVI at point\\nInsignificant')\n",
    "    \n",
    "    \n",
    "    plt.show()"
   ]
  },
  {
   "cell_type": "code",
   "execution_count": 120,
   "id": "94233a11-633a-46f1-b23b-fee5fe280193",
   "metadata": {
    "tags": []
   },
   "outputs": [],
   "source": [
    "if print_and_plot:\n",
    "    \n",
    "    place_name = 'Rotterdam'\n",
    "    \n",
    "    fig, axs = plt.subplots(nrows=1, ncols=5, figsize=(20,4))\n",
    "    fig.suptitle(place_name, y=1.2, fontsize=20)    \n",
    "    \n",
    "    gdf = perception_points_perplace[(perception_points_perplace['near_regular_greenspace']) & (perception_points_perplace.place_name==place_name)]\n",
    "    x = gdf.greenness_rating_num\n",
    "    y = gdf.ndvi_median\n",
    "    sns.regplot(ax=axs[0], x=x, y=y, scatter_kws={'alpha':0.1})\n",
    "    correlation, pvalue = stats.spearmanr(x, y, nan_policy='omit')\n",
    "    if pvalue <= 0.05:\n",
    "        axs[0].set_title('Regular greenspace\\nGreenness rating & NDVI at point\\nN: {}; Corr: {}; p-value: {}'.format(int(len(gdf)), round(correlation, 3), round(pvalue, 3)))\n",
    "    else:\n",
    "        axs[0].set_title('Regular greenspace\\nGreenness rating & NDVI at point\\nInsignificant')\n",
    "        \n",
    "        \n",
    "    gdf = perception_points_perplace[(perception_points_perplace['near_pocket_greenspace']) & ~(perception_points_perplace['near_regular_greenspace']) & (perception_points_perplace.place_name==place_name)]\n",
    "    x = gdf.greenness_rating_num\n",
    "    y = gdf.ndvi_median\n",
    "    sns.regplot(ax=axs[1], x=x, y=y, scatter_kws={'alpha':0.1})\n",
    "    correlation, pvalue = stats.spearmanr(x, y, nan_policy='omit')\n",
    "    if pvalue <= 0.05:\n",
    "        axs[1].set_title('Pocket greenspace\\nGreenness rating & NDVI at point\\nN: {}; Corr: {}; p-value: {}'.format(int(len(gdf)), round(correlation, 3), round(pvalue, 3)))\n",
    "    else:\n",
    "        axs[1].set_title('Pocket greenspace\\nGreenness rating & NDVI at point\\nInsignificant')\n",
    "        \n",
    "        \n",
    "    gdf = perception_points_perplace[(perception_points_perplace['near_square']) & ~(perception_points_perplace['near_regular_greenspace']) & (perception_points_perplace.place_name==place_name)]\n",
    "    x = gdf.greenness_rating_num\n",
    "    y = gdf.ndvi_median\n",
    "    sns.regplot(ax=axs[2], x=x, y=y, scatter_kws={'alpha':0.1})\n",
    "    correlation, pvalue = stats.spearmanr(x, y, nan_policy='omit')\n",
    "    if pvalue <= 0.05:\n",
    "        axs[2].set_title('Square\\nGreenness rating & NDVI at point\\nN: {}; Corr: {}; p-value: {}'.format(int(len(gdf)), round(correlation, 3), round(pvalue, 3)))\n",
    "    else:\n",
    "        axs[2].set_title('Square\\nGreenness rating & NDVI at point\\nInsignificant')\n",
    "    \n",
    "    \n",
    "    gdf = perception_points_perplace[(perception_points_perplace['near_playspace']) & ~(perception_points_perplace['near_regular_greenspace']) & (perception_points_perplace.place_name==place_name)]\n",
    "    x = gdf.greenness_rating_num\n",
    "    y = gdf.ndvi_median\n",
    "    sns.regplot(ax=axs[3], x=x, y=y, scatter_kws={'alpha':0.1})\n",
    "    correlation, pvalue = stats.spearmanr(x, y, nan_policy='omit')\n",
    "    if pvalue <= 0.05:\n",
    "        axs[3].set_title('Playspace\\nGreenness rating & NDVI at point\\nN: {}; Corr: {}; p-value: {}'.format(int(len(gdf)), round(correlation, 3), round(pvalue, 3)))\n",
    "    else:\n",
    "        axs[3].set_title('Playspace\\nGreenness rating & NDVI at point\\nInsignificant')\n",
    "        \n",
    "        \n",
    "    gdf = perception_points_perplace[(perception_points_perplace['near_street']) & ~(perception_points_perplace['near_regular_greenspace']) & (perception_points_perplace.place_name==place_name)]\n",
    "    x = gdf.greenness_rating_num\n",
    "    y = gdf.ndvi_median\n",
    "    sns.regplot(ax=axs[4], x=x, y=y, scatter_kws={'alpha':0.1})\n",
    "    correlation, pvalue = stats.spearmanr(x, y, nan_policy='omit')\n",
    "    if pvalue <= 0.05:\n",
    "        axs[4].set_title('Street\\nGreenness rating & NDVI at point\\nN: {}; Corr: {}; p-value: {}'.format(int(len(gdf)), round(correlation, 3), round(pvalue, 3)))\n",
    "    else:\n",
    "        axs[4].set_title('Street\\nGreenness rating & NDVI at point\\nInsignificant')\n",
    "    \n",
    "    \n",
    "    plt.show()"
   ]
  },
  {
   "cell_type": "code",
   "execution_count": 121,
   "id": "582809ee-cb9f-405e-920f-ab6faf5076ed",
   "metadata": {
    "tags": []
   },
   "outputs": [],
   "source": [
    "if print_and_plot:\n",
    "    \n",
    "    place_name = 'Goteborg'\n",
    "    \n",
    "    fig, axs = plt.subplots(nrows=1, ncols=5, figsize=(20,4))\n",
    "    fig.suptitle(place_name, y=1.2, fontsize=20)\n",
    "    \n",
    "    \n",
    "    gdf = perception_points_perplace[(perception_points_perplace['near_regular_greenspace']) & (perception_points_perplace.place_name==place_name)]\n",
    "    x = gdf.greenness_rating_num\n",
    "    y = gdf.ndvi_median\n",
    "    sns.regplot(ax=axs[0], x=x, y=y, scatter_kws={'alpha':0.1})\n",
    "    correlation, pvalue = stats.spearmanr(x, y, nan_policy='omit')\n",
    "    if pvalue <= 0.05:\n",
    "        axs[0].set_title('Regular greenspace\\nGreenness rating & NDVI at point\\nN: {}; Corr: {}; p-value: {}'.format(int(len(gdf)), round(correlation, 3), round(pvalue, 3)))\n",
    "    else:\n",
    "        axs[0].set_title('Regular greenspace\\nGreenness rating & NDVI at point\\nInsignificant')\n",
    "        \n",
    "        \n",
    "    gdf = perception_points_perplace[(perception_points_perplace['near_pocket_greenspace']) & ~(perception_points_perplace['near_regular_greenspace']) & (perception_points_perplace.place_name==place_name)]\n",
    "    x = gdf.greenness_rating_num\n",
    "    y = gdf.ndvi_median\n",
    "    sns.regplot(ax=axs[1], x=x, y=y, scatter_kws={'alpha':0.1})\n",
    "    correlation, pvalue = stats.spearmanr(x, y, nan_policy='omit')\n",
    "    if pvalue <= 0.05:\n",
    "        axs[1].set_title('Pocket greenspace\\nGreenness rating & NDVI at point\\nN: {}; Corr: {}; p-value: {}'.format(int(len(gdf)), round(correlation, 3), round(pvalue, 3)))\n",
    "    else:\n",
    "        axs[1].set_title('Pocket greenspace\\nGreenness rating & NDVI at point\\nInsignificant')\n",
    "        \n",
    "        \n",
    "    gdf = perception_points_perplace[(perception_points_perplace['near_square']) & ~(perception_points_perplace['near_regular_greenspace']) & (perception_points_perplace.place_name==place_name)]\n",
    "    x = gdf.greenness_rating_num\n",
    "    y = gdf.ndvi_median\n",
    "    sns.regplot(ax=axs[2], x=x, y=y, scatter_kws={'alpha':0.1})\n",
    "    correlation, pvalue = stats.spearmanr(x, y, nan_policy='omit')\n",
    "    if pvalue <= 0.05:\n",
    "        axs[2].set_title('Square\\nGreenness rating & NDVI at point\\nN: {}; Corr: {}; p-value: {}'.format(int(len(gdf)), round(correlation, 3), round(pvalue, 3)))\n",
    "    else:\n",
    "        axs[2].set_title('Square\\nGreenness rating & NDVI at point\\nInsignificant')\n",
    "    \n",
    "    \n",
    "    gdf = perception_points_perplace[(perception_points_perplace['near_playspace']) & ~(perception_points_perplace['near_regular_greenspace']) & (perception_points_perplace.place_name==place_name)]\n",
    "    x = gdf.greenness_rating_num\n",
    "    y = gdf.ndvi_median\n",
    "    sns.regplot(ax=axs[3], x=x, y=y, scatter_kws={'alpha':0.1})\n",
    "    correlation, pvalue = stats.spearmanr(x, y, nan_policy='omit')\n",
    "    if pvalue <= 0.05:\n",
    "        axs[3].set_title('Playspace\\nGreenness rating & NDVI at point\\nN: {}; Corr: {}; p-value: {}'.format(int(len(gdf)), round(correlation, 3), round(pvalue, 3)))\n",
    "    else:\n",
    "        axs[3].set_title('Playspace\\nGreenness rating & NDVI at point\\nInsignificant')\n",
    "        \n",
    "        \n",
    "    gdf = perception_points_perplace[(perception_points_perplace['near_street']) & ~(perception_points_perplace['near_regular_greenspace']) & (perception_points_perplace.place_name==place_name)]\n",
    "    x = gdf.greenness_rating_num\n",
    "    y = gdf.ndvi_median\n",
    "    sns.regplot(ax=axs[4], x=x, y=y, scatter_kws={'alpha':0.1})\n",
    "    correlation, pvalue = stats.spearmanr(x, y, nan_policy='omit')\n",
    "    if pvalue <= 0.05:\n",
    "        axs[4].set_title('Street\\nGreenness rating & NDVI at point\\nN: {}; Corr: {}; p-value: {}'.format(int(len(gdf)), round(correlation, 3), round(pvalue, 3)))\n",
    "    else:\n",
    "        axs[4].set_title('Street\\nGreenness rating & NDVI at point\\nInsignificant')\n",
    "    \n",
    "    \n",
    "    plt.show()"
   ]
  },
  {
   "cell_type": "markdown",
   "id": "0b4492ca-78b0-45c3-a180-446e32772383",
   "metadata": {},
   "source": [
    "## Pseudonmized data"
   ]
  },
  {
   "cell_type": "markdown",
   "id": "da1a824f-61e1-4e61-a07e-994f780a25eb",
   "metadata": {},
   "source": [
    "### Pseudonimized ids for reporting"
   ]
  },
  {
   "cell_type": "code",
   "execution_count": 122,
   "id": "4182a2f9-fedc-4ad2-928f-da8dd49c3443",
   "metadata": {},
   "outputs": [],
   "source": [
    "# generate pseudo ids for greenness data\n",
    "pseudo_ids = greenness_perception_points[['prolific_id']].drop_duplicates().groupby('prolific_id').sample(frac=1).reset_index(drop=True)\n",
    "pseudo_ids['pseudo_participant_id'] = pseudo_ids.index + 1\n",
    "\n",
    "greenness_perception_points_pseudonimized = greenness_perception_points.merge(pseudo_ids, on='prolific_id')\n",
    "greenness_perception_points_pseudonimized.drop(columns=['prolific_id'], inplace=True)"
   ]
  },
  {
   "cell_type": "code",
   "execution_count": 123,
   "id": "f6a6b21e-a976-4e1a-8eb4-47dc05e5041a",
   "metadata": {},
   "outputs": [
    {
     "data": {
      "text/plain": [
       "0"
      ]
     },
     "execution_count": 123,
     "metadata": {},
     "output_type": "execute_result"
    }
   ],
   "source": [
    "# check if any prolific ids are in activity data that were not also in greenness data\n",
    "# if that is not the case, so we can use the same mapping for the activity data\n",
    "len(activity_perception_points[~activity_perception_points.prolific_id.isin(pseudo_ids.prolific_id.to_list())])"
   ]
  },
  {
   "cell_type": "code",
   "execution_count": 124,
   "id": "efe1989d-2fef-4724-ba82-99bec12f07ab",
   "metadata": {},
   "outputs": [],
   "source": [
    "# 0, so we use the same pseudo ids for activity data\n",
    "activity_perception_points_pseudonimized = activity_perception_points.merge(pseudo_ids, on='prolific_id')\n",
    "activity_perception_points_pseudonimized.drop(columns=['prolific_id'], inplace=True)"
   ]
  },
  {
   "cell_type": "markdown",
   "id": "6d73e982-3a57-4c1c-a8f0-dd5200aef066",
   "metadata": {},
   "source": [
    "### Output data with pseudonimized ids"
   ]
  },
  {
   "cell_type": "code",
   "execution_count": 125,
   "id": "6fa6546c-900e-4dea-bc9e-e1b55af89fbc",
   "metadata": {},
   "outputs": [],
   "source": [
    "# turn into geodataframe\n",
    "gsv_crs = 'EPSG:4326'\n",
    "\n",
    "greenness_perception_points_pseudonimized = gpd.GeoDataFrame(\n",
    "    greenness_perception_points_pseudonimized,\n",
    "    geometry=gpd.points_from_xy(greenness_perception_points_pseudonimized.gsv_lng, greenness_perception_points_pseudonimized.gsv_lat),\n",
    "    crs=gsv_crs)\n",
    "\n",
    "activity_perception_points_pseudonimized = gpd.GeoDataFrame(\n",
    "    activity_perception_points_pseudonimized,\n",
    "    geometry=gpd.points_from_xy(activity_perception_points_pseudonimized.gsv_lng, activity_perception_points_pseudonimized.gsv_lat),\n",
    "    crs=gsv_crs)"
   ]
  },
  {
   "cell_type": "code",
   "execution_count": 126,
   "id": "9bff57c3-f46f-42d0-a4db-5e906f131c2b",
   "metadata": {},
   "outputs": [],
   "source": [
    "# organize columns\n",
    "new_greenness_cols = [\n",
    "    'place_name', 'gsv_pano_id', 'pseudo_participant_id',\n",
    "    'greenness_rating', 'greenness_rating_num', 'greenness_reason',\n",
    "    'near_regular_greenspace', 'near_pocket_greenspace', 'near_square', 'near_playspace', 'near_street',\n",
    "    'ndvi_mean', 'ndvi_median', 'ndvi_max',\n",
    "    'iframe', 'geometry']\n",
    "\n",
    "greenness_perception_points_pseudonimized = greenness_perception_points_pseudonimized[new_greenness_cols]"
   ]
  },
  {
   "cell_type": "code",
   "execution_count": 127,
   "id": "a5f20baf-d918-402a-86f0-f8eb8cbd71b5",
   "metadata": {},
   "outputs": [],
   "source": [
    "# organize columns\n",
    "new_activity_cols = [\n",
    "    'place_name', 'gsv_pano_id', 'pseudo_participant_id',\n",
    "    'physical_rating', 'physical_rating_num', 'physical_reason',\n",
    "    'social_rating', 'social_rating_num', 'social_reason',\n",
    "    'relax_rating', 'relax_rating_num', 'relax_reason',\n",
    "    'commute_rating', 'commute_rating_num', 'commute_reason',\n",
    "    'children_rating', 'children_rating_num', 'children_reason',\n",
    "    'near_regular_greenspace', 'near_pocket_greenspace', 'near_square', 'near_playspace', 'near_street',\n",
    "    'ndvi_mean', 'ndvi_median', 'ndvi_max',\n",
    "    'iframe', 'geometry']\n",
    "\n",
    "activity_perception_points_pseudonimized = activity_perception_points_pseudonimized[new_activity_cols]"
   ]
  },
  {
   "cell_type": "markdown",
   "id": "0825e438-308e-4ce3-8ffd-e085e6555e58",
   "metadata": {},
   "source": [
    "### write output data"
   ]
  },
  {
   "cell_type": "code",
   "execution_count": 128,
   "id": "46f8c745-67b1-411c-8ef2-259dc12a36bd",
   "metadata": {},
   "outputs": [],
   "source": [
    "export_sub_folder = os.path.join(confidential_folder, 'pseudonimized', 'radius_{}'.format(radius))"
   ]
  },
  {
   "cell_type": "code",
   "execution_count": 129,
   "id": "9e564b8a",
   "metadata": {},
   "outputs": [],
   "source": [
    "if not os.path.exists(export_sub_folder):\n",
    "    os.mkdir(export_sub_folder)"
   ]
  },
  {
   "cell_type": "code",
   "execution_count": 130,
   "id": "403120b9-64e7-4134-98b9-2aee55f34752",
   "metadata": {},
   "outputs": [
    {
     "name": "stderr",
     "output_type": "stream",
     "text": [
      "/Users/roosteeuwen/opt/anaconda3/envs/greenspace_perception/lib/python3.9/site-packages/geopandas/io/file.py:362: FutureWarning: pandas.Int64Index is deprecated and will be removed from pandas in a future version. Use pandas.Index with the appropriate dtype instead.\n",
      "  pd.Int64Index,\n"
     ]
    }
   ],
   "source": [
    "output_file = os.path.join(export_sub_folder, 'greenness_perceptions.geojson')\n",
    "greenness_perception_points_pseudonimized.to_file(output_file, driver='GeoJSON')"
   ]
  },
  {
   "cell_type": "code",
   "execution_count": 131,
   "id": "254cde55-e9ad-404b-8e3a-3ff463ed4522",
   "metadata": {},
   "outputs": [
    {
     "name": "stderr",
     "output_type": "stream",
     "text": [
      "/Users/roosteeuwen/opt/anaconda3/envs/greenspace_perception/lib/python3.9/site-packages/geopandas/io/file.py:362: FutureWarning: pandas.Int64Index is deprecated and will be removed from pandas in a future version. Use pandas.Index with the appropriate dtype instead.\n",
      "  pd.Int64Index,\n"
     ]
    }
   ],
   "source": [
    "output_file = os.path.join(export_sub_folder, 'activity_perceptions.geojson')\n",
    "activity_perception_points_pseudonimized.to_file(output_file, driver='GeoJSON')"
   ]
  }
 ],
 "metadata": {
  "kernelspec": {
   "display_name": "Python 3 (ipykernel)",
   "language": "python",
   "name": "python3"
  },
  "language_info": {
   "codemirror_mode": {
    "name": "ipython",
    "version": 3
   },
   "file_extension": ".py",
   "mimetype": "text/x-python",
   "name": "python",
   "nbconvert_exporter": "python",
   "pygments_lexer": "ipython3",
   "version": "3.9.12"
  }
 },
 "nbformat": 4,
 "nbformat_minor": 5
}

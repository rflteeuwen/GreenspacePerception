{
 "cells": [
  {
   "cell_type": "markdown",
   "id": "01d2c618-4037-4eda-8537-7ef144491b72",
   "metadata": {},
   "source": [
    "# Step 3. Combine NDVI, OSM, and GSV data"
   ]
  },
  {
   "cell_type": "code",
   "execution_count": null,
   "id": "ee12b30f-ccb8-46c2-b914-ea9c93dab770",
   "metadata": {},
   "outputs": [],
   "source": [
    "import os\n",
    "import datetime\n",
    "\n",
    "import numpy as np\n",
    "import scipy\n",
    "import fiona\n",
    "import statistics\n",
    "import math\n",
    "\n",
    "import pandas as pd\n",
    "import geopandas as gpd\n",
    "from shapely.geometry import LineString, shape, mapping, Point, Polygon, MultiPolygon\n",
    "from shapely.ops import cascaded_union, transform\n",
    "import pyproj\n",
    "\n",
    "import matplotlib.pyplot as plt\n",
    "from matplotlib import colors, cm, style\n",
    "import matplotlib.patches as mpatches\n",
    "# from descartes import PolygonPatch\n",
    "\n",
    "import osmnx as ox\n",
    "import networkx as nx\n",
    "\n",
    "import rasterio\n",
    "from rasterio import MemoryFile\n",
    "from rasterio.plot import show\n",
    "from rasterio.mask import mask\n",
    "from rasterio.features import shapes\n",
    "import json\n",
    "\n",
    "import contextily as cx\n",
    "import folium\n",
    "from folium.features import DivIcon\n",
    "\n",
    "import random"
   ]
  },
  {
   "cell_type": "code",
   "execution_count": null,
   "id": "02404885-6f0e-4e96-a25d-1058aec106db",
   "metadata": {},
   "outputs": [],
   "source": [
    "from getpass import getpass\n",
    "\n",
    "import requests\n",
    "from requests import Request, Session\n",
    "\n",
    "import hashlib\n",
    "import hmac\n",
    "import base64\n",
    "import urllib.parse as urlparse\n",
    "\n",
    "from datetime import date\n",
    "import matplotlib.pyplot as plt\n",
    "import matplotlib.image as mpimg"
   ]
  },
  {
   "cell_type": "code",
   "execution_count": null,
   "id": "6bae3bab-927c-4453-b522-19ebb616be7f",
   "metadata": {},
   "outputs": [],
   "source": [
    "obtain_imagery = False"
   ]
  },
  {
   "cell_type": "code",
   "execution_count": null,
   "id": "eec310d2-9357-4002-a931-091e498d449b",
   "metadata": {},
   "outputs": [],
   "source": [
    "api_key = getpass(\"API key: \")\n",
    "if obtain_imagery:\n",
    "    secret = getpass(\"URL signing secret: \")"
   ]
  },
  {
   "cell_type": "markdown",
   "id": "61279c9e-624a-45d2-85a3-4ebcda5d5015",
   "metadata": {},
   "source": [
    "## Define city and other settings"
   ]
  },
  {
   "cell_type": "markdown",
   "id": "4281d953-cdf2-49c2-89d6-1645d031cc13",
   "metadata": {},
   "source": [
    "#### Place |Country    |CRS\n",
    "Rotterdam/Utrecht    (The Netherlands)    EPSG:28992\n",
    "\n",
    "Barcelona     (Spain)              EPSG:25830\n",
    "\n",
    "Goteborg        (Sweden)             EPSG:3006"
   ]
  },
  {
   "cell_type": "code",
   "execution_count": null,
   "id": "dc170143-29af-4a72-93c5-b9a4be51cd10",
   "metadata": {},
   "outputs": [],
   "source": [
    "place_name = 'Barcelona'\n",
    "local_crs = 'EPSG:25830'"
   ]
  },
  {
   "cell_type": "code",
   "execution_count": null,
   "id": "71e71751-fc9e-4557-bb2d-62a6f24bf525",
   "metadata": {},
   "outputs": [],
   "source": [
    "n_presample = 1000"
   ]
  },
  {
   "cell_type": "code",
   "execution_count": null,
   "id": "d83ce7cc-09e5-4afb-b287-fc996fc6d07f",
   "metadata": {},
   "outputs": [],
   "source": [
    "osm_crs = 'EPSG:3857'\n",
    "gsv_crs = 'EPSG:4326'"
   ]
  },
  {
   "cell_type": "code",
   "execution_count": null,
   "id": "f0605c91-f337-4418-8003-79e37c342d13",
   "metadata": {},
   "outputs": [],
   "source": [
    "export_folder = 'data'\n",
    "date_sub_folder = '{}_15Mar2023'.format(place_name.split(',')[0].replace(' ', ''))"
   ]
  },
  {
   "cell_type": "code",
   "execution_count": null,
   "id": "f5b84d11-bacd-4a98-94f8-f25e729d40ec",
   "metadata": {},
   "outputs": [],
   "source": [
    "suitable_season = {\n",
    "    'start': '05',\n",
    "    'end': '09'\n",
    "}\n",
    "suitable_years = {\n",
    "    'start': '2018',\n",
    "    'end': '2022'\n",
    "}"
   ]
  },
  {
   "cell_type": "code",
   "execution_count": null,
   "id": "455260bb-5a48-455d-b1af-90c19216eb3e",
   "metadata": {},
   "outputs": [],
   "source": [
    "buffer = 500"
   ]
  },
  {
   "cell_type": "code",
   "execution_count": null,
   "id": "93956eea-7ef0-4a3a-85c7-d1efaeccf1b9",
   "metadata": {},
   "outputs": [],
   "source": [
    "# set random seed for generating random numbers\n",
    "# and for sampling rows from geodataframes\n",
    "random_state = 42\n",
    "random.seed(random_state)"
   ]
  },
  {
   "cell_type": "markdown",
   "id": "a4cd7334-cc96-4d33-a1e4-621dbf637fd4",
   "metadata": {},
   "source": [
    "## Read NDVI data"
   ]
  },
  {
   "cell_type": "code",
   "execution_count": null,
   "id": "abb5faf9-6b1e-4c49-bfa3-7faed3e6660d",
   "metadata": {},
   "outputs": [],
   "source": [
    "geotiff_file = os.path.join(export_folder, 'NDVI', 'NDVI cloudless {} 10mres.tif'.format(place_name))\n",
    "geotiff = rasterio.open(geotiff_file)\n",
    "geotiff_data = geotiff.read()"
   ]
  },
  {
   "cell_type": "markdown",
   "id": "81ac7272-8d87-4572-95c9-662f5fd18451",
   "metadata": {},
   "source": [
    "## Read OSM data and define OSM categories"
   ]
  },
  {
   "cell_type": "markdown",
   "id": "001d362b-c715-471f-9ac8-8448c74de75a",
   "metadata": {},
   "source": [
    "Greenspace sizes:\n",
    "- pocket park: 200 sq.m. <= area < 500 sq.m.\n",
    "- regular size greenspace: 500 sq.m. <= area"
   ]
  },
  {
   "cell_type": "code",
   "execution_count": null,
   "id": "34493e93-6c3a-4f5a-b970-e84534e271a4",
   "metadata": {
    "tags": []
   },
   "outputs": [],
   "source": [
    "greenspaces = gpd.read_file(os.path.join(export_folder, 'OSM', date_sub_folder, 'greenspaces.geojson'))\n",
    "greenspaces.crs = local_crs"
   ]
  },
  {
   "cell_type": "code",
   "execution_count": null,
   "id": "c2c84721-a754-4af6-b8ba-69e0879f7121",
   "metadata": {},
   "outputs": [],
   "source": [
    "#union of adjacent and overlapping polygon greenspaces\n",
    "greenspaces = gpd.GeoDataFrame(greenspaces.unary_union).rename(columns={0:'geometry'}).set_geometry('geometry').set_crs(local_crs)"
   ]
  },
  {
   "cell_type": "code",
   "execution_count": null,
   "id": "58631060-9a72-449f-921b-7fa3ac726353",
   "metadata": {},
   "outputs": [],
   "source": [
    "area_thresh_0 = 200\n",
    "area_thresh_1 = 5000"
   ]
  },
  {
   "cell_type": "code",
   "execution_count": null,
   "id": "99f59606-d79e-48ee-a0c6-abcf131d94b4",
   "metadata": {},
   "outputs": [],
   "source": [
    "print('pocket:  ', len(greenspaces[greenspaces.area<area_thresh_1]))\n",
    "print('regular: ', len(greenspaces[greenspaces.area>=area_thresh_1]))\n",
    "print('TOTAL:   ', len(greenspaces))"
   ]
  },
  {
   "cell_type": "code",
   "execution_count": null,
   "id": "b209e11a-657b-4f54-a811-c7988566a5ab",
   "metadata": {},
   "outputs": [],
   "source": [
    "pocket_greenspaces = greenspaces[\n",
    "    (greenspaces.area>=area_thresh_0) &\n",
    "    (greenspaces.area<area_thresh_1)].copy()\n",
    "pocket_greenspaces['category'] = 'pocket_greenspace'"
   ]
  },
  {
   "cell_type": "code",
   "execution_count": null,
   "id": "41363198-3f36-4859-9f71-ccbd71c744c1",
   "metadata": {},
   "outputs": [],
   "source": [
    "regular_greenspaces = greenspaces[greenspaces.area>=area_thresh_1].copy()\n",
    "regular_greenspaces['category'] = 'regular_greenspace'"
   ]
  },
  {
   "cell_type": "code",
   "execution_count": null,
   "id": "05aa4ad6-bdf4-4908-ba4a-b621dbc135e5",
   "metadata": {},
   "outputs": [],
   "source": [
    "squares = gpd.read_file(os.path.join(export_folder, 'OSM', date_sub_folder, 'squares.geojson'))\n",
    "squares['category'] = 'square'\n",
    "squares.crs = local_crs"
   ]
  },
  {
   "cell_type": "code",
   "execution_count": null,
   "id": "9f84ca6a-7f88-4934-afef-c4d23f694070",
   "metadata": {},
   "outputs": [],
   "source": [
    "playspaces = gpd.read_file(os.path.join(export_folder, 'OSM', date_sub_folder, 'playspaces.geojson'))\n",
    "playspaces['category'] = 'playspace'\n",
    "playspaces.crs = local_crs"
   ]
  },
  {
   "cell_type": "code",
   "execution_count": null,
   "id": "ae593bf9-c4b8-49cc-9811-a52490004dc0",
   "metadata": {},
   "outputs": [],
   "source": [
    "streets = gpd.read_file(os.path.join(export_folder, 'OSM', date_sub_folder, 'streets.geojson'))\n",
    "streets['category'] = 'street'\n",
    "streets.crs = local_crs"
   ]
  },
  {
   "cell_type": "code",
   "execution_count": null,
   "id": "e35b953b-569c-4cc4-8979-0a6b3e53eb11",
   "metadata": {
    "tags": []
   },
   "outputs": [],
   "source": [
    "# take only longer streets, in line with minimum area of other places\n",
    "# length of 100 plus buffer of 10m (later on for NDVI's) makes ~ 100*20 = 2000 sq.m. = 0.2 hectare\n",
    "length_thresh = 100\n",
    "streets = streets[streets.geometry.length>=length_thresh].copy()"
   ]
  },
  {
   "cell_type": "code",
   "execution_count": null,
   "id": "6dc19a66-9455-426d-b8b3-f1c17c8c455a",
   "metadata": {},
   "outputs": [],
   "source": [
    "parkings = gpd.read_file(os.path.join(export_folder, 'OSM', date_sub_folder, 'parkings.geojson'))\n",
    "parkings['category'] = 'parking'\n",
    "parkings.crs = local_crs"
   ]
  },
  {
   "cell_type": "code",
   "execution_count": null,
   "id": "cbb43c60-76ce-42f1-9b91-cae076130f5d",
   "metadata": {},
   "outputs": [],
   "source": [
    "place = gpd.read_file(os.path.join(export_folder, 'OSM', date_sub_folder, 'place.geojson'))\n",
    "place.crs = local_crs"
   ]
  },
  {
   "cell_type": "markdown",
   "id": "fe871b74-3f34-4fbd-bbb2-84dc97522ed4",
   "metadata": {},
   "source": [
    "#### secondary categories"
   ]
  },
  {
   "cell_type": "code",
   "execution_count": null,
   "id": "f4bec8cc-75e3-46d6-b0cd-c8bb6b301b82",
   "metadata": {},
   "outputs": [],
   "source": [
    "def add_secondary_categories(gdf, other_gdfs, threshold=10):\n",
    "    # if within 10 meters from another category, store also that category as secondary category\n",
    "    \n",
    "    cols=[]\n",
    "    \n",
    "    for i in range(len(other_gdfs)):\n",
    "        other = other_gdfs[i][['category', 'geometry']]\n",
    "        col = 'category_{}'.format(i+2)\n",
    "        cols.append(col)\n",
    "        gdf = gdf.sjoin(other.set_geometry(other.geometry.buffer(threshold)).rename(columns={'category': col}), how='left').drop(columns={'index_right'}).drop_duplicates(subset='geometry')\n",
    "        \n",
    "    gdf['secondary_categories'] = gdf.apply(lambda row: [x for x in row[cols] if x == x], axis=1)\n",
    "    gdf.drop(cols, axis=1, inplace=True)\n",
    "    \n",
    "    return gdf"
   ]
  },
  {
   "cell_type": "code",
   "execution_count": null,
   "id": "74b71507-69e6-43d9-b0e1-aa2e07e2088f",
   "metadata": {
    "tags": []
   },
   "outputs": [],
   "source": [
    "pocket_greenspaces = add_secondary_categories(pocket_greenspaces, [regular_greenspaces, squares, playspaces, streets, parkings])\n",
    "regular_greenspaces = add_secondary_categories(regular_greenspaces, [pocket_greenspaces, squares, playspaces, streets, parkings])\n",
    "squares = add_secondary_categories(squares, [pocket_greenspaces, regular_greenspaces, playspaces, streets, parkings])\n",
    "playspaces = add_secondary_categories(playspaces, [pocket_greenspaces, regular_greenspaces, squares, streets, parkings])\n",
    "streets = add_secondary_categories(streets, [pocket_greenspaces, regular_greenspaces, squares, playspaces, parkings])\n",
    "parkings = add_secondary_categories(parkings, [pocket_greenspaces, regular_greenspaces, squares, playspaces, streets])"
   ]
  },
  {
   "cell_type": "markdown",
   "id": "b64cb24d-5cb9-43ac-82f8-cb0df372a495",
   "metadata": {},
   "source": [
    "#### plot"
   ]
  },
  {
   "cell_type": "code",
   "execution_count": null,
   "id": "7be52e23-c30a-42ff-a978-a43762caf287",
   "metadata": {},
   "outputs": [],
   "source": [
    "fig, axs = plt.subplots(nrows=1, ncols=1, figsize=(12,12))\n",
    "\n",
    "show((geotiff, 1), cmap='RdYlGn', ax=axs, zorder=1)\n",
    "\n",
    "pocket_greenspaces.to_crs(geotiff.crs).plot(ax=axs, facecolor='none', edgecolor='green')\n",
    "regular_greenspaces.to_crs(geotiff.crs).plot(ax=axs, facecolor='none', edgecolor='green')\n",
    "\n",
    "squares.to_crs(geotiff.crs).plot(ax=axs, facecolor='none', edgecolor='pink')\n",
    "playspaces.to_crs(geotiff.crs).plot(ax=axs, facecolor='none', edgecolor='orange') \n",
    "streets.to_crs(geotiff.crs).plot(ax=axs, facecolor='none', edgecolor='purple', linewidth=0.2, zorder=2)\n",
    "\n",
    "parkings.to_crs(geotiff.crs).plot(ax=axs, facecolor='none', edgecolor='black')\n",
    "\n",
    "place.to_crs(geotiff.crs).plot(ax=axs, facecolor='none', edgecolor='#dd1c77', linestyle='-', linewidth=5, zorder=4)\n",
    "# cx.add_basemap(ax=axs, crs=geotiff.crs, source=cx.providers.OpenStreetMap.Mapnik, alpha=0.5, zorder=0)\n",
    "\n",
    "bbox = place.to_crs(geotiff.crs).total_bounds\n",
    "margin = 0\n",
    "xlim = ([bbox[0]-margin, bbox[2]+margin])\n",
    "ylim = ([bbox[1]-margin, bbox[3]+margin])\n",
    "axs.set_xlim(xlim)\n",
    "axs.set_ylim(ylim)\n",
    "# plt.axis('off')\n",
    "\n",
    "plt.show()"
   ]
  },
  {
   "cell_type": "markdown",
   "id": "271266e6-1f4b-40d9-9db8-aaf3d448d173",
   "metadata": {},
   "source": [
    "## Read population data and determine OSM places in proximity"
   ]
  },
  {
   "cell_type": "markdown",
   "id": "afda3399-aeb7-4712-9019-031c538f0def",
   "metadata": {},
   "source": [
    "Global Human Settlement Layer (GHSL) Settlement Model for 2022:\n",
    "\n",
    "https://ghsl.jrc.ec.europa.eu/ghs_smod2022.php\n",
    "\n",
    "National datasets downloaded via\n",
    "\n",
    "- for The Netherlands: 2022\n",
    "    - https://www.cbs.nl/nl-nl/dossier/nederland-regionaal/geografische-data/wijk-en-buurtkaart-2022\n",
    "- for Barcelona: 2022\n",
    "    - geometries 2022 from https://www.ine.es/ss/Satellite?c=Page&p=1259952026632&pagename=ProductosYServicios%2FPYSLayout&cid=1259952026632&L=1\n",
    "    - population 2022 from https://ajuntament.barcelona.cat/estadistica/castella/Estadistiques_per_temes/Poblacio_i_demografia/Poblacio/Padro_municipal_habitants/a2022/sexe/sexe05.htm\n",
    "- for Sweden: 2021\n",
    "    - geometries 2018 (= most recent, still valid for 2021) from https://scb.se/vara-tjanster/oppna-data/oppna-geodata/deso--demografiska-statistikomraden/\n",
    "    - population data 2021 from https://www.statistikdatabasen.scb.se/pxweb/en/ssd/START__BE__BE0101__BE0101Y/FolkmDesoAldKonN/\n",
    "    "
   ]
  },
  {
   "cell_type": "code",
   "execution_count": null,
   "id": "d2e8fb23-3355-4728-ba19-0d66b5e08b22",
   "metadata": {},
   "outputs": [],
   "source": [
    "if 'Rotterdam' in place_name or 'Goteborg' in place_name:\n",
    "    filename = 'GHS_SMOD_E2020_GLOBE_R2022A_54009_1000_V1_0_R3_C19'\n",
    "elif 'Barcelona' in place_name:\n",
    "    filename = 'GHS_SMOD_E2020_GLOBE_R2022A_54009_1000_V1_0_R5_C19'\n",
    "\n",
    "# read geotiff data\n",
    "filepath = os.path.join(export_folder, 'population', filename, filename+'.tif')\n",
    "settlementmodel = rasterio.open(filepath)\n",
    "settlementmodel_data = settlementmodel.read(1, masked=True)\n",
    "\n",
    "# Use a generator instead of a list\n",
    "shape_gen = ((shape(s), v) for s, v in shapes(settlementmodel_data, transform=settlementmodel.transform))\n",
    "\n",
    "# or build a dict from unpacked shapes\n",
    "settlementmodel_gdf = gpd.GeoDataFrame(dict(zip([\"geometry\", \"class\"], zip(*shape_gen))), crs=settlementmodel.crs)\n",
    "\n",
    "# convert to crs and filter out urban centres\n",
    "urbancentre = 30\n",
    "urbancentres = settlementmodel_gdf[settlementmodel_gdf['class']==urbancentre]\n",
    "urbancentres = urbancentres.to_crs(local_crs)\n",
    "urbancentres = gpd.clip(urbancentres, place)"
   ]
  },
  {
   "cell_type": "code",
   "execution_count": null,
   "id": "d5215a38",
   "metadata": {},
   "outputs": [],
   "source": [
    "if 'Rotterdam' in place_name:\n",
    "    # load shapefile with geometries and population data\n",
    "    population = gpd.read_file(os.path.join(export_folder, 'population', 'Rotterdam', 'buurt_2022_v1.shp'))\n",
    "    population = population[population['GM_NAAM']=='Rotterdam']\n",
    "    # exclude harbour and water areas\n",
    "    population = population[(population['OPP_LAND'] > 0)]\n",
    "    population = population.sjoin(place, how='inner')\n",
    "    population = population.replace({'AANT_INW': -99999999}, value=0)\n",
    "    population['population'] = population['AANT_INW']\n",
    "    \n",
    "elif 'Barcelona' in place_name:\n",
    "    # load shapefile with census geometries\n",
    "    geometries = gpd.read_file(os.path.join(export_folder, 'population', 'Barcelona', 'SECC_CE_20220101.shp'))\n",
    "    geometries = geometries[geometries['NMUN']=='Barcelona']\n",
    "    geometries['CDIS'] = geometries['CDIS'].astype(int)\n",
    "    geometries['CSEC'] = geometries['CSEC'].astype(int)\n",
    "    # load table with population data\n",
    "    table = pd.read_excel(os.path.join(export_folder, 'population', 'Barcelona', 'population_barcelona_2022_preprocessed.xlsx'))\n",
    "    table = table[table['CDIS_CSEC']!='BARCELONA']\n",
    "    table['CDIS_CSEC'] = table['CDIS_CSEC'].str.replace('\\xa0', ' ').str.replace('     ', '-').str.replace('  ', '')\n",
    "    table['TOTAL'] = table['TOTAL'].str.replace('\\xa0', '').str.replace('.', '').astype(int)\n",
    "    table['CDIS'] = table['CDIS_CSEC'].str.split('-', expand=True)[0].astype(int)\n",
    "    table['CSEC'] = table['CDIS_CSEC'].str.split('-', expand=True)[1].astype(int)\n",
    "    # merge them and calculate density in sq.km.\n",
    "    population = geometries.merge(table, how='left', on=['CDIS', 'CSEC'])\n",
    "    population['population'] = population['TOTAL']\n",
    "    \n",
    "elif 'Goteborg' in place_name:\n",
    "    # load shapefile with census geometries\n",
    "    geometries = gpd.read_file(os.path.join(export_folder, 'population', 'Goteborg', 'DeSO_2018_v2.gpkg'))\n",
    "    # load table with population data\n",
    "    table = pd.read_excel(os.path.join(export_folder, 'population', 'Goteborg', 'deso_poulation_2021.xlsx'))\n",
    "    table['total_2021'] = table['total_2021'].str.replace(' ', '')\n",
    "    table['total_2021'] = table['total_2021'].fillna(0)\n",
    "    # merge them \n",
    "    population = geometries.merge(table, on='deso', how='left')\n",
    "    population['population'] = population['total_2021'].astype(float)\n",
    "\n",
    "# calculate density in sq.km.\n",
    "population['population_density'] = population.population / (population.geometry.area / 1000000)"
   ]
  },
  {
   "cell_type": "code",
   "execution_count": null,
   "id": "298baa3f-8058-4e26-ae2b-c214fbab7722",
   "metadata": {},
   "outputs": [],
   "source": [
    "# ref see https://ghsl.jrc.ec.europa.eu/data.php#GHSLBasics\n",
    "pop_dens_threshold = 300"
   ]
  },
  {
   "cell_type": "code",
   "execution_count": null,
   "id": "ed23941a-26bb-4f09-be9e-56bc691cf0d1",
   "metadata": {},
   "outputs": [],
   "source": [
    "fig, axs = plt.subplots(nrows=1, ncols=1, figsize=(12,12))\n",
    "\n",
    "population[population.population_density>=pop_dens_threshold].plot(ax=axs, column='population_density', cmap='plasma', figsize=(10,10), scheme='percentiles', legend=True, alpha=0.5)\n",
    "population[population.population_density<pop_dens_threshold].plot(ax=axs, color='grey', alpha=0.5)\n",
    "urbancentres.plot(ax=axs, facecolor='None', edgecolor='black', linewidth=5, alpha=0.5)\n",
    "cx.add_basemap(ax=axs, crs=local_crs, source=cx.providers.OpenStreetMap.Mapnik, alpha=0.5, zorder=0)\n",
    "place.plot(ax=axs, edgecolor='black', color='None')\n",
    "\n",
    "\n",
    "plt.show()"
   ]
  },
  {
   "cell_type": "code",
   "execution_count": null,
   "id": "aa3ca8ee-b218-407a-9793-3a50e65490bf",
   "metadata": {},
   "outputs": [],
   "source": [
    "population = population[population['population_density']>pop_dens_threshold]"
   ]
  },
  {
   "cell_type": "code",
   "execution_count": null,
   "id": "3c4a499d-d2e4-4915-b407-76c3cac7586c",
   "metadata": {},
   "outputs": [],
   "source": [
    "def check_zone_of_interest(gdf):\n",
    "    # check if intersects with place\n",
    "    gdf = gdf.sjoin(place.set_geometry(place.geometry.buffer(buffer))[['geometry']], how='inner', predicate='intersects')\n",
    "    gdf = gdf.drop(columns=['index_right'])\n",
    "    gdf = gdf.drop_duplicates(subset='geometry', keep='first')\n",
    "    # check if intersects with urban centres\n",
    "    gdf = gdf.sjoin(urbancentres.set_geometry(urbancentres.geometry.buffer(buffer))[['geometry']], how='inner', predicate='intersects')\n",
    "    gdf = gdf.drop(columns=['index_right'])\n",
    "    gdf = gdf.drop_duplicates(subset='geometry', keep='first')\n",
    "    # check if intersects with populated zone\n",
    "    gdf = gdf.sjoin(population.set_geometry(population.geometry.buffer(buffer))[['geometry']], how='inner', predicate='intersects')\n",
    "    gdf = gdf.drop(columns=['index_right'])\n",
    "    gdf = gdf.drop_duplicates(subset='geometry', keep='first')\n",
    "    \n",
    "    return gdf"
   ]
  },
  {
   "cell_type": "code",
   "execution_count": null,
   "id": "822766bc-e8c5-4c7d-8b08-122272306885",
   "metadata": {},
   "outputs": [],
   "source": [
    "pocket_greenspaces = check_zone_of_interest(pocket_greenspaces)\n",
    "regular_greenspaces = check_zone_of_interest(regular_greenspaces)\n",
    "squares = check_zone_of_interest(squares)\n",
    "playspaces = check_zone_of_interest(playspaces)\n",
    "streets = check_zone_of_interest(streets)\n",
    "parkings = check_zone_of_interest(parkings)"
   ]
  },
  {
   "cell_type": "markdown",
   "id": "32ad8887-07a3-432e-bef4-66fb6c8eab09",
   "metadata": {},
   "source": [
    "#### Presample if too many places within a category"
   ]
  },
  {
   "cell_type": "code",
   "execution_count": null,
   "id": "e6408b28-6ea5-4388-b5f7-023daae74d85",
   "metadata": {},
   "outputs": [],
   "source": [
    "len_all = (\n",
    "    len(pocket_greenspaces) + len(regular_greenspaces) + \n",
    "    len(squares) + len(playspaces) + len(streets) + len(parkings))"
   ]
  },
  {
   "cell_type": "code",
   "execution_count": null,
   "id": "72dc455b-f13d-4bc4-85c3-9cad10e77f85",
   "metadata": {},
   "outputs": [],
   "source": [
    "print(\n",
    "    '{} pocket-size greenspaces ({}%)\\n'.format(str(len(pocket_greenspaces)), round(100*len(pocket_greenspaces)/len_all,2)) +\n",
    "    '{} regular-size greenspaces ({}%)\\n'.format(str(len(regular_greenspaces)), round(100*len(regular_greenspaces)/len_all,2)) +\n",
    "    '{} squares ({}%)\\n'.format(str(len(squares)), round(100*len(squares)/len_all,2)) +\n",
    "    '{} playspaces ({}%)\\n'.format(str(len(playspaces)), round(100*len(playspaces)/len_all,2)) +\n",
    "    '{} streets ({}%)\\n'.format(str(len(streets)), round(100*len(streets)/len_all,2)) +\n",
    "    '{} parkings ({}%)'.format(str(len(parkings)), round(100*len(parkings)/len_all,2))\n",
    ")"
   ]
  },
  {
   "cell_type": "code",
   "execution_count": null,
   "id": "8987817e-e7db-4039-b3f9-6ef2232710be",
   "metadata": {},
   "outputs": [],
   "source": [
    "if len(pocket_greenspaces)>n_presample:\n",
    "    print('sampling {}/{} random pocket-size greenspaces'.format(n_presample, len(pocket_greenspaces)))\n",
    "    pocket_greenspaces = pocket_greenspaces.sample(n=n_presample, random_state=random_state)\n",
    "    \n",
    "if len(regular_greenspaces)>n_presample:\n",
    "    print('sampling {}/{} random regular-size greenspaces'.format(n_presample, len(regular_greenspaces)))\n",
    "    regular_greenspaces = regular_greenspaces.sample(n=n_presample, random_state=random_state)\n",
    "    \n",
    "if len(squares)>n_presample:\n",
    "    print('sampling {}/{} random squares'.format(n_presample, len(squares)))\n",
    "    squares = squares.sample(n=n_presample, random_state=random_state)\n",
    "    \n",
    "if len(playspaces)>n_presample:\n",
    "    print('sampling {}/{} random playspaces'.format(n_presample, len(playspaces)))\n",
    "    playspaces = playspaces.sample(n=n_presample, random_state=random_state)\n",
    "    \n",
    "if len(streets)>n_presample:\n",
    "    print('sampling {}/{} random streets'.format(n_presample, len(streets)))\n",
    "    streets = streets.sample(n=n_presample, random_state=random_state)\n",
    "    \n",
    "if len(parkings)>n_presample:\n",
    "    print('sampling {}/{} random parkings'.format(n_presample, len(parkings)))\n",
    "    parkings = parkings.sample(n=n_presample, random_state=random_state)"
   ]
  },
  {
   "cell_type": "markdown",
   "id": "aab38ca1-e232-4cd5-9497-9959c420ec0f",
   "metadata": {
    "tags": []
   },
   "source": [
    "## Combine OSM with GSV"
   ]
  },
  {
   "cell_type": "code",
   "execution_count": null,
   "id": "982f417f-fb6d-40a1-b028-c2e00d7bc9d2",
   "metadata": {},
   "outputs": [],
   "source": [
    "# for GSV and NDVI enrichments, give streets a buffer zone\n",
    "# 10 meter buffer around streets to go from lines to polygons\n",
    "street_buffer = 10\n",
    "streets = streets.set_geometry(streets.geometry.buffer(street_buffer))"
   ]
  },
  {
   "cell_type": "markdown",
   "id": "84502414-9e1a-4f3f-b4a5-325c1efac298",
   "metadata": {},
   "source": [
    "### Get metadata and check if suitable imagery exists here"
   ]
  },
  {
   "cell_type": "code",
   "execution_count": null,
   "id": "5f1711a1-81d8-43a1-9669-87bf45dda3d5",
   "metadata": {},
   "outputs": [],
   "source": [
    "meta_base = 'https://maps.googleapis.com/maps/api/streetview/metadata?'\n",
    "pic_base = 'https://maps.googleapis.com/maps/api/streetview?'"
   ]
  },
  {
   "cell_type": "code",
   "execution_count": null,
   "id": "4ce97f96-6601-4c6c-a766-c77041532eaa",
   "metadata": {},
   "outputs": [],
   "source": [
    "def points_in_polygon(polygon, n):\n",
    "    # generate n random points withn the polygon\n",
    "    points = []\n",
    "    min_x, min_y, max_x, max_y = polygon.bounds\n",
    "    i = 0\n",
    "    while i < n:\n",
    "        point = Point(random.uniform(min_x, max_x), random.uniform(min_y, max_y))\n",
    "        if polygon.contains(point):\n",
    "            points.append(point)\n",
    "            i += 1\n",
    "    return points"
   ]
  },
  {
   "cell_type": "code",
   "execution_count": null,
   "id": "a1593f38-efe0-413d-a084-985dc9a32803",
   "metadata": {},
   "outputs": [],
   "source": [
    "def obtain_metadata(location, radius):    \n",
    "    meta_params = {\n",
    "        'key': api_key,\n",
    "        'location': location,\n",
    "        'radius': radius}\n",
    "    \n",
    "    # obtain the metadata of the request (this is free)\n",
    "    meta_response = requests.get(meta_base, params=meta_params)\n",
    "    return meta_response.json()"
   ]
  },
  {
   "cell_type": "code",
   "execution_count": null,
   "id": "94417019-571f-45e0-b452-4ff2335e595b",
   "metadata": {},
   "outputs": [],
   "source": [
    "def get_gsv_availability(row, radius, n):\n",
    "    \n",
    "    status = False\n",
    "    year = None\n",
    "    month = None\n",
    "    suitability = False\n",
    "    pano_id = False\n",
    "    lat = False\n",
    "    lng = False\n",
    "    \n",
    "    points = points_in_polygon(row.geometry, n)\n",
    "    \n",
    "    for point in points:\n",
    "        location = '{},{}'.format(point.y, point.x)\n",
    "    \n",
    "        meta = obtain_metadata(location, radius)\n",
    "\n",
    "        # check status\n",
    "        if meta['status'] == 'OK':\n",
    "            status = True\n",
    "\n",
    "            # find date and year\n",
    "            if 'date' in meta:\n",
    "                date = meta['date'].split('-')\n",
    "                year = date[0]\n",
    "                if len(date) > 1:\n",
    "                    month = date[1]\n",
    "\n",
    "                    # check suitability based on date and year         \n",
    "                    if month>=suitable_season['start'] and month<=suitable_season['end'] and year>=suitable_years['start'] and year<=suitable_years['end']:\n",
    "                        suitability = True\n",
    "                        pano_id = meta['pano_id']\n",
    "                        lat = meta['location']['lat']\n",
    "                        lng = meta['location']['lng']\n",
    "                        \n",
    "        if suitability:\n",
    "            break\n",
    "    \n",
    "    return suitability, status, year, month, pano_id, lat, lng"
   ]
  },
  {
   "cell_type": "code",
   "execution_count": null,
   "id": "99ff188a-4b7f-475b-b863-ce8d2dae376c",
   "metadata": {},
   "outputs": [],
   "source": [
    "gsv_cols = ['gsv_suitability', 'gsv_status', 'gsv_year', 'gsv_month', 'gsv_pano_id', 'gsv_lat', 'gsv_lng']"
   ]
  },
  {
   "cell_type": "code",
   "execution_count": null,
   "id": "19f57c13-dc3f-4fa4-b7bd-75ad06c3a969",
   "metadata": {},
   "outputs": [],
   "source": [
    "# GSV radius 50m default, we go with less, e.g., 15, 29 or 43\n",
    "gsv_radius = 15\n",
    "# look for GSV imagery around n sample points within each place\n",
    "n = 10"
   ]
  },
  {
   "cell_type": "code",
   "execution_count": null,
   "id": "36aaa388-aab4-43c1-93b3-3b9922e70b2d",
   "metadata": {
    "tags": []
   },
   "outputs": [],
   "source": [
    "%%time\n",
    "pocket_greenspaces[gsv_cols] = pocket_greenspaces.to_crs(gsv_crs).apply(lambda row: get_gsv_availability(row, gsv_radius, n), axis=1, result_type=\"expand\")"
   ]
  },
  {
   "cell_type": "code",
   "execution_count": null,
   "id": "5a0d6a46-cdbc-4421-8fef-dd15bd1963a5",
   "metadata": {},
   "outputs": [],
   "source": [
    "%%time\n",
    "regular_greenspaces[gsv_cols] = regular_greenspaces.to_crs(gsv_crs).apply(lambda row: get_gsv_availability(row, gsv_radius, n), axis=1, result_type=\"expand\")"
   ]
  },
  {
   "cell_type": "code",
   "execution_count": null,
   "id": "5f827636-975a-4844-bffd-a2b0b178ea5b",
   "metadata": {
    "tags": []
   },
   "outputs": [],
   "source": [
    "%%time\n",
    "squares[gsv_cols] = squares.to_crs(gsv_crs).apply(lambda row: get_gsv_availability(row, gsv_radius, n), axis=1, result_type=\"expand\")"
   ]
  },
  {
   "cell_type": "code",
   "execution_count": null,
   "id": "b5500ddb-295f-4305-b023-23308f3ee830",
   "metadata": {},
   "outputs": [],
   "source": [
    "%%time\n",
    "playspaces[gsv_cols] = playspaces.to_crs(gsv_crs).apply(lambda row: get_gsv_availability(row, gsv_radius, n), axis=1, result_type=\"expand\")"
   ]
  },
  {
   "cell_type": "code",
   "execution_count": null,
   "id": "c05d9ebc-4c8d-4d08-baa7-73908aba71a3",
   "metadata": {
    "tags": []
   },
   "outputs": [],
   "source": [
    "%%time\n",
    "streets[gsv_cols] = streets.to_crs(gsv_crs).apply(lambda row: get_gsv_availability(row, gsv_radius, n), axis=1, result_type=\"expand\")"
   ]
  },
  {
   "cell_type": "code",
   "execution_count": null,
   "id": "c2b7aaef-fc14-4504-8c35-a9c4a5efd161",
   "metadata": {},
   "outputs": [],
   "source": [
    "%%time\n",
    "parkings[gsv_cols] = parkings.to_crs(gsv_crs).apply(lambda row: get_gsv_availability(row, gsv_radius, n), axis=1, result_type=\"expand\")"
   ]
  },
  {
   "cell_type": "code",
   "execution_count": null,
   "id": "8ff69ae1-f2b5-4849-ab25-d7fbfc96f77b",
   "metadata": {},
   "outputs": [],
   "source": [
    "print(\n",
    "    str(len(pocket_greenspaces[pocket_greenspaces.gsv_suitability])) + ' pocket-size greenspaces with GSV imagery\\n' +\n",
    "    str(len(regular_greenspaces[regular_greenspaces.gsv_suitability])) + ' regular-size greenspaces with GSV imagery\\n' +\n",
    "    str(len(squares[squares.gsv_suitability])) + ' squares with GSV imagery\\n' +\n",
    "    str(len(playspaces[playspaces.gsv_suitability])) + ' playspaces with GSV imagery\\n' +\n",
    "    str(len(streets[streets.gsv_suitability])) + ' streets with GSV imagery\\n' +\n",
    "    str(len(parkings[parkings.gsv_suitability])) + ' parkings with GSV imagery'\n",
    ")"
   ]
  },
  {
   "cell_type": "markdown",
   "id": "531fe285-163f-47cb-9ef7-07053069d9ff",
   "metadata": {},
   "source": [
    "## Combine OSM with NDVI"
   ]
  },
  {
   "cell_type": "code",
   "execution_count": null,
   "id": "44a11b52-8c0e-4105-8895-796d524dedbc",
   "metadata": {},
   "outputs": [],
   "source": [
    "def get_ndvi_values(gdf, geotiff):\n",
    "    gdf_mask = gdf.to_crs(geotiff.crs).copy()    \n",
    "    \n",
    "    nodata = 255\n",
    "\n",
    "    for i in range(len(gdf_mask)):  \n",
    "        \n",
    "        # for each row in the gdf\n",
    "        coords = [json.loads(gdf_mask.to_json())['features'][i]['geometry']]\n",
    "        index = int([json.loads(gdf_mask.to_json())['features'][i]['id']][0])\n",
    "        \n",
    "        data, out_transform = mask(dataset=geotiff, shapes=coords, filled=True, crop=True, nodata=nodata)\n",
    "        \n",
    "        # exclude all nodata values and values below 0 (water)\n",
    "        data = data[data!=nodata]\n",
    "        data = data[data>=0]\n",
    "        \n",
    "        if len(data)==0:\n",
    "            gdf_mask.loc[index, 'ndvi_mean'] = None\n",
    "            gdf_mask.loc[index, 'ndvi_median'] = None\n",
    "            gdf_mask.loc[index, 'ndvi_min'] = None\n",
    "            gdf_mask.loc[index, 'ndvi_max'] = None\n",
    "            gdf_mask.loc[index, 'ndvi_stdev'] = None\n",
    "            gdf_mask.loc[index, 'ndvi_var'] = None\n",
    "        else:\n",
    "            gdf_mask.loc[index, 'ndvi_mean'] = round(np.mean(data), 3)\n",
    "            gdf_mask.loc[index, 'ndvi_median'] = round(np.median(data), 3)\n",
    "            gdf_mask.loc[index, 'ndvi_min'] = round(np.min(data), 3)\n",
    "            gdf_mask.loc[index, 'ndvi_max'] = round(np.max(data), 3)\n",
    "            gdf_mask.loc[index, 'ndvi_stdev'] = round(np.std(data), 3)\n",
    "            gdf_mask.loc[index, 'ndvi_var'] = round(np.var(data), 3)\n",
    "    \n",
    "    gdf_mask = gdf_mask.to_crs(gdf.crs).copy()  \n",
    "    return gdf_mask"
   ]
  },
  {
   "cell_type": "code",
   "execution_count": null,
   "id": "3200649b-83db-41ab-8357-ac15456fb9c5",
   "metadata": {
    "tags": []
   },
   "outputs": [],
   "source": [
    "%%time\n",
    "pocket_greenspaces = get_ndvi_values(pocket_greenspaces, geotiff)"
   ]
  },
  {
   "cell_type": "code",
   "execution_count": null,
   "id": "a0eac6b7-4c15-4cad-9dce-c21cda363812",
   "metadata": {},
   "outputs": [],
   "source": [
    "%%time\n",
    "regular_greenspaces = get_ndvi_values(regular_greenspaces, geotiff)"
   ]
  },
  {
   "cell_type": "code",
   "execution_count": null,
   "id": "fcc8ec7b-ac9c-4261-aec7-28624d115400",
   "metadata": {},
   "outputs": [],
   "source": [
    "%%time\n",
    "squares = get_ndvi_values(squares, geotiff)"
   ]
  },
  {
   "cell_type": "code",
   "execution_count": null,
   "id": "f89551a3-5463-4da6-a67e-4c9a8563c5b2",
   "metadata": {},
   "outputs": [],
   "source": [
    "%%time\n",
    "playspaces = get_ndvi_values(playspaces, geotiff)"
   ]
  },
  {
   "cell_type": "code",
   "execution_count": null,
   "id": "67c7535e-d9c2-453c-87cc-39255e8e2733",
   "metadata": {
    "tags": []
   },
   "outputs": [],
   "source": [
    "%%time\n",
    "streets = get_ndvi_values(streets, geotiff)"
   ]
  },
  {
   "cell_type": "code",
   "execution_count": null,
   "id": "691e4589-4c81-4aef-b261-a3be6333c2fc",
   "metadata": {},
   "outputs": [],
   "source": [
    "%%time\n",
    "parkings = get_ndvi_values(parkings, geotiff)"
   ]
  },
  {
   "cell_type": "code",
   "execution_count": null,
   "id": "84d9d841-6240-4a6c-ac9e-08f04c678211",
   "metadata": {
    "tags": []
   },
   "outputs": [],
   "source": [
    "print(\n",
    "    str(len(pocket_greenspaces[(pocket_greenspaces.gsv_suitability) & (pocket_greenspaces.ndvi_mean.notna())])) + ' pocket-size greenspaces with GSV imagery and NDVI value\\n' +\n",
    "    str(len(regular_greenspaces[(regular_greenspaces.gsv_suitability) & (regular_greenspaces.ndvi_mean.notna())])) + ' regular-size greenspaces with GSV imagery and NDVI value\\n' +\n",
    "    str(len(squares[(squares.gsv_suitability) & (squares.ndvi_mean.notna())])) + ' squares with GSV imagery and NDVI value\\n' +\n",
    "    str(len(playspaces[(playspaces.gsv_suitability) & (playspaces.ndvi_mean.notna())])) + ' playspaces with GSV imagery and NDVI value\\n' +\n",
    "    str(len(streets[(streets.gsv_suitability) & (streets.ndvi_mean.notna())])) + ' streets with GSV imagery and NDVI value\\n' +\n",
    "    str(len(parkings[(parkings.gsv_suitability) & (parkings.ndvi_mean.notna())])) + ' parkings with GSV imagery and NDVI value'\n",
    ")"
   ]
  },
  {
   "cell_type": "markdown",
   "id": "e95dfddb-e024-409b-b6bc-8cd573b39d0e",
   "metadata": {},
   "source": [
    "## Visualize enriched OSM"
   ]
  },
  {
   "cell_type": "code",
   "execution_count": null,
   "id": "83620cee-e23e-47d2-9334-bd8971d6c4b8",
   "metadata": {},
   "outputs": [],
   "source": [
    "def add_gdf_to_folium(gdf, color, space_type):\n",
    "    for _, r in gdf.iterrows():\n",
    "        # Without simplifying the representation of each borough,\n",
    "        # the map might not be displayed\n",
    "        sim_geo = gpd.GeoSeries(r['geometry']).simplify(tolerance=0.000001)\n",
    "        geo_j = sim_geo.to_json()\n",
    "        geo_j = folium.GeoJson(data=geo_j, style_function=lambda x: {'fillColor': color})\n",
    "        folium.Popup(\"\"\"\n",
    "            OSM {}<br>\n",
    "            NDVI {}<br>\n",
    "            GSV {}/{}\n",
    "            \"\"\".format(\n",
    "                space_type,\n",
    "                r['ndvi_mean'],\n",
    "                r['gsv_month'],\n",
    "                r['gsv_year']\n",
    "            )\n",
    "        ).add_to(geo_j)\n",
    "        geo_j.add_to(m)"
   ]
  },
  {
   "cell_type": "code",
   "execution_count": null,
   "id": "d3805dc1-b0ab-4f2e-b69d-6df8d4e59bac",
   "metadata": {},
   "outputs": [],
   "source": [
    "# Create a folium map object.\n",
    "center = [place.to_crs(geotiff.crs).geometry.centroid[0].y, place.to_crs(geotiff.crs).geometry.centroid[0].x]\n",
    "m = folium.Map(location=center, zoom_start=14)\n",
    "\n",
    "add_gdf_to_folium(pocket_greenspaces.to_crs(geotiff.crs)[pocket_greenspaces['gsv_suitability']], 'green', 'pocket-size greenspace')\n",
    "add_gdf_to_folium(regular_greenspaces.to_crs(geotiff.crs)[regular_greenspaces['gsv_suitability']], 'green', 'regular-size greenspace')\n",
    "\n",
    "add_gdf_to_folium(squares.to_crs(geotiff.crs)[squares['gsv_suitability']], 'pink', 'square')\n",
    "add_gdf_to_folium(playspaces.to_crs(geotiff.crs)[playspaces['gsv_suitability']], 'orange', 'playspace')\n",
    "add_gdf_to_folium(streets.to_crs(geotiff.crs)[streets['gsv_suitability']], 'purple', 'street')\n",
    "\n",
    "add_gdf_to_folium(parkings.to_crs(geotiff.crs)[parkings['gsv_suitability']], 'grey', 'parking')\n",
    "\n",
    "# Display the map.\n",
    "display(m)"
   ]
  },
  {
   "cell_type": "code",
   "execution_count": null,
   "id": "9c8fa6d6-e545-434c-9fcb-7f060dcb3b77",
   "metadata": {
    "tags": []
   },
   "outputs": [],
   "source": [
    "fig, axs = plt.subplots(nrows=1, ncols=5, figsize=(20,4), sharex=True)\n",
    "\n",
    "axs[0].hist(pocket_greenspaces['ndvi_mean'], color='green', alpha=0.3)\n",
    "axs[0].hist(regular_greenspaces['ndvi_mean'], color='green', alpha=0.3)\n",
    "axs[0].set_title('OSM greenspaces (all sizes)')\n",
    "axs[0].set_xlabel('mean NDVI')\n",
    "\n",
    "axs[1].hist(squares['ndvi_mean'], color='red', alpha=0.3, zorder=2)\n",
    "axs[1].set_title('OSM squares')\n",
    "axs[1].set_xlabel('mean NDVI')\n",
    "\n",
    "axs[2].hist(playspaces['ndvi_mean'], color='orange', alpha=0.3, zorder=3)\n",
    "axs[2].set_title('OSM playgrounds (orange)')\n",
    "axs[2].set_xlabel('mean NDVI')\n",
    "\n",
    "axs[3].hist(streets['ndvi_mean'], color='purple', alpha=0.3, zorder=1)\n",
    "axs[3].set_title('OSM streets (purple)')\n",
    "axs[3].set_xlabel('mean NDVI')\n",
    "\n",
    "\n",
    "axs[4].hist(parkings['ndvi_mean'], color='black', alpha=0.3)\n",
    "axs[4].set_title('OSM parkings')\n",
    "axs[4].set_xlabel('mean NDVI')\n",
    "\n",
    "plt.show()"
   ]
  },
  {
   "cell_type": "markdown",
   "id": "6488da1b-6ca1-41fe-a4a8-5070a9a3b7e5",
   "metadata": {},
   "source": [
    "## Export enriched OSM data: with NDVI average value and GSV availability columns"
   ]
  },
  {
   "cell_type": "code",
   "execution_count": null,
   "id": "c85959d0",
   "metadata": {},
   "outputs": [],
   "source": [
    "export_sub_folder = os.path.join(export_folder, 'OSM', date_sub_folder, 'enriched')"
   ]
  },
  {
   "cell_type": "code",
   "execution_count": null,
   "id": "2cd282f9-6f11-4969-a133-38744958f72b",
   "metadata": {},
   "outputs": [],
   "source": [
    "if not os.path.exists(export_sub_folder):\n",
    "    os.mkdir(export_sub_folder)"
   ]
  },
  {
   "cell_type": "code",
   "execution_count": null,
   "id": "97e119d4-cac6-4de5-83dc-e10027b1e70c",
   "metadata": {
    "tags": []
   },
   "outputs": [],
   "source": [
    "output_file = os.path.join(export_sub_folder, 'pocket_greenspaces_enriched.geojson')\n",
    "pocket_greenspaces_export = pocket_greenspaces.apply(lambda c: c.astype(str) if c.name != \"geometry\" else c, axis=0)\n",
    "pocket_greenspaces_export.to_file(output_file, driver='GeoJSON')"
   ]
  },
  {
   "cell_type": "code",
   "execution_count": null,
   "id": "33c6b8cd-2e91-453b-ba2a-a4037e87b4b6",
   "metadata": {},
   "outputs": [],
   "source": [
    "output_file = os.path.join(export_sub_folder, 'regular_greenspaces_enriched.geojson')\n",
    "regular_greenspaces_export = regular_greenspaces.apply(lambda c: c.astype(str) if c.name != \"geometry\" else c, axis=0)\n",
    "regular_greenspaces_export.to_file(output_file, driver='GeoJSON')"
   ]
  },
  {
   "cell_type": "code",
   "execution_count": null,
   "id": "14c873f6-4a1d-4439-aa88-6239453b8608",
   "metadata": {},
   "outputs": [],
   "source": [
    "output_file = os.path.join(export_sub_folder, 'squares_enriched.geojson')\n",
    "squares_export = squares.apply(lambda c: c.astype(str) if c.name != \"geometry\" else c, axis=0)\n",
    "squares_export.to_file(output_file, driver='GeoJSON')"
   ]
  },
  {
   "cell_type": "code",
   "execution_count": null,
   "id": "2ff53dd1-80a3-49ba-9305-a2bbdaee1bec",
   "metadata": {},
   "outputs": [],
   "source": [
    "output_file = os.path.join(export_sub_folder, 'playspaces_enriched.geojson')\n",
    "playspaces_export = playspaces.apply(lambda c: c.astype(str) if c.name != \"geometry\" else c, axis=0)\n",
    "playspaces_export.to_file(output_file, driver='GeoJSON')"
   ]
  },
  {
   "cell_type": "code",
   "execution_count": null,
   "id": "d03679e0-9c6a-48be-ba3e-c7215b51c8fe",
   "metadata": {},
   "outputs": [],
   "source": [
    "output_file = os.path.join(export_sub_folder, 'streets_enriched.geojson')\n",
    "streets_export = streets.apply(lambda c: c.astype(str) if c.name != \"geometry\" else c, axis=0)\n",
    "streets_export.to_file(output_file, driver='GeoJSON')"
   ]
  },
  {
   "cell_type": "code",
   "execution_count": null,
   "id": "ab30cc8a-925c-4af3-832e-0b288d627e98",
   "metadata": {},
   "outputs": [],
   "source": [
    "output_file = os.path.join(export_sub_folder, 'parkings_enriched.geojson')\n",
    "parkings_export = parkings.apply(lambda c: c.astype(str) if c.name != \"geometry\" else c, axis=0)\n",
    "parkings_export.to_file(output_file, driver='GeoJSON')"
   ]
  }
 ],
 "metadata": {
  "kernelspec": {
   "display_name": "Python 3 (ipykernel)",
   "language": "python",
   "name": "python3"
  },
  "language_info": {
   "codemirror_mode": {
    "name": "ipython",
    "version": 3
   },
   "file_extension": ".py",
   "mimetype": "text/x-python",
   "name": "python",
   "nbconvert_exporter": "python",
   "pygments_lexer": "ipython3",
   "version": "3.9.12"
  }
 },
 "nbformat": 4,
 "nbformat_minor": 5
}

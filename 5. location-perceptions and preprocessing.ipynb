{
 "cells": [
  {
   "cell_type": "markdown",
   "id": "63fe4dcb-4e56-4b6c-a5a5-7c121192236e",
   "metadata": {},
   "source": [
    "# Step 5. Preprocess collected perceptions and combine with location-data"
   ]
  },
  {
   "cell_type": "code",
   "execution_count": null,
   "id": "a457241c-a4b4-4edf-9930-11ab7cac9036",
   "metadata": {},
   "outputs": [],
   "source": [
    "import os\n",
    "import datetime\n",
    "\n",
    "import numpy as np\n",
    "import scipy\n",
    "import fiona\n",
    "import statistics\n",
    "import math\n",
    "\n",
    "import pandas as pd\n",
    "import geopandas as gpd\n",
    "from shapely.geometry import LineString, shape, mapping, Point, Polygon, MultiPolygon\n",
    "from shapely.ops import cascaded_union, transform\n",
    "import pyproj\n",
    "\n",
    "import matplotlib.pyplot as plt\n",
    "from matplotlib import colors, cm, style\n",
    "import matplotlib.patches as mpatches\n",
    "# from descartes import PolygonPatch\n",
    "\n",
    "import osmnx as ox\n",
    "import networkx as nx\n",
    "\n",
    "import rasterio\n",
    "from rasterio import MemoryFile\n",
    "from rasterio.plot import show\n",
    "from rasterio.mask import mask\n",
    "import json\n",
    "\n",
    "import contextily as cx\n",
    "import folium\n",
    "from folium.features import DivIcon\n",
    "\n",
    "import random"
   ]
  },
  {
   "cell_type": "code",
   "execution_count": null,
   "id": "9fc89732-53c9-4de6-8a1c-7c3957d3ca25",
   "metadata": {},
   "outputs": [],
   "source": [
    "from getpass import getpass\n",
    "\n",
    "import requests\n",
    "from requests import Request, Session\n",
    "\n",
    "import hashlib\n",
    "import hmac\n",
    "import base64\n",
    "import urllib.parse as urlparse\n",
    "\n",
    "from datetime import date\n",
    "import matplotlib.pyplot as plt\n",
    "import matplotlib.image as mpimg"
   ]
  },
  {
   "cell_type": "markdown",
   "id": "e40600ea-5c61-40b8-8782-81b9232aec86",
   "metadata": {},
   "source": [
    "## Define city and other settings"
   ]
  },
  {
   "cell_type": "markdown",
   "id": "65aa133d-97c4-4ea3-aaf4-453defc05cfc",
   "metadata": {},
   "source": [
    "#### Place |Country    |CRS\n",
    "Rotterdam    (The Netherlands)    EPSG:28992\n",
    "\n",
    "Barcelona     (Spain)              EPSG:25830\n",
    "\n",
    "Goteborg        (Sweden)             EPSG:3006"
   ]
  },
  {
   "cell_type": "code",
   "execution_count": null,
   "id": "cd365769-bdf8-408d-b570-c0fedbcc8417",
   "metadata": {},
   "outputs": [],
   "source": [
    "print_and_plot = False"
   ]
  },
  {
   "cell_type": "code",
   "execution_count": null,
   "id": "65411b01-cdab-44f2-aa50-0c3c4a1b9a0e",
   "metadata": {},
   "outputs": [],
   "source": [
    "place_name = 'Goteborg'\n",
    "local_crs = 'EPSG:3006'"
   ]
  },
  {
   "cell_type": "code",
   "execution_count": null,
   "id": "5ef97495-d981-4183-b932-0c11d454b9bb",
   "metadata": {},
   "outputs": [],
   "source": [
    "osm_crs = 'EPSG:3857'\n",
    "gsv_crs = 'EPSG:4326'"
   ]
  },
  {
   "cell_type": "code",
   "execution_count": null,
   "id": "32d8e2ad-bedb-4c7f-811a-0638d0da9bd0",
   "metadata": {},
   "outputs": [],
   "source": [
    "export_folder = 'data'\n",
    "export_osm_sub_folder = os.path.join('OSM', '{}_15Mar2023'.format(place_name.split(',')[0].replace(' ', '')), 'enriched')\n",
    "sampled_folder = os.path.join('data', 'OSM', '{}_15Mar2023'.format(place_name), 'sampled')"
   ]
  },
  {
   "cell_type": "code",
   "execution_count": null,
   "id": "16ac5b41-ec66-47df-b679-ab11bdfbbc3d",
   "metadata": {},
   "outputs": [],
   "source": [
    "confidential_folder = os.path.expanduser('~/confidential_folder')"
   ]
  },
  {
   "cell_type": "code",
   "execution_count": null,
   "id": "e319ea13-1e9e-4f54-9a03-608646f781d4",
   "metadata": {},
   "outputs": [],
   "source": [
    "# set random seed for generating random numbers\n",
    "# and for sampling rows from geodataframes\n",
    "random_state = 42\n",
    "random.seed(random_state)"
   ]
  },
  {
   "cell_type": "code",
   "execution_count": null,
   "id": "0c66e2d9-f1cc-46be-9c95-651f9a241e87",
   "metadata": {},
   "outputs": [],
   "source": [
    "radius = 300"
   ]
  },
  {
   "cell_type": "markdown",
   "id": "a88186c9-12c7-4d03-8ce8-cbabca9bd473",
   "metadata": {},
   "source": [
    "## Read data"
   ]
  },
  {
   "cell_type": "code",
   "execution_count": null,
   "id": "6bbd3697-b3b3-44aa-a829-345ee2f60a13",
   "metadata": {},
   "outputs": [],
   "source": [
    "sampled = gpd.read_file(os.path.join(sampled_folder, 'sampled.geojson'))"
   ]
  },
  {
   "cell_type": "code",
   "execution_count": null,
   "id": "69b26771-6189-4315-aa53-14e48bc6e94f",
   "metadata": {},
   "outputs": [],
   "source": [
    "sampled['city'] = place_name"
   ]
  },
  {
   "cell_type": "code",
   "execution_count": null,
   "id": "de2b6b46-81f7-481c-822e-03d10f9280dc",
   "metadata": {},
   "outputs": [],
   "source": [
    "sampled.rename(columns={'gsv_iframe_html': 'iframe'}, inplace=True)"
   ]
  },
  {
   "cell_type": "code",
   "execution_count": null,
   "id": "b5d30613-f084-482a-baef-23f44d3b3e70",
   "metadata": {},
   "outputs": [],
   "source": [
    "geotiff_file = os.path.join('data', 'NDVI', 'NDVI cloudless {} 10mres.tif'.format(place_name))\n",
    "geotiff = rasterio.open(geotiff_file)\n",
    "geotiff_data = geotiff.read()"
   ]
  },
  {
   "cell_type": "code",
   "execution_count": null,
   "id": "34493e93-6c3a-4f5a-b970-e84534e271a4",
   "metadata": {
    "tags": []
   },
   "outputs": [],
   "source": [
    "regular_greenspaces = gpd.read_file(os.path.join('data', export_osm_sub_folder, 'regular_greenspaces_enriched.geojson'))\n",
    "regular_greenspaces.crs = local_crs"
   ]
  },
  {
   "cell_type": "code",
   "execution_count": null,
   "id": "e4c99c60-d3ae-4abc-9542-20ff177b92b7",
   "metadata": {},
   "outputs": [],
   "source": [
    "pocket_greenspaces = gpd.read_file(os.path.join('data', export_osm_sub_folder, 'pocket_greenspaces_enriched.geojson'))\n",
    "pocket_greenspaces.crs = local_crs"
   ]
  },
  {
   "cell_type": "code",
   "execution_count": null,
   "id": "82e0873d-e942-49d5-b15a-0874048ade64",
   "metadata": {},
   "outputs": [],
   "source": [
    "squares = gpd.read_file(os.path.join('data', export_osm_sub_folder, 'squares_enriched.geojson'))\n",
    "squares.crs = local_crs"
   ]
  },
  {
   "cell_type": "code",
   "execution_count": null,
   "id": "442a0675-8a79-4eb6-8d75-c9c24078d618",
   "metadata": {},
   "outputs": [],
   "source": [
    "playspaces = gpd.read_file(os.path.join('data', export_osm_sub_folder, 'playspaces_enriched.geojson'))\n",
    "playspaces.crs = local_crs"
   ]
  },
  {
   "cell_type": "code",
   "execution_count": null,
   "id": "da017fc4-9f18-4157-99cf-e0fd9bd93f1a",
   "metadata": {},
   "outputs": [],
   "source": [
    "streets = gpd.read_file(os.path.join('data', export_osm_sub_folder, 'streets_enriched.geojson'))\n",
    "streets.crs = local_crs"
   ]
  },
  {
   "cell_type": "code",
   "execution_count": null,
   "id": "f54cb2c7-2598-472a-8bbc-191f54b6b9cf",
   "metadata": {},
   "outputs": [],
   "source": [
    "perceptions = gpd.GeoDataFrame()\n",
    "demographics = gpd.GeoDataFrame()"
   ]
  },
  {
   "cell_type": "code",
   "execution_count": null,
   "id": "f898807a-070b-42c6-829b-4edf5ad07bb3",
   "metadata": {},
   "outputs": [],
   "source": [
    "if place_name == 'Barcelona':\n",
    "    # age group 18-29\n",
    "    sub_folder = 'Real Prolific Barcelona 18-29 Mar30'\n",
    "    perceptions_filename = 'City Perception Real Barcelona 18-29_March 30, 2023_10.18.xlsx'\n",
    "    perceptions = pd.concat([perceptions, pd.read_excel(os.path.join(confidential_folder, sub_folder, perceptions_filename), skiprows=[1])])\n",
    "    demographics_filename = 'prolific_export_6424260a4fa27f2c7e8eb53a.csv'\n",
    "    demographics = pd.concat([demographics, pd.read_csv(os.path.join(confidential_folder, sub_folder, demographics_filename))])\n",
    "    \n",
    "    # age group 30-39\n",
    "    sub_folder = 'Real Prolific Barcelona 30-39 Mar30'\n",
    "    perceptions_filename = 'City Perception Real Barcelona 30-39_March 30, 2023_08.54_corrected.xlsx'\n",
    "    perceptions = pd.concat([perceptions, pd.read_excel(os.path.join(confidential_folder, sub_folder, perceptions_filename), skiprows=[1])])\n",
    "    demographics_filename = 'prolific_export_6424251d38a1ff04d1864fd0.csv'\n",
    "    demographics = pd.concat([demographics, pd.read_csv(os.path.join(confidential_folder, sub_folder, demographics_filename))])\n",
    "\n",
    "    # age group 40-49\n",
    "    sub_folder = 'Real Prolific Barcelona 40-49 Mar30'\n",
    "    perceptions_filename = 'City Perception Real Barcelona 40-49_March 30, 2023_07.16.xlsx'\n",
    "    perceptions = pd.concat([perceptions, pd.read_excel(os.path.join(confidential_folder, sub_folder, perceptions_filename), skiprows=[1])])\n",
    "    demographics_filename = 'prolific_export_642424a6dcf6595d50daf9c7.csv'\n",
    "    demographics = pd.concat([demographics, pd.read_csv(os.path.join(confidential_folder, sub_folder, demographics_filename))])\n",
    "\n",
    "    # age group 50-59\n",
    "    sub_folder = 'Real Prolific Barcelona 50-59 Mar29'\n",
    "    perceptions_filename = 'City Perception Real Barcelona 50-59_March 29, 2023_09.22.xlsx'\n",
    "    perceptions = pd.concat([perceptions, pd.read_excel(os.path.join(confidential_folder, sub_folder, perceptions_filename), skiprows=[1])])\n",
    "    demographics_filename = 'prolific_export_642407af18c73da6c5d47c8d.csv'\n",
    "    demographics = pd.concat([demographics, pd.read_csv(os.path.join(confidential_folder, sub_folder, demographics_filename))])\n",
    "\n",
    "    # age group 60+\n",
    "    sub_folder = 'Real Prolific Barcelona 60+ Mar28'\n",
    "    perceptions_filename = 'City Perception Real Barcelona_March 28, 2023_05.51_corrected.xlsx'\n",
    "    perceptions = pd.concat([perceptions, pd.read_excel(os.path.join(confidential_folder, sub_folder, perceptions_filename), skiprows=[1])])\n",
    "    demographics_filename = 'prolific_export_641c6b00b70ba558d0f17239.csv'\n",
    "    demographics = pd.concat([demographics, pd.read_csv(os.path.join(confidential_folder, sub_folder, demographics_filename))])"
   ]
  },
  {
   "cell_type": "code",
   "execution_count": null,
   "id": "58387628-76f4-43be-bd59-b5f8da9f5865",
   "metadata": {},
   "outputs": [],
   "source": [
    "if place_name == 'Rotterdam':\n",
    "    # age group 18-29\n",
    "    sub_folder = 'Real Prolific Rotterdam 18-29 May2'\n",
    "    perceptions_filename = 'City Perception Real Rotterdam 18-29_May 2, 2023_03.50.xlsx'\n",
    "    perceptions = pd.concat([perceptions, pd.read_excel(os.path.join(confidential_folder, sub_folder, perceptions_filename), skiprows=[1])])\n",
    "    demographics_filename = 'prolific_export_644912432207fd15335e6ed3.csv'\n",
    "    demographics = pd.concat([demographics, pd.read_csv(os.path.join(confidential_folder, sub_folder, demographics_filename))])\n",
    "    \n",
    "    # age group 30-39\n",
    "    sub_folder = 'Real Prolific Rotterdam 30-39 May2'\n",
    "    perceptions_filename = 'City Perception Real Rotterdam 30-39_May 2, 2023_03.48.xlsx'\n",
    "    perceptions = pd.concat([perceptions, pd.read_excel(os.path.join(confidential_folder, sub_folder, perceptions_filename), skiprows=[1])])\n",
    "    demographics_filename = 'prolific_export_6449124b1677afb325bb50bd.csv'\n",
    "    demographics = pd.concat([demographics, pd.read_csv(os.path.join(confidential_folder, sub_folder, demographics_filename))])\n",
    "    \n",
    "    # age group 40-49\n",
    "    sub_folder = 'Real Prolific Rotterdam 40-49 May2'\n",
    "    perceptions_filename = 'City Perception Real Rotterdam 40-49_May 2, 2023_03.33.xlsx'\n",
    "    perceptions = pd.concat([perceptions, pd.read_excel(os.path.join(confidential_folder, sub_folder, perceptions_filename), skiprows=[1])])\n",
    "    demographics_filename = 'prolific_export_64491257bd526b836ed93760.csv'\n",
    "    demographics = pd.concat([demographics, pd.read_csv(os.path.join(confidential_folder, sub_folder, demographics_filename))])\n",
    "\n",
    "    # age group 50-59\n",
    "    sub_folder = 'Real Prolific Rotterdam 50-59 May2'\n",
    "    perceptions_filename = 'City Perception Real Rotterdam 50-59_May 2, 2023_03.31_corrected.xlsx'\n",
    "    perceptions = pd.concat([perceptions, pd.read_excel(os.path.join(confidential_folder, sub_folder, perceptions_filename), skiprows=[1])])\n",
    "    demographics_filename = 'prolific_export_644912646c7244a4d6fdd8c0.csv'\n",
    "    demographics = pd.concat([demographics, pd.read_csv(os.path.join(confidential_folder, sub_folder, demographics_filename))])\n",
    "    \n",
    "    # age group 60+\n",
    "    sub_folder = 'Real Prolific Rotterdam 60+ May1'\n",
    "    perceptions_filename = 'City Perception Real Rotterdam 60+_May 1, 2023_09.45.xlsx'\n",
    "    perceptions = pd.concat([perceptions, pd.read_excel(os.path.join(confidential_folder, sub_folder, perceptions_filename), skiprows=[1])])\n",
    "    demographics_filename = 'prolific_export_6449126c15f75e2bf1615d0e.csv'\n",
    "    demographics = pd.concat([demographics, pd.read_csv(os.path.join(confidential_folder, sub_folder, demographics_filename))])"
   ]
  },
  {
   "cell_type": "code",
   "execution_count": null,
   "id": "1cec7f4d-7b62-4d69-bd82-083984bbcb49",
   "metadata": {},
   "outputs": [],
   "source": [
    "if place_name == 'Goteborg':\n",
    "    # age group 18-29\n",
    "    sub_folder = 'Real Prolific Goteborg 18-29 May12'\n",
    "    perceptions_filename = 'City Perception Real Goteborg 18-29_May 12, 2023_03.14.xlsx'\n",
    "    perceptions = pd.concat([perceptions, pd.read_excel(os.path.join(confidential_folder, sub_folder, perceptions_filename), skiprows=[1])])\n",
    "    demographics_filename = 'prolific_export_6449325f80adcf408dc72404.csv'\n",
    "    demographics = pd.concat([demographics, pd.read_csv(os.path.join(confidential_folder, sub_folder, demographics_filename))])\n",
    "    \n",
    "    # age group 30-39\n",
    "    sub_folder = 'Real Prolific Goteborg 30-39 May12'\n",
    "    perceptions_filename = 'City Perception Real Goteborg 30-39_May 12, 2023_05.51.xlsx'\n",
    "    perceptions = pd.concat([perceptions, pd.read_excel(os.path.join(confidential_folder, sub_folder, perceptions_filename), skiprows=[1])])\n",
    "    demographics_filename = 'prolific_export_644932589dd4737ea883c164.csv'\n",
    "    demographics = pd.concat([demographics, pd.read_csv(os.path.join(confidential_folder, sub_folder, demographics_filename))])\n",
    "    \n",
    "    # age group 40-49\n",
    "    sub_folder = 'Real Prolific Goteborg 40-49 May12'\n",
    "    perceptions_filename = 'City Perception Real Goteborg 40-49_May 12, 2023_05.50.xlsx'\n",
    "    perceptions = pd.concat([perceptions, pd.read_excel(os.path.join(confidential_folder, sub_folder, perceptions_filename), skiprows=[1])])\n",
    "    demographics_filename = 'prolific_export_6449324dd679d296fc3f742c.csv'\n",
    "    demographics = pd.concat([demographics, pd.read_csv(os.path.join(confidential_folder, sub_folder, demographics_filename))])\n",
    "    \n",
    "    # age group 50-59\n",
    "    sub_folder = 'Real Prolific Goteborg 50-59 May12'\n",
    "    perceptions_filename = 'City Perception Real Goteborg 50-59_May 12, 2023_05.09_corrected.xlsx'\n",
    "    perceptions = pd.concat([perceptions, pd.read_excel(os.path.join(confidential_folder, sub_folder, perceptions_filename), skiprows=[1])])\n",
    "    demographics_filename = 'prolific_export_64493244eb25800c5761f47a.csv'\n",
    "    demographics = pd.concat([demographics, pd.read_csv(os.path.join(confidential_folder, sub_folder, demographics_filename))])\n",
    "    \n",
    "    # age group 60+\n",
    "    sub_folder = 'Real Prolific Goteborg 60+ May12'\n",
    "    perceptions_filename = 'City Perception Real Goteborg 60+_May 12, 2023_05.08.xlsx'\n",
    "    perceptions = pd.concat([perceptions, pd.read_excel(os.path.join(confidential_folder, sub_folder, perceptions_filename), skiprows=[1])])\n",
    "    demographics_filename = 'prolific_export_644932346413a288af1d965f.csv'\n",
    "    demographics = pd.concat([demographics, pd.read_csv(os.path.join(confidential_folder, sub_folder, demographics_filename))])"
   ]
  },
  {
   "cell_type": "code",
   "execution_count": null,
   "id": "20047a65-2568-45e0-b670-069117d39e18",
   "metadata": {},
   "outputs": [],
   "source": [
    "perceptions.reset_index(drop=True, inplace=True)\n",
    "demographics.reset_index(drop=True, inplace=True)"
   ]
  },
  {
   "cell_type": "code",
   "execution_count": null,
   "id": "e5f82dba-1ab8-4b1a-a28c-3813a60daa78",
   "metadata": {},
   "outputs": [],
   "source": [
    "if print_and_plot:\n",
    "    print(len(perceptions))"
   ]
  },
  {
   "cell_type": "markdown",
   "id": "e5a336a4-cd56-4dab-8a85-95ac7ac1ae78",
   "metadata": {},
   "source": [
    "## Filter relevant, combine all, and match with Prolific demographics"
   ]
  },
  {
   "cell_type": "code",
   "execution_count": null,
   "id": "4e553564-1caa-462b-89b3-9ab8e8fa1898",
   "metadata": {},
   "outputs": [],
   "source": [
    "consent_yes = 'I have read and understood the study information, or it has been read to me. I have been able to ask questions about the study and my questions have been answered to my satisfaction.,I consent voluntarily to be a participant in this study and understand that I can refuse to answer questions and I can withdraw from the study at any time, without having to give a reason.,I understand that taking part in the study involves answering questions about my general living environment preferences, as well as about panoramic street-level images of urban environments. And that anonymised information I provide will be used for potential reports and publications.,I understand that personal information collected about me that can identify me, such as my name or email, will not be shared beyond the study team.,I understand that anonymised and aggregated data may be archived to be used for future research and learning. I understand that access to this archive repository is open.'"
   ]
  },
  {
   "cell_type": "code",
   "execution_count": null,
   "id": "ea479db7-c9a4-4c8c-a14b-0acf7599a3fd",
   "metadata": {},
   "outputs": [],
   "source": [
    "# filter out: preview entries, uncompleted entries\n",
    "# double check if all entries provided consent\n",
    "perceptions_filtered = perceptions[\n",
    "    (perceptions['Status']=='IP Address')\n",
    "    & (perceptions['Progress']==100.0)\n",
    "    & (perceptions['Finished']==True)\n",
    "    & (perceptions['DistributionChannel']!='preview')\n",
    "    & (perceptions['consent']==consent_yes)\n",
    "]"
   ]
  },
  {
   "cell_type": "code",
   "execution_count": null,
   "id": "d3befe91-fd6a-482e-bfca-99c5cf8d0e67",
   "metadata": {},
   "outputs": [],
   "source": [
    "if print_and_plot:\n",
    "    print('{}/{} completed prolific entries that provided consent remain after filtering'.format(len(perceptions_filtered), len(perceptions)))"
   ]
  },
  {
   "cell_type": "code",
   "execution_count": null,
   "id": "59cdd5f2-ad50-4948-8e17-085dcbbb52f1",
   "metadata": {},
   "outputs": [],
   "source": [
    "# filter out: entries with low recaptcha score\n",
    "perceptions_filtered = perceptions_filtered[\n",
    "    (perceptions_filtered['Q_RecaptchaScore']>=0.5) |\n",
    "    (perceptions_filtered['Q_RecaptchaScore'].isna())]"
   ]
  },
  {
   "cell_type": "code",
   "execution_count": null,
   "id": "f8afc115-23f1-4045-88c9-c4d9fce3eefe",
   "metadata": {},
   "outputs": [],
   "source": [
    "if print_and_plot:\n",
    "    print('{}/{} entries with valid recaptcha remain after filtering'.format(len(perceptions_filtered), len(perceptions)))"
   ]
  },
  {
   "cell_type": "code",
   "execution_count": null,
   "id": "677b47ac-ea5e-4376-b9bc-c6e58d75a49f",
   "metadata": {},
   "outputs": [],
   "source": [
    "if print_and_plot:\n",
    "    print('The following entries did not pass the recaptcha:')\n",
    "    print(perceptions[perceptions['Q_RecaptchaScore']<0.5][['prolific_id', 'Q_RecaptchaScore']])\n",
    "    \n",
    "    print('\\nThe following entries did not have a recaptcha score, check them manually:')\n",
    "    print(perceptions[perceptions['Q_RecaptchaScore'].isna()][['prolific_id', 'Q_RecaptchaScore']])"
   ]
  },
  {
   "cell_type": "code",
   "execution_count": null,
   "id": "8c9736f8-e24b-4190-8069-5352208cf5bc",
   "metadata": {},
   "outputs": [],
   "source": [
    "# after the manual check, we exclude the following indices\n",
    "if place_name == 'Rotterdam':\n",
    "    to_exclude = [129]\n",
    "    perceptions_filtered = perceptions_filtered[~perceptions_filtered.index.isin(to_exclude)]\n",
    "    \n",
    "    if print_and_plot:\n",
    "        print('{}/{} entries remain after manual check'.format(len(perceptions_filtered), len(perceptions)))"
   ]
  },
  {
   "cell_type": "code",
   "execution_count": null,
   "id": "80df36c2-09cc-4cfb-9f8e-5b0e165a603e",
   "metadata": {},
   "outputs": [],
   "source": [
    "# filter out: entries without sensible prolific id\n",
    "perceptions_filtered = perceptions_filtered[\n",
    "    (perceptions_filtered['prolific_id'].str.len()==24)]"
   ]
  },
  {
   "cell_type": "code",
   "execution_count": null,
   "id": "b0ec2cac-9082-4289-954a-0a7f3e4a9132",
   "metadata": {},
   "outputs": [],
   "source": [
    "if print_and_plot:\n",
    "    print('{}/{} entries with sensible prolific id remain after filtering'.format(len(perceptions_filtered), len(perceptions)))"
   ]
  },
  {
   "cell_type": "code",
   "execution_count": null,
   "id": "a96e1b5e-f706-4ad0-809c-1d05afccf6fc",
   "metadata": {},
   "outputs": [],
   "source": [
    "if print_and_plot:\n",
    "    print('The following entries do not have a valid Prolific ID:')\n",
    "    print(perceptions[(perceptions['prolific_id'].str.len()!=24) & (perceptions['prolific_id'].notna())].prolific_id)"
   ]
  },
  {
   "cell_type": "code",
   "execution_count": null,
   "id": "8f7c7b9f-c183-47b1-a000-08e7f6671bd3",
   "metadata": {},
   "outputs": [],
   "source": [
    "# filter out: preview entries, uncompleted entries, entries with recaptcha < 0.5\n",
    "# check if prolific id is 24 characters in length\n",
    "# double check if all entries provided consent\n",
    "perceptions_filtered = perceptions_filtered[\n",
    "    (perceptions_filtered['act_loc4_rating#1_6']=='Never')\n",
    "]"
   ]
  },
  {
   "cell_type": "code",
   "execution_count": null,
   "id": "397386c7-c28a-475e-b576-00f365353583",
   "metadata": {},
   "outputs": [],
   "source": [
    "if print_and_plot:\n",
    "    print('{}/{} entries that passed the control question remain after filtering'.format(len(perceptions_filtered), len(perceptions)))"
   ]
  },
  {
   "cell_type": "code",
   "execution_count": null,
   "id": "b223b03f-aceb-4573-8849-bbbefddccea3",
   "metadata": {},
   "outputs": [],
   "source": [
    "if print_and_plot:\n",
    "    print('The following Prolific IDs did NOT pass the control question:')\n",
    "    print(perceptions[(perceptions['act_loc4_rating#1_6']!='Never') & (perceptions.prolific_id.notna())].prolific_id)"
   ]
  },
  {
   "cell_type": "code",
   "execution_count": null,
   "id": "caf0ded3-4046-451a-9226-9b93f3184938",
   "metadata": {},
   "outputs": [],
   "source": [
    "perceptions = perceptions_filtered"
   ]
  },
  {
   "cell_type": "code",
   "execution_count": null,
   "id": "206b8854-77bd-499b-b8b6-45e49ea41b51",
   "metadata": {},
   "outputs": [],
   "source": [
    "if print_and_plot:\n",
    "    print(len(perceptions))"
   ]
  },
  {
   "cell_type": "code",
   "execution_count": null,
   "id": "82304134-acef-47b4-860a-387a8dc4948d",
   "metadata": {},
   "outputs": [],
   "source": [
    "demographics = demographics.add_suffix('_Prolific')\n",
    "perceptions = perceptions.merge(demographics, how='left', left_on='prolific_id', right_on='Participant id_Prolific', suffixes=(False, '_Prolific'))"
   ]
  },
  {
   "cell_type": "markdown",
   "id": "93cd9767-3803-4da6-b31d-3c427d6add8d",
   "metadata": {},
   "source": [
    "## Clean up attributes"
   ]
  },
  {
   "cell_type": "code",
   "execution_count": null,
   "id": "65d3459e-00e8-49d9-9e8f-ec8aec2a2cf2",
   "metadata": {
    "tags": []
   },
   "outputs": [],
   "source": [
    "# provide more sensible names to some columns\n",
    "perceptions = perceptions.rename(columns={\n",
    "    \n",
    "    'pre_gender_4_TEXT': 'pre_gender_selfdescription',\n",
    "    \n",
    "    'act_loc1_rating#1_1': 'act_loc1_physical_rating',\n",
    "    'act_loc1_rating#1_2': 'act_loc1_social_rating',\n",
    "    'act_loc1_rating#1_3': 'act_loc1_relax_rating',\n",
    "    'act_loc1_rating#1_4': 'act_loc1_commute_rating',\n",
    "    'act_loc1_rating#1_5': 'act_loc1_children_rating',\n",
    "    'act_loc1_rating#2_1_1': 'act_loc1_physical_reason',\n",
    "    'act_loc1_rating#2_2_1': 'act_loc1_social_reason',\n",
    "    'act_loc1_rating#2_3_1': 'act_loc1_relax_reason',\n",
    "    'act_loc1_rating#2_4_1': 'act_loc1_commute_reason',\n",
    "    'act_loc1_rating#2_5_1': 'act_loc1_children_reason',\n",
    "    'loc_act_1': 'act_loc1_iframe',\n",
    "    'click_act_1': 'act_loc1_clicks',\n",
    "    \n",
    "    'act_loc2_rating#1_1': 'act_loc2_physical_rating',\n",
    "    'act_loc2_rating#1_2': 'act_loc2_social_rating',\n",
    "    'act_loc2_rating#1_3': 'act_loc2_relax_rating',\n",
    "    'act_loc2_rating#1_4': 'act_loc2_commute_rating',\n",
    "    'act_loc2_rating#1_5': 'act_loc2_children_rating',\n",
    "    'act_loc2_rating#2_1_1': 'act_loc2_physical_reason',\n",
    "    'act_loc2_rating#2_2_1': 'act_loc2_social_reason',\n",
    "    'act_loc2_rating#2_3_1': 'act_loc2_relax_reason',\n",
    "    'act_loc2_rating#2_4_1': 'act_loc2_commute_reason',\n",
    "    'act_loc2_rating#2_5_1': 'act_loc2_children_reason',\n",
    "    'loc_act_2': 'act_loc2_iframe',\n",
    "    'click_act_2': 'act_loc2_clicks',\n",
    "    \n",
    "    'act_loc3_rating#1_1': 'act_loc3_physical_rating',\n",
    "    'act_loc3_rating#1_2': 'act_loc3_social_rating',\n",
    "    'act_loc3_rating#1_3': 'act_loc3_relax_rating',\n",
    "    'act_loc3_rating#1_4': 'act_loc3_commute_rating',\n",
    "    'act_loc3_rating#1_5': 'act_loc3_children_rating',\n",
    "    'act_loc3_rating#2_1_1': 'act_loc3_physical_reason',\n",
    "    'act_loc3_rating#2_2_1': 'act_loc3_social_reason',\n",
    "    'act_loc3_rating#2_3_1': 'act_loc3_relax_reason',\n",
    "    'act_loc3_rating#2_4_1': 'act_loc3_commute_reason',\n",
    "    'act_loc3_rating#2_5_1': 'act_loc3_children_reason',\n",
    "    'loc_act_3': 'act_loc3_iframe',\n",
    "    'click_act_3': 'act_loc3_clicks',\n",
    "    \n",
    "    'act_loc4_rating#1_1': 'act_loc4_physical_rating',\n",
    "    'act_loc4_rating#1_2': 'act_loc4_social_rating',\n",
    "    'act_loc4_rating#1_3': 'act_loc4_relax_rating',\n",
    "    'act_loc4_rating#1_4': 'act_loc4_commute_rating',\n",
    "    'act_loc4_rating#1_5': 'act_loc4_children_rating',\n",
    "    'act_loc4_rating#2_1_1': 'act_loc4_physical_reason',\n",
    "    'act_loc4_rating#2_2_1': 'act_loc4_social_reason',\n",
    "    'act_loc4_rating#2_3_1': 'act_loc4_relax_reason',\n",
    "    'act_loc4_rating#2_4_1': 'act_loc4_commute_reason',\n",
    "    'act_loc4_rating#2_5_1': 'act_loc4_children_reason',\n",
    "    'act_loc4_rating#1_6' : 'control_just_select_never',\n",
    "    'loc_act_4': 'act_loc4_iframe',\n",
    "    'click_act_4': 'act_loc4_clicks',\n",
    "    \n",
    "    'act_loc5_rating#1_1': 'act_loc5_physical_rating',\n",
    "    'act_loc5_rating#1_2': 'act_loc5_social_rating',\n",
    "    'act_loc5_rating#1_3': 'act_loc5_relax_rating',\n",
    "    'act_loc5_rating#1_4': 'act_loc5_commute_rating',\n",
    "    'act_loc5_rating#1_5': 'act_loc5_children_rating',\n",
    "    'act_loc5_rating#2_1_1': 'act_loc5_physical_reason',\n",
    "    'act_loc5_rating#2_2_1': 'act_loc5_social_reason',\n",
    "    'act_loc5_rating#2_3_1': 'act_loc5_relax_reason',\n",
    "    'act_loc5_rating#2_4_1': 'act_loc5_commute_reason',\n",
    "    'act_loc5_rating#2_5_1': 'act_loc5_children_reason',\n",
    "    'loc_act_5': 'act_loc5_iframe',\n",
    "    'click_act_5': 'act_loc5_clicks',\n",
    "    \n",
    "    'green_loc1_rating_1': 'green_loc1_rating',\n",
    "    'loc_gr_1': 'green_loc1_iframe',\n",
    "    'click_gr_1': 'green_loc1_clicks',\n",
    "    \n",
    "    'green_loc2_rating_1': 'green_loc2_rating',\n",
    "    'loc_gr_2': 'green_loc2_iframe',\n",
    "    'click_gr_2': 'green_loc2_clicks',\n",
    "    \n",
    "    'green_loc3_rating_1': 'green_loc3_rating',\n",
    "    'loc_gr_3': 'green_loc3_iframe',\n",
    "    'click_gr_3': 'green_loc3_clicks',\n",
    "    \n",
    "    'green_loc4_rating_1': 'green_loc4_rating',\n",
    "    'loc_gr_4': 'green_loc4_iframe',\n",
    "    'click_gr_4': 'green_loc4_clicks',\n",
    "    \n",
    "    'green_loc5_rating_1': 'green_loc5_rating',\n",
    "    'loc_gr_5': 'green_loc5_iframe',\n",
    "    'click_gr_5': 'green_loc5_clicks',\n",
    "    \n",
    "    'post_profession_1': 'post_profession_built',\n",
    "    'post_profession_2': 'post_profession_health',\n",
    "    'post_importance_live_1': 'post_importance_live_physical',\n",
    "    'post_importance_live_2': 'post_importance_live_social',\n",
    "    'post_importance_live_3': 'post_importance_live_relax',\n",
    "    'post_importance_live_4': 'post_importance_live_commute',\n",
    "    'post_importance_live_5': 'post_importance_live_children',\n",
    "    'post_importance_gree_1': 'post_importance_green_physical',\n",
    "    'post_importance_gree_2': 'post_importance_green_social',\n",
    "    'post_importance_gree_3': 'post_importance_green_relax',\n",
    "    'post_importance_gree_4': 'post_importance_green_commute',\n",
    "    'post_importance_gree_5': 'post_importance_green_children',\n",
    "    'survey_questions_1': 'survey_questions_clear',\n",
    "    'survey_questions_2': 'survey_questions_panned',\n",
    "    'survey_questions_3': 'survey_questions_walked',\n",
    "    'survey_questions_4': 'survey_questions_knewplaces'\n",
    "})"
   ]
  },
  {
   "cell_type": "markdown",
   "id": "eb85713a-e4f3-4d33-ae03-e50345c0cfe6",
   "metadata": {},
   "source": [
    "### Perceptions per location"
   ]
  },
  {
   "cell_type": "markdown",
   "id": "5660a663-cc0a-49f7-bdf5-a0a7601c9363",
   "metadata": {},
   "source": [
    "#### for activities"
   ]
  },
  {
   "cell_type": "code",
   "execution_count": null,
   "id": "e301c51b-52cf-4dcb-9eb5-5385db07a269",
   "metadata": {},
   "outputs": [],
   "source": [
    "activity_perceptions_1 = perceptions[[\n",
    "    'prolific_id',\n",
    "    'loc_ifr_1', 'act_loc1_clicks',\n",
    "    'act_loc1_physical_rating', 'act_loc1_physical_reason',\n",
    "    'act_loc1_social_rating', 'act_loc1_social_reason',\n",
    "    'act_loc1_relax_rating', 'act_loc1_relax_reason',\n",
    "    'act_loc1_commute_rating', 'act_loc1_commute_reason',\n",
    "    'act_loc1_children_rating', 'act_loc1_children_reason']]\n",
    "\n",
    "activity_perceptions_1 = activity_perceptions_1.rename(columns={\n",
    "    'loc_ifr_1': 'iframe', \n",
    "    'act_loc1_clicks': 'clicks',\n",
    "    'act_loc1_physical_rating': 'physical_rating', \n",
    "    'act_loc1_physical_reason': 'physical_reason',\n",
    "    'act_loc1_social_rating': 'social_rating', \n",
    "    'act_loc1_social_reason': 'social_reason', \n",
    "    'act_loc1_relax_rating': 'relax_rating', \n",
    "    'act_loc1_relax_reason': 'relax_reason', \n",
    "    'act_loc1_commute_rating': 'commute_rating', \n",
    "    'act_loc1_commute_reason': 'commute_reason', \n",
    "    'act_loc1_children_rating': 'children_rating', \n",
    "    'act_loc1_children_reason': 'children_reason'})"
   ]
  },
  {
   "cell_type": "code",
   "execution_count": null,
   "id": "bb5e2032-ac83-4cf5-81f8-3dd0bce6aebf",
   "metadata": {},
   "outputs": [],
   "source": [
    "activity_perceptions_2 = perceptions[[\n",
    "    'prolific_id',\n",
    "    'loc_ifr_2', 'act_loc2_clicks',\n",
    "    'act_loc2_physical_rating', 'act_loc2_physical_reason',\n",
    "    'act_loc2_social_rating', 'act_loc2_social_reason',\n",
    "    'act_loc2_relax_rating', 'act_loc2_relax_reason',\n",
    "    'act_loc2_commute_rating', 'act_loc2_children_rating',\n",
    "    'act_loc2_commute_reason', 'act_loc2_children_reason']]\n",
    "\n",
    "activity_perceptions_2 = activity_perceptions_2.rename(columns={\n",
    "    'loc_ifr_2': 'iframe', \n",
    "    'act_loc2_clicks': 'clicks',\n",
    "    'act_loc2_physical_rating': 'physical_rating', \n",
    "    'act_loc2_physical_reason': 'physical_reason',\n",
    "    'act_loc2_social_rating': 'social_rating', \n",
    "    'act_loc2_social_reason': 'social_reason', \n",
    "    'act_loc2_relax_rating': 'relax_rating', \n",
    "    'act_loc2_relax_reason': 'relax_reason', \n",
    "    'act_loc2_commute_rating': 'commute_rating', \n",
    "    'act_loc2_commute_reason': 'commute_reason', \n",
    "    'act_loc2_children_rating': 'children_rating', \n",
    "    'act_loc2_children_reason': 'children_reason'})"
   ]
  },
  {
   "cell_type": "code",
   "execution_count": null,
   "id": "fb14b5d6-f5c5-4301-b77a-c0d8ceb4d057",
   "metadata": {},
   "outputs": [],
   "source": [
    "activity_perceptions_3 = perceptions[[\n",
    "    'prolific_id',\n",
    "    'loc_ifr_3', 'act_loc3_clicks',\n",
    "    'act_loc3_physical_rating', 'act_loc3_physical_reason',\n",
    "    'act_loc3_social_rating', 'act_loc3_social_reason',\n",
    "    'act_loc3_relax_rating', 'act_loc3_relax_reason',\n",
    "    'act_loc3_commute_rating', 'act_loc3_children_rating',\n",
    "    'act_loc3_commute_reason', 'act_loc3_children_reason']]\n",
    "\n",
    "activity_perceptions_3 = activity_perceptions_3.rename(columns={\n",
    "    'loc_ifr_3': 'iframe', \n",
    "    'act_loc3_clicks': 'clicks',\n",
    "    'act_loc3_physical_rating': 'physical_rating', \n",
    "    'act_loc3_physical_reason': 'physical_reason',\n",
    "    'act_loc3_social_rating': 'social_rating', \n",
    "    'act_loc3_social_reason': 'social_reason', \n",
    "    'act_loc3_relax_rating': 'relax_rating', \n",
    "    'act_loc3_relax_reason': 'relax_reason', \n",
    "    'act_loc3_commute_rating': 'commute_rating', \n",
    "    'act_loc3_commute_reason': 'commute_reason', \n",
    "    'act_loc3_children_rating': 'children_rating', \n",
    "    'act_loc3_children_reason': 'children_reason'})"
   ]
  },
  {
   "cell_type": "code",
   "execution_count": null,
   "id": "fb1732ee-0018-421f-baf6-3c9f32314405",
   "metadata": {},
   "outputs": [],
   "source": [
    "activity_perceptions_4 = perceptions[[\n",
    "    'prolific_id',\n",
    "    'loc_ifr_4', 'act_loc4_clicks',\n",
    "    'act_loc4_physical_rating', 'act_loc4_physical_reason',\n",
    "    'act_loc4_social_rating', 'act_loc4_social_reason',\n",
    "    'act_loc4_relax_rating', 'act_loc4_relax_reason',\n",
    "    'act_loc4_commute_rating', 'act_loc4_children_rating',\n",
    "    'act_loc4_commute_reason', 'act_loc4_children_reason']]\n",
    "\n",
    "activity_perceptions_4 = activity_perceptions_4.rename(columns={\n",
    "    'loc_ifr_4': 'iframe', \n",
    "    'act_loc4_clicks': 'clicks',\n",
    "    'act_loc4_physical_rating': 'physical_rating', \n",
    "    'act_loc4_physical_reason': 'physical_reason',\n",
    "    'act_loc4_social_rating': 'social_rating', \n",
    "    'act_loc4_social_reason': 'social_reason', \n",
    "    'act_loc4_relax_rating': 'relax_rating', \n",
    "    'act_loc4_relax_reason': 'relax_reason', \n",
    "    'act_loc4_commute_rating': 'commute_rating', \n",
    "    'act_loc4_commute_reason': 'commute_reason', \n",
    "    'act_loc4_children_rating': 'children_rating', \n",
    "    'act_loc4_children_reason': 'children_reason'})"
   ]
  },
  {
   "cell_type": "code",
   "execution_count": null,
   "id": "908e3b5d-f669-445d-b064-eaa45b91f6e9",
   "metadata": {},
   "outputs": [],
   "source": [
    "activity_perceptions_5 = perceptions[[\n",
    "    'prolific_id',\n",
    "    'loc_ifr_5', 'act_loc5_clicks',\n",
    "    'act_loc5_physical_rating', 'act_loc5_physical_reason',\n",
    "    'act_loc5_social_rating', 'act_loc5_social_reason',\n",
    "    'act_loc5_relax_rating', 'act_loc5_relax_reason',\n",
    "    'act_loc5_commute_rating', 'act_loc5_children_rating',\n",
    "    'act_loc5_commute_reason', 'act_loc5_children_reason']]\n",
    "\n",
    "activity_perceptions_5 = activity_perceptions_5.rename(columns={\n",
    "    'loc_ifr_5': 'iframe', \n",
    "    'act_loc5_clicks': 'clicks',\n",
    "    'act_loc5_physical_rating': 'physical_rating', \n",
    "    'act_loc5_physical_reason': 'physical_reason',\n",
    "    'act_loc5_social_rating': 'social_rating', \n",
    "    'act_loc5_social_reason': 'social_reason', \n",
    "    'act_loc5_relax_rating': 'relax_rating', \n",
    "    'act_loc5_relax_reason': 'relax_reason', \n",
    "    'act_loc5_commute_rating': 'commute_rating', \n",
    "    'act_loc5_commute_reason': 'commute_reason', \n",
    "    'act_loc5_children_rating': 'children_rating', \n",
    "    'act_loc5_children_reason': 'children_reason'})"
   ]
  },
  {
   "cell_type": "code",
   "execution_count": null,
   "id": "17cd8398-d6bf-4aeb-b61a-1e0308a7d3da",
   "metadata": {},
   "outputs": [],
   "source": [
    "activity_perceptions = pd.concat([\n",
    "    activity_perceptions_1, \n",
    "    activity_perceptions_2, \n",
    "    activity_perceptions_3, \n",
    "    activity_perceptions_4, \n",
    "    activity_perceptions_5\n",
    "])\n",
    "activity_perceptions.reset_index(inplace=True, drop=True)"
   ]
  },
  {
   "cell_type": "code",
   "execution_count": null,
   "id": "0e2cb985-ab96-4a61-96e8-0a6124eaf964",
   "metadata": {
    "tags": []
   },
   "outputs": [],
   "source": [
    "activity_mapping = {\n",
    "    'Never': 0,\n",
    "    'Rarely': 1,\n",
    "    'Sometimes': 2,\n",
    "    'Often': 3,\n",
    "    'Always': 4}\n",
    "\n",
    "activity_perceptions['physical_rating_num'] = activity_perceptions['physical_rating'].map(activity_mapping)\n",
    "activity_perceptions['social_rating_num'] = activity_perceptions['social_rating'].map(activity_mapping)\n",
    "activity_perceptions['relax_rating_num'] = activity_perceptions['relax_rating'].map(activity_mapping)\n",
    "activity_perceptions['commute_rating_num'] = activity_perceptions['commute_rating'].map(activity_mapping)\n",
    "activity_perceptions['children_rating_num'] = activity_perceptions['children_rating'].map(activity_mapping)"
   ]
  },
  {
   "cell_type": "code",
   "execution_count": null,
   "id": "a0616b74-511a-494f-85e3-d2543c315dc6",
   "metadata": {},
   "outputs": [],
   "source": [
    "if print_and_plot:\n",
    "    print(len(activity_perceptions))"
   ]
  },
  {
   "cell_type": "code",
   "execution_count": null,
   "id": "8ff5d20b-5666-4236-8192-efb66fd41475",
   "metadata": {},
   "outputs": [],
   "source": [
    "activity_perceptions = activity_perceptions[activity_perceptions.iframe.notna()]"
   ]
  },
  {
   "cell_type": "code",
   "execution_count": null,
   "id": "826be94f-581e-415a-8ab9-7e36493ae476",
   "metadata": {},
   "outputs": [],
   "source": [
    "if print_and_plot:\n",
    "    print(len(activity_perceptions))"
   ]
  },
  {
   "cell_type": "markdown",
   "id": "559d1bfe-4fef-4fcc-a996-acba4615adc8",
   "metadata": {},
   "source": [
    "#### for greenness"
   ]
  },
  {
   "cell_type": "code",
   "execution_count": null,
   "id": "13d25d08-8adf-404c-85c8-bd46f82abc50",
   "metadata": {},
   "outputs": [],
   "source": [
    "greenness_perceptions_1 = perceptions[[\n",
    "    'prolific_id',\n",
    "    'loc_ifr_1', 'green_loc1_clicks',\n",
    "    'green_loc1_rating', 'green_loc1_reason']]\n",
    "\n",
    "greenness_perceptions_1 = greenness_perceptions_1.rename(columns={\n",
    "    'loc_ifr_1': 'iframe', \n",
    "    'green_loc1_clicks': 'clicks',\n",
    "    'green_loc1_rating': 'rating', \n",
    "    'green_loc1_reason': 'reason'})"
   ]
  },
  {
   "cell_type": "code",
   "execution_count": null,
   "id": "0edf6231-9c81-4c74-8103-933bd9262c92",
   "metadata": {},
   "outputs": [],
   "source": [
    "greenness_perceptions_2 = perceptions[[\n",
    "    'prolific_id',\n",
    "    'loc_ifr_2', 'green_loc2_clicks',\n",
    "    'green_loc2_rating', 'green_loc2_reason']]\n",
    "\n",
    "greenness_perceptions_2 = greenness_perceptions_2.rename(columns={\n",
    "    'loc_ifr_2': 'iframe', \n",
    "    'green_loc2_clicks': 'clicks',\n",
    "    'green_loc2_rating': 'rating', \n",
    "    'green_loc2_reason': 'reason'})"
   ]
  },
  {
   "cell_type": "code",
   "execution_count": null,
   "id": "0d2e0897-a3d3-49e7-8972-7ffc9c6d0625",
   "metadata": {},
   "outputs": [],
   "source": [
    "greenness_perceptions_3 = perceptions[[\n",
    "    'prolific_id',\n",
    "    'loc_ifr_3', 'green_loc3_clicks',\n",
    "    'green_loc3_rating', 'green_loc3_reason']]\n",
    "\n",
    "greenness_perceptions_3 = greenness_perceptions_3.rename(columns={\n",
    "    'loc_ifr_3': 'iframe', \n",
    "    'green_loc3_clicks': 'clicks',\n",
    "    'green_loc3_rating': 'rating', \n",
    "    'green_loc3_reason': 'reason'})"
   ]
  },
  {
   "cell_type": "code",
   "execution_count": null,
   "id": "aeb079db-b589-41bd-ba40-0fe0562c5c84",
   "metadata": {},
   "outputs": [],
   "source": [
    "greenness_perceptions_4 = perceptions[[\n",
    "    'prolific_id',\n",
    "    'loc_ifr_4', 'green_loc4_clicks',\n",
    "    'green_loc4_rating', 'green_loc4_reason']]\n",
    "\n",
    "greenness_perceptions_4 = greenness_perceptions_4.rename(columns={\n",
    "    'loc_ifr_4': 'iframe', \n",
    "    'green_loc4_clicks': 'clicks',\n",
    "    'green_loc4_rating': 'rating', \n",
    "    'green_loc4_reason': 'reason'})"
   ]
  },
  {
   "cell_type": "code",
   "execution_count": null,
   "id": "5a74d25e-8830-4d1f-a011-b7f619e3bdce",
   "metadata": {},
   "outputs": [],
   "source": [
    "greenness_perceptions_5 = perceptions[[\n",
    "    'prolific_id',\n",
    "    'loc_ifr_5', 'green_loc5_clicks',\n",
    "    'green_loc5_rating', 'green_loc5_reason']]\n",
    "\n",
    "greenness_perceptions_5 = greenness_perceptions_5.rename(columns={\n",
    "    'loc_ifr_5': 'iframe', \n",
    "    'green_loc5_clicks': 'clicks',\n",
    "    'green_loc5_rating': 'rating', \n",
    "    'green_loc5_reason': 'reason'})"
   ]
  },
  {
   "cell_type": "code",
   "execution_count": null,
   "id": "e10b7c9d-e31f-4e68-9f9c-c9886d2ac98a",
   "metadata": {},
   "outputs": [],
   "source": [
    "greenness_perceptions = pd.concat([\n",
    "    greenness_perceptions_1, \n",
    "    greenness_perceptions_2, \n",
    "    greenness_perceptions_3, \n",
    "    greenness_perceptions_4, \n",
    "    greenness_perceptions_5\n",
    "])\n",
    "greenness_perceptions.reset_index(inplace=True, drop=True)"
   ]
  },
  {
   "cell_type": "code",
   "execution_count": null,
   "id": "6d55202c-76e7-471d-b049-de21c994d5a1",
   "metadata": {},
   "outputs": [],
   "source": [
    "greenness_perceptions = greenness_perceptions.rename(columns={\n",
    "    'rating': 'greenness_rating',\n",
    "    'reason': 'greenness_reason'\n",
    "})"
   ]
  },
  {
   "cell_type": "code",
   "execution_count": null,
   "id": "aa457208-c504-4c0d-ac6e-8d5229ecfd05",
   "metadata": {},
   "outputs": [],
   "source": [
    "greenness_mapping = {\n",
    "    'Not at all': 0,\n",
    "    'A little': 1,\n",
    "    'Neutral': 2,\n",
    "    'Fairly': 3,\n",
    "    'Very': 4}\n",
    "\n",
    "greenness_perceptions['greenness_rating_num'] = greenness_perceptions['greenness_rating'].map(greenness_mapping)"
   ]
  },
  {
   "cell_type": "code",
   "execution_count": null,
   "id": "a47959de-210d-4f7f-a583-2f2d111c9b01",
   "metadata": {},
   "outputs": [],
   "source": [
    "if print_and_plot:\n",
    "    print(len(greenness_perceptions))"
   ]
  },
  {
   "cell_type": "code",
   "execution_count": null,
   "id": "fdc65194-26eb-4061-bfdb-220154c6ee01",
   "metadata": {},
   "outputs": [],
   "source": [
    "greenness_perceptions = greenness_perceptions[greenness_perceptions.iframe.notna()]"
   ]
  },
  {
   "cell_type": "code",
   "execution_count": null,
   "id": "f522f3b9-2b57-495c-b913-af29a473aa00",
   "metadata": {},
   "outputs": [],
   "source": [
    "if print_and_plot:\n",
    "    print(len(greenness_perceptions))"
   ]
  },
  {
   "cell_type": "markdown",
   "id": "1253daa7-d3f4-4090-946a-78514ff6e641",
   "metadata": {},
   "source": [
    "### filter out perceptions without any clicks (i.e., no panning around)"
   ]
  },
  {
   "cell_type": "code",
   "execution_count": null,
   "id": "752428d9-de7a-4d48-8c95-d6ff77399b67",
   "metadata": {},
   "outputs": [],
   "source": [
    "# first question (activity perceptions) answered without any interactions with (clicks in) the panorama\n",
    "# filter these perceptions out\n",
    "\n",
    "activities_noclicks_indices = activity_perceptions[activity_perceptions.clicks==0].index\n",
    "\n",
    "if print_and_plot:\n",
    "    print('filtering out {}/{} ({}%) of activity perceptions with unsatisfying panorama interactions'.format(\n",
    "        len(activities_noclicks_indices),\n",
    "        len(activity_perceptions),\n",
    "        round(100*len(activities_noclicks_indices)/len(activity_perceptions), 3)))\n",
    "activity_perceptions = activity_perceptions[~activity_perceptions.index.isin(activities_noclicks_indices)]"
   ]
  },
  {
   "cell_type": "code",
   "execution_count": null,
   "id": "e4fd8a5d-2d56-4e61-abb8-bbe3d215420e",
   "metadata": {},
   "outputs": [],
   "source": [
    "# second question (greenness perceptions) answered without any interactions with (clicks in) the panorama\n",
    "# and neither interaction with that same panorama beforehand\n",
    "# filter these perceptions out\n",
    "\n",
    "greenness_noclicks_indices = greenness_perceptions[greenness_perceptions.clicks==0].index\n",
    "both_noclicks_indices = activities_noclicks_indices.intersection(greenness_noclicks_indices)\n",
    "\n",
    "if print_and_plot:\n",
    "    print('filtering out {}/{} ({}%) of greenness perceptions with unsatisfying panorama interactions'.format(\n",
    "        len(both_noclicks_indices),\n",
    "        len(greenness_perceptions),\n",
    "        round(100*len(both_noclicks_indices)/len(greenness_perceptions), 3)))\n",
    "greenness_perceptions = greenness_perceptions[~greenness_perceptions.index.isin(both_noclicks_indices)]"
   ]
  },
  {
   "cell_type": "markdown",
   "id": "b6fe7359-6df3-449b-91ab-dd959dd5bc72",
   "metadata": {},
   "source": [
    "## Combine with location-data"
   ]
  },
  {
   "cell_type": "markdown",
   "id": "47674ff6-d8c7-4c06-a93a-008bfb17b6f8",
   "metadata": {},
   "source": [
    "#### Merge perceptions with sampled places"
   ]
  },
  {
   "cell_type": "code",
   "execution_count": null,
   "id": "31c06d5e-c166-45d1-b132-4288a2f18c6d",
   "metadata": {},
   "outputs": [],
   "source": [
    "activity_perceptions.iframe = activity_perceptions.iframe.str.replace('\\n','')\n",
    "greenness_perceptions.iframe = greenness_perceptions.iframe.str.replace('\\n','')\n",
    "sampled.iframe = sampled.iframe.str.replace(',\\n','')"
   ]
  },
  {
   "cell_type": "code",
   "execution_count": null,
   "id": "6630613e-8db6-4a5b-b7f0-4198c72de3fa",
   "metadata": {},
   "outputs": [],
   "source": [
    "sampled_cols = ['iframe', 'category', 'ndvi_median', 'geometry', 'gsv_pano_id', 'gsv_lat', 'gsv_lng']"
   ]
  },
  {
   "cell_type": "code",
   "execution_count": null,
   "id": "433faf55-b203-4aa7-9500-2f247ac59d24",
   "metadata": {},
   "outputs": [],
   "source": [
    "activity_perceptions = pd.merge(activity_perceptions, sampled[sampled_cols], on='iframe', how='left')\n",
    "activity_perceptions = gpd.GeoDataFrame(activity_perceptions, geometry='geometry')\n",
    "if print_and_plot:\n",
    "    print(len(activity_perceptions))"
   ]
  },
  {
   "cell_type": "code",
   "execution_count": null,
   "id": "5cda2301-57cb-48c6-a1c6-c7488a0b9719",
   "metadata": {},
   "outputs": [],
   "source": [
    "greenness_perceptions = pd.merge(greenness_perceptions, sampled[sampled_cols], on='iframe', how='left')\n",
    "greenness_perceptions = gpd.GeoDataFrame(greenness_perceptions, geometry='geometry')\n",
    "if print_and_plot:\n",
    "    print(len(greenness_perceptions))"
   ]
  },
  {
   "cell_type": "code",
   "execution_count": null,
   "id": "f86016ab-02e8-4360-8349-f1b3bab9f9da",
   "metadata": {},
   "outputs": [],
   "source": [
    "# check for pano's that were not rated"
   ]
  },
  {
   "cell_type": "code",
   "execution_count": null,
   "id": "ebe2ad58-e9dd-4e42-9daf-8e4d0b6bbc67",
   "metadata": {},
   "outputs": [],
   "source": [
    "if print_and_plot:\n",
    "    print(sampled[~sampled.gsv_pano_id.isin(greenness_perceptions.gsv_pano_id)]['gsv_pano_id'])"
   ]
  },
  {
   "cell_type": "markdown",
   "id": "43ba0ef4-6101-4dff-9621-25e50a88ba6c",
   "metadata": {},
   "source": [
    "#### OSM categories in surroundings of sampled places"
   ]
  },
  {
   "cell_type": "code",
   "execution_count": null,
   "id": "6e6bcb07-d534-4843-b706-a8370a968705",
   "metadata": {},
   "outputs": [],
   "source": [
    "activity_perceptions.rename(columns={'category': 'place_category'}, inplace=True)\n",
    "greenness_perceptions.rename(columns={'category': 'place_category'}, inplace=True)"
   ]
  },
  {
   "cell_type": "code",
   "execution_count": null,
   "id": "87d01970-9950-41f0-9e55-4cab6a40aad1",
   "metadata": {},
   "outputs": [],
   "source": [
    "greenness_perceptions = gpd.sjoin(greenness_perceptions, regular_greenspaces[['geometry', 'category']], how='left')\n",
    "greenness_perceptions['near_regular_greenspace'] = greenness_perceptions['category'].notnull()\n",
    "greenness_perceptions = greenness_perceptions[~greenness_perceptions.index.duplicated(keep='first')]\n",
    "greenness_perceptions.drop(columns=['category', 'index_right'], inplace=True)"
   ]
  },
  {
   "cell_type": "code",
   "execution_count": null,
   "id": "7fd92d99-d3b9-44dd-80dc-487780fddccb",
   "metadata": {},
   "outputs": [],
   "source": [
    "greenness_perceptions = gpd.sjoin(greenness_perceptions, pocket_greenspaces[['geometry', 'category']], how='left')\n",
    "greenness_perceptions['near_pocket_greenspace'] = greenness_perceptions['category'].notnull()\n",
    "greenness_perceptions = greenness_perceptions[~greenness_perceptions.index.duplicated(keep='first')]\n",
    "greenness_perceptions.drop(columns=['category', 'index_right'], inplace=True)"
   ]
  },
  {
   "cell_type": "code",
   "execution_count": null,
   "id": "54dfab16-f39a-4792-a015-307b41476eef",
   "metadata": {},
   "outputs": [],
   "source": [
    "greenness_perceptions = gpd.sjoin(greenness_perceptions, squares[['geometry', 'category']], how='left')\n",
    "greenness_perceptions['near_square'] = greenness_perceptions['category'].notnull()\n",
    "greenness_perceptions = greenness_perceptions[~greenness_perceptions.index.duplicated(keep='first')]\n",
    "greenness_perceptions.drop(columns=['category', 'index_right'], inplace=True)"
   ]
  },
  {
   "cell_type": "code",
   "execution_count": null,
   "id": "eb6e117a-48a3-4ff9-9bf8-30f695432c91",
   "metadata": {},
   "outputs": [],
   "source": [
    "greenness_perceptions = gpd.sjoin(greenness_perceptions, playspaces[['geometry', 'category']], how='left')\n",
    "greenness_perceptions['near_playspace'] = greenness_perceptions['category'].notnull()\n",
    "greenness_perceptions = greenness_perceptions[~greenness_perceptions.index.duplicated(keep='first')]\n",
    "greenness_perceptions.drop(columns=['category', 'index_right'], inplace=True)"
   ]
  },
  {
   "cell_type": "code",
   "execution_count": null,
   "id": "778bd53e-138a-4b7f-ae8c-fe10dcab3f8f",
   "metadata": {},
   "outputs": [],
   "source": [
    "greenness_perceptions = gpd.sjoin(greenness_perceptions, streets[['geometry', 'category']], how='left')\n",
    "greenness_perceptions['near_street'] = greenness_perceptions['category'].notnull()\n",
    "greenness_perceptions = greenness_perceptions[~greenness_perceptions.index.duplicated(keep='first')]\n",
    "greenness_perceptions.drop(columns=['category', 'index_right'], inplace=True)"
   ]
  },
  {
   "cell_type": "code",
   "execution_count": null,
   "id": "d4ebb976-7e2f-421a-9945-b4fec88e443b",
   "metadata": {},
   "outputs": [],
   "source": [
    "if print_and_plot:\n",
    "    print(len(greenness_perceptions))"
   ]
  },
  {
   "cell_type": "code",
   "execution_count": null,
   "id": "fc3b6dd9-7a85-4f5f-8cd0-c437cc0ec00f",
   "metadata": {},
   "outputs": [],
   "source": [
    "activity_perceptions = gpd.sjoin(activity_perceptions, regular_greenspaces[['geometry', 'category']], how='left')\n",
    "activity_perceptions['near_regular_greenspace'] = activity_perceptions['category'].notnull()\n",
    "activity_perceptions = activity_perceptions[~activity_perceptions.index.duplicated(keep='first')]\n",
    "activity_perceptions.drop(columns=['category', 'index_right'], inplace=True)"
   ]
  },
  {
   "cell_type": "code",
   "execution_count": null,
   "id": "0d0e35b1-2362-48b7-9a1d-e0cd4942ec57",
   "metadata": {},
   "outputs": [],
   "source": [
    "activity_perceptions = gpd.sjoin(activity_perceptions, pocket_greenspaces[['geometry', 'category']], how='left')\n",
    "activity_perceptions['near_pocket_greenspace'] = activity_perceptions['category'].notnull()\n",
    "activity_perceptions = activity_perceptions[~activity_perceptions.index.duplicated(keep='first')]\n",
    "activity_perceptions.drop(columns=['category', 'index_right'], inplace=True)"
   ]
  },
  {
   "cell_type": "code",
   "execution_count": null,
   "id": "773f75c1-92ba-47fc-9802-b53dfaa7d823",
   "metadata": {},
   "outputs": [],
   "source": [
    "activity_perceptions = gpd.sjoin(activity_perceptions, squares[['geometry', 'category']], how='left')\n",
    "activity_perceptions['near_square'] = activity_perceptions['category'].notnull()\n",
    "activity_perceptions = activity_perceptions[~activity_perceptions.index.duplicated(keep='first')]\n",
    "activity_perceptions.drop(columns=['category', 'index_right'], inplace=True)"
   ]
  },
  {
   "cell_type": "code",
   "execution_count": null,
   "id": "2408a6c0-dc23-4812-a0fe-60fb92f133f1",
   "metadata": {},
   "outputs": [],
   "source": [
    "activity_perceptions = gpd.sjoin(activity_perceptions, playspaces[['geometry', 'category']], how='left')\n",
    "activity_perceptions['near_playspace'] = activity_perceptions['category'].notnull()\n",
    "activity_perceptions = activity_perceptions[~activity_perceptions.index.duplicated(keep='first')]\n",
    "activity_perceptions.drop(columns=['category', 'index_right'], inplace=True)"
   ]
  },
  {
   "cell_type": "code",
   "execution_count": null,
   "id": "b4266607-2470-4fb7-8df9-0380ead30068",
   "metadata": {},
   "outputs": [],
   "source": [
    "activity_perceptions = gpd.sjoin(activity_perceptions, streets[['geometry', 'category']], how='left')\n",
    "activity_perceptions['near_street'] = activity_perceptions['category'].notnull()\n",
    "activity_perceptions = activity_perceptions[~activity_perceptions.index.duplicated(keep='first')]\n",
    "activity_perceptions.drop(columns=['category', 'index_right'], inplace=True)"
   ]
  },
  {
   "cell_type": "code",
   "execution_count": null,
   "id": "7756800c-01cb-4982-bb01-3de212d660d9",
   "metadata": {},
   "outputs": [],
   "source": [
    "if print_and_plot:\n",
    "    print(len(activity_perceptions))"
   ]
  },
  {
   "cell_type": "markdown",
   "id": "2dea5ead-6cf3-4038-8057-93cbbcb384c5",
   "metadata": {},
   "source": [
    "#### Median NDVI in direct surroundings of GSV locations sampled places"
   ]
  },
  {
   "cell_type": "code",
   "execution_count": null,
   "id": "67e3f5dc-ec22-468f-8de1-f1b35ff85211",
   "metadata": {},
   "outputs": [],
   "source": [
    "activity_perception_points = activity_perceptions.copy()\n",
    "activity_perception_points['geometry'] = gpd.points_from_xy(activity_perception_points.gsv_lng, activity_perception_points.gsv_lat, crs=gsv_crs).to_crs(local_crs)\n",
    "activity_perception_points['geometry'] = activity_perception_points.geometry.buffer(radius)"
   ]
  },
  {
   "cell_type": "code",
   "execution_count": null,
   "id": "26ad7667-a29f-4325-9468-d0e88ba7c630",
   "metadata": {},
   "outputs": [],
   "source": [
    "activity_perception_points.reset_index(inplace=True, drop=True)\n",
    "activity_perception_points.drop(columns=['ndvi_median'], inplace=True)"
   ]
  },
  {
   "cell_type": "code",
   "execution_count": null,
   "id": "59ad0aaa-7fba-4269-a9b7-9216c7c1553d",
   "metadata": {},
   "outputs": [],
   "source": [
    "greenness_perception_points = greenness_perceptions.copy()\n",
    "greenness_perception_points['geometry'] = gpd.points_from_xy(greenness_perception_points.gsv_lng, greenness_perception_points.gsv_lat, crs=gsv_crs).to_crs(local_crs)\n",
    "greenness_perception_points['geometry'] = greenness_perception_points.geometry.buffer(radius)"
   ]
  },
  {
   "cell_type": "code",
   "execution_count": null,
   "id": "d7acbd5c-712b-407e-a115-98ac3cf01bc1",
   "metadata": {},
   "outputs": [],
   "source": [
    "greenness_perception_points.reset_index(inplace=True, drop=True)\n",
    "greenness_perception_points.drop(columns=['ndvi_median'], inplace=True)"
   ]
  },
  {
   "cell_type": "code",
   "execution_count": null,
   "id": "44a11b52-8c0e-4105-8895-796d524dedbc",
   "metadata": {},
   "outputs": [],
   "source": [
    "def get_ndvi_values(gdf, geotiff):\n",
    "    gdf_mask = gdf.to_crs(geotiff.crs).copy()    \n",
    "    \n",
    "    nodata = 255\n",
    "\n",
    "    for i in range(len(gdf_mask)):  \n",
    "        \n",
    "        # for each row in the gdf\n",
    "        coords = [json.loads(gdf_mask.to_json())['features'][i]['geometry']]\n",
    "        index = int([json.loads(gdf_mask.to_json())['features'][i]['id']][0])\n",
    "        \n",
    "        data, out_transform = mask(dataset=geotiff, shapes=coords, filled=True, crop=True, nodata=nodata)\n",
    "        \n",
    "        # exclude all nodata values and values below 0 (water)\n",
    "        data = data[data!=nodata]\n",
    "        data = data[data>=0]\n",
    "        \n",
    "        if len(data)==0:\n",
    "            gdf_mask.loc[index, 'ndvi_mean'] = None\n",
    "            gdf_mask.loc[index, 'ndvi_median'] = None\n",
    "            gdf_mask.loc[index, 'ndvi_max'] = None\n",
    "        else:\n",
    "            gdf_mask.loc[index, 'ndvi_mean'] = round(np.mean(data), 3)\n",
    "            gdf_mask.loc[index, 'ndvi_median'] = round(np.median(data), 3)\n",
    "            gdf_mask.loc[index, 'ndvi_max'] = round(np.max(data), 3)\n",
    "    \n",
    "    gdf_mask = gdf_mask.to_crs(gdf.crs).copy()\n",
    "    return gdf_mask"
   ]
  },
  {
   "cell_type": "code",
   "execution_count": null,
   "id": "3200649b-83db-41ab-8357-ac15456fb9c5",
   "metadata": {
    "tags": []
   },
   "outputs": [],
   "source": [
    "greenness_perception_points = get_ndvi_values(greenness_perception_points, geotiff)"
   ]
  },
  {
   "cell_type": "code",
   "execution_count": null,
   "id": "24affd8b-ab8d-4a39-b80a-043887f44a45",
   "metadata": {},
   "outputs": [],
   "source": [
    "activity_perception_points = get_ndvi_values(activity_perception_points, geotiff)"
   ]
  },
  {
   "cell_type": "code",
   "execution_count": null,
   "id": "53e372f6-0877-494a-831d-8250c060afc7",
   "metadata": {},
   "outputs": [],
   "source": [
    "if print_and_plot:\n",
    "    print(len(greenness_perception_points))"
   ]
  },
  {
   "cell_type": "code",
   "execution_count": null,
   "id": "6fdf0478-607f-46e8-b7d3-64a8dcd5d2b9",
   "metadata": {},
   "outputs": [],
   "source": [
    "if print_and_plot:\n",
    "    print(len(activity_perception_points))"
   ]
  },
  {
   "cell_type": "markdown",
   "id": "4c9a6d20-2857-417c-8007-09ba2e0697c7",
   "metadata": {},
   "source": [
    "#### OSM categories in direct surroundings of GSV locations sampled places"
   ]
  },
  {
   "cell_type": "code",
   "execution_count": null,
   "id": "b8bfbf2c-3593-4d83-8561-e024e955b8bf",
   "metadata": {},
   "outputs": [],
   "source": [
    "activity_perception_points.rename(columns={'category': 'place_category'}, inplace=True)\n",
    "greenness_perception_points.rename(columns={'category': 'place_category'}, inplace=True)"
   ]
  },
  {
   "cell_type": "code",
   "execution_count": null,
   "id": "78703dcb-67a5-4f90-aadd-2518c20d9c7c",
   "metadata": {},
   "outputs": [],
   "source": [
    "greenness_perception_points = gpd.sjoin(greenness_perception_points, regular_greenspaces[['geometry', 'category']], how='left')\n",
    "greenness_perception_points['near_regular_greenspace'] = greenness_perception_points['category'].notnull()\n",
    "greenness_perception_points = greenness_perception_points[~greenness_perception_points.index.duplicated(keep='first')]\n",
    "greenness_perception_points.drop(columns=['category', 'index_right'], inplace=True)"
   ]
  },
  {
   "cell_type": "code",
   "execution_count": null,
   "id": "981a0810-2b7e-4b59-bf34-55ac1e69b971",
   "metadata": {},
   "outputs": [],
   "source": [
    "greenness_perception_points = gpd.sjoin(greenness_perception_points, pocket_greenspaces[['geometry', 'category']], how='left')\n",
    "greenness_perception_points['near_pocket_greenspace'] = greenness_perception_points['category'].notnull()\n",
    "greenness_perception_points = greenness_perception_points[~greenness_perception_points.index.duplicated(keep='first')]\n",
    "greenness_perception_points.drop(columns=['category', 'index_right'], inplace=True)"
   ]
  },
  {
   "cell_type": "code",
   "execution_count": null,
   "id": "bb996858-645e-4071-be06-f2d8b49517ec",
   "metadata": {},
   "outputs": [],
   "source": [
    "greenness_perception_points = gpd.sjoin(greenness_perception_points, squares[['geometry', 'category']], how='left')\n",
    "greenness_perception_points['near_square'] = greenness_perception_points['category'].notnull()\n",
    "greenness_perception_points = greenness_perception_points[~greenness_perception_points.index.duplicated(keep='first')]\n",
    "greenness_perception_points.drop(columns=['category', 'index_right'], inplace=True)"
   ]
  },
  {
   "cell_type": "code",
   "execution_count": null,
   "id": "780a288d-7b60-429e-b1b7-aa76c50e6361",
   "metadata": {},
   "outputs": [],
   "source": [
    "greenness_perception_points = gpd.sjoin(greenness_perception_points, playspaces[['geometry', 'category']], how='left')\n",
    "greenness_perception_points['near_playspace'] = greenness_perception_points['category'].notnull()\n",
    "greenness_perception_points = greenness_perception_points[~greenness_perception_points.index.duplicated(keep='first')]\n",
    "greenness_perception_points.drop(columns=['category', 'index_right'], inplace=True)"
   ]
  },
  {
   "cell_type": "code",
   "execution_count": null,
   "id": "0af01dc8-95a9-4f71-be22-e65518a595b1",
   "metadata": {},
   "outputs": [],
   "source": [
    "greenness_perception_points = gpd.sjoin(greenness_perception_points, streets[['geometry', 'category']], how='left')\n",
    "greenness_perception_points['near_street'] = greenness_perception_points['category'].notnull()\n",
    "greenness_perception_points = greenness_perception_points[~greenness_perception_points.index.duplicated(keep='first')]\n",
    "greenness_perception_points.drop(columns=['category', 'index_right'], inplace=True)"
   ]
  },
  {
   "cell_type": "code",
   "execution_count": null,
   "id": "7fb3b452-db1b-437e-9f88-bf190821e7b0",
   "metadata": {},
   "outputs": [],
   "source": [
    "if print_and_plot:\n",
    "    print(len(greenness_perception_points))"
   ]
  },
  {
   "cell_type": "code",
   "execution_count": null,
   "id": "f79f2654-826f-4ba5-9dc5-4ba1c3712e84",
   "metadata": {},
   "outputs": [],
   "source": [
    "activity_perception_points = gpd.sjoin(activity_perception_points, regular_greenspaces[['geometry', 'category']], how='left')\n",
    "activity_perception_points['near_regular_greenspace'] = activity_perception_points['category'].notnull()\n",
    "activity_perception_points = activity_perception_points[~activity_perception_points.index.duplicated(keep='first')]\n",
    "activity_perception_points.drop(columns=['category', 'index_right'], inplace=True)"
   ]
  },
  {
   "cell_type": "code",
   "execution_count": null,
   "id": "9ed717ca-e826-484a-aa5b-ff03d1204b29",
   "metadata": {},
   "outputs": [],
   "source": [
    "activity_perception_points = gpd.sjoin(activity_perception_points, pocket_greenspaces[['geometry', 'category']], how='left')\n",
    "activity_perception_points['near_pocket_greenspace'] = activity_perception_points['category'].notnull()\n",
    "activity_perception_points = activity_perception_points[~activity_perception_points.index.duplicated(keep='first')]\n",
    "activity_perception_points.drop(columns=['category', 'index_right'], inplace=True)"
   ]
  },
  {
   "cell_type": "code",
   "execution_count": null,
   "id": "29a0a7f2-7c99-4c8a-a158-3848444ab82f",
   "metadata": {},
   "outputs": [],
   "source": [
    "activity_perception_points = gpd.sjoin(activity_perception_points, squares[['geometry', 'category']], how='left')\n",
    "activity_perception_points['near_square'] = activity_perception_points['category'].notnull()\n",
    "activity_perception_points = activity_perception_points[~activity_perception_points.index.duplicated(keep='first')]\n",
    "activity_perception_points.drop(columns=['category', 'index_right'], inplace=True)"
   ]
  },
  {
   "cell_type": "code",
   "execution_count": null,
   "id": "6e5ad587-3358-492f-8030-c8e3caa2364f",
   "metadata": {},
   "outputs": [],
   "source": [
    "activity_perception_points = gpd.sjoin(activity_perception_points, playspaces[['geometry', 'category']], how='left')\n",
    "activity_perception_points['near_playspace'] = activity_perception_points['category'].notnull()\n",
    "activity_perception_points = activity_perception_points[~activity_perception_points.index.duplicated(keep='first')]\n",
    "activity_perception_points.drop(columns=['category', 'index_right'], inplace=True)"
   ]
  },
  {
   "cell_type": "code",
   "execution_count": null,
   "id": "62398830-e417-4d09-a768-1dea428e13d0",
   "metadata": {},
   "outputs": [],
   "source": [
    "activity_perception_points = gpd.sjoin(activity_perception_points, streets[['geometry', 'category']], how='left')\n",
    "activity_perception_points['near_street'] = activity_perception_points['category'].notnull()\n",
    "activity_perception_points = activity_perception_points[~activity_perception_points.index.duplicated(keep='first')]\n",
    "activity_perception_points.drop(columns=['category', 'index_right'], inplace=True)"
   ]
  },
  {
   "cell_type": "code",
   "execution_count": null,
   "id": "3b793328-2f25-4742-b58f-d183fca3630d",
   "metadata": {},
   "outputs": [],
   "source": [
    "if print_and_plot:\n",
    "    print(len(activity_perception_points))"
   ]
  },
  {
   "cell_type": "markdown",
   "id": "55e89723-d739-445e-901f-7db8fe5a8705",
   "metadata": {
    "tags": []
   },
   "source": [
    "## People with extreme greenness ratings"
   ]
  },
  {
   "cell_type": "code",
   "execution_count": null,
   "id": "5eb0b2bf-7c60-4171-81f9-8671a7696ab9",
   "metadata": {},
   "outputs": [],
   "source": [
    "# median greenness per place\n",
    "greenness_perceptions_perplace = greenness_perceptions[['gsv_pano_id', 'greenness_rating_num']].groupby(['gsv_pano_id']).median()\n",
    "greenness_perceptions_perplace.rename(columns={'greenness_rating_num': 'greenness_rating_num_medianperplace'}, inplace=True)"
   ]
  },
  {
   "cell_type": "code",
   "execution_count": null,
   "id": "2b188922-5215-46e8-bf66-ede3daac2a77",
   "metadata": {},
   "outputs": [],
   "source": [
    "# calculate deviations of ratings from median per place\n",
    "greenness_perceptions_potentialoutliers = greenness_perceptions[['prolific_id', 'gsv_pano_id', 'greenness_rating_num']].merge(greenness_perceptions_perplace[['greenness_rating_num_medianperplace']], on='gsv_pano_id', how='left')\n",
    "greenness_perceptions_potentialoutliers['greenness_rating_num_absdifference'] = abs(greenness_perceptions_potentialoutliers['greenness_rating_num']-greenness_perceptions_potentialoutliers['greenness_rating_num_medianperplace'])\n",
    "greenness_perceptions_potentialoutliers['greenness_rating_num_squareddifference'] = (greenness_perceptions_potentialoutliers['greenness_rating_num']-greenness_perceptions_potentialoutliers['greenness_rating_num_medianperplace'])**2\n",
    "\n",
    "# the same but inverse - calculate deviations of ratings from median per place\n",
    "greenness_perceptions_potentialoutliers['greenness_rating_num_inverse'] = 4-greenness_perceptions_potentialoutliers['greenness_rating_num']\n",
    "greenness_perceptions_potentialoutliers['greenness_rating_num_absdifference_inverse'] = abs(greenness_perceptions_potentialoutliers['greenness_rating_num_inverse']-greenness_perceptions_potentialoutliers['greenness_rating_num_medianperplace'])\n",
    "greenness_perceptions_potentialoutliers['greenness_rating_num_squareddifference_inverse'] = (greenness_perceptions_potentialoutliers['greenness_rating_num_inverse']-greenness_perceptions_potentialoutliers['greenness_rating_num_medianperplace'])**2"
   ]
  },
  {
   "cell_type": "code",
   "execution_count": null,
   "id": "4a6837c0-fae8-4555-b25d-4624098f9032",
   "metadata": {},
   "outputs": [],
   "source": [
    "# sum deviations per participant\n",
    "participants_potentialoutliers = greenness_perceptions_potentialoutliers[['prolific_id', 'greenness_rating_num_squareddifference', 'greenness_rating_num_absdifference', 'greenness_rating_num_squareddifference_inverse', 'greenness_rating_num_absdifference_inverse']].groupby(['prolific_id']).sum()"
   ]
  },
  {
   "cell_type": "code",
   "execution_count": null,
   "id": "a86441da-6dc8-420f-be64-6c3690cba2a8",
   "metadata": {},
   "outputs": [],
   "source": [
    "if print_and_plot:\n",
    "    participants_potentialoutliers.greenness_rating_num_absdifference.hist()"
   ]
  },
  {
   "cell_type": "code",
   "execution_count": null,
   "id": "deef68ab-15c0-47a8-b740-aad6da118a9c",
   "metadata": {},
   "outputs": [],
   "source": [
    "if print_and_plot:\n",
    "    participants_potentialoutliers.greenness_rating_num_squareddifference.hist()"
   ]
  },
  {
   "cell_type": "code",
   "execution_count": null,
   "id": "15621da9-05df-4cd8-a2de-56f47f1c0af3",
   "metadata": {},
   "outputs": [],
   "source": [
    "if print_and_plot:\n",
    "    participants_potentialoutliers.greenness_rating_num_absdifference_inverse.hist()"
   ]
  },
  {
   "cell_type": "code",
   "execution_count": null,
   "id": "cbeb23f6-fd07-4a43-9e6b-90a8656aa584",
   "metadata": {},
   "outputs": [],
   "source": [
    "if print_and_plot:\n",
    "    participants_potentialoutliers.greenness_rating_num_squareddifference_inverse.hist()"
   ]
  },
  {
   "cell_type": "code",
   "execution_count": null,
   "id": "56c9446e-50f4-47e7-9be1-d5110ee112c8",
   "metadata": {},
   "outputs": [],
   "source": [
    "participants_potentialoutliers['greenness_rating_num_absdifference_regularminusinverse'] = participants_potentialoutliers['greenness_rating_num_absdifference']-participants_potentialoutliers['greenness_rating_num_absdifference_inverse']\n",
    "participants_potentialoutliers['greenness_rating_num_squareddifference_regularminusinverse'] = participants_potentialoutliers['greenness_rating_num_squareddifference']-participants_potentialoutliers['greenness_rating_num_squareddifference_inverse']"
   ]
  },
  {
   "cell_type": "code",
   "execution_count": null,
   "id": "29f2a90e-b820-4577-914f-5162a171a026",
   "metadata": {},
   "outputs": [],
   "source": [
    "if print_and_plot:\n",
    "    participants_potentialoutliers.greenness_rating_num_absdifference_regularminusinverse.hist()"
   ]
  },
  {
   "cell_type": "code",
   "execution_count": null,
   "id": "e9e01d8d-38bb-4475-ae98-b5c872cd05c8",
   "metadata": {},
   "outputs": [],
   "source": [
    "if print_and_plot:\n",
    "    participants_potentialoutliers.greenness_rating_num_squareddifference_regularminusinverse.hist()"
   ]
  },
  {
   "cell_type": "code",
   "execution_count": null,
   "id": "3e2e637c-0a47-480c-bfa3-cf0c21ab5c12",
   "metadata": {},
   "outputs": [],
   "source": [
    "if print_and_plot:\n",
    "    for prolific_id in participants_potentialoutliers[participants_potentialoutliers.greenness_rating_num_squareddifference_regularminusinverse>0].index:\n",
    "        print(prolific_id)\n",
    "        indices = greenness_perceptions[greenness_perceptions.prolific_id==prolific_id].index\n",
    "        for i in indices:\n",
    "            print(greenness_perceptions['greenness_rating_num'][i], greenness_perceptions['greenness_reason'][i])\n",
    "        print('')"
   ]
  },
  {
   "cell_type": "code",
   "execution_count": null,
   "id": "5a10c7c1-89ab-4a27-89dd-5af9a6103000",
   "metadata": {},
   "outputs": [],
   "source": [
    "# seems to have misunderstood the scale: large deviation from median and reasons suggest oppostite ratings\n",
    "outlier_prolific_ids = ['prolific_id_a', 'prolific_id_b']"
   ]
  },
  {
   "cell_type": "code",
   "execution_count": null,
   "id": "fbb01b69-492a-422d-afb4-ba522527cbd2",
   "metadata": {},
   "outputs": [],
   "source": [
    "# greenness_perceptions.head(10)[['prolific_id', 'greenness_rating_num', 'greenness_rating']]"
   ]
  },
  {
   "cell_type": "code",
   "execution_count": null,
   "id": "7cb44144-bf35-47ea-875f-c17b63649c5d",
   "metadata": {},
   "outputs": [],
   "source": [
    "# greenness_perceptions[greenness_perceptions.prolific_id=='60328ae847873028ddf4e8ef'][['prolific_id', 'greenness_rating_num', 'greenness_rating']]"
   ]
  },
  {
   "cell_type": "code",
   "execution_count": null,
   "id": "4c31d204-1779-4226-b050-b6893b9abdcb",
   "metadata": {},
   "outputs": [],
   "source": [
    "# greenness_perceptions[greenness_perceptions.prolific_id=='6384f88517c736ff7718bd5f'][['prolific_id', 'greenness_rating_num', 'greenness_rating']]"
   ]
  },
  {
   "cell_type": "code",
   "execution_count": null,
   "id": "8b556151-e836-45bb-8ab9-556b19412123",
   "metadata": {},
   "outputs": [],
   "source": [
    "# invert ratings by these people\n",
    "for prolific_id in outlier_prolific_ids:\n",
    "    if prolific_id in greenness_perceptions.prolific_id.to_list():\n",
    "        if print_and_plot:\n",
    "            print('Flipping greenness ratings for', prolific_id)\n",
    "            \n",
    "        greenness_mapping = {\n",
    "            4: 'Very',\n",
    "            3: 'Fairly',\n",
    "            2: 'Neutral',\n",
    "            1: 'A little',\n",
    "            0: 'Not at all'}    \n",
    "            \n",
    "        for row in greenness_perceptions[greenness_perceptions.prolific_id==prolific_id].index.to_list():\n",
    "            new_greenness_rating_num = 4-greenness_perceptions[greenness_perceptions.index==row]['greenness_rating_num'][row]\n",
    "            new_greenness_rating = greenness_mapping[new_greenness_rating_num]\n",
    "            greenness_perceptions.at[row, 'greenness_rating_num'] = new_greenness_rating_num\n",
    "            greenness_perceptions.at[row, 'greenness_rating'] = new_greenness_rating\n",
    "            \n",
    "        for row in greenness_perception_points[greenness_perception_points.prolific_id==prolific_id].index.to_list():\n",
    "            new_greenness_rating_num = 4-greenness_perception_points[greenness_perception_points.index==row]['greenness_rating_num'][row]\n",
    "            new_greenness_rating = greenness_mapping[new_greenness_rating_num]\n",
    "            greenness_perception_points.at[row, 'greenness_rating_num'] = new_greenness_rating_num\n",
    "            greenness_perception_points.at[row, 'greenness_rating'] = new_greenness_rating"
   ]
  },
  {
   "cell_type": "code",
   "execution_count": null,
   "id": "076a7c13-2922-4783-b72b-67263e736736",
   "metadata": {},
   "outputs": [],
   "source": [
    "# greenness_perceptions.head(10)[['prolific_id', 'greenness_rating_num', 'greenness_rating']]"
   ]
  },
  {
   "cell_type": "code",
   "execution_count": null,
   "id": "a58a5992-685d-482d-95be-f7bc8238a96e",
   "metadata": {},
   "outputs": [],
   "source": [
    "# greenness_perceptions[greenness_perceptions.prolific_id=='60328ae847873028ddf4e8ef'][['prolific_id', 'greenness_rating_num', 'greenness_rating']]"
   ]
  },
  {
   "cell_type": "code",
   "execution_count": null,
   "id": "f77264da-78d3-4e3a-963a-be8ad65c126d",
   "metadata": {},
   "outputs": [],
   "source": [
    "# greenness_perceptions[greenness_perceptions.prolific_id=='6384f88517c736ff7718bd5f'][['prolific_id', 'greenness_rating_num', 'greenness_rating']]"
   ]
  },
  {
   "cell_type": "markdown",
   "id": "ffccfa70-035a-47ca-a289-6755f2520bd1",
   "metadata": {},
   "source": [
    "## Export output pre-processed perceptions for analysis"
   ]
  },
  {
   "cell_type": "code",
   "execution_count": null,
   "id": "46f8c745-67b1-411c-8ef2-259dc12a36bd",
   "metadata": {},
   "outputs": [],
   "source": [
    "export_sub_folder = os.path.join(confidential_folder, 'preprocessed', 'radius_{}'.format(radius))"
   ]
  },
  {
   "cell_type": "code",
   "execution_count": null,
   "id": "9e564b8a",
   "metadata": {},
   "outputs": [],
   "source": [
    "if not os.path.exists(export_sub_folder):\n",
    "    os.mkdir(export_sub_folder)"
   ]
  },
  {
   "cell_type": "code",
   "execution_count": null,
   "id": "dff3f4d1-277e-4a35-aaa9-828ca26d5764",
   "metadata": {},
   "outputs": [],
   "source": [
    "output_file = os.path.join(export_sub_folder, 'perceptions_{}.csv'.format(place_name))\n",
    "perceptions.to_csv(output_file)"
   ]
  },
  {
   "cell_type": "code",
   "execution_count": null,
   "id": "254cde55-e9ad-404b-8e3a-3ff463ed4522",
   "metadata": {},
   "outputs": [],
   "source": [
    "output_file = os.path.join(export_sub_folder, 'activity_perceptions_{}.geojson'.format(place_name))\n",
    "activity_perceptions_output = activity_perceptions.apply(lambda c: c.astype(str) if c.name != \"geometry\" else c, axis=0)\n",
    "activity_perceptions_output.to_file(output_file, driver='GeoJSON')"
   ]
  },
  {
   "cell_type": "code",
   "execution_count": null,
   "id": "065fb6f1-eb99-4e42-a296-d25a62e360d2",
   "metadata": {},
   "outputs": [],
   "source": [
    "output_file = os.path.join(export_sub_folder, 'activity_perception_points_{}.geojson'.format(place_name))\n",
    "activity_perception_points_output = activity_perception_points.apply(lambda c: c.astype(str) if c.name != \"geometry\" else c, axis=0)\n",
    "activity_perception_points_output.to_file(output_file, driver='GeoJSON')"
   ]
  },
  {
   "cell_type": "code",
   "execution_count": null,
   "id": "97e119d4-cac6-4de5-83dc-e10027b1e70c",
   "metadata": {},
   "outputs": [],
   "source": [
    "output_file = os.path.join(export_sub_folder, 'greenness_perceptions_{}.geojson'.format(place_name))\n",
    "greenness_perceptions_output = greenness_perceptions.apply(lambda c: c.astype(str) if c.name != \"geometry\" else c, axis=0)\n",
    "greenness_perceptions_output.to_file(output_file, driver='GeoJSON')"
   ]
  },
  {
   "cell_type": "code",
   "execution_count": null,
   "id": "e3cb3926-2b45-473a-9177-d7a5ea341944",
   "metadata": {},
   "outputs": [],
   "source": [
    "output_file = os.path.join(export_sub_folder, 'greenness_perception_points_{}.geojson'.format(place_name))\n",
    "greenness_perception_points_output = greenness_perception_points.apply(lambda c: c.astype(str) if c.name != \"geometry\" else c, axis=0)\n",
    "greenness_perception_points_output.to_file(output_file, driver='GeoJSON')"
   ]
  }
 ],
 "metadata": {
  "kernelspec": {
   "display_name": "Python 3 (ipykernel)",
   "language": "python",
   "name": "python3"
  },
  "language_info": {
   "codemirror_mode": {
    "name": "ipython",
    "version": 3
   },
   "file_extension": ".py",
   "mimetype": "text/x-python",
   "name": "python",
   "nbconvert_exporter": "python",
   "pygments_lexer": "ipython3",
   "version": "3.9.12"
  }
 },
 "nbformat": 4,
 "nbformat_minor": 5
}
